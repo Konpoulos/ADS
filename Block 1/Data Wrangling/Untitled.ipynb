{
 "cells": [
  {
   "cell_type": "code",
   "execution_count": 2,
   "metadata": {},
   "outputs": [],
   "source": [
    "import pandas as pd"
   ]
  },
  {
   "cell_type": "code",
   "execution_count": 20,
   "metadata": {},
   "outputs": [],
   "source": [
    "import pandas as pd\n",
    "df = pd.read_csv('fdExample.csv')"
   ]
  },
  {
   "cell_type": "code",
   "execution_count": 6,
   "metadata": {},
   "outputs": [
    {
     "data": {
      "text/html": [
       "<div>\n",
       "<style scoped>\n",
       "    .dataframe tbody tr th:only-of-type {\n",
       "        vertical-align: middle;\n",
       "    }\n",
       "\n",
       "    .dataframe tbody tr th {\n",
       "        vertical-align: top;\n",
       "    }\n",
       "\n",
       "    .dataframe thead th {\n",
       "        text-align: right;\n",
       "    }\n",
       "</style>\n",
       "<table border=\"1\" class=\"dataframe\">\n",
       "  <thead>\n",
       "    <tr style=\"text-align: right;\">\n",
       "      <th></th>\n",
       "      <th>First name</th>\n",
       "      <th>Gender</th>\n",
       "      <th>Department</th>\n",
       "      <th>Department Name</th>\n",
       "      <th>Division</th>\n",
       "      <th>Assignment Category</th>\n",
       "      <th>Position Title</th>\n",
       "      <th>Underfilled Job Title</th>\n",
       "      <th>Date First Hired</th>\n",
       "    </tr>\n",
       "  </thead>\n",
       "  <tbody>\n",
       "    <tr>\n",
       "      <th>0</th>\n",
       "      <td>Pam</td>\n",
       "      <td>F</td>\n",
       "      <td>POL</td>\n",
       "      <td>Department of Police</td>\n",
       "      <td>MSB Information Management and Technology Divi...</td>\n",
       "      <td>Fulltime-Regular</td>\n",
       "      <td>Office Services Coordinator</td>\n",
       "      <td>NaN</td>\n",
       "      <td>9/22/86</td>\n",
       "    </tr>\n",
       "    <tr>\n",
       "      <th>1</th>\n",
       "      <td>David</td>\n",
       "      <td>M</td>\n",
       "      <td>POL</td>\n",
       "      <td>Department of Police</td>\n",
       "      <td>ISB Major Crimes Division Fugitive Section</td>\n",
       "      <td>Fulltime-Regular</td>\n",
       "      <td>Master Police Officer</td>\n",
       "      <td>NaN</td>\n",
       "      <td>9/12/88</td>\n",
       "    </tr>\n",
       "    <tr>\n",
       "      <th>2</th>\n",
       "      <td>Marsha</td>\n",
       "      <td>F</td>\n",
       "      <td>HHS</td>\n",
       "      <td>Department of Health and Human Services</td>\n",
       "      <td>Adult Protective and Case Management Services</td>\n",
       "      <td>Fulltime-Regular</td>\n",
       "      <td>Social Worker IV</td>\n",
       "      <td>NaN</td>\n",
       "      <td>11/19/89</td>\n",
       "    </tr>\n",
       "    <tr>\n",
       "      <th>3</th>\n",
       "      <td>Godfred</td>\n",
       "      <td>M</td>\n",
       "      <td>COR</td>\n",
       "      <td>Correction and Rehabilitation</td>\n",
       "      <td>PRRS Facility and Security</td>\n",
       "      <td>Fulltime-Regular</td>\n",
       "      <td>Resident Supervisor II</td>\n",
       "      <td>NaN</td>\n",
       "      <td>5/5/14</td>\n",
       "    </tr>\n",
       "    <tr>\n",
       "      <th>4</th>\n",
       "      <td>Essayas</td>\n",
       "      <td>M</td>\n",
       "      <td>HCA</td>\n",
       "      <td>Department of Housing and Community Affairs</td>\n",
       "      <td>Single Family Housing Program</td>\n",
       "      <td>Fulltime-Regular</td>\n",
       "      <td>Planning Specialist III</td>\n",
       "      <td>NaN</td>\n",
       "      <td>3/5/07</td>\n",
       "    </tr>\n",
       "  </tbody>\n",
       "</table>\n",
       "</div>"
      ],
      "text/plain": [
       "  First name Gender Department                              Department Name  \\\n",
       "0        Pam      F        POL                         Department of Police   \n",
       "1      David      M        POL                         Department of Police   \n",
       "2     Marsha      F        HHS      Department of Health and Human Services   \n",
       "3    Godfred      M        COR                Correction and Rehabilitation   \n",
       "4    Essayas      M        HCA  Department of Housing and Community Affairs   \n",
       "\n",
       "                                            Division Assignment Category  \\\n",
       "0  MSB Information Management and Technology Divi...    Fulltime-Regular   \n",
       "1         ISB Major Crimes Division Fugitive Section    Fulltime-Regular   \n",
       "2      Adult Protective and Case Management Services    Fulltime-Regular   \n",
       "3                         PRRS Facility and Security    Fulltime-Regular   \n",
       "4                      Single Family Housing Program    Fulltime-Regular   \n",
       "\n",
       "                Position Title Underfilled Job Title Date First Hired  \n",
       "0  Office Services Coordinator                   NaN          9/22/86  \n",
       "1        Master Police Officer                   NaN          9/12/88  \n",
       "2             Social Worker IV                   NaN         11/19/89  \n",
       "3       Resident Supervisor II                   NaN           5/5/14  \n",
       "4      Planning Specialist III                   NaN           3/5/07  "
      ]
     },
     "execution_count": 6,
     "metadata": {},
     "output_type": "execute_result"
    }
   ],
   "source": [
    "df.head()"
   ]
  },
  {
   "cell_type": "code",
   "execution_count": 19,
   "metadata": {},
   "outputs": [],
   "source": [
    "df['M']=df['Gender']==\"M\""
   ]
  }
 ],
 "metadata": {
  "kernelspec": {
   "display_name": "Python 3",
   "language": "python",
   "name": "python3"
  },
  "language_info": {
   "codemirror_mode": {
    "name": "ipython",
    "version": 3
   },
   "file_extension": ".py",
   "mimetype": "text/x-python",
   "name": "python",
   "nbconvert_exporter": "python",
   "pygments_lexer": "ipython3",
   "version": "3.7.6"
  }
 },
 "nbformat": 4,
 "nbformat_minor": 4
}
