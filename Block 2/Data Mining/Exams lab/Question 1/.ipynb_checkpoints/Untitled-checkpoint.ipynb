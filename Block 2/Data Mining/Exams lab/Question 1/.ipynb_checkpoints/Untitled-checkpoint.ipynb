{
 "cells": [],
 "metadata": {},
 "nbformat": 4,
 "nbformat_minor": 4
}

print(2 + 2)
