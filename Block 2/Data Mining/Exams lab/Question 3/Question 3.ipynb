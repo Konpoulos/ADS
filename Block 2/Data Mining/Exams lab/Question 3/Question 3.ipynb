{
 "cells": [
  {
   "cell_type": "code",
   "execution_count": 38,
   "metadata": {},
   "outputs": [
    {
     "name": "stderr",
     "output_type": "stream",
     "text": [
      "C:\\Users\\pc\\anaconda3\\lib\\site-packages\\tqdm\\std.py:658: FutureWarning: The Panel class is removed from pandas. Accessing it from the top-level namespace will also be removed in the next version\n",
      "  from pandas import Panel\n"
     ]
    }
   ],
   "source": [
    "import pandas as pd\n",
    "from nltk.stem.porter import PorterStemmer\n",
    "import nltk\n",
    "from nltk.tokenize import RegexpTokenizer\n",
    "import pandas as pd\n",
    "import spacy\n",
    "import pandas as pd\n",
    "import os\n",
    "import shutil\n",
    "import pickle \n",
    "import spacy\n",
    "import numpy as np\n",
    "import pandas as pd\n",
    "from tqdm.auto import tqdm\n",
    "tqdm.pandas()\n",
    "import numpy as np\n",
    "import spacy\n",
    "import  pickle\n",
    "import matplotlib.pyplot as plt\n",
    "from gensim.corpora import Dictionary\n",
    "from gensim import corpora, models, similarities, downloader\n",
    "from tqdm import tqdm_notebook\n",
    "import gensim\n",
    "from gensim.models import Word2Vec\n",
    "import re\n"
   ]
  },
  {
   "cell_type": "code",
   "execution_count": 5,
   "metadata": {},
   "outputs": [],
   "source": [
    "df = pd.read_pickle('discussions_corrected.p')"
   ]
  },
  {
   "cell_type": "code",
   "execution_count": 36,
   "metadata": {},
   "outputs": [
    {
     "data": {
      "text/html": [
       "<div>\n",
       "<style scoped>\n",
       "    .dataframe tbody tr th:only-of-type {\n",
       "        vertical-align: middle;\n",
       "    }\n",
       "\n",
       "    .dataframe tbody tr th {\n",
       "        vertical-align: top;\n",
       "    }\n",
       "\n",
       "    .dataframe thead th {\n",
       "        text-align: right;\n",
       "    }\n",
       "</style>\n",
       "<table border=\"1\" class=\"dataframe\">\n",
       "  <thead>\n",
       "    <tr style=\"text-align: right;\">\n",
       "      <th></th>\n",
       "      <th>title</th>\n",
       "      <th>type</th>\n",
       "      <th>year</th>\n",
       "      <th>post</th>\n",
       "    </tr>\n",
       "  </thead>\n",
       "  <tbody>\n",
       "    <tr>\n",
       "      <th>0</th>\n",
       "      <td>Better Call Saul</td>\n",
       "      <td>linear</td>\n",
       "      <td>2017</td>\n",
       "      <td>Walter. And there the chain ends.</td>\n",
       "    </tr>\n",
       "    <tr>\n",
       "      <th>1</th>\n",
       "      <td>Better Call Saul</td>\n",
       "      <td>linear</td>\n",
       "      <td>2016</td>\n",
       "      <td>I love this show. But it's hard to argue again...</td>\n",
       "    </tr>\n",
       "    <tr>\n",
       "      <th>2</th>\n",
       "      <td>Better Call Saul</td>\n",
       "      <td>linear</td>\n",
       "      <td>2017</td>\n",
       "      <td>What am I missing?  A lot of reference to ribs...</td>\n",
       "    </tr>\n",
       "    <tr>\n",
       "      <th>3</th>\n",
       "      <td>Better Call Saul</td>\n",
       "      <td>linear</td>\n",
       "      <td>2018</td>\n",
       "      <td>Oh come on Mike, he's a good little boy.</td>\n",
       "    </tr>\n",
       "    <tr>\n",
       "      <th>4</th>\n",
       "      <td>Better Call Saul</td>\n",
       "      <td>linear</td>\n",
       "      <td>2017</td>\n",
       "      <td>Look again 👀</td>\n",
       "    </tr>\n",
       "    <tr>\n",
       "      <th>5</th>\n",
       "      <td>Better Call Saul</td>\n",
       "      <td>linear</td>\n",
       "      <td>2018</td>\n",
       "      <td>I'm watching with my mum and she was like \"Kim...</td>\n",
       "    </tr>\n",
       "    <tr>\n",
       "      <th>6</th>\n",
       "      <td>Better Call Saul</td>\n",
       "      <td>linear</td>\n",
       "      <td>2020</td>\n",
       "      <td>Maybe when Jimmy gets the $7 million to ABQ, t...</td>\n",
       "    </tr>\n",
       "    <tr>\n",
       "      <th>7</th>\n",
       "      <td>Better Call Saul</td>\n",
       "      <td>linear</td>\n",
       "      <td>2016</td>\n",
       "      <td>Didn't VG say no other BB characters would be ...</td>\n",
       "    </tr>\n",
       "    <tr>\n",
       "      <th>8</th>\n",
       "      <td>Better Call Saul</td>\n",
       "      <td>linear</td>\n",
       "      <td>2017</td>\n",
       "      <td>I remember spooning (gahhk that word is so bad...</td>\n",
       "    </tr>\n",
       "    <tr>\n",
       "      <th>9</th>\n",
       "      <td>Better Call Saul</td>\n",
       "      <td>linear</td>\n",
       "      <td>2018</td>\n",
       "      <td>How did Gus find out mike knew about Nacho?</td>\n",
       "    </tr>\n",
       "  </tbody>\n",
       "</table>\n",
       "</div>"
      ],
      "text/plain": [
       "              title    type  year  \\\n",
       "0  Better Call Saul  linear  2017   \n",
       "1  Better Call Saul  linear  2016   \n",
       "2  Better Call Saul  linear  2017   \n",
       "3  Better Call Saul  linear  2018   \n",
       "4  Better Call Saul  linear  2017   \n",
       "5  Better Call Saul  linear  2018   \n",
       "6  Better Call Saul  linear  2020   \n",
       "7  Better Call Saul  linear  2016   \n",
       "8  Better Call Saul  linear  2017   \n",
       "9  Better Call Saul  linear  2018   \n",
       "\n",
       "                                                post  \n",
       "0                  Walter. And there the chain ends.  \n",
       "1  I love this show. But it's hard to argue again...  \n",
       "2  What am I missing?  A lot of reference to ribs...  \n",
       "3          Oh come on Mike, he's a good little boy.   \n",
       "4                                       Look again 👀  \n",
       "5  I'm watching with my mum and she was like \"Kim...  \n",
       "6  Maybe when Jimmy gets the $7 million to ABQ, t...  \n",
       "7  Didn't VG say no other BB characters would be ...  \n",
       "8  I remember spooning (gahhk that word is so bad...  \n",
       "9        How did Gus find out mike knew about Nacho?  "
      ]
     },
     "execution_count": 36,
     "metadata": {},
     "output_type": "execute_result"
    }
   ],
   "source": [
    "df.head(10)"
   ]
  },
  {
   "cell_type": "code",
   "execution_count": 8,
   "metadata": {},
   "outputs": [
    {
     "name": "stdout",
     "output_type": "stream",
     "text": [
      "<class 'pandas.core.frame.DataFrame'>\n",
      "RangeIndex: 50000 entries, 0 to 49999\n",
      "Data columns (total 4 columns):\n",
      " #   Column  Non-Null Count  Dtype \n",
      "---  ------  --------------  ----- \n",
      " 0   title   50000 non-null  object\n",
      " 1   type    50000 non-null  object\n",
      " 2   year    50000 non-null  int64 \n",
      " 3   post    50000 non-null  object\n",
      "dtypes: int64(1), object(3)\n",
      "memory usage: 1.5+ MB\n"
     ]
    }
   ],
   "source": [
    "df.info()"
   ]
  },
  {
   "cell_type": "code",
   "execution_count": 30,
   "metadata": {},
   "outputs": [],
   "source": [
    "types = df['type'].unique().tolist() # linear, netflix, extremely inefficient line\n",
    "years = df['year'].unique().tolist() # we have data from 2011 to 2020\n",
    "shows = df['title'].unique().tolist()"
   ]
  },
  {
   "cell_type": "code",
   "execution_count": 32,
   "metadata": {},
   "outputs": [
    {
     "data": {
      "text/plain": [
       "['linear', 'netflix']"
      ]
     },
     "execution_count": 32,
     "metadata": {},
     "output_type": "execute_result"
    }
   ],
   "source": [
    "types"
   ]
  },
  {
   "cell_type": "code",
   "execution_count": 33,
   "metadata": {},
   "outputs": [
    {
     "data": {
      "text/plain": [
       "[2017, 2016, 2018, 2020, 2012, 2013, 2011, 2014, 2019, 2015]"
      ]
     },
     "execution_count": 33,
     "metadata": {},
     "output_type": "execute_result"
    }
   ],
   "source": [
    "years"
   ]
  },
  {
   "cell_type": "code",
   "execution_count": 34,
   "metadata": {
    "collapsed": true
   },
   "outputs": [
    {
     "data": {
      "text/plain": [
       "['Better Call Saul',\n",
       " 'Black Mirror',\n",
       " 'Breaking Bad',\n",
       " 'Dark',\n",
       " 'Fargo',\n",
       " 'Game of Thrones',\n",
       " 'House of Cards',\n",
       " 'La Casa de Papel',\n",
       " 'Mindhunter',\n",
       " 'Mr. Robot',\n",
       " 'Orange is the New Black',\n",
       " 'Ozark',\n",
       " 'Stranger Things',\n",
       " 'Succession',\n",
       " 'The Crown',\n",
       " 'The Mandelorian',\n",
       " 'The Newsroom',\n",
       " 'The Witcher',\n",
       " 'True Detective',\n",
       " 'Twin Peaks']"
      ]
     },
     "execution_count": 34,
     "metadata": {},
     "output_type": "execute_result"
    }
   ],
   "source": [
    "shows"
   ]
  },
  {
   "cell_type": "code",
   "execution_count": 35,
   "metadata": {},
   "outputs": [
    {
     "data": {
      "text/plain": [
       "[35269, 14731]"
      ]
     },
     "execution_count": 35,
     "metadata": {},
     "output_type": "execute_result"
    }
   ],
   "source": [
    "df['type'].value_counts().tolist()"
   ]
  },
  {
   "cell_type": "code",
   "execution_count": 12,
   "metadata": {},
   "outputs": [
    {
     "data": {
      "text/plain": [
       "Game of Thrones            15462\n",
       "Breaking Bad                6424\n",
       "Better Call Saul            5268\n",
       "Black Mirror                4720\n",
       "Stranger Things             2891\n",
       "True Detective              2721\n",
       "Twin Peaks                  2399\n",
       "Dark                        2004\n",
       "Ozark                       1417\n",
       "Mr. Robot                   1347\n",
       "Orange is the New Black     1208\n",
       "The Witcher                 1188\n",
       "Fargo                        680\n",
       "Mindhunter                   657\n",
       "The Newsroom                 484\n",
       "Succession                   389\n",
       "The Crown                    338\n",
       "House of Cards               158\n",
       "La Casa de Papel             150\n",
       "The Mandelorian               95\n",
       "Name: title, dtype: int64"
      ]
     },
     "execution_count": 12,
     "metadata": {},
     "output_type": "execute_result"
    }
   ],
   "source": [
    "df['title'].value_counts()"
   ]
  },
  {
   "cell_type": "code",
   "execution_count": 19,
   "metadata": {},
   "outputs": [
    {
     "data": {
      "text/plain": [
       "2017    12830\n",
       "2016     7734\n",
       "2015     7118\n",
       "2019     6608\n",
       "2018     4332\n",
       "2020     3851\n",
       "2012     3342\n",
       "2013     2758\n",
       "2014      839\n",
       "2011      588\n",
       "Name: year, dtype: int64"
      ]
     },
     "execution_count": 19,
     "metadata": {},
     "output_type": "execute_result"
    }
   ],
   "source": [
    "df['year'].value_counts()"
   ]
  },
  {
   "cell_type": "code",
   "execution_count": 40,
   "metadata": {},
   "outputs": [],
   "source": [
    "df_linear = df[df.type == 'linear']\n",
    "df_netflix = df[df.type == 'netflix']"
   ]
  },
  {
   "cell_type": "code",
   "execution_count": 41,
   "metadata": {},
   "outputs": [],
   "source": [
    "nlp = spacy.load(\"en_core_web_sm\")"
   ]
  },
  {
   "cell_type": "code",
   "execution_count": 42,
   "metadata": {},
   "outputs": [
    {
     "name": "stderr",
     "output_type": "stream",
     "text": [
      "C:\\Users\\pc\\anaconda3\\lib\\site-packages\\ipykernel_launcher.py:5: TqdmDeprecationWarning: This function will be removed in tqdm==5.0.0\n",
      "Please use `tqdm.notebook.tqdm` instead of `tqdm.tqdm_notebook`\n",
      "  \"\"\"\n"
     ]
    },
    {
     "data": {
      "application/vnd.jupyter.widget-view+json": {
       "model_id": "793e4b8e93d04a748e9949fe886a24cf",
       "version_major": 2,
       "version_minor": 0
      },
      "text/plain": [
       "HBox(children=(FloatProgress(value=0.0, max=35269.0), HTML(value='')))"
      ]
     },
     "metadata": {},
     "output_type": "display_data"
    },
    {
     "name": "stdout",
     "output_type": "stream",
     "text": [
      "\n"
     ]
    }
   ],
   "source": [
    "processed_texts = [text for text in tqdm_notebook(nlp.pipe(df_linear['post'], \n",
    "                                              n_process=-1, # maximum number of threads\n",
    "                                              disable=[\"ner\",\n",
    "                                                       \"parser\"]),\n",
    "                                         total=len(df_linear['post']))]\n"
   ]
  },
  {
   "cell_type": "code",
   "execution_count": 43,
   "metadata": {},
   "outputs": [],
   "source": [
    "tokenized_df_linear = [[token.lemma_ for token in text\n",
    "               if not token.is_punct and not token.is_stop]\n",
    "              for text in processed_texts]      "
   ]
  },
  {
   "cell_type": "code",
   "execution_count": 45,
   "metadata": {},
   "outputs": [
    {
     "data": {
      "text/plain": [
       "[['Walter', 'chain', 'end']]"
      ]
     },
     "execution_count": 45,
     "metadata": {},
     "output_type": "execute_result"
    }
   ],
   "source": [
    "tokenized_df_linear = [[re.sub(r'\\W+', '', word) for word in text] for text in tokenized_df_linear] #we remove the words we dont want\n",
    "tokenized_df_linear[:1]"
   ]
  },
  {
   "cell_type": "code",
   "execution_count": 47,
   "metadata": {},
   "outputs": [
    {
     "data": {
      "text/plain": [
       "[['Walter', 'chain', '']]"
      ]
     },
     "execution_count": 47,
     "metadata": {},
     "output_type": "execute_result"
    }
   ],
   "source": [
    "tokenized_df_linear2 = [[re.sub(r'\\b\\w{1,3}\\b', '', word) for word in text] for text in tokenized_df_linear] # we remove the words that are 3 or more,in my opinion they are noise\n",
    "tokenized_df_linear2[:1]"
   ]
  },
  {
   "cell_type": "code",
   "execution_count": 48,
   "metadata": {},
   "outputs": [
    {
     "name": "stderr",
     "output_type": "stream",
     "text": [
      "C:\\Users\\pc\\anaconda3\\lib\\site-packages\\ipykernel_launcher.py:5: TqdmDeprecationWarning: This function will be removed in tqdm==5.0.0\n",
      "Please use `tqdm.notebook.tqdm` instead of `tqdm.tqdm_notebook`\n",
      "  \"\"\"\n"
     ]
    },
    {
     "data": {
      "application/vnd.jupyter.widget-view+json": {
       "model_id": "61acfb447d744660a3b015352c137185",
       "version_major": 2,
       "version_minor": 0
      },
      "text/plain": [
       "HBox(children=(FloatProgress(value=0.0, max=14731.0), HTML(value='')))"
      ]
     },
     "metadata": {},
     "output_type": "display_data"
    },
    {
     "name": "stdout",
     "output_type": "stream",
     "text": [
      "\n"
     ]
    }
   ],
   "source": [
    "processed_texts = [text for text in tqdm_notebook(nlp.pipe(df_netflix['post'], \n",
    "                                              n_process=-1, # maximum number of threads\n",
    "                                              disable=[\"ner\",\n",
    "                                                       \"parser\"]),\n",
    "                                         total=len(df_netflix['post']))]\n",
    "\n",
    "\n",
    "tokenized_df_netflix = [[token.lemma_ for token in text\n",
    "               if not token.is_punct and not token.is_stop]\n",
    "              for text in processed_texts]                                        \n"
   ]
  },
  {
   "cell_type": "code",
   "execution_count": 49,
   "metadata": {},
   "outputs": [
    {
     "data": {
      "text/plain": [
       "[['think', 'rabbit', 'ending', 'real', 'ending', 'traincrasch']]"
      ]
     },
     "execution_count": 49,
     "metadata": {},
     "output_type": "execute_result"
    }
   ],
   "source": [
    "tokenized_df_netflix = [[re.sub(r'\\W+', '', word) for word in text] for text in tokenized_df_netflix] \n",
    "tokenized_df_netflix[:1]"
   ]
  },
  {
   "cell_type": "code",
   "execution_count": 50,
   "metadata": {},
   "outputs": [
    {
     "data": {
      "text/plain": [
       "[['think', 'rabbit', 'ending', 'real', 'ending', 'traincrasch'],\n",
       " ['wipe', '', 'tracker', 'realize', 'fate']]"
      ]
     },
     "execution_count": 50,
     "metadata": {},
     "output_type": "execute_result"
    }
   ],
   "source": [
    "tokenized_df_netflix2 = [[re.sub(r'\\b\\w{1,3}\\b', '', word) for word in text] for text in tokenized_df_netflix] \n",
    "tokenized_df_netflix2[:2]"
   ]
  },
  {
   "cell_type": "code",
   "execution_count": 52,
   "metadata": {},
   "outputs": [],
   "source": [
    "#first we create the dictionary from the netflix\n",
    "from gensim.corpora import Dictionary\n",
    "\n",
    "MIN_DF = 5 # minium document frequency\n",
    "MAX_DF = 0.6 # maximum document frequency\n",
    "\n",
    "\n",
    "dictionary = Dictionary(tokenized_df_netflix2) # get the vocabulary\n",
    "dictionary.filter_extremes(no_below=MIN_DF, \n",
    "                           no_above=MAX_DF)\n",
    "corpus_netflix = [dictionary.doc2bow(text) for text in tokenized_df_netflix2]"
   ]
  },
  {
   "cell_type": "code",
   "execution_count": 54,
   "metadata": {},
   "outputs": [],
   "source": [
    "#second we create the dictionary from the linear\n",
    "from gensim.corpora import Dictionary\n",
    "\n",
    "MIN_DF = 5 # minium document frequency\n",
    "MAX_DF = 0.6 # maximum document frequency\n",
    "\n",
    "\n",
    "dictionary = Dictionary(tokenized_df_linear2) # get the vocabulary\n",
    "dictionary.filter_extremes(no_below=MIN_DF, \n",
    "                           no_above=MAX_DF)\n",
    "corpus_linear = [dictionary.doc2bow(text) for text in tokenized_df_linear2]"
   ]
  },
  {
   "cell_type": "code",
   "execution_count": null,
   "metadata": {},
   "outputs": [],
   "source": []
  },
  {
   "cell_type": "code",
   "execution_count": 37,
   "metadata": {},
   "outputs": [],
   "source": [
    "from gensim.models.wrappers import LdaMallet"
   ]
  },
  {
   "cell_type": "markdown",
   "metadata": {},
   "source": [
    "First of all i need to persuade the television producer so i have to make an operationalization that is going to be understandable.I need to measure the engagment of the audience ether to linear or Netflix release"
   ]
  }
 ],
 "metadata": {
  "kernelspec": {
   "display_name": "Python 3",
   "language": "python",
   "name": "python3"
  },
  "language_info": {
   "codemirror_mode": {
    "name": "ipython",
    "version": 3
   },
   "file_extension": ".py",
   "mimetype": "text/x-python",
   "name": "python",
   "nbconvert_exporter": "python",
   "pygments_lexer": "ipython3",
   "version": "3.7.6"
  }
 },
 "nbformat": 4,
 "nbformat_minor": 4
}
