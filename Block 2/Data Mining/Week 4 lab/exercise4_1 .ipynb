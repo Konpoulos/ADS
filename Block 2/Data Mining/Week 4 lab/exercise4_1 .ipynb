{
 "cells": [
  {
   "cell_type": "markdown",
   "metadata": {},
   "source": [
    "# Libraries"
   ]
  },
  {
   "cell_type": "code",
   "execution_count": 1,
   "metadata": {},
   "outputs": [],
   "source": [
    "import os\n",
    "import socket\n",
    "from urllib.request import urlretrieve\n",
    "\n",
    "import pandas as pd\n",
    "from tqdm.notebook import tqdm"
   ]
  },
  {
   "cell_type": "markdown",
   "metadata": {},
   "source": [
    "# Download"
   ]
  },
  {
   "cell_type": "code",
   "execution_count": 2,
   "metadata": {},
   "outputs": [
    {
     "data": {
      "application/vnd.jupyter.widget-view+json": {
       "model_id": "a97ac7dab6ae4d9f9c7a3e33921c469f",
       "version_major": 2,
       "version_minor": 0
      },
      "text/plain": [
       "HBox(children=(FloatProgress(value=0.0, max=600.0), HTML(value='')))"
      ]
     },
     "metadata": {},
     "output_type": "display_data"
    },
    {
     "name": "stdout",
     "output_type": "stream",
     "text": [
      "\n"
     ]
    }
   ],
   "source": [
    "dataset = 'https://raw.githubusercontent.com/rubenros1795/iconicity/master/data/dataset/TimesSquareKiss-sift-corrected.tsv'\n",
    "sample_size = 600\n",
    "\n",
    "socket.setdefaulttimeout(10)\n",
    "\n",
    "df = pd.read_csv(dataset, sep = '\\t')\n",
    "sample = df.sample(sample_size, random_state = 42)\n",
    "\n",
    "if not os.path.exists('images'):\n",
    "    os.mkdir('images')\n",
    "\n",
    "for row in tqdm(sample.itertuples(), total=sample_size):\n",
    "    if row.image_url_full != 'na':\n",
    "        url = row.image_url_full\n",
    "    else:\n",
    "        url = row.image_url_partial\n",
    "        \n",
    "    file_extension = url[url.rfind('.'):]\n",
    "    if '?' in file_extension:\n",
    "        file_extentsion = file_extension[:file_extension.find('?')]\n",
    "    try:\n",
    "        urlretrieve(url, \"images/{}{}\".format(row.Index, file_extension))\n",
    "    except:\n",
    "        continue"
   ]
  },
  {
   "cell_type": "markdown",
   "metadata": {},
   "source": [
    "# Adjust files\n",
    "### List of files"
   ]
  },
  {
   "cell_type": "code",
   "execution_count": 21,
   "metadata": {},
   "outputs": [],
   "source": [
    "files = os.listdir(\"images\")"
   ]
  },
  {
   "cell_type": "markdown",
   "metadata": {},
   "source": [
    "### Extract number (to sort) and extension (need adjustments)"
   ]
  },
  {
   "cell_type": "code",
   "execution_count": 60,
   "metadata": {},
   "outputs": [],
   "source": [
    "numbers = []\n",
    "extensions = []\n",
    "for file in files:\n",
    "    number, extension = file.split(\".\")\n",
    "    numbers.append(int(number))\n",
    "    extensions.append(extension)"
   ]
  },
  {
   "cell_type": "code",
   "execution_count": 64,
   "metadata": {},
   "outputs": [],
   "source": [
    "labeled_by = [\"All\"]*44+100*[\"Joey\"]+100*[\"Asher\"]+100*[\"Ioannis\"]+100*[\"Evangelos\"]"
   ]
  },
  {
   "cell_type": "markdown",
   "metadata": {},
   "source": [
    "### Make DF"
   ]
  },
  {
   "cell_type": "code",
   "execution_count": 67,
   "metadata": {},
   "outputs": [],
   "source": [
    "df = pd.DataFrame()\n",
    "df[\"file\"] = files\n",
    "df[\"number\"] = numbers\n",
    "df[\"extension\"] = extensions"
   ]
  },
  {
   "cell_type": "code",
   "execution_count": 68,
   "metadata": {},
   "outputs": [
    {
     "data": {
      "text/html": [
       "<div>\n",
       "<style scoped>\n",
       "    .dataframe tbody tr th:only-of-type {\n",
       "        vertical-align: middle;\n",
       "    }\n",
       "\n",
       "    .dataframe tbody tr th {\n",
       "        vertical-align: top;\n",
       "    }\n",
       "\n",
       "    .dataframe thead th {\n",
       "        text-align: right;\n",
       "    }\n",
       "</style>\n",
       "<table border=\"1\" class=\"dataframe\">\n",
       "  <thead>\n",
       "    <tr style=\"text-align: right;\">\n",
       "      <th></th>\n",
       "      <th>file</th>\n",
       "      <th>number</th>\n",
       "      <th>extension</th>\n",
       "    </tr>\n",
       "  </thead>\n",
       "  <tbody>\n",
       "    <tr>\n",
       "      <th>0</th>\n",
       "      <td>56374.jpg</td>\n",
       "      <td>56374</td>\n",
       "      <td>jpg</td>\n",
       "    </tr>\n",
       "    <tr>\n",
       "      <th>1</th>\n",
       "      <td>9055.jpg</td>\n",
       "      <td>9055</td>\n",
       "      <td>jpg</td>\n",
       "    </tr>\n",
       "    <tr>\n",
       "      <th>2</th>\n",
       "      <td>51948.jpeg</td>\n",
       "      <td>51948</td>\n",
       "      <td>jpeg</td>\n",
       "    </tr>\n",
       "    <tr>\n",
       "      <th>3</th>\n",
       "      <td>11771.jpg</td>\n",
       "      <td>11771</td>\n",
       "      <td>jpg</td>\n",
       "    </tr>\n",
       "    <tr>\n",
       "      <th>4</th>\n",
       "      <td>20235.jpg</td>\n",
       "      <td>20235</td>\n",
       "      <td>jpg</td>\n",
       "    </tr>\n",
       "  </tbody>\n",
       "</table>\n",
       "</div>"
      ],
      "text/plain": [
       "         file  number extension\n",
       "0   56374.jpg   56374       jpg\n",
       "1    9055.jpg    9055       jpg\n",
       "2  51948.jpeg   51948      jpeg\n",
       "3   11771.jpg   11771       jpg\n",
       "4   20235.jpg   20235       jpg"
      ]
     },
     "execution_count": 68,
     "metadata": {},
     "output_type": "execute_result"
    }
   ],
   "source": [
    "df.head()"
   ]
  },
  {
   "cell_type": "markdown",
   "metadata": {},
   "source": [
    "### Sort"
   ]
  },
  {
   "cell_type": "code",
   "execution_count": 73,
   "metadata": {},
   "outputs": [],
   "source": [
    "df_sorted = df.sort_values(\"number\").reset_index(drop=True)\n",
    "df_sorted[\"labeled_by\"] = labeled_by\n",
    "# df_sorted.head()"
   ]
  },
  {
   "cell_type": "markdown",
   "metadata": {},
   "source": [
    "### Loop though extensions and find solitions"
   ]
  },
  {
   "cell_type": "code",
   "execution_count": 91,
   "metadata": {},
   "outputs": [
    {
     "name": "stdout",
     "output_type": "stream",
     "text": [
      "8\n",
      "gif\n",
      "webp?maxwidth=728&fidelity=grand\n",
      "php?table=ans&No=595959&data=front&date=2009-04-16\n",
      "gif\n",
      "gif\n",
      "net%2Fcfile%2Fblog%2F23447236533BF61909\n",
      "webp\n"
     ]
    }
   ],
   "source": [
    "numbers = df_sorted[\"number\"]\n",
    "extensions = df_sorted[\"extension\"]\n",
    "adjusted = []\n",
    "for ext in df_sorted[\"extension\"]:\n",
    "    if ext in [\"jpg\", \"jpeg\", \"png\"]:\n",
    "        adjusted.append(ext)\n",
    "    elif ext.startswith(\"jpg\"):\n",
    "        adjusted.append(\"jpg\")\n",
    "    elif ext.startswith(\"jpeg\"):\n",
    "        adjusted.append(\"jpeg\")\n",
    "    elif ext.startswith(\"png\"):\n",
    "        adjusted.append(\"png\")\n",
    "    else:\n",
    "        print(ext)\n",
    "        adjusted.append(ext)\n",
    "df_sorted[\"adjusted_extension\"] = adjusted"
   ]
  },
  {
   "cell_type": "markdown",
   "metadata": {},
   "source": [
    "### New filenames"
   ]
  },
  {
   "cell_type": "code",
   "execution_count": 104,
   "metadata": {},
   "outputs": [],
   "source": [
    "numbers = df_sorted[\"number\"]\n",
    "adjusted_extensions = df_sorted[\"adjusted_extension\"]\n",
    "new_filenames = []\n",
    "for i in range(len(df_sorted)):\n",
    "    new_filename = str(numbers[i]) + \".\" + adjusted_extensions[i]\n",
    "    new_filenames.append(new_filename)\n",
    "df_sorted[\"new_filename\"] = new_filenames"
   ]
  },
  {
   "cell_type": "code",
   "execution_count": 105,
   "metadata": {},
   "outputs": [
    {
     "data": {
      "text/html": [
       "<div>\n",
       "<style scoped>\n",
       "    .dataframe tbody tr th:only-of-type {\n",
       "        vertical-align: middle;\n",
       "    }\n",
       "\n",
       "    .dataframe tbody tr th {\n",
       "        vertical-align: top;\n",
       "    }\n",
       "\n",
       "    .dataframe thead th {\n",
       "        text-align: right;\n",
       "    }\n",
       "</style>\n",
       "<table border=\"1\" class=\"dataframe\">\n",
       "  <thead>\n",
       "    <tr style=\"text-align: right;\">\n",
       "      <th></th>\n",
       "      <th>file</th>\n",
       "      <th>number</th>\n",
       "      <th>extension</th>\n",
       "      <th>labeled_by</th>\n",
       "      <th>adjusted_extension</th>\n",
       "      <th>new_filename</th>\n",
       "    </tr>\n",
       "  </thead>\n",
       "  <tbody>\n",
       "    <tr>\n",
       "      <th>0</th>\n",
       "      <td>144.jpg</td>\n",
       "      <td>144</td>\n",
       "      <td>jpg</td>\n",
       "      <td>All</td>\n",
       "      <td>jpg</td>\n",
       "      <td>144.jpg</td>\n",
       "    </tr>\n",
       "    <tr>\n",
       "      <th>1</th>\n",
       "      <td>212.jpg</td>\n",
       "      <td>212</td>\n",
       "      <td>jpg</td>\n",
       "      <td>All</td>\n",
       "      <td>jpg</td>\n",
       "      <td>212.jpg</td>\n",
       "    </tr>\n",
       "    <tr>\n",
       "      <th>2</th>\n",
       "      <td>251.jpg?resize=450%2C673&amp;ssl=1</td>\n",
       "      <td>251</td>\n",
       "      <td>jpg?resize=450%2C673&amp;ssl=1</td>\n",
       "      <td>All</td>\n",
       "      <td>jpg</td>\n",
       "      <td>251.jpg</td>\n",
       "    </tr>\n",
       "    <tr>\n",
       "      <th>3</th>\n",
       "      <td>253.jpg?w=1100</td>\n",
       "      <td>253</td>\n",
       "      <td>jpg?w=1100</td>\n",
       "      <td>All</td>\n",
       "      <td>jpg</td>\n",
       "      <td>253.jpg</td>\n",
       "    </tr>\n",
       "    <tr>\n",
       "      <th>4</th>\n",
       "      <td>273.jpg</td>\n",
       "      <td>273</td>\n",
       "      <td>jpg</td>\n",
       "      <td>All</td>\n",
       "      <td>jpg</td>\n",
       "      <td>273.jpg</td>\n",
       "    </tr>\n",
       "  </tbody>\n",
       "</table>\n",
       "</div>"
      ],
      "text/plain": [
       "                             file  number                   extension  \\\n",
       "0                         144.jpg     144                         jpg   \n",
       "1                         212.jpg     212                         jpg   \n",
       "2  251.jpg?resize=450%2C673&ssl=1     251  jpg?resize=450%2C673&ssl=1   \n",
       "3                  253.jpg?w=1100     253                  jpg?w=1100   \n",
       "4                         273.jpg     273                         jpg   \n",
       "\n",
       "  labeled_by adjusted_extension new_filename  \n",
       "0        All                jpg      144.jpg  \n",
       "1        All                jpg      212.jpg  \n",
       "2        All                jpg      251.jpg  \n",
       "3        All                jpg      253.jpg  \n",
       "4        All                jpg      273.jpg  "
      ]
     },
     "execution_count": 105,
     "metadata": {},
     "output_type": "execute_result"
    }
   ],
   "source": [
    "df_sorted.head()"
   ]
  },
  {
   "cell_type": "markdown",
   "metadata": {},
   "source": [
    "## Rename"
   ]
  },
  {
   "cell_type": "code",
   "execution_count": 108,
   "metadata": {},
   "outputs": [
    {
     "ename": "FileNotFoundError",
     "evalue": "[Errno 2] No such file or directory: 'images/251.jpg?resize=450%2C673&ssl=1' -> 'images/251.jpg'",
     "output_type": "error",
     "traceback": [
      "\u001b[0;31m---------------------------------------------------------------------------\u001b[0m",
      "\u001b[0;31mFileNotFoundError\u001b[0m                         Traceback (most recent call last)",
      "\u001b[0;32m<ipython-input-108-bd4a2983a7f3>\u001b[0m in \u001b[0;36m<module>\u001b[0;34m\u001b[0m\n\u001b[1;32m      3\u001b[0m     \u001b[0mnew\u001b[0m \u001b[0;34m=\u001b[0m \u001b[0mdf_sorted\u001b[0m\u001b[0;34m[\u001b[0m\u001b[0;34m\"new_filename\"\u001b[0m\u001b[0;34m]\u001b[0m\u001b[0;34m[\u001b[0m\u001b[0mi\u001b[0m\u001b[0;34m]\u001b[0m\u001b[0;34m\u001b[0m\u001b[0;34m\u001b[0m\u001b[0m\n\u001b[1;32m      4\u001b[0m     \u001b[0;32mif\u001b[0m \u001b[0mold\u001b[0m \u001b[0;34m!=\u001b[0m \u001b[0mnew\u001b[0m\u001b[0;34m:\u001b[0m\u001b[0;34m\u001b[0m\u001b[0;34m\u001b[0m\u001b[0m\n\u001b[0;32m----> 5\u001b[0;31m         \u001b[0mos\u001b[0m\u001b[0;34m.\u001b[0m\u001b[0mrename\u001b[0m\u001b[0;34m(\u001b[0m\u001b[0;34mf\"images/{old}\"\u001b[0m\u001b[0;34m,\u001b[0m \u001b[0;34mf\"images/{new}\"\u001b[0m\u001b[0;34m)\u001b[0m\u001b[0;34m\u001b[0m\u001b[0;34m\u001b[0m\u001b[0m\n\u001b[0m",
      "\u001b[0;31mFileNotFoundError\u001b[0m: [Errno 2] No such file or directory: 'images/251.jpg?resize=450%2C673&ssl=1' -> 'images/251.jpg'"
     ]
    }
   ],
   "source": [
    "for i in range(len(df_sorted)):\n",
    "    old = df_sorted[\"file\"][i]\n",
    "    new = df_sorted[\"new_filename\"][i]\n",
    "    if old != new:\n",
    "        os.rename(f\"images/{old}\", f\"images/{new}\")\n",
    "#returns error if run again"
   ]
  },
  {
   "cell_type": "code",
   "execution_count": 111,
   "metadata": {},
   "outputs": [],
   "source": [
    "df_new = df_sorted[[\"new_filename\", \"labeled_by\"]]"
   ]
  },
  {
   "cell_type": "code",
   "execution_count": 112,
   "metadata": {},
   "outputs": [],
   "source": [
    "Nones = [None]*444"
   ]
  },
  {
   "cell_type": "code",
   "execution_count": 113,
   "metadata": {},
   "outputs": [
    {
     "name": "stderr",
     "output_type": "stream",
     "text": [
      "<ipython-input-113-e1e12f57cef1>:1: SettingWithCopyWarning: \n",
      "A value is trying to be set on a copy of a slice from a DataFrame.\n",
      "Try using .loc[row_indexer,col_indexer] = value instead\n",
      "\n",
      "See the caveats in the documentation: https://pandas.pydata.org/pandas-docs/stable/user_guide/indexing.html#returning-a-view-versus-a-copy\n",
      "  df_new[\"Joey\"] = Nones\n",
      "<ipython-input-113-e1e12f57cef1>:2: SettingWithCopyWarning: \n",
      "A value is trying to be set on a copy of a slice from a DataFrame.\n",
      "Try using .loc[row_indexer,col_indexer] = value instead\n",
      "\n",
      "See the caveats in the documentation: https://pandas.pydata.org/pandas-docs/stable/user_guide/indexing.html#returning-a-view-versus-a-copy\n",
      "  df_new[\"Asher\"] = Nones\n",
      "<ipython-input-113-e1e12f57cef1>:3: SettingWithCopyWarning: \n",
      "A value is trying to be set on a copy of a slice from a DataFrame.\n",
      "Try using .loc[row_indexer,col_indexer] = value instead\n",
      "\n",
      "See the caveats in the documentation: https://pandas.pydata.org/pandas-docs/stable/user_guide/indexing.html#returning-a-view-versus-a-copy\n",
      "  df_new[\"Ioannis\"] = Nones\n"
     ]
    }
   ],
   "source": [
    "df_new[\"Joey\"] = Nones\n",
    "df_new[\"Asher\"] = Nones\n",
    "df_new[\"Ioannis\"] = Nones\n",
    "df_new[\"Evangelos\"] = Nones"
   ]
  },
  {
   "cell_type": "code",
   "execution_count": 116,
   "metadata": {},
   "outputs": [
    {
     "data": {
      "text/html": [
       "<div>\n",
       "<style scoped>\n",
       "    .dataframe tbody tr th:only-of-type {\n",
       "        vertical-align: middle;\n",
       "    }\n",
       "\n",
       "    .dataframe tbody tr th {\n",
       "        vertical-align: top;\n",
       "    }\n",
       "\n",
       "    .dataframe thead th {\n",
       "        text-align: right;\n",
       "    }\n",
       "</style>\n",
       "<table border=\"1\" class=\"dataframe\">\n",
       "  <thead>\n",
       "    <tr style=\"text-align: right;\">\n",
       "      <th></th>\n",
       "      <th>new_filename</th>\n",
       "      <th>labeled_by</th>\n",
       "      <th>Joey</th>\n",
       "      <th>Asher</th>\n",
       "      <th>Ioannis</th>\n",
       "      <th>Evangelos</th>\n",
       "    </tr>\n",
       "  </thead>\n",
       "  <tbody>\n",
       "    <tr>\n",
       "      <th>0</th>\n",
       "      <td>144.jpg</td>\n",
       "      <td>All</td>\n",
       "      <td>None</td>\n",
       "      <td>None</td>\n",
       "      <td>None</td>\n",
       "      <td>None</td>\n",
       "    </tr>\n",
       "    <tr>\n",
       "      <th>1</th>\n",
       "      <td>212.jpg</td>\n",
       "      <td>All</td>\n",
       "      <td>None</td>\n",
       "      <td>None</td>\n",
       "      <td>None</td>\n",
       "      <td>None</td>\n",
       "    </tr>\n",
       "    <tr>\n",
       "      <th>2</th>\n",
       "      <td>251.jpg</td>\n",
       "      <td>All</td>\n",
       "      <td>None</td>\n",
       "      <td>None</td>\n",
       "      <td>None</td>\n",
       "      <td>None</td>\n",
       "    </tr>\n",
       "    <tr>\n",
       "      <th>3</th>\n",
       "      <td>253.jpg</td>\n",
       "      <td>All</td>\n",
       "      <td>None</td>\n",
       "      <td>None</td>\n",
       "      <td>None</td>\n",
       "      <td>None</td>\n",
       "    </tr>\n",
       "    <tr>\n",
       "      <th>4</th>\n",
       "      <td>273.jpg</td>\n",
       "      <td>All</td>\n",
       "      <td>None</td>\n",
       "      <td>None</td>\n",
       "      <td>None</td>\n",
       "      <td>None</td>\n",
       "    </tr>\n",
       "  </tbody>\n",
       "</table>\n",
       "</div>"
      ],
      "text/plain": [
       "  new_filename labeled_by  Joey Asher Ioannis Evangelos\n",
       "0      144.jpg        All  None  None    None      None\n",
       "1      212.jpg        All  None  None    None      None\n",
       "2      251.jpg        All  None  None    None      None\n",
       "3      253.jpg        All  None  None    None      None\n",
       "4      273.jpg        All  None  None    None      None"
      ]
     },
     "execution_count": 116,
     "metadata": {},
     "output_type": "execute_result"
    }
   ],
   "source": [
    "df_new.head()"
   ]
  },
  {
   "cell_type": "code",
   "execution_count": 117,
   "metadata": {},
   "outputs": [],
   "source": [
    "df_new.to_csv(\"exercise4_1.csv\")"
   ]
  },
  {
   "cell_type": "code",
   "execution_count": null,
   "metadata": {},
   "outputs": [],
   "source": []
  }
 ],
 "metadata": {
  "kernelspec": {
   "display_name": "Python 3",
   "language": "python",
   "name": "python3"
  },
  "language_info": {
   "codemirror_mode": {
    "name": "ipython",
    "version": 3
   },
   "file_extension": ".py",
   "mimetype": "text/x-python",
   "name": "python",
   "nbconvert_exporter": "python",
   "pygments_lexer": "ipython3",
   "version": "3.8.1"
  }
 },
 "nbformat": 4,
 "nbformat_minor": 4
}
