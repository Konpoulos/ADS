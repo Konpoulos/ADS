{
 "cells": [
  {
   "cell_type": "code",
   "execution_count": 1,
   "metadata": {},
   "outputs": [],
   "source": [
    "import os\n",
    "import socket\n",
    "from urllib.request import urlretrieve\n",
    "\n",
    "import pandas as pd\n",
    "from tqdm.notebook import tqdm"
   ]
  },
  {
   "cell_type": "code",
   "execution_count": 2,
   "metadata": {},
   "outputs": [
    {
     "data": {
      "application/vnd.jupyter.widget-view+json": {
       "model_id": "3b9a27131b594945a77b1ae97dc73cbf",
       "version_major": 2,
       "version_minor": 0
      },
      "text/plain": [
       "HBox(children=(FloatProgress(value=0.0, max=600.0), HTML(value='')))"
      ]
     },
     "metadata": {},
     "output_type": "display_data"
    },
    {
     "name": "stdout",
     "output_type": "stream",
     "text": [
      "\n"
     ]
    }
   ],
   "source": [
    "dataset = 'https://raw.githubusercontent.com/rubenros1795/iconicity/master/data/dataset/TimesSquareKiss-sift-corrected.tsv'\n",
    "sample_size = 600\n",
    "\n",
    "socket.setdefaulttimeout(10)\n",
    "\n",
    "df = pd.read_csv(dataset, sep = '\\t')\n",
    "sample = df.sample(sample_size, random_state = 42)\n",
    "\n",
    "if not os.path.exists('images'):\n",
    "    os.mkdir('images')\n",
    "\n",
    "for row in tqdm(sample.itertuples(), total=sample_size):\n",
    "    if row.image_url_full != 'na':\n",
    "        url = row.image_url_full\n",
    "    else:\n",
    "        url = row.image_url_partial\n",
    "        \n",
    "    file_extension = url[url.rfind('.'):]\n",
    "    if '?' in file_extension:\n",
    "        file_extentsion = file_extension[:file_extension.find('?')]\n",
    "    try:\n",
    "        urlretrieve(url, \"images/{}{}\".format(row.Index, file_extension))\n",
    "    except:\n",
    "        continue"
   ]
  },
  {
   "cell_type": "code",
   "execution_count": null,
   "metadata": {},
   "outputs": [],
   "source": []
  }
 ],
 "metadata": {
  "kernelspec": {
   "display_name": "Python 3",
   "language": "python",
   "name": "python3"
  },
  "language_info": {
   "codemirror_mode": {
    "name": "ipython",
    "version": 3
   },
   "file_extension": ".py",
   "mimetype": "text/x-python",
   "name": "python",
   "nbconvert_exporter": "python",
   "pygments_lexer": "ipython3",
   "version": "3.7.6"
  }
 },
 "nbformat": 4,
 "nbformat_minor": 4
}
