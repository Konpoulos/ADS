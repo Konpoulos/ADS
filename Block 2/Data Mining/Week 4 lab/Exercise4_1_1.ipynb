{
 "cells": [
  {
   "cell_type": "markdown",
   "metadata": {},
   "source": [
    "Authors: Asher : 5991366, Giannis : 0960047, Joey : 6075940\n",
    "\n",
    "Exercise 4.1 questions 6 - 9 \n"
   ]
  },
  {
   "cell_type": "code",
   "execution_count": null,
   "metadata": {},
   "outputs": [],
   "source": [
    "import pandas as pd\n",
    "# Read in all csv\n",
    "df_giannis = pd.read_csv(r'C:\\Users\\Asher\\School\\Data mining\\csvs\\exercise4_1_Giannis.csv', sep = ';')\n",
    "df_asher = pd.read_csv(r'C:\\Users\\Asher\\School\\Data mining\\csvs\\exercise4_1_asher.csv', sep= ';')\n",
    "df_joey = pd.read_csv(r'C:\\Users\\Asher\\School\\Data mining\\csvs\\exercise4_1_Joey.csv', sep= ',')"
   ]
  },
  {
   "cell_type": "code",
   "execution_count": 130,
   "metadata": {},
   "outputs": [],
   "source": [
    "# replace values\n",
    "df_asher['Asher'].replace({'original': 0, 'adaptation': 1, 'meme': 2, 'noise': 3}, inplace = True)"
   ]
  },
  {
   "cell_type": "code",
   "execution_count": 131,
   "metadata": {},
   "outputs": [],
   "source": [
    "df_joey['Joey'].replace({'original': 0, 'adaptation': 1, 'meme': 2, 'noise': 3}, inplace = True)"
   ]
  },
  {
   "cell_type": "code",
   "execution_count": 132,
   "metadata": {},
   "outputs": [],
   "source": [
    "df_giannis['Ioannis'].replace({'original': 0, 'adaptation': 1, 'meme': 2, 'noise': 3}, inplace = True)"
   ]
  },
  {
   "cell_type": "code",
   "execution_count": 133,
   "metadata": {},
   "outputs": [],
   "source": [
    "giannis = df_giannis.Ioannis.tolist()\n",
    "asher = df_asher.Asher.tolist()\n",
    "joey = df_joey.Joey.tolist()"
   ]
  },
  {
   "cell_type": "code",
   "execution_count": 134,
   "metadata": {},
   "outputs": [],
   "source": [
    "asher_code = asher[:40]\n",
    "giannis_code = giannis[:40]\n",
    "joey_code = joey[:40]\n",
    "joey_1 = [x for x in joey_code if x != 'NaN']\n",
    "asher_1 = [x for x in asher_code if x != 'NaN']\n",
    "giannis_1 = [x for x in giannis_code if x!= 'NaN']"
   ]
  },
  {
   "cell_type": "code",
   "execution_count": null,
   "metadata": {},
   "outputs": [],
   "source": [
    "from  nltk  import  agreement\n",
    "\n",
    "coder1 = giannis_1\n",
    "coder2 = asher_1\n",
    "coder3 = joey_1\n",
    "nltk_format = lambda x, n: [[n,i,x[i]] for i in range(len(x))]\n",
    "\n",
    "formatted = nltk_format(coder1 , 1) + nltk_format(coder2 , 2)+ nltk_format(coder3 , 3)\n",
    "ratingtask = agreement.AnnotationTask(data=formatted)\n",
    "print(ratingtask.multi_kappa ())"
   ]
  },
  {
   "cell_type": "markdown",
   "metadata": {},
   "source": [
    "The next lines will create an array/list-like containting the result of a majority vote. Since we had too much disagreement\n",
    "we decided we wanted to use this. However after this, we saw that we used different lists of images (discrepancy between mac and windows), which lead to too many NaN's. This is why we decided to use your (Joris') data in 5.1!"
   ]
  },
  {
   "cell_type": "code",
   "execution_count": 135,
   "metadata": {
    "scrolled": true
   },
   "outputs": [
    {
     "data": {
      "text/plain": [
       "[0.0,\n",
       " 0.0,\n",
       " 0.0,\n",
       " 0.0,\n",
       " 0.0,\n",
       " 0.0,\n",
       " 0.0,\n",
       " 3.0,\n",
       " 0.0,\n",
       " 0.0,\n",
       " 0.0,\n",
       " 0.0,\n",
       " 0.0,\n",
       " 1.0,\n",
       " 2.0,\n",
       " 3.0,\n",
       " 0.0,\n",
       " 2.0,\n",
       " 2.0,\n",
       " 0.0,\n",
       " 0.0,\n",
       " 0.0,\n",
       " 0.0,\n",
       " 0.0,\n",
       " 1.0,\n",
       " 0.0,\n",
       " 2.0,\n",
       " 0.0,\n",
       " 1.0,\n",
       " 0.0,\n",
       " 1.0,\n",
       " 0.0,\n",
       " 0.0,\n",
       " 3.0,\n",
       " 1.0,\n",
       " 0.0,\n",
       " 1.0,\n",
       " 0.0,\n",
       " 0.0,\n",
       " 0.0]"
      ]
     },
     "execution_count": 135,
     "metadata": {},
     "output_type": "execute_result"
    }
   ],
   "source": [
    "from collections import Counter\n",
    "all_list = [asher_1, joey_1, giannis_1]\n",
    "product = []\n",
    "for i in range(40):\n",
    "    votes = [joey_1[i], asher_1[i], giannis_1[i]]\n",
    "    counters = Counter(votes)\n",
    "    majority = counters.most_common(1)\n",
    "    product.append(majority[0][0])\n",
    "product"
   ]
  }
 ],
 "metadata": {
  "kernelspec": {
   "display_name": "Python 3",
   "language": "python",
   "name": "python3"
  },
  "language_info": {
   "codemirror_mode": {
    "name": "ipython",
    "version": 3
   },
   "file_extension": ".py",
   "mimetype": "text/x-python",
   "name": "python",
   "nbconvert_exporter": "python",
   "pygments_lexer": "ipython3",
   "version": "3.8.5"
  }
 },
 "nbformat": 4,
 "nbformat_minor": 4
}
