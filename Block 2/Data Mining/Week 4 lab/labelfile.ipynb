{
 "cells": [
  {
   "cell_type": "code",
   "execution_count": 1,
   "metadata": {},
   "outputs": [
    {
     "name": "stdout",
     "output_type": "stream",
     "text": [
      "['10640.jpg', '10656.jpg', '17104.jpg', '1736.jpg', '17411.jpg', '1786.jpg', '18718.jpg', '19380.jpg', '21098.jpg', '21144.jpg', '23518.jpg', '24965.jpg', '25303.jpg', '28450.jpg', '30631.jpg', '31479.jpg', '32281.jpg', '32338.jpg', '32905.jpg', '33192.jpg', '33936.jpg', '34459.jpg', '34762.jpg', '35485.jpg', '37218.jpg', '37562.jpg', '3789.jpg', '45910.jpg', '47792.jpg', '49095.jpg', '5137.jpg', '5265.jpg', '58445.jpg', '61893.jpeg', '64015.png', '7167.jpg', '8654.jpg', '8703.jpg', '9008.jpg', '9055.jpg']\n"
     ]
    }
   ],
   "source": [
    "from os import walk\n",
    "\n",
    "f = []\n",
    "for (dirpath, dirnames, filenames) in walk(r'C:\\Users\\pc\\Desktop\\MASTER COURSES\\Block 2\\Data Mining\\Week 4 lab\\images_tolabel'):\n",
    "    f.extend(filenames)\n",
    "    break\n",
    "print(f)"
   ]
  },
  {
   "cell_type": "code",
   "execution_count": null,
   "metadata": {},
   "outputs": [],
   "source": []
  },
  {
   "cell_type": "code",
   "execution_count": 3,
   "metadata": {},
   "outputs": [],
   "source": [
    "import pandas as pd\n",
    "images_tolabel = pd.DataFrame(f)"
   ]
  },
  {
   "cell_type": "code",
   "execution_count": null,
   "metadata": {},
   "outputs": [],
   "source": []
  }
 ],
 "metadata": {
  "kernelspec": {
   "display_name": "Python 3",
   "language": "python",
   "name": "python3"
  },
  "language_info": {
   "codemirror_mode": {
    "name": "ipython",
    "version": 3
   },
   "file_extension": ".py",
   "mimetype": "text/x-python",
   "name": "python",
   "nbconvert_exporter": "python",
   "pygments_lexer": "ipython3",
   "version": "3.7.6"
  }
 },
 "nbformat": 4,
 "nbformat_minor": 4
}
