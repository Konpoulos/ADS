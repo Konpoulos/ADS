{
 "cells": [
  {
   "cell_type": "markdown",
   "metadata": {},
   "source": [
    "## Exercise 6.1\n"
   ]
  },
  {
   "cell_type": "markdown",
   "metadata": {},
   "source": [
    "### Part 1"
   ]
  },
  {
   "cell_type": "code",
   "execution_count": 13,
   "metadata": {},
   "outputs": [],
   "source": [
    "import pandas as pd\n",
    "import cv2\n",
    "import numpy as np\n",
    "import cv2\n",
    "from tqdm import tqdm_notebook\n"
   ]
  },
  {
   "cell_type": "code",
   "execution_count": 3,
   "metadata": {},
   "outputs": [],
   "source": [
    "df = pd.read_csv('trailers.csv')"
   ]
  },
  {
   "cell_type": "code",
   "execution_count": 11,
   "metadata": {},
   "outputs": [
    {
     "data": {
      "text/html": [
       "<div>\n",
       "<style scoped>\n",
       "    .dataframe tbody tr th:only-of-type {\n",
       "        vertical-align: middle;\n",
       "    }\n",
       "\n",
       "    .dataframe tbody tr th {\n",
       "        vertical-align: top;\n",
       "    }\n",
       "\n",
       "    .dataframe thead th {\n",
       "        text-align: right;\n",
       "    }\n",
       "</style>\n",
       "<table border=\"1\" class=\"dataframe\">\n",
       "  <thead>\n",
       "    <tr style=\"text-align: right;\">\n",
       "      <th></th>\n",
       "      <th>trailer_title</th>\n",
       "      <th>url</th>\n",
       "      <th>imdb_id</th>\n",
       "      <th>year</th>\n",
       "      <th>rating</th>\n",
       "      <th>votes</th>\n",
       "      <th>genre</th>\n",
       "    </tr>\n",
       "  </thead>\n",
       "  <tbody>\n",
       "    <tr>\n",
       "      <th>0</th>\n",
       "      <td>THE BIG PARADE trailer</td>\n",
       "      <td>https://archive.org/download/TheBigParadeTrail...</td>\n",
       "      <td>15624</td>\n",
       "      <td>1925</td>\n",
       "      <td>7.9</td>\n",
       "      <td>6148.0</td>\n",
       "      <td>Drama|Romance|War</td>\n",
       "    </tr>\n",
       "    <tr>\n",
       "      <th>1</th>\n",
       "      <td>ALL QUIET ON THE WESTERN FRONT 1930 trailer</td>\n",
       "      <td>https://archive.org/download/AllQuietOnTheWest...</td>\n",
       "      <td>20629</td>\n",
       "      <td>1930</td>\n",
       "      <td>8.0</td>\n",
       "      <td>56948.0</td>\n",
       "      <td>Drama|War</td>\n",
       "    </tr>\n",
       "    <tr>\n",
       "      <th>2</th>\n",
       "      <td>THE OREGON TRAIL trailer</td>\n",
       "      <td>https://archive.org/download/TheOregonTrailTra...</td>\n",
       "      <td>20691</td>\n",
       "      <td>1926</td>\n",
       "      <td>7.2</td>\n",
       "      <td>3353.0</td>\n",
       "      <td>Adventure|Romance|Western</td>\n",
       "    </tr>\n",
       "    <tr>\n",
       "      <th>3</th>\n",
       "      <td>FIVE STAR FINAL trailer</td>\n",
       "      <td>https://archive.org/download/FiveStarFinalTrai...</td>\n",
       "      <td>21873</td>\n",
       "      <td>1931</td>\n",
       "      <td>7.2</td>\n",
       "      <td>1790.0</td>\n",
       "      <td>Crime|Drama</td>\n",
       "    </tr>\n",
       "    <tr>\n",
       "      <th>4</th>\n",
       "      <td>LITTLE CAESAR trailer</td>\n",
       "      <td>https://archive.org/download/LittleCaesarTrail...</td>\n",
       "      <td>21079</td>\n",
       "      <td>1931</td>\n",
       "      <td>7.3</td>\n",
       "      <td>11958.0</td>\n",
       "      <td>Action|Crime|Drama|Romance</td>\n",
       "    </tr>\n",
       "  </tbody>\n",
       "</table>\n",
       "</div>"
      ],
      "text/plain": [
       "                                 trailer_title  \\\n",
       "0                       THE BIG PARADE trailer   \n",
       "1  ALL QUIET ON THE WESTERN FRONT 1930 trailer   \n",
       "2                     THE OREGON TRAIL trailer   \n",
       "3                      FIVE STAR FINAL trailer   \n",
       "4                        LITTLE CAESAR trailer   \n",
       "\n",
       "                                                 url  imdb_id  year  rating  \\\n",
       "0  https://archive.org/download/TheBigParadeTrail...    15624  1925     7.9   \n",
       "1  https://archive.org/download/AllQuietOnTheWest...    20629  1930     8.0   \n",
       "2  https://archive.org/download/TheOregonTrailTra...    20691  1926     7.2   \n",
       "3  https://archive.org/download/FiveStarFinalTrai...    21873  1931     7.2   \n",
       "4  https://archive.org/download/LittleCaesarTrail...    21079  1931     7.3   \n",
       "\n",
       "     votes                       genre  \n",
       "0   6148.0           Drama|Romance|War  \n",
       "1  56948.0                   Drama|War  \n",
       "2   3353.0   Adventure|Romance|Western  \n",
       "3   1790.0                 Crime|Drama  \n",
       "4  11958.0  Action|Crime|Drama|Romance  "
      ]
     },
     "execution_count": 11,
     "metadata": {},
     "output_type": "execute_result"
    }
   ],
   "source": [
    "df.head()"
   ]
  },
  {
   "cell_type": "code",
   "execution_count": 8,
   "metadata": {},
   "outputs": [
    {
     "data": {
      "text/plain": [
       "0                           THE BIG PARADE trailer\n",
       "1      ALL QUIET ON THE WESTERN FRONT 1930 trailer\n",
       "2                         THE OREGON TRAIL trailer\n",
       "3                          FIVE STAR FINAL trailer\n",
       "4                            LITTLE CAESAR trailer\n",
       "                          ...                     \n",
       "937                               IMPOSTOR trailer\n",
       "938                     THE INVISIBLE BOY trailers\n",
       "939                           THE WEREWOLF trailer\n",
       "940                                REBECCA trailer\n",
       "941                          MARK OF DEVIL trailer\n",
       "Name: trailer_title, Length: 942, dtype: object"
      ]
     },
     "execution_count": 8,
     "metadata": {},
     "output_type": "execute_result"
    }
   ],
   "source": [
    "df['trailer_title']"
   ]
  },
  {
   "cell_type": "code",
   "execution_count": 12,
   "metadata": {},
   "outputs": [
    {
     "data": {
      "text/html": [
       "<div>\n",
       "<style scoped>\n",
       "    .dataframe tbody tr th:only-of-type {\n",
       "        vertical-align: middle;\n",
       "    }\n",
       "\n",
       "    .dataframe tbody tr th {\n",
       "        vertical-align: top;\n",
       "    }\n",
       "\n",
       "    .dataframe thead th {\n",
       "        text-align: right;\n",
       "    }\n",
       "</style>\n",
       "<table border=\"1\" class=\"dataframe\">\n",
       "  <thead>\n",
       "    <tr style=\"text-align: right;\">\n",
       "      <th></th>\n",
       "      <th>trailer_title</th>\n",
       "      <th>url</th>\n",
       "      <th>imdb_id</th>\n",
       "      <th>year</th>\n",
       "      <th>rating</th>\n",
       "      <th>votes</th>\n",
       "      <th>genre</th>\n",
       "    </tr>\n",
       "  </thead>\n",
       "  <tbody>\n",
       "    <tr>\n",
       "      <th>459</th>\n",
       "      <td>MANOS: THE HANDS OF FATE trailer</td>\n",
       "      <td>https://archive.org/download/MANOSTHEHANDSOFFA...</td>\n",
       "      <td>60666</td>\n",
       "      <td>1966</td>\n",
       "      <td>1.9</td>\n",
       "      <td>34678.0</td>\n",
       "      <td>Horror</td>\n",
       "    </tr>\n",
       "    <tr>\n",
       "      <th>467</th>\n",
       "      <td>CATALINA CAPER trailer</td>\n",
       "      <td>https://archive.org/download/CatalinaCaperTrai...</td>\n",
       "      <td>61456</td>\n",
       "      <td>1967</td>\n",
       "      <td>2.1</td>\n",
       "      <td>1787.0</td>\n",
       "      <td>Comedy|Musical|Mystery</td>\n",
       "    </tr>\n",
       "    <tr>\n",
       "      <th>311</th>\n",
       "      <td>KING DINOSAUR trailer</td>\n",
       "      <td>https://archive.org/download/KingDinosaurTrail...</td>\n",
       "      <td>48256</td>\n",
       "      <td>1955</td>\n",
       "      <td>2.1</td>\n",
       "      <td>1225.0</td>\n",
       "      <td>Adventure|Sci-Fi</td>\n",
       "    </tr>\n",
       "    <tr>\n",
       "      <th>408</th>\n",
       "      <td>EEGAH trailer</td>\n",
       "      <td>https://archive.org/download/EEGAHTrailer/EEGA...</td>\n",
       "      <td>55946</td>\n",
       "      <td>2014</td>\n",
       "      <td>2.2</td>\n",
       "      <td>5410.0</td>\n",
       "      <td>Adventure|Comedy|Fantasy|Horror|Music</td>\n",
       "    </tr>\n",
       "    <tr>\n",
       "      <th>430</th>\n",
       "      <td>THE CREEPING TERROR trailer</td>\n",
       "      <td>https://archive.org/download/TheCreepingTerror...</td>\n",
       "      <td>57970</td>\n",
       "      <td>1964</td>\n",
       "      <td>2.2</td>\n",
       "      <td>4069.0</td>\n",
       "      <td>Horror|Sci-Fi</td>\n",
       "    </tr>\n",
       "    <tr>\n",
       "      <th>...</th>\n",
       "      <td>...</td>\n",
       "      <td>...</td>\n",
       "      <td>...</td>\n",
       "      <td>...</td>\n",
       "      <td>...</td>\n",
       "      <td>...</td>\n",
       "      <td>...</td>\n",
       "    </tr>\n",
       "    <tr>\n",
       "      <th>659</th>\n",
       "      <td>LIFE IS BEAUTIFUL trailers</td>\n",
       "      <td>https://archive.org/download/LifeIsBeautifulTr...</td>\n",
       "      <td>118799</td>\n",
       "      <td>1997</td>\n",
       "      <td>8.6</td>\n",
       "      <td>616571.0</td>\n",
       "      <td>Comedy|Drama|Romance|War</td>\n",
       "    </tr>\n",
       "    <tr>\n",
       "      <th>666</th>\n",
       "      <td>SAVING PRIVATE RYAN trailers</td>\n",
       "      <td>https://archive.org/download/SavingPrivateRyan...</td>\n",
       "      <td>120815</td>\n",
       "      <td>1998</td>\n",
       "      <td>8.6</td>\n",
       "      <td>1222955.0</td>\n",
       "      <td>Drama|War</td>\n",
       "    </tr>\n",
       "    <tr>\n",
       "      <th>879</th>\n",
       "      <td>INCEPTION trailer</td>\n",
       "      <td>https://archive.org/download/INCEPTIONTrailer_...</td>\n",
       "      <td>1375666</td>\n",
       "      <td>2010</td>\n",
       "      <td>8.8</td>\n",
       "      <td>2042536.0</td>\n",
       "      <td>Action|Adventure|Sci-Fi|Thriller</td>\n",
       "    </tr>\n",
       "    <tr>\n",
       "      <th>641</th>\n",
       "      <td>FORREST GUMP trailer</td>\n",
       "      <td>https://archive.org/download/FORRESTGUMPTraile...</td>\n",
       "      <td>109830</td>\n",
       "      <td>1994</td>\n",
       "      <td>8.8</td>\n",
       "      <td>1786771.0</td>\n",
       "      <td>Drama|Romance</td>\n",
       "    </tr>\n",
       "    <tr>\n",
       "      <th>721</th>\n",
       "      <td>THE RETURN OF THE KING trailer</td>\n",
       "      <td>https://archive.org/download/THERETURNOFTHEKIN...</td>\n",
       "      <td>167260</td>\n",
       "      <td>2003</td>\n",
       "      <td>8.9</td>\n",
       "      <td>1626736.0</td>\n",
       "      <td>Action|Adventure|Drama|Fantasy</td>\n",
       "    </tr>\n",
       "  </tbody>\n",
       "</table>\n",
       "<p>942 rows × 7 columns</p>\n",
       "</div>"
      ],
      "text/plain": [
       "                        trailer_title  \\\n",
       "459  MANOS: THE HANDS OF FATE trailer   \n",
       "467            CATALINA CAPER trailer   \n",
       "311             KING DINOSAUR trailer   \n",
       "408                     EEGAH trailer   \n",
       "430       THE CREEPING TERROR trailer   \n",
       "..                                ...   \n",
       "659        LIFE IS BEAUTIFUL trailers   \n",
       "666      SAVING PRIVATE RYAN trailers   \n",
       "879                 INCEPTION trailer   \n",
       "641              FORREST GUMP trailer   \n",
       "721    THE RETURN OF THE KING trailer   \n",
       "\n",
       "                                                   url  imdb_id  year  rating  \\\n",
       "459  https://archive.org/download/MANOSTHEHANDSOFFA...    60666  1966     1.9   \n",
       "467  https://archive.org/download/CatalinaCaperTrai...    61456  1967     2.1   \n",
       "311  https://archive.org/download/KingDinosaurTrail...    48256  1955     2.1   \n",
       "408  https://archive.org/download/EEGAHTrailer/EEGA...    55946  2014     2.2   \n",
       "430  https://archive.org/download/TheCreepingTerror...    57970  1964     2.2   \n",
       "..                                                 ...      ...   ...     ...   \n",
       "659  https://archive.org/download/LifeIsBeautifulTr...   118799  1997     8.6   \n",
       "666  https://archive.org/download/SavingPrivateRyan...   120815  1998     8.6   \n",
       "879  https://archive.org/download/INCEPTIONTrailer_...  1375666  2010     8.8   \n",
       "641  https://archive.org/download/FORRESTGUMPTraile...   109830  1994     8.8   \n",
       "721  https://archive.org/download/THERETURNOFTHEKIN...   167260  2003     8.9   \n",
       "\n",
       "         votes                                  genre  \n",
       "459    34678.0                                 Horror  \n",
       "467     1787.0                 Comedy|Musical|Mystery  \n",
       "311     1225.0                       Adventure|Sci-Fi  \n",
       "408     5410.0  Adventure|Comedy|Fantasy|Horror|Music  \n",
       "430     4069.0                          Horror|Sci-Fi  \n",
       "..         ...                                    ...  \n",
       "659   616571.0               Comedy|Drama|Romance|War  \n",
       "666  1222955.0                              Drama|War  \n",
       "879  2042536.0       Action|Adventure|Sci-Fi|Thriller  \n",
       "641  1786771.0                          Drama|Romance  \n",
       "721  1626736.0         Action|Adventure|Drama|Fantasy  \n",
       "\n",
       "[942 rows x 7 columns]"
      ]
     },
     "execution_count": 12,
     "metadata": {},
     "output_type": "execute_result"
    }
   ],
   "source": [
    "df.sort_values('rating', ascending = True)"
   ]
  },
  {
   "cell_type": "markdown",
   "metadata": {},
   "source": [
    "I am going to choose the JURASSIC WORLD trailer which is one of my favorite movies"
   ]
  },
  {
   "cell_type": "code",
   "execution_count": 15,
   "metadata": {},
   "outputs": [],
   "source": [
    "from scenedetect import VideoManager\n",
    "from scenedetect import SceneManager\n",
    "\n",
    "from scenedetect.detectors import ContentDetector\n",
    "from scenedetect.scene_manager import generate_images\n",
    "\n",
    "def find_scenes(video_path, threshold=30.0):\n",
    "    video_manager = VideoManager([video_path])\n",
    "    scene_manager = SceneManager()\n",
    "    scene_manager.add_detector(\n",
    "        ContentDetector(threshold=threshold))\n",
    "    base_timecode = video_manager.get_base_timecode()\n",
    "    video_manager.set_downscale_factor()\n",
    "    video_manager.start()\n",
    "    scene_manager.detect_scenes(frame_source=video_manager, show_progress=False)    \n",
    "    return scene_manager.get_scene_list(base_timecode)"
   ]
  },
  {
   "cell_type": "code",
   "execution_count": 18,
   "metadata": {},
   "outputs": [],
   "source": [
    "filename = 'JURASSIC WORLD trailer.mp4' # this is our video file\n",
    "scene_list = find_scenes(filename, threshold=30)"
   ]
  },
  {
   "cell_type": "code",
   "execution_count": 19,
   "metadata": {
    "scrolled": true
   },
   "outputs": [
    {
     "name": "stdout",
     "output_type": "stream",
     "text": [
      "(FrameTimecode(frame=0, fps=23.976025), FrameTimecode(frame=120, fps=23.976025))\n",
      "(FrameTimecode(frame=120, fps=23.976025), FrameTimecode(frame=190, fps=23.976025))\n",
      "(FrameTimecode(frame=190, fps=23.976025), FrameTimecode(frame=240, fps=23.976025))\n",
      "(FrameTimecode(frame=240, fps=23.976025), FrameTimecode(frame=305, fps=23.976025))\n",
      "(FrameTimecode(frame=305, fps=23.976025), FrameTimecode(frame=354, fps=23.976025))\n",
      "(FrameTimecode(frame=354, fps=23.976025), FrameTimecode(frame=472, fps=23.976025))\n",
      "(FrameTimecode(frame=472, fps=23.976025), FrameTimecode(frame=657, fps=23.976025))\n",
      "(FrameTimecode(frame=657, fps=23.976025), FrameTimecode(frame=718, fps=23.976025))\n",
      "(FrameTimecode(frame=718, fps=23.976025), FrameTimecode(frame=796, fps=23.976025))\n",
      "(FrameTimecode(frame=796, fps=23.976025), FrameTimecode(frame=833, fps=23.976025))\n",
      "(FrameTimecode(frame=833, fps=23.976025), FrameTimecode(frame=863, fps=23.976025))\n",
      "(FrameTimecode(frame=863, fps=23.976025), FrameTimecode(frame=935, fps=23.976025))\n",
      "(FrameTimecode(frame=935, fps=23.976025), FrameTimecode(frame=1046, fps=23.976025))\n",
      "(FrameTimecode(frame=1046, fps=23.976025), FrameTimecode(frame=1093, fps=23.976025))\n",
      "(FrameTimecode(frame=1093, fps=23.976025), FrameTimecode(frame=1134, fps=23.976025))\n",
      "(FrameTimecode(frame=1134, fps=23.976025), FrameTimecode(frame=1191, fps=23.976025))\n",
      "(FrameTimecode(frame=1191, fps=23.976025), FrameTimecode(frame=1244, fps=23.976025))\n",
      "(FrameTimecode(frame=1244, fps=23.976025), FrameTimecode(frame=1385, fps=23.976025))\n",
      "(FrameTimecode(frame=1385, fps=23.976025), FrameTimecode(frame=1432, fps=23.976025))\n",
      "(FrameTimecode(frame=1432, fps=23.976025), FrameTimecode(frame=1488, fps=23.976025))\n",
      "(FrameTimecode(frame=1488, fps=23.976025), FrameTimecode(frame=1579, fps=23.976025))\n",
      "(FrameTimecode(frame=1579, fps=23.976025), FrameTimecode(frame=1646, fps=23.976025))\n",
      "(FrameTimecode(frame=1646, fps=23.976025), FrameTimecode(frame=1680, fps=23.976025))\n",
      "(FrameTimecode(frame=1680, fps=23.976025), FrameTimecode(frame=1709, fps=23.976025))\n",
      "(FrameTimecode(frame=1709, fps=23.976025), FrameTimecode(frame=1776, fps=23.976025))\n",
      "(FrameTimecode(frame=1776, fps=23.976025), FrameTimecode(frame=1798, fps=23.976025))\n",
      "(FrameTimecode(frame=1798, fps=23.976025), FrameTimecode(frame=1833, fps=23.976025))\n",
      "(FrameTimecode(frame=1833, fps=23.976025), FrameTimecode(frame=1896, fps=23.976025))\n",
      "(FrameTimecode(frame=1896, fps=23.976025), FrameTimecode(frame=2004, fps=23.976025))\n",
      "(FrameTimecode(frame=2004, fps=23.976025), FrameTimecode(frame=2163, fps=23.976025))\n",
      "(FrameTimecode(frame=2163, fps=23.976025), FrameTimecode(frame=2220, fps=23.976025))\n",
      "(FrameTimecode(frame=2220, fps=23.976025), FrameTimecode(frame=2285, fps=23.976025))\n",
      "(FrameTimecode(frame=2285, fps=23.976025), FrameTimecode(frame=2335, fps=23.976025))\n",
      "(FrameTimecode(frame=2335, fps=23.976025), FrameTimecode(frame=2456, fps=23.976025))\n",
      "(FrameTimecode(frame=2456, fps=23.976025), FrameTimecode(frame=2535, fps=23.976025))\n",
      "(FrameTimecode(frame=2535, fps=23.976025), FrameTimecode(frame=2629, fps=23.976025))\n",
      "(FrameTimecode(frame=2629, fps=23.976025), FrameTimecode(frame=2705, fps=23.976025))\n",
      "(FrameTimecode(frame=2705, fps=23.976025), FrameTimecode(frame=2731, fps=23.976025))\n",
      "(FrameTimecode(frame=2731, fps=23.976025), FrameTimecode(frame=2761, fps=23.976025))\n",
      "(FrameTimecode(frame=2761, fps=23.976025), FrameTimecode(frame=2796, fps=23.976025))\n",
      "(FrameTimecode(frame=2796, fps=23.976025), FrameTimecode(frame=2838, fps=23.976025))\n",
      "(FrameTimecode(frame=2838, fps=23.976025), FrameTimecode(frame=2861, fps=23.976025))\n",
      "(FrameTimecode(frame=2861, fps=23.976025), FrameTimecode(frame=2893, fps=23.976025))\n",
      "(FrameTimecode(frame=2893, fps=23.976025), FrameTimecode(frame=2917, fps=23.976025))\n",
      "(FrameTimecode(frame=2917, fps=23.976025), FrameTimecode(frame=2933, fps=23.976025))\n",
      "(FrameTimecode(frame=2933, fps=23.976025), FrameTimecode(frame=2955, fps=23.976025))\n",
      "(FrameTimecode(frame=2955, fps=23.976025), FrameTimecode(frame=2991, fps=23.976025))\n",
      "(FrameTimecode(frame=2991, fps=23.976025), FrameTimecode(frame=3031, fps=23.976025))\n",
      "(FrameTimecode(frame=3031, fps=23.976025), FrameTimecode(frame=3076, fps=23.976025))\n",
      "(FrameTimecode(frame=3076, fps=23.976025), FrameTimecode(frame=3109, fps=23.976025))\n",
      "(FrameTimecode(frame=3109, fps=23.976025), FrameTimecode(frame=3142, fps=23.976025))\n",
      "(FrameTimecode(frame=3142, fps=23.976025), FrameTimecode(frame=3169, fps=23.976025))\n",
      "(FrameTimecode(frame=3169, fps=23.976025), FrameTimecode(frame=3201, fps=23.976025))\n",
      "(FrameTimecode(frame=3201, fps=23.976025), FrameTimecode(frame=3389, fps=23.976025))\n",
      "(FrameTimecode(frame=3389, fps=23.976025), FrameTimecode(frame=3414, fps=23.976025))\n",
      "(FrameTimecode(frame=3414, fps=23.976025), FrameTimecode(frame=3445, fps=23.976025))\n",
      "(FrameTimecode(frame=3445, fps=23.976025), FrameTimecode(frame=3494, fps=23.976025))\n",
      "(FrameTimecode(frame=3494, fps=23.976025), FrameTimecode(frame=3674, fps=23.976025))\n"
     ]
    }
   ],
   "source": [
    "for scene in scene_list:\n",
    "  print(scene)"
   ]
  },
  {
   "cell_type": "code",
   "execution_count": 21,
   "metadata": {},
   "outputs": [
    {
     "data": {
      "text/plain": [
       "58"
      ]
     },
     "execution_count": 21,
     "metadata": {},
     "output_type": "execute_result"
    }
   ],
   "source": [
    "len(scene_list)"
   ]
  },
  {
   "cell_type": "markdown",
   "metadata": {},
   "source": [
    "#### Question 2"
   ]
  },
  {
   "cell_type": "markdown",
   "metadata": {},
   "source": [
    "As we can see it has 58 scenes i counted around 55 like the same number maybe the programm has a little more than my eye caught"
   ]
  },
  {
   "cell_type": "markdown",
   "metadata": {},
   "source": [
    "#### Question 3 "
   ]
  },
  {
   "cell_type": "code",
   "execution_count": 22,
   "metadata": {},
   "outputs": [
    {
     "data": {
      "text/plain": [
       "152"
      ]
     },
     "execution_count": 22,
     "metadata": {},
     "output_type": "execute_result"
    }
   ],
   "source": [
    "scene_list = find_scenes(filename, threshold=10)\n",
    "len(scene_list)"
   ]
  },
  {
   "cell_type": "code",
   "execution_count": 23,
   "metadata": {},
   "outputs": [
    {
     "data": {
      "text/plain": [
       "45"
      ]
     },
     "execution_count": 23,
     "metadata": {},
     "output_type": "execute_result"
    }
   ],
   "source": [
    "scene_list = find_scenes(filename, threshold=50)\n",
    "len(scene_list)"
   ]
  },
  {
   "cell_type": "markdown",
   "metadata": {},
   "source": [
    "The number 10 produces so much more scenes than the 30,50 so the 30 is somehow the best option"
   ]
  },
  {
   "cell_type": "markdown",
   "metadata": {},
   "source": [
    "#### Question 4"
   ]
  },
  {
   "cell_type": "code",
   "execution_count": 24,
   "metadata": {},
   "outputs": [],
   "source": [
    "scene_list = find_scenes(filename, threshold=30)\n",
    "cap = cv2.VideoCapture(filename)\n",
    "\n",
    "frames = []\n",
    "shot_length = []\n",
    "\n",
    "for start_time, end_time in scene_list:\n",
    "    duration = end_time - start_time\n",
    "    frame = (start_time.get_frames() + int(duration.get_frames() / 2))\n",
    "    cap.set(cv2.CAP_PROP_POS_FRAMES,frame)\n",
    "    ret, frame = cap.read()\n",
    "    frame = cv2.cvtColor(frame, cv2.COLOR_BGR2RGB)\n",
    "    frames.append(frame)\n",
    "    shot_length.append(duration.get_seconds())"
   ]
  },
  {
   "cell_type": "code",
   "execution_count": 25,
   "metadata": {},
   "outputs": [
    {
     "data": {
      "text/plain": [
       "<matplotlib.image.AxesImage at 0x1c572559f08>"
      ]
     },
     "execution_count": 25,
     "metadata": {},
     "output_type": "execute_result"
    },
    {
     "data": {
      "image/png": "[encoded data removed]",
      "text/plain": [
       "<Figure size 432x288 with 1 Axes>"
      ]
     },
     "metadata": {
      "needs_background": "light"
     },
     "output_type": "display_data"
    }
   ],
   "source": [
    "import matplotlib.pyplot as plt\n",
    "\n",
    "plt.imshow(frames[7]) # print the 7th scene"
   ]
  },
  {
   "cell_type": "code",
   "execution_count": 26,
   "metadata": {},
   "outputs": [],
   "source": [
    "import os\n",
    "\n",
    "if not os.path.exists('scenes/'):\n",
    "    os.mkdir('scenes/')\n",
    "\n",
    "for i, frame in enumerate(frames):\n",
    "    cv2.imwrite('scenes/frame_{}.jpg'.format(i), frame)"
   ]
  },
  {
   "cell_type": "code",
   "execution_count": 37,
   "metadata": {},
   "outputs": [],
   "source": [
    "import tensorflow as tf\n",
    "from tensorflow import keras\n"
   ]
  },
  {
   "cell_type": "code",
   "execution_count": 41,
   "metadata": {},
   "outputs": [
    {
     "ename": "ValueError",
     "evalue": "Unknown layer: Functional",
     "output_type": "error",
     "traceback": [
      "\u001b[1;31m---------------------------------------------------------------------------\u001b[0m",
      "\u001b[1;31mValueError\u001b[0m                                Traceback (most recent call last)",
      "\u001b[1;32m<ipython-input-41-2eb6f36f572c>\u001b[0m in \u001b[0;36m<module>\u001b[1;34m\u001b[0m\n\u001b[1;32m----> 1\u001b[1;33m \u001b[0mmodel\u001b[0m \u001b[1;33m=\u001b[0m \u001b[0mtf\u001b[0m\u001b[1;33m.\u001b[0m\u001b[0mkeras\u001b[0m\u001b[1;33m.\u001b[0m\u001b[0mmodels\u001b[0m\u001b[1;33m.\u001b[0m\u001b[0mload_model\u001b[0m\u001b[1;33m(\u001b[0m\u001b[1;34m'shot_classifier.h5'\u001b[0m\u001b[1;33m)\u001b[0m\u001b[1;33m\u001b[0m\u001b[1;33m\u001b[0m\u001b[0m\n\u001b[0m",
      "\u001b[1;32m~\\anaconda3\\lib\\site-packages\\tensorflow_core\\python\\keras\\saving\\save.py\u001b[0m in \u001b[0;36mload_model\u001b[1;34m(filepath, custom_objects, compile)\u001b[0m\n\u001b[0;32m    144\u001b[0m   if (h5py is not None and (\n\u001b[0;32m    145\u001b[0m       isinstance(filepath, h5py.File) or h5py.is_hdf5(filepath))):\n\u001b[1;32m--> 146\u001b[1;33m     \u001b[1;32mreturn\u001b[0m \u001b[0mhdf5_format\u001b[0m\u001b[1;33m.\u001b[0m\u001b[0mload_model_from_hdf5\u001b[0m\u001b[1;33m(\u001b[0m\u001b[0mfilepath\u001b[0m\u001b[1;33m,\u001b[0m \u001b[0mcustom_objects\u001b[0m\u001b[1;33m,\u001b[0m \u001b[0mcompile\u001b[0m\u001b[1;33m)\u001b[0m\u001b[1;33m\u001b[0m\u001b[1;33m\u001b[0m\u001b[0m\n\u001b[0m\u001b[0;32m    147\u001b[0m \u001b[1;33m\u001b[0m\u001b[0m\n\u001b[0;32m    148\u001b[0m   \u001b[1;32mif\u001b[0m \u001b[0misinstance\u001b[0m\u001b[1;33m(\u001b[0m\u001b[0mfilepath\u001b[0m\u001b[1;33m,\u001b[0m \u001b[0msix\u001b[0m\u001b[1;33m.\u001b[0m\u001b[0mstring_types\u001b[0m\u001b[1;33m)\u001b[0m\u001b[1;33m:\u001b[0m\u001b[1;33m\u001b[0m\u001b[1;33m\u001b[0m\u001b[0m\n",
      "\u001b[1;32m~\\anaconda3\\lib\\site-packages\\tensorflow_core\\python\\keras\\saving\\hdf5_format.py\u001b[0m in \u001b[0;36mload_model_from_hdf5\u001b[1;34m(filepath, custom_objects, compile)\u001b[0m\n\u001b[0;32m    166\u001b[0m     \u001b[0mmodel_config\u001b[0m \u001b[1;33m=\u001b[0m \u001b[0mjson\u001b[0m\u001b[1;33m.\u001b[0m\u001b[0mloads\u001b[0m\u001b[1;33m(\u001b[0m\u001b[0mmodel_config\u001b[0m\u001b[1;33m.\u001b[0m\u001b[0mdecode\u001b[0m\u001b[1;33m(\u001b[0m\u001b[1;34m'utf-8'\u001b[0m\u001b[1;33m)\u001b[0m\u001b[1;33m)\u001b[0m\u001b[1;33m\u001b[0m\u001b[1;33m\u001b[0m\u001b[0m\n\u001b[0;32m    167\u001b[0m     model = model_config_lib.model_from_config(model_config,\n\u001b[1;32m--> 168\u001b[1;33m                                                custom_objects=custom_objects)\n\u001b[0m\u001b[0;32m    169\u001b[0m \u001b[1;33m\u001b[0m\u001b[0m\n\u001b[0;32m    170\u001b[0m     \u001b[1;31m# set weights\u001b[0m\u001b[1;33m\u001b[0m\u001b[1;33m\u001b[0m\u001b[1;33m\u001b[0m\u001b[0m\n",
      "\u001b[1;32m~\\anaconda3\\lib\\site-packages\\tensorflow_core\\python\\keras\\saving\\model_config.py\u001b[0m in \u001b[0;36mmodel_from_config\u001b[1;34m(config, custom_objects)\u001b[0m\n\u001b[0;32m     53\u001b[0m                     '`Sequential.from_config(config)`?')\n\u001b[0;32m     54\u001b[0m   \u001b[1;32mfrom\u001b[0m \u001b[0mtensorflow\u001b[0m\u001b[1;33m.\u001b[0m\u001b[0mpython\u001b[0m\u001b[1;33m.\u001b[0m\u001b[0mkeras\u001b[0m\u001b[1;33m.\u001b[0m\u001b[0mlayers\u001b[0m \u001b[1;32mimport\u001b[0m \u001b[0mdeserialize\u001b[0m  \u001b[1;31m# pylint: disable=g-import-not-at-top\u001b[0m\u001b[1;33m\u001b[0m\u001b[1;33m\u001b[0m\u001b[0m\n\u001b[1;32m---> 55\u001b[1;33m   \u001b[1;32mreturn\u001b[0m \u001b[0mdeserialize\u001b[0m\u001b[1;33m(\u001b[0m\u001b[0mconfig\u001b[0m\u001b[1;33m,\u001b[0m \u001b[0mcustom_objects\u001b[0m\u001b[1;33m=\u001b[0m\u001b[0mcustom_objects\u001b[0m\u001b[1;33m)\u001b[0m\u001b[1;33m\u001b[0m\u001b[1;33m\u001b[0m\u001b[0m\n\u001b[0m\u001b[0;32m     56\u001b[0m \u001b[1;33m\u001b[0m\u001b[0m\n\u001b[0;32m     57\u001b[0m \u001b[1;33m\u001b[0m\u001b[0m\n",
      "\u001b[1;32m~\\anaconda3\\lib\\site-packages\\tensorflow_core\\python\\keras\\layers\\serialization.py\u001b[0m in \u001b[0;36mdeserialize\u001b[1;34m(config, custom_objects)\u001b[0m\n\u001b[0;32m    100\u001b[0m       \u001b[0mmodule_objects\u001b[0m\u001b[1;33m=\u001b[0m\u001b[0mglobs\u001b[0m\u001b[1;33m,\u001b[0m\u001b[1;33m\u001b[0m\u001b[1;33m\u001b[0m\u001b[0m\n\u001b[0;32m    101\u001b[0m       \u001b[0mcustom_objects\u001b[0m\u001b[1;33m=\u001b[0m\u001b[0mcustom_objects\u001b[0m\u001b[1;33m,\u001b[0m\u001b[1;33m\u001b[0m\u001b[1;33m\u001b[0m\u001b[0m\n\u001b[1;32m--> 102\u001b[1;33m       printable_module_name='layer')\n\u001b[0m",
      "\u001b[1;32m~\\anaconda3\\lib\\site-packages\\tensorflow_core\\python\\keras\\utils\\generic_utils.py\u001b[0m in \u001b[0;36mdeserialize_keras_object\u001b[1;34m(identifier, module_objects, custom_objects, printable_module_name)\u001b[0m\n\u001b[0;32m    189\u001b[0m             custom_objects=dict(\n\u001b[0;32m    190\u001b[0m                 \u001b[0mlist\u001b[0m\u001b[1;33m(\u001b[0m\u001b[0m_GLOBAL_CUSTOM_OBJECTS\u001b[0m\u001b[1;33m.\u001b[0m\u001b[0mitems\u001b[0m\u001b[1;33m(\u001b[0m\u001b[1;33m)\u001b[0m\u001b[1;33m)\u001b[0m \u001b[1;33m+\u001b[0m\u001b[1;33m\u001b[0m\u001b[1;33m\u001b[0m\u001b[0m\n\u001b[1;32m--> 191\u001b[1;33m                 list(custom_objects.items())))\n\u001b[0m\u001b[0;32m    192\u001b[0m       \u001b[1;32mwith\u001b[0m \u001b[0mCustomObjectScope\u001b[0m\u001b[1;33m(\u001b[0m\u001b[0mcustom_objects\u001b[0m\u001b[1;33m)\u001b[0m\u001b[1;33m:\u001b[0m\u001b[1;33m\u001b[0m\u001b[1;33m\u001b[0m\u001b[0m\n\u001b[0;32m    193\u001b[0m         \u001b[1;32mreturn\u001b[0m \u001b[0mcls\u001b[0m\u001b[1;33m.\u001b[0m\u001b[0mfrom_config\u001b[0m\u001b[1;33m(\u001b[0m\u001b[0mcls_config\u001b[0m\u001b[1;33m)\u001b[0m\u001b[1;33m\u001b[0m\u001b[1;33m\u001b[0m\u001b[0m\n",
      "\u001b[1;32m~\\anaconda3\\lib\\site-packages\\tensorflow_core\\python\\keras\\engine\\sequential.py\u001b[0m in \u001b[0;36mfrom_config\u001b[1;34m(cls, config, custom_objects)\u001b[0m\n\u001b[0;32m    367\u001b[0m     \u001b[1;32mfor\u001b[0m \u001b[0mlayer_config\u001b[0m \u001b[1;32min\u001b[0m \u001b[0mlayer_configs\u001b[0m\u001b[1;33m:\u001b[0m\u001b[1;33m\u001b[0m\u001b[1;33m\u001b[0m\u001b[0m\n\u001b[0;32m    368\u001b[0m       layer = layer_module.deserialize(layer_config,\n\u001b[1;32m--> 369\u001b[1;33m                                        custom_objects=custom_objects)\n\u001b[0m\u001b[0;32m    370\u001b[0m       \u001b[0mmodel\u001b[0m\u001b[1;33m.\u001b[0m\u001b[0madd\u001b[0m\u001b[1;33m(\u001b[0m\u001b[0mlayer\u001b[0m\u001b[1;33m)\u001b[0m\u001b[1;33m\u001b[0m\u001b[1;33m\u001b[0m\u001b[0m\n\u001b[0;32m    371\u001b[0m     \u001b[1;32mif\u001b[0m \u001b[1;32mnot\u001b[0m \u001b[0mmodel\u001b[0m\u001b[1;33m.\u001b[0m\u001b[0minputs\u001b[0m \u001b[1;32mand\u001b[0m \u001b[0mbuild_input_shape\u001b[0m\u001b[1;33m:\u001b[0m\u001b[1;33m\u001b[0m\u001b[1;33m\u001b[0m\u001b[0m\n",
      "\u001b[1;32m~\\anaconda3\\lib\\site-packages\\tensorflow_core\\python\\keras\\layers\\serialization.py\u001b[0m in \u001b[0;36mdeserialize\u001b[1;34m(config, custom_objects)\u001b[0m\n\u001b[0;32m    100\u001b[0m       \u001b[0mmodule_objects\u001b[0m\u001b[1;33m=\u001b[0m\u001b[0mglobs\u001b[0m\u001b[1;33m,\u001b[0m\u001b[1;33m\u001b[0m\u001b[1;33m\u001b[0m\u001b[0m\n\u001b[0;32m    101\u001b[0m       \u001b[0mcustom_objects\u001b[0m\u001b[1;33m=\u001b[0m\u001b[0mcustom_objects\u001b[0m\u001b[1;33m,\u001b[0m\u001b[1;33m\u001b[0m\u001b[1;33m\u001b[0m\u001b[0m\n\u001b[1;32m--> 102\u001b[1;33m       printable_module_name='layer')\n\u001b[0m",
      "\u001b[1;32m~\\anaconda3\\lib\\site-packages\\tensorflow_core\\python\\keras\\utils\\generic_utils.py\u001b[0m in \u001b[0;36mdeserialize_keras_object\u001b[1;34m(identifier, module_objects, custom_objects, printable_module_name)\u001b[0m\n\u001b[0;32m    178\u001b[0m     \u001b[0mconfig\u001b[0m \u001b[1;33m=\u001b[0m \u001b[0midentifier\u001b[0m\u001b[1;33m\u001b[0m\u001b[1;33m\u001b[0m\u001b[0m\n\u001b[0;32m    179\u001b[0m     (cls, cls_config) = class_and_config_for_serialized_keras_object(\n\u001b[1;32m--> 180\u001b[1;33m         config, module_objects, custom_objects, printable_module_name)\n\u001b[0m\u001b[0;32m    181\u001b[0m \u001b[1;33m\u001b[0m\u001b[0m\n\u001b[0;32m    182\u001b[0m     \u001b[1;32mif\u001b[0m \u001b[0mhasattr\u001b[0m\u001b[1;33m(\u001b[0m\u001b[0mcls\u001b[0m\u001b[1;33m,\u001b[0m \u001b[1;34m'from_config'\u001b[0m\u001b[1;33m)\u001b[0m\u001b[1;33m:\u001b[0m\u001b[1;33m\u001b[0m\u001b[1;33m\u001b[0m\u001b[0m\n",
      "\u001b[1;32m~\\anaconda3\\lib\\site-packages\\tensorflow_core\\python\\keras\\utils\\generic_utils.py\u001b[0m in \u001b[0;36mclass_and_config_for_serialized_keras_object\u001b[1;34m(config, module_objects, custom_objects, printable_module_name)\u001b[0m\n\u001b[0;32m    163\u001b[0m     \u001b[0mcls\u001b[0m \u001b[1;33m=\u001b[0m \u001b[0mmodule_objects\u001b[0m\u001b[1;33m.\u001b[0m\u001b[0mget\u001b[0m\u001b[1;33m(\u001b[0m\u001b[0mclass_name\u001b[0m\u001b[1;33m)\u001b[0m\u001b[1;33m\u001b[0m\u001b[1;33m\u001b[0m\u001b[0m\n\u001b[0;32m    164\u001b[0m     \u001b[1;32mif\u001b[0m \u001b[0mcls\u001b[0m \u001b[1;32mis\u001b[0m \u001b[1;32mNone\u001b[0m\u001b[1;33m:\u001b[0m\u001b[1;33m\u001b[0m\u001b[1;33m\u001b[0m\u001b[0m\n\u001b[1;32m--> 165\u001b[1;33m       \u001b[1;32mraise\u001b[0m \u001b[0mValueError\u001b[0m\u001b[1;33m(\u001b[0m\u001b[1;34m'Unknown '\u001b[0m \u001b[1;33m+\u001b[0m \u001b[0mprintable_module_name\u001b[0m \u001b[1;33m+\u001b[0m \u001b[1;34m': '\u001b[0m \u001b[1;33m+\u001b[0m \u001b[0mclass_name\u001b[0m\u001b[1;33m)\u001b[0m\u001b[1;33m\u001b[0m\u001b[1;33m\u001b[0m\u001b[0m\n\u001b[0m\u001b[0;32m    166\u001b[0m   \u001b[1;32mreturn\u001b[0m \u001b[1;33m(\u001b[0m\u001b[0mcls\u001b[0m\u001b[1;33m,\u001b[0m \u001b[0mconfig\u001b[0m\u001b[1;33m[\u001b[0m\u001b[1;34m'config'\u001b[0m\u001b[1;33m]\u001b[0m\u001b[1;33m)\u001b[0m\u001b[1;33m\u001b[0m\u001b[1;33m\u001b[0m\u001b[0m\n\u001b[0;32m    167\u001b[0m \u001b[1;33m\u001b[0m\u001b[0m\n",
      "\u001b[1;31mValueError\u001b[0m: Unknown layer: Functional"
     ]
    }
   ],
   "source": [
    "model = keras.models.load_model('shot_classifier.h5')"
   ]
  },
  {
   "cell_type": "code",
   "execution_count": 32,
   "metadata": {},
   "outputs": [
    {
     "ename": "NameError",
     "evalue": "name 'load_model' is not defined",
     "output_type": "error",
     "traceback": [
      "\u001b[1;31m---------------------------------------------------------------------------\u001b[0m",
      "\u001b[1;31mNameError\u001b[0m                                 Traceback (most recent call last)",
      "\u001b[1;32m<ipython-input-32-d1501589b5e9>\u001b[0m in \u001b[0;36m<module>\u001b[1;34m\u001b[0m\n\u001b[0;32m      1\u001b[0m \u001b[1;32mfrom\u001b[0m \u001b[0mkeras\u001b[0m\u001b[1;33m.\u001b[0m\u001b[0mapplications\u001b[0m \u001b[1;32mimport\u001b[0m \u001b[0mimagenet_utils\u001b[0m\u001b[1;33m\u001b[0m\u001b[1;33m\u001b[0m\u001b[0m\n\u001b[1;32m----> 2\u001b[1;33m \u001b[0mmodel\u001b[0m \u001b[1;33m=\u001b[0m \u001b[0mload_model\u001b[0m\u001b[1;33m(\u001b[0m\u001b[1;34m'shot_classifier.h5'\u001b[0m\u001b[1;33m,\u001b[0m \u001b[0mcustom_objects\u001b[0m\u001b[1;33m=\u001b[0m\u001b[1;33m{\u001b[0m\u001b[1;34m'imagenet_utils'\u001b[0m\u001b[1;33m:\u001b[0m \u001b[0mimagenet_utils\u001b[0m\u001b[1;33m}\u001b[0m\u001b[1;33m)\u001b[0m\u001b[1;33m\u001b[0m\u001b[1;33m\u001b[0m\u001b[0m\n\u001b[0m",
      "\u001b[1;31mNameError\u001b[0m: name 'load_model' is not defined"
     ]
    }
   ],
   "source": [
    "from keras.applications import imagenet_utils\n",
    "model = load_model('shot_classifier.h5', custom_objects={'imagenet_utils': imagenet_utils})"
   ]
  },
  {
   "cell_type": "code",
   "execution_count": 39,
   "metadata": {},
   "outputs": [
    {
     "ename": "NameError",
     "evalue": "name 'model' is not defined",
     "output_type": "error",
     "traceback": [
      "\u001b[1;31m---------------------------------------------------------------------------\u001b[0m",
      "\u001b[1;31mNameError\u001b[0m                                 Traceback (most recent call last)",
      "\u001b[1;32m<ipython-input-39-0222accefa4b>\u001b[0m in \u001b[0;36m<module>\u001b[1;34m\u001b[0m\n\u001b[0;32m     11\u001b[0m \u001b[0mdata\u001b[0m \u001b[1;33m=\u001b[0m \u001b[0mtf\u001b[0m\u001b[1;33m.\u001b[0m\u001b[0mdata\u001b[0m\u001b[1;33m.\u001b[0m\u001b[0mDataset\u001b[0m\u001b[1;33m.\u001b[0m\u001b[0mfrom_tensor_slices\u001b[0m\u001b[1;33m(\u001b[0m\u001b[0mprocessed_frames\u001b[0m\u001b[1;33m)\u001b[0m\u001b[1;33m.\u001b[0m\u001b[0mbatch\u001b[0m\u001b[1;33m(\u001b[0m\u001b[1;36m64\u001b[0m\u001b[1;33m)\u001b[0m\u001b[1;33m\u001b[0m\u001b[1;33m\u001b[0m\u001b[0m\n\u001b[0;32m     12\u001b[0m \u001b[1;33m\u001b[0m\u001b[0m\n\u001b[1;32m---> 13\u001b[1;33m \u001b[0mprobabilities\u001b[0m \u001b[1;33m=\u001b[0m \u001b[0mmodel\u001b[0m\u001b[1;33m.\u001b[0m\u001b[0mpredict\u001b[0m\u001b[1;33m(\u001b[0m\u001b[0mdata\u001b[0m\u001b[1;33m,\u001b[0m \u001b[0mverbose\u001b[0m\u001b[1;33m=\u001b[0m\u001b[1;36m1\u001b[0m\u001b[1;33m)\u001b[0m\u001b[1;33m\u001b[0m\u001b[1;33m\u001b[0m\u001b[0m\n\u001b[0m\u001b[0;32m     14\u001b[0m \u001b[0mlabels\u001b[0m \u001b[1;33m=\u001b[0m \u001b[1;33m[\u001b[0m\u001b[1;34m'CS'\u001b[0m\u001b[1;33m,\u001b[0m \u001b[1;34m'ECS'\u001b[0m\u001b[1;33m,\u001b[0m \u001b[1;34m'FS'\u001b[0m\u001b[1;33m,\u001b[0m \u001b[1;34m'LS'\u001b[0m\u001b[1;33m,\u001b[0m \u001b[1;34m'MS'\u001b[0m\u001b[1;33m]\u001b[0m\u001b[1;33m\u001b[0m\u001b[1;33m\u001b[0m\u001b[0m\n\u001b[0;32m     15\u001b[0m \u001b[1;33m\u001b[0m\u001b[0m\n",
      "\u001b[1;31mNameError\u001b[0m: name 'model' is not defined"
     ]
    }
   ],
   "source": [
    "def preprocess_frame(frame, single_batch=False,  color_mode='rgb'):\n",
    "    frame = cv2.resize(frame, dsize=(224, 224), interpolation=cv2.INTER_NEAREST)\n",
    "    if color_mode == 'grayscale':\n",
    "        frame = cv2.cvtColor(frame, cv2.COLOR_RGB2GRAY)\n",
    "    if single_batch:\n",
    "        frame = tf.expand_dims(frame, 0)\n",
    "    return frame\n",
    "\n",
    "processed_frames = [preprocess_frame(frame) for frame in frames]\n",
    "processed_frames = np.array(processed_frames)\n",
    "data = tf.data.Dataset.from_tensor_slices(processed_frames).batch(64)\n",
    "\n",
    "probabilities = model.predict(data, verbose=1)\n",
    "labels = ['CS', 'ECS', 'FS', 'LS', 'MS']\n",
    "\n",
    "image_classes = np.argmax(probabilities, axis=1)\n",
    "image_labels = [labels[image_class] for image_class in image_classes]\n",
    "print(image_labels)"
   ]
  },
  {
   "cell_type": "code",
   "execution_count": null,
   "metadata": {},
   "outputs": [],
   "source": []
  },
  {
   "cell_type": "code",
   "execution_count": null,
   "metadata": {},
   "outputs": [],
   "source": []
  },
  {
   "cell_type": "code",
   "execution_count": null,
   "metadata": {},
   "outputs": [],
   "source": []
  }
 ],
 "metadata": {
  "kernelspec": {
   "display_name": "Python 3",
   "language": "python",
   "name": "python3"
  },
  "language_info": {
   "codemirror_mode": {
    "name": "ipython",
    "version": 3
   },
   "file_extension": ".py",
   "mimetype": "text/x-python",
   "name": "python",
   "nbconvert_exporter": "python",
   "pygments_lexer": "ipython3",
   "version": "3.7.6"
  }
 },
 "nbformat": 4,
 "nbformat_minor": 4
}
