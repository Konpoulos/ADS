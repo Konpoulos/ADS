{
 "cells": [
  {
   "cell_type": "code",
   "execution_count": 2,
   "metadata": {},
   "outputs": [],
   "source": [
    "# !pip install tweepy"
   ]
  },
  {
   "cell_type": "markdown",
   "metadata": {},
   "source": [
    "# Libraries"
   ]
  },
  {
   "cell_type": "code",
   "execution_count": 1,
   "metadata": {},
   "outputs": [],
   "source": [
    "import tweepy\n",
    "import pandas as pd\n",
    "import os\n",
    "import numpy as np"
   ]
  },
  {
   "cell_type": "markdown",
   "metadata": {},
   "source": [
    "# Authentication, USE YOUR OWN KEYS AND SECRETS HERE"
   ]
  },
  {
   "cell_type": "code",
   "execution_count": 2,
   "metadata": {},
   "outputs": [],
   "source": [
    "consumer_key = \"0txSu9qF1I5t4tmzP6WULUpP1\"\n",
    "consumer_key_secret = \"b37t6B3uitNKzORElybv4Sagv1D2MQFojPzp10Pf2DPy3FrrTF\"\n",
    "\n",
    "access_token = \"1351916516917334016-ZSRVhO8XPQf8fpDV8hORabiVXKerMW\"\n",
    "access_token_secret = \"hkV9rRPWoFL4OpOA7CwlB96KizGC6xnUGxbBmdnrW3Kr8\""
   ]
  },
  {
   "cell_type": "markdown",
   "metadata": {},
   "source": [
    "## some tests"
   ]
  },
  {
   "cell_type": "code",
   "execution_count": 3,
   "metadata": {},
   "outputs": [],
   "source": [
    "# authorization of consumer key and consumer secret \n",
    "auth = tweepy.OAuthHandler(consumer_key, consumer_key_secret) \n",
    "  \n",
    "# set access to user's access key and access secret  \n",
    "auth.set_access_token(access_token, access_token_secret) \n",
    "  \n",
    "# calling the api  \n",
    "api = tweepy.API(auth, wait_on_rate_limit=True, wait_on_rate_limit_notify=False) "
   ]
  },
  {
   "cell_type": "code",
   "execution_count": 4,
   "metadata": {},
   "outputs": [
    {
     "name": "stdout",
     "output_type": "stream",
     "text": [
      "This is how you get over Corona boredom. “Indoor Happy Gilmore Swings” 😂⛳️ Never a dull moment with my man Coop! jessicalynnsharrock @ Roanoke, Texas https://t.co/Y7tnwBxi2Z\n",
      "US\n"
     ]
    }
   ],
   "source": [
    "# the ID of the status \n",
    "tweet_id = 1241208732979212289\n",
    "  \n",
    "# fetching the status \n",
    "status = api.get_status(tweet_id, tweet_mode = \"extended\") \n",
    "  \n",
    "# fetching the text attribute \n",
    "text = status.full_text  \n",
    "  \n",
    "print(text) \n",
    "print(status.place.country_code)"
   ]
  },
  {
   "cell_type": "code",
   "execution_count": null,
   "metadata": {},
   "outputs": [],
   "source": []
  },
  {
   "cell_type": "markdown",
   "metadata": {},
   "source": [
    "# Set directory"
   ]
  },
  {
   "cell_type": "code",
   "execution_count": 9,
   "metadata": {},
   "outputs": [
    {
     "ename": "FileNotFoundError",
     "evalue": "[WinError 3] Το σύστημα δεν είναι σε θέση να εντοπίσει την καθορισμένη διαδρομή δίσκου: 'Csv'",
     "output_type": "error",
     "traceback": [
      "\u001b[1;31m---------------------------------------------------------------------------\u001b[0m",
      "\u001b[1;31mFileNotFoundError\u001b[0m                         Traceback (most recent call last)",
      "\u001b[1;32m<ipython-input-9-2f240792b6f2>\u001b[0m in \u001b[0;36m<module>\u001b[1;34m\u001b[0m\n\u001b[0;32m      1\u001b[0m \u001b[0mcsv_dir\u001b[0m \u001b[1;33m=\u001b[0m \u001b[1;34m\"Csv\"\u001b[0m\u001b[1;33m\u001b[0m\u001b[1;33m\u001b[0m\u001b[0m\n\u001b[1;32m----> 2\u001b[1;33m \u001b[0mcsv_list\u001b[0m \u001b[1;33m=\u001b[0m \u001b[0mos\u001b[0m\u001b[1;33m.\u001b[0m\u001b[0mlistdir\u001b[0m\u001b[1;33m(\u001b[0m\u001b[0mcsv_dir\u001b[0m\u001b[1;33m)\u001b[0m\u001b[1;33m\u001b[0m\u001b[1;33m\u001b[0m\u001b[0m\n\u001b[0m",
      "\u001b[1;31mFileNotFoundError\u001b[0m: [WinError 3] Το σύστημα δεν είναι σε θέση να εντοπίσει την καθορισμένη διαδρομή δίσκου: 'Csv'"
     ]
    }
   ],
   "source": [
    "csv_dir = \"C:\\Users\\pc\\Desktop\\MASTER COURSES\\Block 2\\Data Mining\\Project\\API\\Csv\"\n",
    "csv_list = os.listdir(csv_dir)\n"
   ]
  },
  {
   "cell_type": "markdown",
   "metadata": {},
   "source": [
    "# I made files for each of us, load your one"
   ]
  },
  {
   "cell_type": "code",
   "execution_count": 141,
   "metadata": {},
   "outputs": [],
   "source": [
    "# csv_joey = csv_list[0:101]\n",
    "# pd.DataFrame(csv_joey, columns=[\"file_names\"]).to_csv(csv_dir+\"_joey.csv\")\n",
    "# csv_giannis = csv_list[101:202]\n",
    "# pd.DataFrame(csv_giannis, columns=[\"file_names\"]).to_csv(csv_dir+\"_giannis.csv\")\n",
    "# csv_asher = csv_list[202:]\n",
    "# pd.DataFrame(csv_asher, columns=[\"file_names\"]).to_csv(csv_dir+\"_asher.csv\")"
   ]
  },
  {
   "cell_type": "code",
   "execution_count": 147,
   "metadata": {},
   "outputs": [],
   "source": [
    "my_csv = list(pd.read_csv(csv_dir+\"_joey.csv\")[\"file_names\"]) #your name here"
   ]
  },
  {
   "cell_type": "code",
   "execution_count": 127,
   "metadata": {},
   "outputs": [],
   "source": [
    "# csv_temp = csv_list[:1]"
   ]
  },
  {
   "cell_type": "markdown",
   "metadata": {},
   "source": [
    "# The loop"
   ]
  },
  {
   "cell_type": "code",
   "execution_count": null,
   "metadata": {},
   "outputs": [],
   "source": [
    "for csv in my_csv: # replace with csv_list\n",
    "    if not os.path.isfile(csv_dir+\"tweets_\"+csv):\n",
    "        tweet_data = []\n",
    "        current_day = pd.read_csv(csv_dir+csv, header=None)\n",
    "        current_day.columns = [\"id\", \"sentiment\"]\n",
    "        current_day.head()\n",
    "        stop = len(current_day)\n",
    "        start_list = list(range(0, stop, 100))\n",
    "        stop_list = [(i + 100) for i in list(range(0, stop, 100))]\n",
    "        stop_list[-1]=stop\n",
    "        for i in range(len(start_list)):\n",
    "            id_100 = current_day[\"id\"][start_list[i]: stop_list[i]]\n",
    "            statuses = api.statuses_lookup(current_ids, tweet_mode = \"extended\")\n",
    "            for i, status in enumerate(statuses):\n",
    "                if status.place.country_code == \"US\":\n",
    "                    tweet_data.append([current_day.iloc[i][\"id\"], \n",
    "                                       status.full_text, \n",
    "                                       current_day.iloc[i][\"sentiment\"],\n",
    "                                       csv.split(\".\")[0]])\n",
    "        tweet_data_df = pd.DataFrame(tweet_data, columns=[\"id\", \"tweet\", \"sentiment\", \"date\"])\n",
    "        tweet_data_df.to_csv(csv_dir+\"tweets_\"+csv)"
   ]
  },
  {
   "cell_type": "code",
   "execution_count": null,
   "metadata": {},
   "outputs": [],
   "source": []
  }
 ],
 "metadata": {
  "kernelspec": {
   "display_name": "Python 3",
   "language": "python",
   "name": "python3"
  },
  "language_info": {
   "codemirror_mode": {
    "name": "ipython",
    "version": 3
   },
   "file_extension": ".py",
   "mimetype": "text/x-python",
   "name": "python",
   "nbconvert_exporter": "python",
   "pygments_lexer": "ipython3",
   "version": "3.7.6"
  }
 },
 "nbformat": 4,
 "nbformat_minor": 4
}
