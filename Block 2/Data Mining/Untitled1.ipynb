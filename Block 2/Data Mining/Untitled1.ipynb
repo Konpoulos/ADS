{
 "cells": [
  {
   "cell_type": "markdown",
   "metadata": {},
   "source": [
    "### Exercise 1.2"
   ]
  },
  {
   "cell_type": "markdown",
   "metadata": {},
   "source": [
    "#### 2.1 Choosing the series"
   ]
  },
  {
   "cell_type": "markdown",
   "metadata": {},
   "source": [
    "So i think i will go with Breaking Bad with Better Call Saul i saw both series and i think they have many word in common rather than 2 other choices, as both they have some similar faces "
   ]
  },
  {
   "cell_type": "markdown",
   "metadata": {},
   "source": [
    "#### 2.2 Load the data and pre-process the texts"
   ]
  },
  {
   "cell_type": "code",
   "execution_count": 58,
   "metadata": {},
   "outputs": [
    {
     "name": "stderr",
     "output_type": "stream",
     "text": [
      "C:\\Users\\pc\\anaconda3\\lib\\site-packages\\ipykernel_launcher.py:3: FutureWarning: The Panel class is removed from pandas. Accessing it from the top-level namespace will also be removed in the next version\n",
      "  This is separate from the ipykernel package so we can avoid doing imports until\n",
      "C:\\Users\\pc\\anaconda3\\lib\\site-packages\\tqdm\\std.py:658: FutureWarning: The Panel class is removed from pandas. Accessing it from the top-level namespace will also be removed in the next version\n",
      "  from pandas import Panel\n"
     ]
    }
   ],
   "source": [
    "import numpy as np\n",
    "import pandas  as pd\n",
    "from pandas import Panel\n",
    "from tqdm.auto import tqdm\n",
    "from collections import Counter\n",
    "tqdm.pandas()\n",
    "import spacy\n",
    "from nltk.tokenize import RegexpTokenizer\n",
    "nlp = spacy.load(\"en_core_web_sm\")\n",
    "from matplotlib_venn_wordcloud import venn2_wordcloud\n",
    "from scipy.stats import chi2_contingency"
   ]
  },
  {
   "cell_type": "code",
   "execution_count": 9,
   "metadata": {},
   "outputs": [
    {
     "data": {
      "text/html": [
       "<div>\n",
       "<style scoped>\n",
       "    .dataframe tbody tr th:only-of-type {\n",
       "        vertical-align: middle;\n",
       "    }\n",
       "\n",
       "    .dataframe tbody tr th {\n",
       "        vertical-align: top;\n",
       "    }\n",
       "\n",
       "    .dataframe thead th {\n",
       "        text-align: right;\n",
       "    }\n",
       "</style>\n",
       "<table border=\"1\" class=\"dataframe\">\n",
       "  <thead>\n",
       "    <tr style=\"text-align: right;\">\n",
       "      <th></th>\n",
       "      <th>title</th>\n",
       "      <th>type</th>\n",
       "      <th>year</th>\n",
       "      <th>post</th>\n",
       "    </tr>\n",
       "  </thead>\n",
       "  <tbody>\n",
       "    <tr>\n",
       "      <th>0</th>\n",
       "      <td>Better Call Saul</td>\n",
       "      <td>linear</td>\n",
       "      <td>2017</td>\n",
       "      <td>Walter. And there the chain ends.</td>\n",
       "    </tr>\n",
       "    <tr>\n",
       "      <th>1</th>\n",
       "      <td>Better Call Saul</td>\n",
       "      <td>linear</td>\n",
       "      <td>2016</td>\n",
       "      <td>I love this show. But it's hard to argue again...</td>\n",
       "    </tr>\n",
       "    <tr>\n",
       "      <th>2</th>\n",
       "      <td>Better Call Saul</td>\n",
       "      <td>linear</td>\n",
       "      <td>2017</td>\n",
       "      <td>What am I missing?  A lot of reference to ribs...</td>\n",
       "    </tr>\n",
       "    <tr>\n",
       "      <th>3</th>\n",
       "      <td>Better Call Saul</td>\n",
       "      <td>linear</td>\n",
       "      <td>2018</td>\n",
       "      <td>Oh come on Mike, he's a good little boy.</td>\n",
       "    </tr>\n",
       "    <tr>\n",
       "      <th>4</th>\n",
       "      <td>Better Call Saul</td>\n",
       "      <td>linear</td>\n",
       "      <td>2017</td>\n",
       "      <td>Look again 👀</td>\n",
       "    </tr>\n",
       "  </tbody>\n",
       "</table>\n",
       "</div>"
      ],
      "text/plain": [
       "              title    type  year  \\\n",
       "0  Better Call Saul  linear  2017   \n",
       "1  Better Call Saul  linear  2016   \n",
       "2  Better Call Saul  linear  2017   \n",
       "3  Better Call Saul  linear  2018   \n",
       "4  Better Call Saul  linear  2017   \n",
       "\n",
       "                                                post  \n",
       "0                  Walter. And there the chain ends.  \n",
       "1  I love this show. But it's hard to argue again...  \n",
       "2  What am I missing?  A lot of reference to ribs...  \n",
       "3          Oh come on Mike, he's a good little boy.   \n",
       "4                                       Look again 👀  "
      ]
     },
     "execution_count": 9,
     "metadata": {},
     "output_type": "execute_result"
    }
   ],
   "source": [
    "df = pd.read_pickle(\"discussions.p\") # We load the data\n",
    "df.head()"
   ]
  },
  {
   "cell_type": "code",
   "execution_count": null,
   "metadata": {},
   "outputs": [],
   "source": []
  },
  {
   "cell_type": "code",
   "execution_count": null,
   "metadata": {},
   "outputs": [],
   "source": []
  },
  {
   "cell_type": "code",
   "execution_count": 10,
   "metadata": {},
   "outputs": [
    {
     "data": {
      "application/vnd.jupyter.widget-view+json": {
       "model_id": "07dba8d74cc149bfa2256fecebea1063",
       "version_major": 2,
       "version_minor": 0
      },
      "text/plain": [
       "HBox(children=(FloatProgress(value=0.0, max=50000.0), HTML(value='')))"
      ]
     },
     "metadata": {},
     "output_type": "display_data"
    },
    {
     "name": "stdout",
     "output_type": "stream",
     "text": [
      "\n"
     ]
    }
   ],
   "source": [
    "df['parsed_posts_no_punctuation'] = df['post'].progress_apply(lambda x: [y.lemma_ for y in nlp(x) if not y.is_punct])"
   ]
  },
  {
   "cell_type": "code",
   "execution_count": null,
   "metadata": {},
   "outputs": [],
   "source": []
  },
  {
   "cell_type": "code",
   "execution_count": 11,
   "metadata": {},
   "outputs": [
    {
     "data": {
      "application/vnd.jupyter.widget-view+json": {
       "model_id": "1b9ab6d201af49c988ae924f171e74f6",
       "version_major": 2,
       "version_minor": 0
      },
      "text/plain": [
       "HBox(children=(FloatProgress(value=0.0, max=50000.0), HTML(value='')))"
      ]
     },
     "metadata": {},
     "output_type": "display_data"
    },
    {
     "name": "stdout",
     "output_type": "stream",
     "text": [
      "\n"
     ]
    }
   ],
   "source": [
    "df['parsed_posts_adjectives'] = df['post'].progress_apply(lambda x: [y.lemma_ for y in nlp(x) if not y.is_punct and y.pos_ == 'ADJ'])"
   ]
  },
  {
   "cell_type": "code",
   "execution_count": 12,
   "metadata": {},
   "outputs": [],
   "source": [
    "#if i decide to run this also\n",
    "#df['parsed_posts_nouns'] = df['post'].progress_apply(lambda x: [y.lemma_ for y in nlp(x) if not y.is_punct and y.pos_ == 'NOUN'])"
   ]
  },
  {
   "cell_type": "code",
   "execution_count": 13,
   "metadata": {},
   "outputs": [
    {
     "data": {
      "text/html": [
       "<div>\n",
       "<style scoped>\n",
       "    .dataframe tbody tr th:only-of-type {\n",
       "        vertical-align: middle;\n",
       "    }\n",
       "\n",
       "    .dataframe tbody tr th {\n",
       "        vertical-align: top;\n",
       "    }\n",
       "\n",
       "    .dataframe thead th {\n",
       "        text-align: right;\n",
       "    }\n",
       "</style>\n",
       "<table border=\"1\" class=\"dataframe\">\n",
       "  <thead>\n",
       "    <tr style=\"text-align: right;\">\n",
       "      <th></th>\n",
       "      <th>title</th>\n",
       "      <th>type</th>\n",
       "      <th>year</th>\n",
       "      <th>post</th>\n",
       "      <th>parsed_posts_no_punctuation</th>\n",
       "      <th>parsed_posts_adjectives</th>\n",
       "    </tr>\n",
       "  </thead>\n",
       "  <tbody>\n",
       "    <tr>\n",
       "      <th>0</th>\n",
       "      <td>Better Call Saul</td>\n",
       "      <td>linear</td>\n",
       "      <td>2017</td>\n",
       "      <td>Walter. And there the chain ends.</td>\n",
       "      <td>[Walter, and, there, the, chain, end]</td>\n",
       "      <td>[]</td>\n",
       "    </tr>\n",
       "    <tr>\n",
       "      <th>1</th>\n",
       "      <td>Better Call Saul</td>\n",
       "      <td>linear</td>\n",
       "      <td>2016</td>\n",
       "      <td>I love this show. But it's hard to argue again...</td>\n",
       "      <td>[-PRON-, love, this, show, but, -PRON-, be, ha...</td>\n",
       "      <td>[hard, sooooooooooo, top, boring, different, b...</td>\n",
       "    </tr>\n",
       "    <tr>\n",
       "      <th>2</th>\n",
       "      <td>Better Call Saul</td>\n",
       "      <td>linear</td>\n",
       "      <td>2017</td>\n",
       "      <td>What am I missing?  A lot of reference to ribs...</td>\n",
       "      <td>[what, be, -PRON-, miss,  , a, lot, of, refere...</td>\n",
       "      <td>[]</td>\n",
       "    </tr>\n",
       "    <tr>\n",
       "      <th>3</th>\n",
       "      <td>Better Call Saul</td>\n",
       "      <td>linear</td>\n",
       "      <td>2018</td>\n",
       "      <td>Oh come on Mike, he's a good little boy.</td>\n",
       "      <td>[oh, come, on, Mike, -PRON-, be, a, good, litt...</td>\n",
       "      <td>[good, little]</td>\n",
       "    </tr>\n",
       "    <tr>\n",
       "      <th>4</th>\n",
       "      <td>Better Call Saul</td>\n",
       "      <td>linear</td>\n",
       "      <td>2017</td>\n",
       "      <td>Look again 👀</td>\n",
       "      <td>[look, again, 👀]</td>\n",
       "      <td>[👀]</td>\n",
       "    </tr>\n",
       "  </tbody>\n",
       "</table>\n",
       "</div>"
      ],
      "text/plain": [
       "              title    type  year  \\\n",
       "0  Better Call Saul  linear  2017   \n",
       "1  Better Call Saul  linear  2016   \n",
       "2  Better Call Saul  linear  2017   \n",
       "3  Better Call Saul  linear  2018   \n",
       "4  Better Call Saul  linear  2017   \n",
       "\n",
       "                                                post  \\\n",
       "0                  Walter. And there the chain ends.   \n",
       "1  I love this show. But it's hard to argue again...   \n",
       "2  What am I missing?  A lot of reference to ribs...   \n",
       "3          Oh come on Mike, he's a good little boy.    \n",
       "4                                       Look again 👀   \n",
       "\n",
       "                         parsed_posts_no_punctuation  \\\n",
       "0              [Walter, and, there, the, chain, end]   \n",
       "1  [-PRON-, love, this, show, but, -PRON-, be, ha...   \n",
       "2  [what, be, -PRON-, miss,  , a, lot, of, refere...   \n",
       "3  [oh, come, on, Mike, -PRON-, be, a, good, litt...   \n",
       "4                                   [look, again, 👀]   \n",
       "\n",
       "                             parsed_posts_adjectives  \n",
       "0                                                 []  \n",
       "1  [hard, sooooooooooo, top, boring, different, b...  \n",
       "2                                                 []  \n",
       "3                                     [good, little]  \n",
       "4                                                [👀]  "
      ]
     },
     "execution_count": 13,
     "metadata": {},
     "output_type": "execute_result"
    }
   ],
   "source": [
    "df.head()"
   ]
  },
  {
   "cell_type": "markdown",
   "metadata": {},
   "source": [
    "We will lemmatize and for sure analyze the adjective beacause is the mean how the movie makes you realize the characters and step into their shoes, also nouns in my opinion arent so imforamtive and wont make us understand the movie. I processed them both just in case i change my mind later"
   ]
  },
  {
   "cell_type": "code",
   "execution_count": 14,
   "metadata": {},
   "outputs": [
    {
     "data": {
      "text/plain": [
       "0                       Walter. And there the chain ends.\n",
       "1       I love this show. But it's hard to argue again...\n",
       "2       What am I missing?  A lot of reference to ribs...\n",
       "3               Oh come on Mike, he's a good little boy. \n",
       "4                                            Look again 👀\n",
       "                              ...                        \n",
       "5263    I was hoping for Kim.  Would have settled for ...\n",
       "5264    The Los Pollos factory. Or are we just assumin...\n",
       "5265          Still think she got the sexiest feet on Tv!\n",
       "5266    I had to cheat and look. :-)\\nBut I remembered...\n",
       "5267    It's so fantastic. This show literally makes m...\n",
       "Name: post, Length: 5268, dtype: object"
      ]
     },
     "execution_count": 14,
     "metadata": {},
     "output_type": "execute_result"
    }
   ],
   "source": [
    "Better_Call_Saul_posts = df.loc[df['title'] == 'Better Call Saul']['post']\n",
    "Better_Call_Saul_posts"
   ]
  },
  {
   "cell_type": "code",
   "execution_count": 15,
   "metadata": {},
   "outputs": [
    {
     "data": {
      "text/plain": [
       "9988                       &gt;Mike and his granddaughter.\n",
       "9989        Cool! Thanks for the update! Much appreciated.\n",
       "9990     The last thing they need is a wildcard.  Jesse...\n",
       "9991     I don't think there's any doubt that Walt pois...\n",
       "9992     Don't you have to also note that you watched i...\n",
       "                               ...                        \n",
       "16407                                 Woah! That mustache.\n",
       "16408    I believe the hug was genuine. Yeah Jesse leav...\n",
       "16409    How does Gomie not get shot? Seriously.  \\nAll...\n",
       "16410    \"Just because you shot jesse james, doesn't ma...\n",
       "16411                                            [deleted]\n",
       "Name: post, Length: 6424, dtype: object"
      ]
     },
     "execution_count": 15,
     "metadata": {},
     "output_type": "execute_result"
    }
   ],
   "source": [
    "Breaking_Bad_posts = df.loc[df['title'] == 'Breaking Bad']['post']\n",
    "Breaking_Bad_posts"
   ]
  },
  {
   "cell_type": "code",
   "execution_count": 16,
   "metadata": {},
   "outputs": [
    {
     "data": {
      "application/vnd.jupyter.widget-view+json": {
       "model_id": "6f5e6663d58b41a9910dd960b70d8e1b",
       "version_major": 2,
       "version_minor": 0
      },
      "text/plain": [
       "HBox(children=(FloatProgress(value=0.0, max=5268.0), HTML(value='')))"
      ]
     },
     "metadata": {},
     "output_type": "display_data"
    },
    {
     "name": "stdout",
     "output_type": "stream",
     "text": [
      "\n"
     ]
    }
   ],
   "source": [
    "BCS_adjs = Better_Call_Saul_posts.progress_apply(lambda x: [y.lemma_ for y in nlp(x) if not y.is_punct and y.pos_ == 'ADJ'])"
   ]
  },
  {
   "cell_type": "code",
   "execution_count": 17,
   "metadata": {},
   "outputs": [
    {
     "data": {
      "application/vnd.jupyter.widget-view+json": {
       "model_id": "7cae5a1a2c11417bb1a3540cac2993d5",
       "version_major": 2,
       "version_minor": 0
      },
      "text/plain": [
       "HBox(children=(FloatProgress(value=0.0, max=6424.0), HTML(value='')))"
      ]
     },
     "metadata": {},
     "output_type": "display_data"
    },
    {
     "name": "stdout",
     "output_type": "stream",
     "text": [
      "\n"
     ]
    }
   ],
   "source": [
    "BD_adjs = Breaking_Bad_posts.progress_apply(lambda x: [y.lemma_ for y in nlp(x) if not y.is_punct and y.pos_ == 'ADJ'])"
   ]
  },
  {
   "cell_type": "code",
   "execution_count": 18,
   "metadata": {},
   "outputs": [
    {
     "data": {
      "text/plain": [
       "0                                                   []\n",
       "1    [hard, sooooooooooo, top, boring, different, b...\n",
       "2                                                   []\n",
       "3                                       [good, little]\n",
       "4                                                  [👀]\n",
       "Name: parsed_posts_adjectives, dtype: object"
      ]
     },
     "execution_count": 18,
     "metadata": {},
     "output_type": "execute_result"
    }
   ],
   "source": [
    "All_adjs = df['parsed_posts_adjectives']\n",
    "All_adjs.head()"
   ]
  },
  {
   "cell_type": "code",
   "execution_count": 19,
   "metadata": {},
   "outputs": [],
   "source": [
    "flatten = lambda t: [item for sublist in t for item in sublist]"
   ]
  },
  {
   "cell_type": "markdown",
   "metadata": {},
   "source": [
    "#### 2.3 Pick a word and compute the LLR"
   ]
  },
  {
   "cell_type": "code",
   "execution_count": 20,
   "metadata": {},
   "outputs": [
    {
     "name": "stdout",
     "output_type": "stream",
     "text": [
      "[('good', 321), ('bad', 222), ('other', 189), ('same', 183), ('more', 170), ('first', 166), ('great', 139), ('right', 133), ('much', 118), ('sure', 116), ('last', 114), ('own', 110), ('whole', 107), ('little', 104), ('big', 99), ('well', 87), ('many', 84), ('old', 83), ('real', 81), ('next', 77), ('new', 75), ('true', 72), ('wrong', 72), ('only', 71), ('least', 67), ('different', 62), ('few', 50), ('interesting', 49), ('full', 49), ('hard', 46)]\n",
      "[('emasculating', 1), ('sketch', 1), ('sexy', 1)]\n"
     ]
    }
   ],
   "source": [
    "print(Counter(flatten(BCS_adjs)).most_common()[:30])\n",
    "print(Counter(flatten(BCS_adjs)).most_common()[-3:]) # least common word "
   ]
  },
  {
   "cell_type": "code",
   "execution_count": 21,
   "metadata": {},
   "outputs": [
    {
     "name": "stdout",
     "output_type": "stream",
     "text": [
      "[('good', 206), ('bad', 138), ('last', 124), ('first', 107), ('much', 98), ('sure', 97), ('more', 96), ('same', 94), ('next', 86), ('other', 85)]\n",
      "[('juvenile', 1), ('attractive', 1), ('genuine', 1)]\n"
     ]
    }
   ],
   "source": [
    "print(Counter(flatten(BD_adjs)).most_common()[:10])\n",
    "print(Counter(flatten(BD_adjs)).most_common()[-3:]) # least common word "
   ]
  },
  {
   "cell_type": "markdown",
   "metadata": {},
   "source": [
    " so for most common word its obvious is : 'good' so i am going to choose this one and for the least common i am going to pick and the word that it occurs most in the first BCS is : 'bad'"
   ]
  },
  {
   "cell_type": "code",
   "execution_count": 22,
   "metadata": {},
   "outputs": [
    {
     "data": {
      "text/plain": [
       "9988                                                    []\n",
       "9989                                                    []\n",
       "9990                                          [last, only]\n",
       "9991                                                    []\n",
       "9992                                                    []\n",
       "                               ...                        \n",
       "16407                                                   []\n",
       "16408    [genuine, good, manipulative, good, hot, clean...\n",
       "16409                                               [dead]\n",
       "16410                                                   []\n",
       "16411                                                   []\n",
       "Name: post, Length: 6424, dtype: object"
      ]
     },
     "execution_count": 22,
     "metadata": {},
     "output_type": "execute_result"
    }
   ],
   "source": [
    "# my lists\n",
    "BCS_adjs\n",
    "BD_adjs "
   ]
  },
  {
   "cell_type": "code",
   "execution_count": 23,
   "metadata": {},
   "outputs": [],
   "source": [
    "counts_c1 = Counter(flatten(BCS_adjs))\n",
    "counts_c2 = Counter(flatten(BD_adjs))"
   ]
  },
  {
   "cell_type": "code",
   "execution_count": 24,
   "metadata": {},
   "outputs": [],
   "source": [
    "# the word that not will differ that much.\n",
    "freq_c1 = counts_c1['good']\n",
    "freq_c2 = counts_c2['good']"
   ]
  },
  {
   "cell_type": "code",
   "execution_count": 25,
   "metadata": {},
   "outputs": [],
   "source": [
    "freq_c1_other = sum(counts_c1.values()) - freq_c1\n",
    "freq_c2_other = sum(counts_c2.values()) - freq_c2"
   ]
  },
  {
   "cell_type": "code",
   "execution_count": 26,
   "metadata": {},
   "outputs": [
    {
     "name": "stdout",
     "output_type": "stream",
     "text": [
      "Log-likelihood:  0.038989912622559686\n"
     ]
    }
   ],
   "source": [
    "from scipy.stats import chi2_contingency\n",
    "\n",
    "llr, p_value,_,_ = chi2_contingency([[freq_c1, freq_c2], \n",
    "                  [freq_c1_other, freq_c2_other]],\n",
    "                  lambda_='log-likelihood') # this specifies using the LL measure\n",
    "print(\"Log-likelihood: \", llr)"
   ]
  },
  {
   "cell_type": "code",
   "execution_count": 27,
   "metadata": {},
   "outputs": [],
   "source": [
    "# the word that occurs most in the first 'bad' lets compute the LLR"
   ]
  },
  {
   "cell_type": "code",
   "execution_count": 28,
   "metadata": {},
   "outputs": [],
   "source": [
    "counts_c1 = Counter(flatten(BCS_adjs))\n",
    "counts_c2 = Counter(flatten(BD_adjs))\n",
    "\n",
    "freq_c1 = counts_c1['bad']\n",
    "freq_c2 = counts_c2['bad']\n",
    "\n",
    "freq_c1_other = sum(counts_c1.values()) - freq_c1\n",
    "freq_c2_other = sum(counts_c2.values()) - freq_c2\n"
   ]
  },
  {
   "cell_type": "code",
   "execution_count": null,
   "metadata": {},
   "outputs": [],
   "source": []
  },
  {
   "cell_type": "code",
   "execution_count": 29,
   "metadata": {},
   "outputs": [
    {
     "name": "stdout",
     "output_type": "stream",
     "text": [
      "Log-likelihood:  0.0018950536542537977\n"
     ]
    }
   ],
   "source": [
    "from scipy.stats import chi2_contingency\n",
    "\n",
    "llr, p_value,_,_ = chi2_contingency([[freq_c1, freq_c2], \n",
    "                  [freq_c1_other, freq_c2_other]],\n",
    "                  lambda_='log-likelihood') # this specifies using the LL measure\n",
    "print(\"Log-likelihood: \", llr)"
   ]
  },
  {
   "cell_type": "markdown",
   "metadata": {},
   "source": [
    "#### 2.4 Get the most distinctive words of the first subset compared to second subset, and vice versa."
   ]
  },
  {
   "cell_type": "code",
   "execution_count": 30,
   "metadata": {},
   "outputs": [],
   "source": [
    "flatten_BCS = flatten(BCS_adjs)\n",
    "flatten_BD = flatten(BD_adjs)"
   ]
  },
  {
   "cell_type": "code",
   "execution_count": 31,
   "metadata": {},
   "outputs": [],
   "source": [
    "def distinctive_words(target_corpus, reference_corpus):\n",
    "    counts_c1 = Counter(target_corpus) # don't forget to flatten your texts!\n",
    "    counts_c2 = Counter(reference_corpus)\n",
    "    vocabulary = set(list(counts_c1.keys()) + list(counts_c2.keys()))\n",
    "    freq_c1_total = sum(counts_c1.values()) \n",
    "    freq_c2_total = sum(counts_c2.values()) \n",
    "    results = []\n",
    "    for word in vocabulary:\n",
    "        freq_c1 = counts_c1[word]\n",
    "        freq_c2 = counts_c2[word]\n",
    "        freq_c1_other = freq_c1_total - freq_c1\n",
    "        freq_c2_other = freq_c2_total - freq_c2\n",
    "        llr, p_value,_,_ = chi2_contingency([[freq_c1, freq_c2], \n",
    "                      [freq_c1_other, freq_c2_other]],\n",
    "                      lambda_='log-likelihood') \n",
    "        if freq_c2 / freq_c2_other > freq_c1 / freq_c1_other:\n",
    "            llr = -llr\n",
    "        result = {'word':word, \n",
    "                    'llr':llr,\n",
    "                    'p_value': p_value}\n",
    "        results.append(result)\n",
    "    results_df = pd.DataFrame(results)\n",
    "    return results_df\n",
    "\n"
   ]
  },
  {
   "cell_type": "code",
   "execution_count": 32,
   "metadata": {},
   "outputs": [
    {
     "data": {
      "text/html": [
       "<div>\n",
       "<style scoped>\n",
       "    .dataframe tbody tr th:only-of-type {\n",
       "        vertical-align: middle;\n",
       "    }\n",
       "\n",
       "    .dataframe tbody tr th {\n",
       "        vertical-align: top;\n",
       "    }\n",
       "\n",
       "    .dataframe thead th {\n",
       "        text-align: right;\n",
       "    }\n",
       "</style>\n",
       "<table border=\"1\" class=\"dataframe\">\n",
       "  <thead>\n",
       "    <tr style=\"text-align: right;\">\n",
       "      <th></th>\n",
       "      <th>word</th>\n",
       "      <th>llr</th>\n",
       "      <th>p_value</th>\n",
       "    </tr>\n",
       "  </thead>\n",
       "  <tbody>\n",
       "    <tr>\n",
       "      <th>1813</th>\n",
       "      <td>mental</td>\n",
       "      <td>19.300083</td>\n",
       "      <td>0.000011</td>\n",
       "    </tr>\n",
       "    <tr>\n",
       "      <th>1116</th>\n",
       "      <td>own</td>\n",
       "      <td>10.518983</td>\n",
       "      <td>0.001182</td>\n",
       "    </tr>\n",
       "    <tr>\n",
       "      <th>2075</th>\n",
       "      <td>elderly</td>\n",
       "      <td>9.806704</td>\n",
       "      <td>0.001739</td>\n",
       "    </tr>\n",
       "    <tr>\n",
       "      <th>1859</th>\n",
       "      <td>criminal</td>\n",
       "      <td>9.116270</td>\n",
       "      <td>0.002533</td>\n",
       "    </tr>\n",
       "    <tr>\n",
       "      <th>101</th>\n",
       "      <td>⢀</td>\n",
       "      <td>8.906269</td>\n",
       "      <td>0.002842</td>\n",
       "    </tr>\n",
       "  </tbody>\n",
       "</table>\n",
       "</div>"
      ],
      "text/plain": [
       "          word        llr   p_value\n",
       "1813    mental  19.300083  0.000011\n",
       "1116       own  10.518983  0.001182\n",
       "2075   elderly   9.806704  0.001739\n",
       "1859  criminal   9.116270  0.002533\n",
       "101          ⢀   8.906269  0.002842"
      ]
     },
     "execution_count": 32,
     "metadata": {},
     "output_type": "execute_result"
    }
   ],
   "source": [
    "results_df = distinctive_words(flatten_BCS, flatten_BD)\n",
    "results_df.sort_values('llr', ascending=False).head(5)"
   ]
  },
  {
   "cell_type": "code",
   "execution_count": 33,
   "metadata": {},
   "outputs": [
    {
     "data": {
      "text/html": [
       "<div>\n",
       "<style scoped>\n",
       "    .dataframe tbody tr th:only-of-type {\n",
       "        vertical-align: middle;\n",
       "    }\n",
       "\n",
       "    .dataframe tbody tr th {\n",
       "        vertical-align: top;\n",
       "    }\n",
       "\n",
       "    .dataframe thead th {\n",
       "        text-align: right;\n",
       "    }\n",
       "</style>\n",
       "<table border=\"1\" class=\"dataframe\">\n",
       "  <thead>\n",
       "    <tr style=\"text-align: right;\">\n",
       "      <th></th>\n",
       "      <th>word</th>\n",
       "      <th>llr</th>\n",
       "      <th>p_value</th>\n",
       "    </tr>\n",
       "  </thead>\n",
       "  <tbody>\n",
       "    <tr>\n",
       "      <th>2012</th>\n",
       "      <td>dead</td>\n",
       "      <td>28.213712</td>\n",
       "      <td>1.086322e-07</td>\n",
       "    </tr>\n",
       "    <tr>\n",
       "      <th>1838</th>\n",
       "      <td>holy</td>\n",
       "      <td>25.435003</td>\n",
       "      <td>4.575407e-07</td>\n",
       "    </tr>\n",
       "    <tr>\n",
       "      <th>258</th>\n",
       "      <td>purple</td>\n",
       "      <td>18.248011</td>\n",
       "      <td>1.939283e-05</td>\n",
       "    </tr>\n",
       "    <tr>\n",
       "      <th>1587</th>\n",
       "      <td>last</td>\n",
       "      <td>17.549533</td>\n",
       "      <td>2.799196e-05</td>\n",
       "    </tr>\n",
       "    <tr>\n",
       "      <th>891</th>\n",
       "      <td>only</td>\n",
       "      <td>14.964914</td>\n",
       "      <td>1.095289e-04</td>\n",
       "    </tr>\n",
       "  </tbody>\n",
       "</table>\n",
       "</div>"
      ],
      "text/plain": [
       "        word        llr       p_value\n",
       "2012    dead  28.213712  1.086322e-07\n",
       "1838    holy  25.435003  4.575407e-07\n",
       "258   purple  18.248011  1.939283e-05\n",
       "1587    last  17.549533  2.799196e-05\n",
       "891     only  14.964914  1.095289e-04"
      ]
     },
     "execution_count": 33,
     "metadata": {},
     "output_type": "execute_result"
    }
   ],
   "source": [
    "results_df = distinctive_words(flatten_BD, flatten_BCS)\n",
    "results_df.sort_values('llr', ascending=False).head(5)"
   ]
  },
  {
   "cell_type": "markdown",
   "metadata": {},
   "source": [
    "#### 2.5 Get the most distinctive words of the first subset compared to all the posts that are not in the first subset. "
   ]
  },
  {
   "cell_type": "markdown",
   "metadata": {},
   "source": [
    "I will flatter the whole data first"
   ]
  },
  {
   "cell_type": "code",
   "execution_count": 34,
   "metadata": {},
   "outputs": [
    {
     "data": {
      "text/plain": [
       "5268     I think the rabbit ending was the \"real\" endin...\n",
       "5269     She was wiped out, didn't seemed to have eaten...\n",
       "5270                             How does the flair work? \n",
       "5271      She took the monkey with her when she drove off.\n",
       "5272     Nah, i'm just always trying to find connection...\n",
       "                               ...                        \n",
       "49995    Anyone else think that the top of the mushroom...\n",
       "49996    Shit I thought it was mini van lady with shoot...\n",
       "49997    Did Janey say that Dougie was absent for a nig...\n",
       "49998    From what I've read and seen they were mutual ...\n",
       "49999                                      PBR... blech!!!\n",
       "Name: post, Length: 44732, dtype: object"
      ]
     },
     "execution_count": 34,
     "metadata": {},
     "output_type": "execute_result"
    }
   ],
   "source": [
    "all_posts_excl_BCS = df.loc[df['title'] != 'Better Call Saul']['post']\n",
    "all_posts_excl_BCS"
   ]
  },
  {
   "cell_type": "code",
   "execution_count": 35,
   "metadata": {},
   "outputs": [
    {
     "data": {
      "text/plain": [
       "0                        Walter. And there the chain ends.\n",
       "1        I love this show. But it's hard to argue again...\n",
       "2        What am I missing?  A lot of reference to ribs...\n",
       "3                Oh come on Mike, he's a good little boy. \n",
       "4                                             Look again 👀\n",
       "                               ...                        \n",
       "49995    Anyone else think that the top of the mushroom...\n",
       "49996    Shit I thought it was mini van lady with shoot...\n",
       "49997    Did Janey say that Dougie was absent for a nig...\n",
       "49998    From what I've read and seen they were mutual ...\n",
       "49999                                      PBR... blech!!!\n",
       "Name: post, Length: 43576, dtype: object"
      ]
     },
     "execution_count": 35,
     "metadata": {},
     "output_type": "execute_result"
    }
   ],
   "source": [
    "all_posts_excl_BD = df.loc[df['title'] != 'Breaking Bad']['post']\n",
    "all_posts_excl_BD"
   ]
  },
  {
   "cell_type": "code",
   "execution_count": 36,
   "metadata": {},
   "outputs": [
    {
     "data": {
      "application/vnd.jupyter.widget-view+json": {
       "model_id": "c19b2deeb3f64993ba7dfd7bb34a02ba",
       "version_major": 2,
       "version_minor": 0
      },
      "text/plain": [
       "HBox(children=(FloatProgress(value=0.0, max=44732.0), HTML(value='')))"
      ]
     },
     "metadata": {},
     "output_type": "display_data"
    },
    {
     "name": "stdout",
     "output_type": "stream",
     "text": [
      "\n"
     ]
    }
   ],
   "source": [
    "All_adjs_excl_BCS = all_posts_excl_BCS.progress_apply(lambda x: [y.lemma_ for y in nlp(x) if not y.is_punct and y.pos_ == 'ADJ'])"
   ]
  },
  {
   "cell_type": "code",
   "execution_count": 37,
   "metadata": {},
   "outputs": [
    {
     "data": {
      "application/vnd.jupyter.widget-view+json": {
       "model_id": "c44a92ffebc4448ab6491f346041f18f",
       "version_major": 2,
       "version_minor": 0
      },
      "text/plain": [
       "HBox(children=(FloatProgress(value=0.0, max=43576.0), HTML(value='')))"
      ]
     },
     "metadata": {},
     "output_type": "display_data"
    },
    {
     "name": "stdout",
     "output_type": "stream",
     "text": [
      "\n"
     ]
    }
   ],
   "source": [
    "All_adjs_excl_BD = all_posts_excl_BD.progress_apply(lambda x: [y.lemma_ for y in nlp(x) if not y.is_punct and y.pos_ == 'ADJ'])"
   ]
  },
  {
   "cell_type": "code",
   "execution_count": 38,
   "metadata": {},
   "outputs": [],
   "source": [
    "flatten_whole_excl_BCS = flatten(All_adjs_excl_BCS)\n",
    "flatten_whole_excl_BD = flatten(All_adjs_excl_BD)"
   ]
  },
  {
   "cell_type": "code",
   "execution_count": 39,
   "metadata": {},
   "outputs": [],
   "source": [
    "top_adj_in_All_excl_BCS_counts = [x[0] for x in flatten_whole_excl_BCS]\n",
    "top_adj_in_All_excl_BD_counts = [x[0] for x in flatten_whole_excl_BD]"
   ]
  },
  {
   "cell_type": "code",
   "execution_count": 40,
   "metadata": {},
   "outputs": [
    {
     "data": {
      "text/html": [
       "<div>\n",
       "<style scoped>\n",
       "    .dataframe tbody tr th:only-of-type {\n",
       "        vertical-align: middle;\n",
       "    }\n",
       "\n",
       "    .dataframe tbody tr th {\n",
       "        vertical-align: top;\n",
       "    }\n",
       "\n",
       "    .dataframe thead th {\n",
       "        text-align: right;\n",
       "    }\n",
       "</style>\n",
       "<table border=\"1\" class=\"dataframe\">\n",
       "  <thead>\n",
       "    <tr style=\"text-align: right;\">\n",
       "      <th></th>\n",
       "      <th>word</th>\n",
       "      <th>llr</th>\n",
       "      <th>p_value</th>\n",
       "    </tr>\n",
       "  </thead>\n",
       "  <tbody>\n",
       "    <tr>\n",
       "      <th>1521</th>\n",
       "      <td>good</td>\n",
       "      <td>1367.695579</td>\n",
       "      <td>2.199414e-299</td>\n",
       "    </tr>\n",
       "    <tr>\n",
       "      <th>292</th>\n",
       "      <td>bad</td>\n",
       "      <td>941.237203</td>\n",
       "      <td>1.065537e-206</td>\n",
       "    </tr>\n",
       "    <tr>\n",
       "      <th>538</th>\n",
       "      <td>other</td>\n",
       "      <td>799.540885</td>\n",
       "      <td>6.790174e-176</td>\n",
       "    </tr>\n",
       "    <tr>\n",
       "      <th>20</th>\n",
       "      <td>same</td>\n",
       "      <td>773.803277</td>\n",
       "      <td>2.678050e-170</td>\n",
       "    </tr>\n",
       "    <tr>\n",
       "      <th>66</th>\n",
       "      <td>more</td>\n",
       "      <td>718.065802</td>\n",
       "      <td>3.525718e-158</td>\n",
       "    </tr>\n",
       "    <tr>\n",
       "      <th>44</th>\n",
       "      <td>first</td>\n",
       "      <td>700.923425</td>\n",
       "      <td>1.883213e-154</td>\n",
       "    </tr>\n",
       "    <tr>\n",
       "      <th>1484</th>\n",
       "      <td>great</td>\n",
       "      <td>585.308794</td>\n",
       "      <td>2.626146e-129</td>\n",
       "    </tr>\n",
       "    <tr>\n",
       "      <th>1683</th>\n",
       "      <td>right</td>\n",
       "      <td>559.640141</td>\n",
       "      <td>1.006701e-123</td>\n",
       "    </tr>\n",
       "    <tr>\n",
       "      <th>458</th>\n",
       "      <td>much</td>\n",
       "      <td>495.507739</td>\n",
       "      <td>9.024110e-110</td>\n",
       "    </tr>\n",
       "    <tr>\n",
       "      <th>1140</th>\n",
       "      <td>sure</td>\n",
       "      <td>486.961114</td>\n",
       "      <td>6.531957e-108</td>\n",
       "    </tr>\n",
       "  </tbody>\n",
       "</table>\n",
       "</div>"
      ],
      "text/plain": [
       "       word          llr        p_value\n",
       "1521   good  1367.695579  2.199414e-299\n",
       "292     bad   941.237203  1.065537e-206\n",
       "538   other   799.540885  6.790174e-176\n",
       "20     same   773.803277  2.678050e-170\n",
       "66     more   718.065802  3.525718e-158\n",
       "44    first   700.923425  1.883213e-154\n",
       "1484  great   585.308794  2.626146e-129\n",
       "1683  right   559.640141  1.006701e-123\n",
       "458    much   495.507739  9.024110e-110\n",
       "1140   sure   486.961114  6.531957e-108"
      ]
     },
     "execution_count": 40,
     "metadata": {},
     "output_type": "execute_result"
    }
   ],
   "source": [
    "results_df_2 = distinctive_words(flatten_BCS, top_adj_in_All_excl_BCS_counts)\n",
    "results_df_2.sort_values('llr', ascending=False).head(10)"
   ]
  },
  {
   "cell_type": "code",
   "execution_count": 41,
   "metadata": {},
   "outputs": [
    {
     "data": {
      "text/html": [
       "<div>\n",
       "<style scoped>\n",
       "    .dataframe tbody tr th:only-of-type {\n",
       "        vertical-align: middle;\n",
       "    }\n",
       "\n",
       "    .dataframe tbody tr th {\n",
       "        vertical-align: top;\n",
       "    }\n",
       "\n",
       "    .dataframe thead th {\n",
       "        text-align: right;\n",
       "    }\n",
       "</style>\n",
       "<table border=\"1\" class=\"dataframe\">\n",
       "  <thead>\n",
       "    <tr style=\"text-align: right;\">\n",
       "      <th></th>\n",
       "      <th>word</th>\n",
       "      <th>llr</th>\n",
       "      <th>p_value</th>\n",
       "    </tr>\n",
       "  </thead>\n",
       "  <tbody>\n",
       "    <tr>\n",
       "      <th>1095</th>\n",
       "      <td>good</td>\n",
       "      <td>1066.225540</td>\n",
       "      <td>7.238938e-234</td>\n",
       "    </tr>\n",
       "    <tr>\n",
       "      <th>211</th>\n",
       "      <td>bad</td>\n",
       "      <td>710.026380</td>\n",
       "      <td>1.974348e-156</td>\n",
       "    </tr>\n",
       "    <tr>\n",
       "      <th>915</th>\n",
       "      <td>last</td>\n",
       "      <td>636.900030</td>\n",
       "      <td>1.578123e-140</td>\n",
       "    </tr>\n",
       "    <tr>\n",
       "      <th>30</th>\n",
       "      <td>first</td>\n",
       "      <td>548.205420</td>\n",
       "      <td>3.093038e-121</td>\n",
       "    </tr>\n",
       "    <tr>\n",
       "      <th>321</th>\n",
       "      <td>much</td>\n",
       "      <td>501.296519</td>\n",
       "      <td>4.964491e-111</td>\n",
       "    </tr>\n",
       "    <tr>\n",
       "      <th>818</th>\n",
       "      <td>sure</td>\n",
       "      <td>496.086503</td>\n",
       "      <td>6.752659e-110</td>\n",
       "    </tr>\n",
       "    <tr>\n",
       "      <th>45</th>\n",
       "      <td>more</td>\n",
       "      <td>490.876912</td>\n",
       "      <td>9.183461e-109</td>\n",
       "    </tr>\n",
       "    <tr>\n",
       "      <th>13</th>\n",
       "      <td>same</td>\n",
       "      <td>480.459011</td>\n",
       "      <td>1.697712e-106</td>\n",
       "    </tr>\n",
       "    <tr>\n",
       "      <th>812</th>\n",
       "      <td>next</td>\n",
       "      <td>438.804853</td>\n",
       "      <td>1.970412e-97</td>\n",
       "    </tr>\n",
       "    <tr>\n",
       "      <th>376</th>\n",
       "      <td>other</td>\n",
       "      <td>433.600091</td>\n",
       "      <td>2.675076e-96</td>\n",
       "    </tr>\n",
       "  </tbody>\n",
       "</table>\n",
       "</div>"
      ],
      "text/plain": [
       "       word          llr        p_value\n",
       "1095   good  1066.225540  7.238938e-234\n",
       "211     bad   710.026380  1.974348e-156\n",
       "915    last   636.900030  1.578123e-140\n",
       "30    first   548.205420  3.093038e-121\n",
       "321    much   501.296519  4.964491e-111\n",
       "818    sure   496.086503  6.752659e-110\n",
       "45     more   490.876912  9.183461e-109\n",
       "13     same   480.459011  1.697712e-106\n",
       "812    next   438.804853   1.970412e-97\n",
       "376   other   433.600091   2.675076e-96"
      ]
     },
     "execution_count": 41,
     "metadata": {},
     "output_type": "execute_result"
    }
   ],
   "source": [
    "#2.6 \n",
    "\n",
    "results_df_3 = distinctive_words(flatten_BD, top_adj_in_All_excl_BD_counts)\n",
    "results_df_3.sort_values('llr', ascending=False).head(10)"
   ]
  },
  {
   "cell_type": "markdown",
   "metadata": {},
   "source": [
    "#### 2.7 "
   ]
  },
  {
   "cell_type": "code",
   "execution_count": null,
   "metadata": {},
   "outputs": [],
   "source": []
  },
  {
   "cell_type": "code",
   "execution_count": 42,
   "metadata": {},
   "outputs": [
    {
     "data": {
      "text/plain": [
       "5268    I think the rabbit ending was the \"real\" endin...\n",
       "5269    She was wiped out, didn't seemed to have eaten...\n",
       "5270                            How does the flair work? \n",
       "5271     She took the monkey with her when she drove off.\n",
       "5272    Nah, i'm just always trying to find connection...\n",
       "5273    You guys should checkout The Stanley Parable g...\n",
       "5274                 For me it was about money and stuff.\n",
       "5275    \"But guize! Teh wymynz power!\"\\n\\nSJW \"reasoning\"\n",
       "5276    The DNA is physical. The data from the thing o...\n",
       "5277    What about her need to kill the dog when it wa...\n",
       "Name: post, dtype: object"
      ]
     },
     "execution_count": 42,
     "metadata": {},
     "output_type": "execute_result"
    }
   ],
   "source": [
    "All_post_excl_BCS_BD = df[(df['title'] != 'Better Call Saul') & (df['title'] != 'Breaking Bad')]['post']\n",
    "All_post_excl_BCS_BD.head(10)"
   ]
  },
  {
   "cell_type": "code",
   "execution_count": 43,
   "metadata": {},
   "outputs": [
    {
     "data": {
      "application/vnd.jupyter.widget-view+json": {
       "model_id": "a29613d43dd24fee86ba3670430dce1e",
       "version_major": 2,
       "version_minor": 0
      },
      "text/plain": [
       "HBox(children=(FloatProgress(value=0.0, max=38308.0), HTML(value='')))"
      ]
     },
     "metadata": {},
     "output_type": "display_data"
    },
    {
     "name": "stdout",
     "output_type": "stream",
     "text": [
      "\n"
     ]
    }
   ],
   "source": [
    "All_adjs_excl_BCS_BD = All_post_excl_BCS_BD.progress_apply(lambda x: [y.lemma_ for y in nlp(x) if not y.is_punct and y.pos_ == 'ADJ'])\n"
   ]
  },
  {
   "cell_type": "code",
   "execution_count": 44,
   "metadata": {},
   "outputs": [],
   "source": [
    "flatten_whole_excl_BCS_BD = flatten(All_adjs_excl_BCS_BD)\n",
    "top_adj_in_All_excl_BCS_BD_counts = [x[0] for x in flatten_whole_excl_BCS_BD]"
   ]
  },
  {
   "cell_type": "code",
   "execution_count": 45,
   "metadata": {},
   "outputs": [],
   "source": [
    "distinctive_words_BCS_vs_All_excl_BCS_BD = distinctive_words(flatten_BCS, top_adj_in_All_excl_BCS_BD_counts)\n",
    "distinctive_words_BD_vs_All_excl_BCS_BD = distinctive_words(flatten_BD, top_adj_in_All_excl_BCS_BD_counts)"
   ]
  },
  {
   "cell_type": "code",
   "execution_count": 46,
   "metadata": {},
   "outputs": [
    {
     "data": {
      "text/html": [
       "<div>\n",
       "<style scoped>\n",
       "    .dataframe tbody tr th:only-of-type {\n",
       "        vertical-align: middle;\n",
       "    }\n",
       "\n",
       "    .dataframe tbody tr th {\n",
       "        vertical-align: top;\n",
       "    }\n",
       "\n",
       "    .dataframe thead th {\n",
       "        text-align: right;\n",
       "    }\n",
       "</style>\n",
       "<table border=\"1\" class=\"dataframe\">\n",
       "  <thead>\n",
       "    <tr style=\"text-align: right;\">\n",
       "      <th></th>\n",
       "      <th>word</th>\n",
       "      <th>llr</th>\n",
       "      <th>p_value</th>\n",
       "    </tr>\n",
       "  </thead>\n",
       "  <tbody>\n",
       "    <tr>\n",
       "      <th>1521</th>\n",
       "      <td>good</td>\n",
       "      <td>1317.868214</td>\n",
       "      <td>1.479887e-288</td>\n",
       "    </tr>\n",
       "    <tr>\n",
       "      <th>292</th>\n",
       "      <td>bad</td>\n",
       "      <td>906.826873</td>\n",
       "      <td>3.219192e-199</td>\n",
       "    </tr>\n",
       "    <tr>\n",
       "      <th>538</th>\n",
       "      <td>other</td>\n",
       "      <td>770.265117</td>\n",
       "      <td>1.574393e-169</td>\n",
       "    </tr>\n",
       "    <tr>\n",
       "      <th>20</th>\n",
       "      <td>same</td>\n",
       "      <td>745.460826</td>\n",
       "      <td>3.893905e-164</td>\n",
       "    </tr>\n",
       "    <tr>\n",
       "      <th>66</th>\n",
       "      <td>more</td>\n",
       "      <td>691.745288</td>\n",
       "      <td>1.865352e-152</td>\n",
       "    </tr>\n",
       "    <tr>\n",
       "      <th>44</th>\n",
       "      <td>first</td>\n",
       "      <td>675.224976</td>\n",
       "      <td>7.300193e-149</td>\n",
       "    </tr>\n",
       "    <tr>\n",
       "      <th>1484</th>\n",
       "      <td>great</td>\n",
       "      <td>563.808432</td>\n",
       "      <td>1.247849e-124</td>\n",
       "    </tr>\n",
       "    <tr>\n",
       "      <th>1683</th>\n",
       "      <td>right</td>\n",
       "      <td>539.072485</td>\n",
       "      <td>3.000625e-119</td>\n",
       "    </tr>\n",
       "    <tr>\n",
       "      <th>458</th>\n",
       "      <td>much</td>\n",
       "      <td>477.271528</td>\n",
       "      <td>8.384102e-106</td>\n",
       "    </tr>\n",
       "    <tr>\n",
       "      <th>1140</th>\n",
       "      <td>sure</td>\n",
       "      <td>469.035728</td>\n",
       "      <td>5.195195e-104</td>\n",
       "    </tr>\n",
       "  </tbody>\n",
       "</table>\n",
       "</div>"
      ],
      "text/plain": [
       "       word          llr        p_value\n",
       "1521   good  1317.868214  1.479887e-288\n",
       "292     bad   906.826873  3.219192e-199\n",
       "538   other   770.265117  1.574393e-169\n",
       "20     same   745.460826  3.893905e-164\n",
       "66     more   691.745288  1.865352e-152\n",
       "44    first   675.224976  7.300193e-149\n",
       "1484  great   563.808432  1.247849e-124\n",
       "1683  right   539.072485  3.000625e-119\n",
       "458    much   477.271528  8.384102e-106\n",
       "1140   sure   469.035728  5.195195e-104"
      ]
     },
     "execution_count": 46,
     "metadata": {},
     "output_type": "execute_result"
    }
   ],
   "source": [
    "distinctive_words_BCS_vs_All_excl_BCS_BD.sort_values('llr', ascending = False).head(10)"
   ]
  },
  {
   "cell_type": "code",
   "execution_count": 47,
   "metadata": {},
   "outputs": [
    {
     "data": {
      "text/html": [
       "<div>\n",
       "<style scoped>\n",
       "    .dataframe tbody tr th:only-of-type {\n",
       "        vertical-align: middle;\n",
       "    }\n",
       "\n",
       "    .dataframe tbody tr th {\n",
       "        vertical-align: top;\n",
       "    }\n",
       "\n",
       "    .dataframe thead th {\n",
       "        text-align: right;\n",
       "    }\n",
       "</style>\n",
       "<table border=\"1\" class=\"dataframe\">\n",
       "  <thead>\n",
       "    <tr style=\"text-align: right;\">\n",
       "      <th></th>\n",
       "      <th>word</th>\n",
       "      <th>llr</th>\n",
       "      <th>p_value</th>\n",
       "    </tr>\n",
       "  </thead>\n",
       "  <tbody>\n",
       "    <tr>\n",
       "      <th>1086</th>\n",
       "      <td>good</td>\n",
       "      <td>1014.167627</td>\n",
       "      <td>1.495395e-222</td>\n",
       "    </tr>\n",
       "    <tr>\n",
       "      <th>207</th>\n",
       "      <td>bad</td>\n",
       "      <td>675.213976</td>\n",
       "      <td>7.340514e-149</td>\n",
       "    </tr>\n",
       "    <tr>\n",
       "      <th>908</th>\n",
       "      <td>last</td>\n",
       "      <td>605.636216</td>\n",
       "      <td>9.951455e-134</td>\n",
       "    </tr>\n",
       "    <tr>\n",
       "      <th>29</th>\n",
       "      <td>first</td>\n",
       "      <td>521.249712</td>\n",
       "      <td>2.262826e-115</td>\n",
       "    </tr>\n",
       "    <tr>\n",
       "      <th>317</th>\n",
       "      <td>much</td>\n",
       "      <td>476.621173</td>\n",
       "      <td>1.161380e-105</td>\n",
       "    </tr>\n",
       "    <tr>\n",
       "      <th>811</th>\n",
       "      <td>sure</td>\n",
       "      <td>471.664514</td>\n",
       "      <td>1.391745e-104</td>\n",
       "    </tr>\n",
       "    <tr>\n",
       "      <th>44</th>\n",
       "      <td>more</td>\n",
       "      <td>466.708277</td>\n",
       "      <td>1.667543e-103</td>\n",
       "    </tr>\n",
       "    <tr>\n",
       "      <th>13</th>\n",
       "      <td>same</td>\n",
       "      <td>456.797072</td>\n",
       "      <td>2.392814e-101</td>\n",
       "    </tr>\n",
       "    <tr>\n",
       "      <th>805</th>\n",
       "      <td>next</td>\n",
       "      <td>417.169564</td>\n",
       "      <td>1.008159e-92</td>\n",
       "    </tr>\n",
       "    <tr>\n",
       "      <th>372</th>\n",
       "      <td>other</td>\n",
       "      <td>412.218117</td>\n",
       "      <td>1.205876e-91</td>\n",
       "    </tr>\n",
       "  </tbody>\n",
       "</table>\n",
       "</div>"
      ],
      "text/plain": [
       "       word          llr        p_value\n",
       "1086   good  1014.167627  1.495395e-222\n",
       "207     bad   675.213976  7.340514e-149\n",
       "908    last   605.636216  9.951455e-134\n",
       "29    first   521.249712  2.262826e-115\n",
       "317    much   476.621173  1.161380e-105\n",
       "811    sure   471.664514  1.391745e-104\n",
       "44     more   466.708277  1.667543e-103\n",
       "13     same   456.797072  2.392814e-101\n",
       "805    next   417.169564   1.008159e-92\n",
       "372   other   412.218117   1.205876e-91"
      ]
     },
     "execution_count": 47,
     "metadata": {},
     "output_type": "execute_result"
    }
   ],
   "source": [
    "distinctive_words_BD_vs_All_excl_BCS_BD.sort_values('llr', ascending = False).head(10)\n"
   ]
  },
  {
   "cell_type": "code",
   "execution_count": 48,
   "metadata": {},
   "outputs": [
    {
     "data": {
      "text/plain": [
       "0                    Walter. And there the chain ends.\n",
       "1    I love this show. But it's hard to argue again...\n",
       "2    What am I missing?  A lot of reference to ribs...\n",
       "3            Oh come on Mike, he's a good little boy. \n",
       "4                                         Look again 👀\n",
       "5    I'm watching with my mum and she was like \"Kim...\n",
       "6    Maybe when Jimmy gets the $7 million to ABQ, t...\n",
       "7    Didn't VG say no other BB characters would be ...\n",
       "8    I remember spooning (gahhk that word is so bad...\n",
       "9          How did Gus find out mike knew about Nacho?\n",
       "Name: post, dtype: object"
      ]
     },
     "execution_count": 48,
     "metadata": {},
     "output_type": "execute_result"
    }
   ],
   "source": [
    "All_post_BCS_BD = df[(df['title'] == 'Better Call Saul') | (df['title'] == 'Breaking Bad')]['post']\n",
    "All_post_BCS_BD.head(10)"
   ]
  },
  {
   "cell_type": "code",
   "execution_count": 49,
   "metadata": {},
   "outputs": [
    {
     "data": {
      "application/vnd.jupyter.widget-view+json": {
       "model_id": "57a9f41c45ff47629eeceb9cf513fb14",
       "version_major": 2,
       "version_minor": 0
      },
      "text/plain": [
       "HBox(children=(FloatProgress(value=0.0, max=11692.0), HTML(value='')))"
      ]
     },
     "metadata": {},
     "output_type": "display_data"
    },
    {
     "name": "stdout",
     "output_type": "stream",
     "text": [
      "\n"
     ]
    }
   ],
   "source": [
    "All_adjs_BCS_BD = All_post_BCS_BD.progress_apply(lambda x: [y.lemma_ for y in nlp(x) if not y.is_punct and y.pos_ == 'ADJ'])\n"
   ]
  },
  {
   "cell_type": "code",
   "execution_count": 50,
   "metadata": {},
   "outputs": [],
   "source": [
    "flatten_BCS_BD = flatten(All_adjs_BCS_BD)\n",
    "top_adj_in_All_excl_BCS_BD_counts = [x[0] for x in flatten_BCS_BD]"
   ]
  },
  {
   "cell_type": "code",
   "execution_count": 51,
   "metadata": {},
   "outputs": [
    {
     "data": {
      "text/html": [
       "<div>\n",
       "<style scoped>\n",
       "    .dataframe tbody tr th:only-of-type {\n",
       "        vertical-align: middle;\n",
       "    }\n",
       "\n",
       "    .dataframe tbody tr th {\n",
       "        vertical-align: top;\n",
       "    }\n",
       "\n",
       "    .dataframe thead th {\n",
       "        text-align: right;\n",
       "    }\n",
       "</style>\n",
       "<table border=\"1\" class=\"dataframe\">\n",
       "  <thead>\n",
       "    <tr style=\"text-align: right;\">\n",
       "      <th></th>\n",
       "      <th>word</th>\n",
       "      <th>llr</th>\n",
       "      <th>p_value</th>\n",
       "    </tr>\n",
       "  </thead>\n",
       "  <tbody>\n",
       "    <tr>\n",
       "      <th>1918</th>\n",
       "      <td>good</td>\n",
       "      <td>731.769174</td>\n",
       "      <td>3.694064e-161</td>\n",
       "    </tr>\n",
       "    <tr>\n",
       "      <th>371</th>\n",
       "      <td>bad</td>\n",
       "      <td>495.727019</td>\n",
       "      <td>8.085236e-110</td>\n",
       "    </tr>\n",
       "    <tr>\n",
       "      <th>25</th>\n",
       "      <td>same</td>\n",
       "      <td>379.186277</td>\n",
       "      <td>1.871208e-84</td>\n",
       "    </tr>\n",
       "    <tr>\n",
       "      <th>681</th>\n",
       "      <td>other</td>\n",
       "      <td>374.984021</td>\n",
       "      <td>1.538288e-83</td>\n",
       "    </tr>\n",
       "    <tr>\n",
       "      <th>56</th>\n",
       "      <td>first</td>\n",
       "      <td>373.583429</td>\n",
       "      <td>3.104420e-83</td>\n",
       "    </tr>\n",
       "    <tr>\n",
       "      <th>82</th>\n",
       "      <td>more</td>\n",
       "      <td>363.781538</td>\n",
       "      <td>4.228406e-81</td>\n",
       "    </tr>\n",
       "    <tr>\n",
       "      <th>1610</th>\n",
       "      <td>last</td>\n",
       "      <td>324.613989</td>\n",
       "      <td>1.431847e-72</td>\n",
       "    </tr>\n",
       "    <tr>\n",
       "      <th>581</th>\n",
       "      <td>much</td>\n",
       "      <td>293.885718</td>\n",
       "      <td>7.078034e-66</td>\n",
       "    </tr>\n",
       "    <tr>\n",
       "      <th>1437</th>\n",
       "      <td>sure</td>\n",
       "      <td>289.698753</td>\n",
       "      <td>5.783564e-65</td>\n",
       "    </tr>\n",
       "    <tr>\n",
       "      <th>2115</th>\n",
       "      <td>right</td>\n",
       "      <td>281.327217</td>\n",
       "      <td>3.858114e-63</td>\n",
       "    </tr>\n",
       "  </tbody>\n",
       "</table>\n",
       "</div>"
      ],
      "text/plain": [
       "       word         llr        p_value\n",
       "1918   good  731.769174  3.694064e-161\n",
       "371     bad  495.727019  8.085236e-110\n",
       "25     same  379.186277   1.871208e-84\n",
       "681   other  374.984021   1.538288e-83\n",
       "56    first  373.583429   3.104420e-83\n",
       "82     more  363.781538   4.228406e-81\n",
       "1610   last  324.613989   1.431847e-72\n",
       "581    much  293.885718   7.078034e-66\n",
       "1437   sure  289.698753   5.783564e-65\n",
       "2115  right  281.327217   3.858114e-63"
      ]
     },
     "execution_count": 51,
     "metadata": {},
     "output_type": "execute_result"
    }
   ],
   "source": [
    "results_df_4 = distinctive_words(flatten_BCS_BD, top_adj_in_All_excl_BCS_BD_counts)\n",
    "results_df_4.sort_values('llr', ascending=False).head(10)"
   ]
  },
  {
   "cell_type": "code",
   "execution_count": 81,
   "metadata": {},
   "outputs": [],
   "source": [
    "results_df_2['type'] = 'Better Call Saul' # 2.5\n",
    "results_df_3['type'] = 'Breaking Bad' # 2.6\n",
    "results_df_4['type'] = 'Both' # 2.7\n",
    "results_all = pd.concat([results_df_2, results_df_3, results_df_4])\n"
   ]
  },
  {
   "cell_type": "code",
   "execution_count": 82,
   "metadata": {},
   "outputs": [
    {
     "name": "stdout",
     "output_type": "stream",
     "text": [
      "               word        llr   p_value  type\n",
      "0     indispensable   0.000000  1.000000  Both\n",
      "1               wet   0.523281  0.469446  Both\n",
      "2           lovable   1.455646  0.227624  Both\n",
      "3         everytime   0.000000  1.000000  Both\n",
      "4           loooong   0.000000  1.000000  Both\n",
      "...             ...        ...       ...   ...\n",
      "2173    untouchable   0.000000  1.000000  Both\n",
      "2174    unfortunate   2.531309  0.111608  Both\n",
      "2175        skilled   0.000000  1.000000  Both\n",
      "2176      fantastic  16.416448  0.000051  Both\n",
      "2177          fishy   0.523281  0.469446  Both\n",
      "\n",
      "[2178 rows x 4 columns]\n"
     ]
    }
   ],
   "source": [
    "print(results_all[results_all.type=='Both'])"
   ]
  },
  {
   "cell_type": "code",
   "execution_count": 83,
   "metadata": {},
   "outputs": [],
   "source": [
    "results_all = results_all.sort_values('llr', ascending = False).drop_duplicates(['word'])"
   ]
  },
  {
   "cell_type": "code",
   "execution_count": 84,
   "metadata": {},
   "outputs": [
    {
     "name": "stdout",
     "output_type": "stream",
     "text": [
      "     word       llr   p_value  type\n",
      "251     \\ -0.000000  1.000000  Both\n",
      "1687    C -0.000000  1.000000  Both\n",
      "2087    4 -0.523281  0.469446  Both\n",
      "338     2 -1.455646  0.227624  Both\n",
      "1267    3 -1.455646  0.227624  Both\n"
     ]
    }
   ],
   "source": [
    "print(results_all[results_all.type=='Both'])"
   ]
  },
  {
   "cell_type": "code",
   "execution_count": 75,
   "metadata": {},
   "outputs": [],
   "source": [
    "# for our venn diagram we'll use \n",
    "# 1) a set incl distinctive words for the 1st subset + the most distinctive for both subsets\n",
    "# 2) a set the most distinctive words for the second subset + the most distinctive for both subsets\n",
    "first_set = np.concatenate([results_all[results_all.type=='Both']['word'][:20].values, results_all[results_all.type=='Breaking Bad']['word'][:20].values]).tolist()\n",
    "first_string = ' '.join(first_set)\n",
    "second_set = np.concatenate([results_all[results_all.type=='Both']['word'][:20].values, results_all[results_all.type=='Better Call Saul']['word'][:20].values]).tolist()\n",
    "second_string = ' '.join(second_set)"
   ]
  },
  {
   "cell_type": "code",
   "execution_count": 76,
   "metadata": {},
   "outputs": [
    {
     "data": {
      "text/plain": [
       "<matplotlib_venn._common.VennDiagram at 0x2342549f6c8>"
      ]
     },
     "execution_count": 76,
     "metadata": {},
     "output_type": "execute_result"
    },
    {
     "data": {
      "image/png": "[encoded data removed]",
      "text/plain": [
       "<Figure size 432x288 with 2 Axes>"
      ]
     },
     "metadata": {},
     "output_type": "display_data"
    }
   ],
   "source": [
    "sets = []\n",
    "for string in [first_string, second_string]:\n",
    "    # get a word list\n",
    "    words = string.split(' ')\n",
    "    # remove non alphanumeric characters\n",
    "    words = [''.join(ch for ch in word if ch.isalnum()) for word in words]\n",
    "    # convert to all lower case\n",
    "    words = [word.lower() for word in words]\n",
    "    sets.append(set(words))\n",
    "venn2_wordcloud(sets)"
   ]
  },
  {
   "cell_type": "code",
   "execution_count": null,
   "metadata": {},
   "outputs": [],
   "source": []
  }
 ],
 "metadata": {
  "kernelspec": {
   "display_name": "Python 3",
   "language": "python",
   "name": "python3"
  },
  "language_info": {
   "codemirror_mode": {
    "name": "ipython",
    "version": 3
   },
   "file_extension": ".py",
   "mimetype": "text/x-python",
   "name": "python",
   "nbconvert_exporter": "python",
   "pygments_lexer": "ipython3",
   "version": "3.7.6"
  }
 },
 "nbformat": 4,
 "nbformat_minor": 4
}
