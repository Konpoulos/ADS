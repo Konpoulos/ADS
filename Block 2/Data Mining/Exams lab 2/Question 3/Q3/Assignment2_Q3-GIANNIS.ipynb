{
 "cells": [
  {
   "cell_type": "markdown",
   "metadata": {},
   "source": [
    "# Question 3"
   ]
  },
  {
   "cell_type": "markdown",
   "metadata": {},
   "source": [
    "## Libraries"
   ]
  },
  {
   "cell_type": "code",
   "execution_count": 17,
   "metadata": {},
   "outputs": [],
   "source": [
    "import pandas as pd\n",
    "import os\n",
    "import cv2\n",
    "from tqdm import tqdm_notebook\n",
    "from scenedetect import VideoManager\n",
    "from scenedetect import SceneManager\n",
    "from scenedetect.detectors import ContentDetector\n",
    "from scenedetect.scene_manager import generate_images\n",
    "import matplotlib.pyplot as plt\n",
    "import numpy as np\n",
    "from scenedetect import VideoManager\n",
    "from scenedetect import SceneManager\n",
    "\n",
    "from scenedetect.detectors import ContentDetector\n",
    "from scenedetect.scene_manager import generate_images"
   ]
  },
  {
   "cell_type": "markdown",
   "metadata": {},
   "source": [
    "# Import"
   ]
  },
  {
   "cell_type": "code",
   "execution_count": 18,
   "metadata": {},
   "outputs": [
    {
     "name": "stdout",
     "output_type": "stream",
     "text": [
      "942\n"
     ]
    },
    {
     "data": {
      "text/html": [
       "<div>\n",
       "<style scoped>\n",
       "    .dataframe tbody tr th:only-of-type {\n",
       "        vertical-align: middle;\n",
       "    }\n",
       "\n",
       "    .dataframe tbody tr th {\n",
       "        vertical-align: top;\n",
       "    }\n",
       "\n",
       "    .dataframe thead th {\n",
       "        text-align: right;\n",
       "    }\n",
       "</style>\n",
       "<table border=\"1\" class=\"dataframe\">\n",
       "  <thead>\n",
       "    <tr style=\"text-align: right;\">\n",
       "      <th></th>\n",
       "      <th>trailer_title</th>\n",
       "      <th>url</th>\n",
       "      <th>imdb_id</th>\n",
       "      <th>year</th>\n",
       "      <th>rating</th>\n",
       "      <th>votes</th>\n",
       "      <th>genre</th>\n",
       "    </tr>\n",
       "  </thead>\n",
       "  <tbody>\n",
       "    <tr>\n",
       "      <th>0</th>\n",
       "      <td>THE BIG PARADE trailer</td>\n",
       "      <td>https://archive.org/download/TheBigParadeTrail...</td>\n",
       "      <td>15624</td>\n",
       "      <td>1925</td>\n",
       "      <td>7.9</td>\n",
       "      <td>6148.0</td>\n",
       "      <td>Drama|Romance|War</td>\n",
       "    </tr>\n",
       "    <tr>\n",
       "      <th>1</th>\n",
       "      <td>ALL QUIET ON THE WESTERN FRONT 1930 trailer</td>\n",
       "      <td>https://archive.org/download/AllQuietOnTheWest...</td>\n",
       "      <td>20629</td>\n",
       "      <td>1930</td>\n",
       "      <td>8.0</td>\n",
       "      <td>56948.0</td>\n",
       "      <td>Drama|War</td>\n",
       "    </tr>\n",
       "    <tr>\n",
       "      <th>2</th>\n",
       "      <td>THE OREGON TRAIL trailer</td>\n",
       "      <td>https://archive.org/download/TheOregonTrailTra...</td>\n",
       "      <td>20691</td>\n",
       "      <td>1926</td>\n",
       "      <td>7.2</td>\n",
       "      <td>3353.0</td>\n",
       "      <td>Adventure|Romance|Western</td>\n",
       "    </tr>\n",
       "    <tr>\n",
       "      <th>3</th>\n",
       "      <td>FIVE STAR FINAL trailer</td>\n",
       "      <td>https://archive.org/download/FiveStarFinalTrai...</td>\n",
       "      <td>21873</td>\n",
       "      <td>1931</td>\n",
       "      <td>7.2</td>\n",
       "      <td>1790.0</td>\n",
       "      <td>Crime|Drama</td>\n",
       "    </tr>\n",
       "    <tr>\n",
       "      <th>4</th>\n",
       "      <td>LITTLE CAESAR trailer</td>\n",
       "      <td>https://archive.org/download/LittleCaesarTrail...</td>\n",
       "      <td>21079</td>\n",
       "      <td>1931</td>\n",
       "      <td>7.3</td>\n",
       "      <td>11958.0</td>\n",
       "      <td>Action|Crime|Drama|Romance</td>\n",
       "    </tr>\n",
       "  </tbody>\n",
       "</table>\n",
       "</div>"
      ],
      "text/plain": [
       "                                 trailer_title  \\\n",
       "0                       THE BIG PARADE trailer   \n",
       "1  ALL QUIET ON THE WESTERN FRONT 1930 trailer   \n",
       "2                     THE OREGON TRAIL trailer   \n",
       "3                      FIVE STAR FINAL trailer   \n",
       "4                        LITTLE CAESAR trailer   \n",
       "\n",
       "                                                 url  imdb_id  year  rating  \\\n",
       "0  https://archive.org/download/TheBigParadeTrail...    15624  1925     7.9   \n",
       "1  https://archive.org/download/AllQuietOnTheWest...    20629  1930     8.0   \n",
       "2  https://archive.org/download/TheOregonTrailTra...    20691  1926     7.2   \n",
       "3  https://archive.org/download/FiveStarFinalTrai...    21873  1931     7.2   \n",
       "4  https://archive.org/download/LittleCaesarTrail...    21079  1931     7.3   \n",
       "\n",
       "     votes                       genre  \n",
       "0   6148.0           Drama|Romance|War  \n",
       "1  56948.0                   Drama|War  \n",
       "2   3353.0   Adventure|Romance|Western  \n",
       "3   1790.0                 Crime|Drama  \n",
       "4  11958.0  Action|Crime|Drama|Romance  "
      ]
     },
     "execution_count": 18,
     "metadata": {},
     "output_type": "execute_result"
    }
   ],
   "source": [
    "trailers = pd.read_csv(\"trailers.csv\")\n",
    "print(len(trailers))\n",
    "trailers.head()"
   ]
  },
  {
   "cell_type": "markdown",
   "metadata": {},
   "source": [
    "# Answer"
   ]
  },
  {
   "cell_type": "code",
   "execution_count": 19,
   "metadata": {},
   "outputs": [],
   "source": [
    "l_20_40 = list(range(1920,1940))\n",
    "l_60_80 = list(range(1960,1980))\n",
    "l_00_20 = list(range(2000,2020))"
   ]
  },
  {
   "cell_type": "code",
   "execution_count": 20,
   "metadata": {},
   "outputs": [],
   "source": [
    "t_20_40 = trailers[trailers[\"year\"].isin(l_20_40)]\n",
    "t_60_80 = trailers[trailers[\"year\"].isin(l_60_80)]\n",
    "t_00_20 = trailers[trailers[\"year\"].isin(l_00_20)]"
   ]
  },
  {
   "cell_type": "code",
   "execution_count": 21,
   "metadata": {},
   "outputs": [
    {
     "name": "stdout",
     "output_type": "stream",
     "text": [
      "30\n"
     ]
    },
    {
     "data": {
      "text/html": [
       "<div>\n",
       "<style scoped>\n",
       "    .dataframe tbody tr th:only-of-type {\n",
       "        vertical-align: middle;\n",
       "    }\n",
       "\n",
       "    .dataframe tbody tr th {\n",
       "        vertical-align: top;\n",
       "    }\n",
       "\n",
       "    .dataframe thead th {\n",
       "        text-align: right;\n",
       "    }\n",
       "</style>\n",
       "<table border=\"1\" class=\"dataframe\">\n",
       "  <thead>\n",
       "    <tr style=\"text-align: right;\">\n",
       "      <th></th>\n",
       "      <th>trailer_title</th>\n",
       "      <th>url</th>\n",
       "      <th>imdb_id</th>\n",
       "      <th>year</th>\n",
       "      <th>rating</th>\n",
       "      <th>votes</th>\n",
       "      <th>genre</th>\n",
       "    </tr>\n",
       "  </thead>\n",
       "  <tbody>\n",
       "    <tr>\n",
       "      <th>0</th>\n",
       "      <td>DINNER AT EIGHT trailer</td>\n",
       "      <td>https://archive.org/download/DinnerAtEightTrai...</td>\n",
       "      <td>23948</td>\n",
       "      <td>1933</td>\n",
       "      <td>7.5</td>\n",
       "      <td>7536.0</td>\n",
       "      <td>Comedy|Drama</td>\n",
       "    </tr>\n",
       "    <tr>\n",
       "      <th>1</th>\n",
       "      <td>FOOTLIGHT PARADE trailer</td>\n",
       "      <td>https://archive.org/download/FootlightParadeTr...</td>\n",
       "      <td>24028</td>\n",
       "      <td>1933</td>\n",
       "      <td>7.5</td>\n",
       "      <td>4832.0</td>\n",
       "      <td>Comedy|Musical|Romance</td>\n",
       "    </tr>\n",
       "    <tr>\n",
       "      <th>2</th>\n",
       "      <td>ALL QUIET ON THE WESTERN FRONT 1930 trailer</td>\n",
       "      <td>https://archive.org/download/AllQuietOnTheWest...</td>\n",
       "      <td>20629</td>\n",
       "      <td>1930</td>\n",
       "      <td>8.0</td>\n",
       "      <td>56948.0</td>\n",
       "      <td>Drama|War</td>\n",
       "    </tr>\n",
       "    <tr>\n",
       "      <th>3</th>\n",
       "      <td>SATAN MET A LADY trailer</td>\n",
       "      <td>https://archive.org/download/SatanMetALadyTrai...</td>\n",
       "      <td>28219</td>\n",
       "      <td>1936</td>\n",
       "      <td>6.0</td>\n",
       "      <td>1894.0</td>\n",
       "      <td>Comedy|Crime|Mystery</td>\n",
       "    </tr>\n",
       "    <tr>\n",
       "      <th>4</th>\n",
       "      <td>THE GOOD EARTH trailer</td>\n",
       "      <td>https://archive.org/download/TheGoodEarthTrail...</td>\n",
       "      <td>28944</td>\n",
       "      <td>1937</td>\n",
       "      <td>7.5</td>\n",
       "      <td>4474.0</td>\n",
       "      <td>Drama|Romance</td>\n",
       "    </tr>\n",
       "  </tbody>\n",
       "</table>\n",
       "</div>"
      ],
      "text/plain": [
       "                                 trailer_title  \\\n",
       "0                      DINNER AT EIGHT trailer   \n",
       "1                     FOOTLIGHT PARADE trailer   \n",
       "2  ALL QUIET ON THE WESTERN FRONT 1930 trailer   \n",
       "3                     SATAN MET A LADY trailer   \n",
       "4                       THE GOOD EARTH trailer   \n",
       "\n",
       "                                                 url  imdb_id  year  rating  \\\n",
       "0  https://archive.org/download/DinnerAtEightTrai...    23948  1933     7.5   \n",
       "1  https://archive.org/download/FootlightParadeTr...    24028  1933     7.5   \n",
       "2  https://archive.org/download/AllQuietOnTheWest...    20629  1930     8.0   \n",
       "3  https://archive.org/download/SatanMetALadyTrai...    28219  1936     6.0   \n",
       "4  https://archive.org/download/TheGoodEarthTrail...    28944  1937     7.5   \n",
       "\n",
       "     votes                   genre  \n",
       "0   7536.0            Comedy|Drama  \n",
       "1   4832.0  Comedy|Musical|Romance  \n",
       "2  56948.0               Drama|War  \n",
       "3   1894.0    Comedy|Crime|Mystery  \n",
       "4   4474.0           Drama|Romance  "
      ]
     },
     "execution_count": 21,
     "metadata": {},
     "output_type": "execute_result"
    }
   ],
   "source": [
    "t_20_40_sample = t_20_40.sample(10, random_state=8).reset_index(drop=True)\n",
    "t_60_80_sample = t_60_80.sample(10, random_state=8).reset_index(drop=True)\n",
    "t_00_20_sample = t_00_20.sample(10, random_state=8).reset_index(drop=True)\n",
    "\n",
    "t_samples = pd.concat([t_20_40_sample, t_60_80_sample, t_00_20_sample])\n",
    "print(len(t_samples))\n",
    "t_samples.head()"
   ]
  },
  {
   "cell_type": "markdown",
   "metadata": {},
   "source": [
    "FIRST DOWNLOAD ALL SAMPLED TRAILERS"
   ]
  },
  {
   "cell_type": "code",
   "execution_count": 22,
   "metadata": {},
   "outputs": [
    {
     "name": "stdout",
     "output_type": "stream",
     "text": [
      "DINNER AT EIGHT trailer\n",
      "FOOTLIGHT PARADE trailer\n",
      "ALL QUIET ON THE WESTERN FRONT 1930 trailer\n",
      "SATAN MET A LADY trailer\n",
      "THE GOOD EARTH trailer\n",
      "THE YOUNG IN HEART trailer\n",
      "AT THE CIRCUS trailer\n",
      "THE GAY DIVORCEE trailer\n",
      "TEST PILOT trailer\n",
      "BONNIE SCOTLAND trailer\n",
      "LET'S MAKE LOVE trailer\n",
      "55 DAYS AT PEKING trailer\n",
      "THE CRAWLING HAND trailer 2\n",
      "THE ROSE trailer\n",
      "GENGHIS KHAN trailer\n",
      "MATANGO trailer\n",
      "BOCCACCIO '70 trailer\n",
      "COCO BEFORE CHANEL full trailer\n",
      "HIGH ANXIETY trailer\n",
      "OUR MAN FLINT trailer\n",
      "HARDWIRED trailer\n",
      "MR & MRS SMITH 2005 trailer\n",
      "THE MESSENGER trailers\n",
      "THE TRIPLETS OF BELLEVILLE trailer\n",
      "KATE & LEOPOLD trailer\n",
      "BEYOND THE TIME BARRIER trailer 2\n",
      "DID YOU HEAR ABOUT THE MORGANS? trailer\n",
      "THE SECRET IN THEIR EYES trailer\n",
      "CHRISTMAS WITH THE KRANKS trailer\n",
      "KUNG FU PANDA 2 dvd trailer\n"
     ]
    }
   ],
   "source": [
    " for i in range(len(t_samples)):\n",
    "    tr = t_samples.iloc[i]\n",
    "    print(tr[\"trailer_title\"])\n",
    "   \n",
    "    tr_url = tr[\"url\"]\n",
    "    tr_file = tr_url.split(\"/\")[-1]\n",
    "    if not os.path.isfile(tr_file):\n",
    "        os.system(\"wget \" + tr_url)"
   ]
  },
  {
   "cell_type": "markdown",
   "metadata": {},
   "source": [
    "# LOOP"
   ]
  },
  {
   "cell_type": "code",
   "execution_count": 23,
   "metadata": {},
   "outputs": [
    {
     "ename": "NameError",
     "evalue": "name 'load_model' is not defined",
     "output_type": "error",
     "traceback": [
      "\u001b[1;31m---------------------------------------------------------------------------\u001b[0m",
      "\u001b[1;31mNameError\u001b[0m                                 Traceback (most recent call last)",
      "\u001b[1;32m<ipython-input-23-8fac739a6304>\u001b[0m in \u001b[0;36m<module>\u001b[1;34m\u001b[0m\n\u001b[0;32m     12\u001b[0m \u001b[0mface_classification\u001b[0m \u001b[1;33m=\u001b[0m \u001b[0mcv2\u001b[0m\u001b[1;33m.\u001b[0m\u001b[0mCascadeClassifier\u001b[0m\u001b[1;33m(\u001b[0m\u001b[1;34m'haarcascade_frontalface_default.xml'\u001b[0m\u001b[1;33m)\u001b[0m \u001b[1;31m# load the classifier only once!\u001b[0m\u001b[1;33m\u001b[0m\u001b[1;33m\u001b[0m\u001b[0m\n\u001b[0;32m     13\u001b[0m \u001b[1;33m\u001b[0m\u001b[0m\n\u001b[1;32m---> 14\u001b[1;33m \u001b[0memotion_classifier\u001b[0m \u001b[1;33m=\u001b[0m \u001b[0mload_model\u001b[0m\u001b[1;33m(\u001b[0m\u001b[1;34m'fer2013_mini_XCEPTION.102-0.66.hdf5'\u001b[0m\u001b[1;33m)\u001b[0m \u001b[1;31m# load this only once! (not in a loop)\u001b[0m\u001b[1;33m\u001b[0m\u001b[1;33m\u001b[0m\u001b[0m\n\u001b[0m\u001b[0;32m     15\u001b[0m \u001b[0mEMOTION_OFFSETS\u001b[0m \u001b[1;33m=\u001b[0m \u001b[1;33m(\u001b[0m\u001b[1;36m0\u001b[0m\u001b[1;33m,\u001b[0m \u001b[1;36m0\u001b[0m\u001b[1;33m)\u001b[0m\u001b[1;33m\u001b[0m\u001b[1;33m\u001b[0m\u001b[0m\n\u001b[0;32m     16\u001b[0m \u001b[0mINPUT_SHAPE_EMOTION\u001b[0m \u001b[1;33m=\u001b[0m \u001b[0memotion_classifier\u001b[0m\u001b[1;33m.\u001b[0m\u001b[0minput_shape\u001b[0m\u001b[1;33m[\u001b[0m\u001b[1;36m1\u001b[0m\u001b[1;33m:\u001b[0m\u001b[1;36m3\u001b[0m\u001b[1;33m]\u001b[0m\u001b[1;33m\u001b[0m\u001b[1;33m\u001b[0m\u001b[0m\n",
      "\u001b[1;31mNameError\u001b[0m: name 'load_model' is not defined"
     ]
    }
   ],
   "source": [
    "def find_scenes(video_path, threshold=30.0):\n",
    "    video_manager = VideoManager([video_path])\n",
    "    scene_manager = SceneManager()\n",
    "    scene_manager.add_detector(\n",
    "        ContentDetector(threshold=threshold))\n",
    "    base_timecode = video_manager.get_base_timecode()\n",
    "    video_manager.set_downscale_factor()\n",
    "    video_manager.start()\n",
    "    scene_manager.detect_scenes(frame_source=video_manager, show_progress=False)    \n",
    "    return scene_manager.get_scene_list(base_timecode)\n",
    "\n",
    "face_classification = cv2.CascadeClassifier('haarcascade_frontalface_default.xml') # load the classifier only once!\n",
    "\n",
    "emotion_classifier = load_model('fer2013_mini_XCEPTION.102-0.66.hdf5') # load this only once! (not in a loop)\n",
    "EMOTION_OFFSETS = (0, 0)\n",
    "INPUT_SHAPE_EMOTION = emotion_classifier.input_shape[1:3]\n",
    "labels = ['angry', 'disgust', 'fear', 'happy', 'sad', 'surprise', 'neutral']"
   ]
  },
  {
   "cell_type": "code",
   "execution_count": 130,
   "metadata": {},
   "outputs": [],
   "source": [
    "trailer_faces = pd.DataFrame()\n",
    "trailer_emotions = pd.DataFrame()"
   ]
  },
  {
   "cell_type": "code",
   "execution_count": 131,
   "metadata": {
    "scrolled": false
   },
   "outputs": [
    {
     "name": "stdout",
     "output_type": "stream",
     "text": [
      "DinnerAtEightTrailer.mp4\n",
      "FootlightParadeTrailer.mp4\n",
      "AllQuietOnTheWesternFront1930Trailer.mp4\n",
      "SatanMetALadyTrailer.mp4\n",
      "TheGoodEarthTrailer.mp4\n",
      "TheYoungInHeartTrailer.mp4\n",
      "AtTheCircusTrailer.mp4\n",
      "TheGayDivorceeTrailer.mp4\n",
      "TestPilotTrailer.mp4\n",
      "BonnieScotlandTrailer.mp4\n",
      "LetsMakeLoveTrailer.mp4\n",
      "55DaysAtPekingTrailer.mp4\n",
      "TheCrawlingHandTrailer2.mp4\n",
      "TheRoseTrailer.mp4\n",
      "GenghisKhanTrailer.mp4\n",
      "MatangoTrailer.mp4\n",
      "Boccaccio70Trailer.mp4\n",
      "CocoBeforeChanelFullTrailer.mp4\n",
      "HighAnxietyTrailer.mp4\n",
      "OurManFlintTrailer.mp4\n",
      "HardwiredTrailer.mp4\n",
      "MrMrsSmith2005Trailer.mp4\n",
      "TheMessengerTrailer1.mp4\n",
      "TheTripletsOfBellviewTrailer.mp4\n",
      "KateLeopoldTrailer.mp4\n",
      "BeyondTheTimeBarrierTrailer2.mp4\n",
      "DidYouHearAboutTheMorgansTrailer.mp4\n",
      "TheSecretInTheirEyesTrailer.mp4\n",
      "ChristmasWithTheKranksTrailer.mp4\n",
      "KungFuPanda2DvdTrailer.mp4\n"
     ]
    }
   ],
   "source": [
    "# for i in range(len(t_samples)):\n",
    "#     # get trailer\n",
    "#     tr = t_samples.iloc[i]\n",
    "#     tr_url = tr[\"url\"]\n",
    "#     tr_file = tr_url.split(\"/\")[-1]\n",
    "#     if os.path.isfile(str(tr_file)):\n",
    "#         print (str(tr_file))\n",
    "#     else:\n",
    "#         print(f\"error with {tr_file}\")\n",
    "    \n",
    "#     # get frames\n",
    "#     filename = tr_file\n",
    "#     if filename not in trailer_faces.index:\n",
    "#         cap = cv2.VideoCapture(filename)\n",
    "#         frames = []\n",
    "#         scene_list = find_scenes(filename, threshold=15)\n",
    "#         for start_time, end_time in scene_list:\n",
    "#             duration = end_time - start_time\n",
    "#             frame = (start_time.get_frames() + int(duration.get_frames() / 2))\n",
    "#             cap.set(cv2.CAP_PROP_POS_FRAMES,frame)\n",
    "#             ret, frame = cap.read()\n",
    "#             frame = cv2.cvtColor(frame, cv2.COLOR_BGR2GRAY)\n",
    "#             frames.append(frame)\n",
    "\n",
    "#         # get amount of faces in frame\n",
    "#         frame_faces = []\n",
    "#         emotions_probas = []\n",
    "#         for frame in frames:\n",
    "#             gray_image = frame\n",
    "#             faces = face_classification.detectMultiScale(gray_image, 1.3, 5) # detect the faces \n",
    "#             n_faces = len(faces) # get the number of faces\n",
    "#             frame_faces.append(n_faces)\n",
    "#             # for each frame with faces, I want to get the emotions\n",
    "#             if n_faces > 0:\n",
    "#                 for face_coordinates in faces:\n",
    "#                     x1, x2, y1, y2 = apply_offsets(face_coordinates, EMOTION_OFFSETS) \n",
    "#                     face_img = gray_image[y1:y2, x1:x2] # only get the face\n",
    "#                     face_img = cv2.resize(face_img, (INPUT_SHAPE_EMOTION))\n",
    "#                     face_img = face_img.astype('float32') / 255.0 # pre-processing \n",
    "#                     face_img = face_img - 0.5 # pre-processing specific to the emotion classifier\n",
    "#                     face_img = face_img * 2.0 # pre-processing specific to the emotion classifier\n",
    "#                     face_img = np.expand_dims(face_img, 0) # batch of one\n",
    "#                     face_img = np.expand_dims(face_img, -1) # pre-processing specific to the emotion classifier\n",
    "#                     probas = emotion_classifier.predict(face_img).squeeze()\n",
    "#                     # add emotions of all faces to a list\n",
    "#                     emotions_probas.append(probas)\n",
    "#         face_described = pd.DataFrame(frame_faces).describe()\n",
    "#         face_described_t = face_described.transpose()\n",
    "#         face_described_t.columns = [f\"faces_in_frame_{desc}\" for desc in face_described_t.columns]\n",
    "#         face_described_t.index = [str(tr_file)]\n",
    "#         trailer_faces = pd.concat([trailer_faces, face_described.transpose()])\n",
    "        \n",
    "#         # make a df from probabilities\n",
    "#         emotions_probas_df = pd.DataFrame(emotions_probas, columns = labels)\n",
    "#         described_emotions = pd.DataFrame()\n",
    "#         for label in labels:\n",
    "#             described_emotion = pd.DataFrame(emotions_probas_df[label].describe())\n",
    "#             described_emotion_t = described_emotion.transpose()\n",
    "#             described_emotion_t.columns = [f\"{label}_{desc}\" for desc in described_emotion_t.columns]\n",
    "#             described_emotions = pd.concat([described_emotions, described_emotion_t.reset_index(drop=True)], axis=1)\n",
    "#         described_emotions.index = [filename]\n",
    "#         trailer_emotions = pd.concat([trailer_emotions, described_emotions])"
   ]
  },
  {
   "cell_type": "code",
   "execution_count": 126,
   "metadata": {},
   "outputs": [
    {
     "data": {
      "text/html": [
       "<div>\n",
       "<style scoped>\n",
       "    .dataframe tbody tr th:only-of-type {\n",
       "        vertical-align: middle;\n",
       "    }\n",
       "\n",
       "    .dataframe tbody tr th {\n",
       "        vertical-align: top;\n",
       "    }\n",
       "\n",
       "    .dataframe thead th {\n",
       "        text-align: right;\n",
       "    }\n",
       "</style>\n",
       "<table border=\"1\" class=\"dataframe\">\n",
       "  <thead>\n",
       "    <tr style=\"text-align: right;\">\n",
       "      <th></th>\n",
       "      <th>count</th>\n",
       "      <th>mean</th>\n",
       "      <th>std</th>\n",
       "      <th>min</th>\n",
       "      <th>25%</th>\n",
       "      <th>50%</th>\n",
       "      <th>75%</th>\n",
       "      <th>max</th>\n",
       "    </tr>\n",
       "  </thead>\n",
       "  <tbody>\n",
       "    <tr>\n",
       "      <th>DinnerAtEightTrailer.mp4</th>\n",
       "      <td>10.0</td>\n",
       "      <td>0.40</td>\n",
       "      <td>0.699206</td>\n",
       "      <td>0.0</td>\n",
       "      <td>0.0</td>\n",
       "      <td>0.0</td>\n",
       "      <td>0.75</td>\n",
       "      <td>2.0</td>\n",
       "    </tr>\n",
       "    <tr>\n",
       "      <th>FootlightParadeTrailer.mp4</th>\n",
       "      <td>20.0</td>\n",
       "      <td>0.45</td>\n",
       "      <td>0.686333</td>\n",
       "      <td>0.0</td>\n",
       "      <td>0.0</td>\n",
       "      <td>0.0</td>\n",
       "      <td>1.00</td>\n",
       "      <td>2.0</td>\n",
       "    </tr>\n",
       "  </tbody>\n",
       "</table>\n",
       "</div>"
      ],
      "text/plain": [
       "                            count  mean       std  min  25%  50%   75%  max\n",
       "DinnerAtEightTrailer.mp4     10.0  0.40  0.699206  0.0  0.0  0.0  0.75  2.0\n",
       "FootlightParadeTrailer.mp4   20.0  0.45  0.686333  0.0  0.0  0.0  1.00  2.0"
      ]
     },
     "execution_count": 126,
     "metadata": {},
     "output_type": "execute_result"
    }
   ],
   "source": [
    "trailer_faces"
   ]
  },
  {
   "cell_type": "code",
   "execution_count": null,
   "metadata": {},
   "outputs": [],
   "source": [
    "'angry_count', 'angry_mean', 'angry_std', 'angry_min', 'angry_25%','angry_50%', 'angry_75%', 'angry_max', 'disgust_count', 'disgust_mean', 'disgust_std', 'disgust_min', 'disgust_25%', 'disgust_50%', 'disgust_75%', 'disgust_max', 'fear_count', 'fear_mean', 'fear_std',\n",
    "'fear_min', 'fear_25%', 'fear_50%', 'fear_75%', 'fear_max', 'happy_count', 'happy_mean', 'happy_std', 'happy_min', 'happy_25%', 'happy_50%', 'happy_75%', 'happy_max', 'sad_count', 'sad_mean',\n",
    "       'sad_std', 'sad_min', 'sad_25%', 'sad_50%', 'sad_75%', 'sad_max',\n",
    "       'surprise_count', 'surprise_mean', 'surprise_std', 'surprise_min',\n",
    "       'surprise_25%', 'surprise_50%', 'surprise_75%', 'surprise_max',\n",
    "       'neutral_count', 'neutral_mean', 'neutral_std', 'neutral_min',\n",
    "       'neutral_25%', 'neutral_50%', 'neutral_75%', 'neutral_max'"
   ]
  },
  {
   "cell_type": "code",
   "execution_count": 138,
   "metadata": {},
   "outputs": [
    {
     "data": {
      "text/plain": [
       "Index(['angry_count', 'angry_mean', 'angry_std', 'angry_min', 'angry_25%',\n",
       "       'angry_50%', 'angry_75%', 'angry_max', 'disgust_count', 'disgust_mean',\n",
       "       'disgust_std', 'disgust_min', 'disgust_25%', 'disgust_50%',\n",
       "       'disgust_75%', 'disgust_max', 'fear_count', 'fear_mean', 'fear_std',\n",
       "       'fear_min', 'fear_25%', 'fear_50%', 'fear_75%', 'fear_max',\n",
       "       'happy_count', 'happy_mean', 'happy_std', 'happy_min', 'happy_25%',\n",
       "       'happy_50%', 'happy_75%', 'happy_max', 'sad_count', 'sad_mean',\n",
       "       'sad_std', 'sad_min', 'sad_25%', 'sad_50%', 'sad_75%', 'sad_max',\n",
       "       'surprise_count', 'surprise_mean', 'surprise_std', 'surprise_min',\n",
       "       'surprise_25%', 'surprise_50%', 'surprise_75%', 'surprise_max',\n",
       "       'neutral_count', 'neutral_mean', 'neutral_std', 'neutral_min',\n",
       "       'neutral_25%', 'neutral_50%', 'neutral_75%', 'neutral_max'],\n",
       "      dtype='object')"
      ]
     },
     "execution_count": 138,
     "metadata": {},
     "output_type": "execute_result"
    }
   ],
   "source": [
    "trailer_emotions.columns[0:56]"
   ]
  },
  {
   "cell_type": "code",
   "execution_count": 106,
   "metadata": {
    "scrolled": true
   },
   "outputs": [
    {
     "data": {
      "text/plain": [
       "True"
      ]
     },
     "execution_count": 106,
     "metadata": {},
     "output_type": "execute_result"
    }
   ],
   "source": [
    "filename in trailer_faces.index"
   ]
  },
  {
   "cell_type": "code",
   "execution_count": 110,
   "metadata": {},
   "outputs": [
    {
     "data": {
      "text/html": [
       "<div>\n",
       "<style scoped>\n",
       "    .dataframe tbody tr th:only-of-type {\n",
       "        vertical-align: middle;\n",
       "    }\n",
       "\n",
       "    .dataframe tbody tr th {\n",
       "        vertical-align: top;\n",
       "    }\n",
       "\n",
       "    .dataframe thead th {\n",
       "        text-align: right;\n",
       "    }\n",
       "</style>\n",
       "<table border=\"1\" class=\"dataframe\">\n",
       "  <thead>\n",
       "    <tr style=\"text-align: right;\">\n",
       "      <th></th>\n",
       "      <th>count</th>\n",
       "      <th>mean</th>\n",
       "      <th>std</th>\n",
       "      <th>min</th>\n",
       "      <th>25%</th>\n",
       "      <th>50%</th>\n",
       "      <th>75%</th>\n",
       "      <th>max</th>\n",
       "    </tr>\n",
       "  </thead>\n",
       "  <tbody>\n",
       "    <tr>\n",
       "      <th>a</th>\n",
       "      <td>10.0</td>\n",
       "      <td>0.40</td>\n",
       "      <td>0.699206</td>\n",
       "      <td>0.0</td>\n",
       "      <td>0.0</td>\n",
       "      <td>0.0</td>\n",
       "      <td>0.75</td>\n",
       "      <td>2.0</td>\n",
       "    </tr>\n",
       "    <tr>\n",
       "      <th>b</th>\n",
       "      <td>10.0</td>\n",
       "      <td>0.40</td>\n",
       "      <td>0.699206</td>\n",
       "      <td>0.0</td>\n",
       "      <td>0.0</td>\n",
       "      <td>0.0</td>\n",
       "      <td>0.75</td>\n",
       "      <td>2.0</td>\n",
       "    </tr>\n",
       "    <tr>\n",
       "      <th>c</th>\n",
       "      <td>20.0</td>\n",
       "      <td>0.45</td>\n",
       "      <td>0.686333</td>\n",
       "      <td>0.0</td>\n",
       "      <td>0.0</td>\n",
       "      <td>0.0</td>\n",
       "      <td>1.00</td>\n",
       "      <td>2.0</td>\n",
       "    </tr>\n",
       "  </tbody>\n",
       "</table>\n",
       "</div>"
      ],
      "text/plain": [
       "   count  mean       std  min  25%  50%   75%  max\n",
       "a   10.0  0.40  0.699206  0.0  0.0  0.0  0.75  2.0\n",
       "b   10.0  0.40  0.699206  0.0  0.0  0.0  0.75  2.0\n",
       "c   20.0  0.45  0.686333  0.0  0.0  0.0  1.00  2.0"
      ]
     },
     "execution_count": 110,
     "metadata": {},
     "output_type": "execute_result"
    }
   ],
   "source": [
    "trailer_faces.index = [\"a\", \"b\", \"c\"]\n",
    "trailer_faces"
   ]
  },
  {
   "cell_type": "code",
   "execution_count": 111,
   "metadata": {},
   "outputs": [
    {
     "data": {
      "text/html": [
       "<div>\n",
       "<style scoped>\n",
       "    .dataframe tbody tr th:only-of-type {\n",
       "        vertical-align: middle;\n",
       "    }\n",
       "\n",
       "    .dataframe tbody tr th {\n",
       "        vertical-align: top;\n",
       "    }\n",
       "\n",
       "    .dataframe thead th {\n",
       "        text-align: right;\n",
       "    }\n",
       "</style>\n",
       "<table border=\"1\" class=\"dataframe\">\n",
       "  <thead>\n",
       "    <tr style=\"text-align: right;\">\n",
       "      <th></th>\n",
       "      <th>angry_count</th>\n",
       "      <th>angry_mean</th>\n",
       "      <th>angry_std</th>\n",
       "      <th>angry_min</th>\n",
       "      <th>angry_25%</th>\n",
       "      <th>angry_50%</th>\n",
       "      <th>angry_75%</th>\n",
       "      <th>angry_max</th>\n",
       "      <th>disgust_count</th>\n",
       "      <th>disgust_mean</th>\n",
       "      <th>...</th>\n",
       "      <th>surprise_75%</th>\n",
       "      <th>surprise_max</th>\n",
       "      <th>neutral_count</th>\n",
       "      <th>neutral_mean</th>\n",
       "      <th>neutral_std</th>\n",
       "      <th>neutral_min</th>\n",
       "      <th>neutral_25%</th>\n",
       "      <th>neutral_50%</th>\n",
       "      <th>neutral_75%</th>\n",
       "      <th>neutral_max</th>\n",
       "    </tr>\n",
       "  </thead>\n",
       "  <tbody>\n",
       "    <tr>\n",
       "      <th>a</th>\n",
       "      <td>4.0</td>\n",
       "      <td>0.359922</td>\n",
       "      <td>0.366345</td>\n",
       "      <td>0.035736</td>\n",
       "      <td>0.166218</td>\n",
       "      <td>0.260920</td>\n",
       "      <td>0.454624</td>\n",
       "      <td>0.882112</td>\n",
       "      <td>4.0</td>\n",
       "      <td>0.005270</td>\n",
       "      <td>...</td>\n",
       "      <td>0.003082</td>\n",
       "      <td>0.008306</td>\n",
       "      <td>4.0</td>\n",
       "      <td>0.242066</td>\n",
       "      <td>0.335229</td>\n",
       "      <td>0.001963</td>\n",
       "      <td>0.036796</td>\n",
       "      <td>0.117705</td>\n",
       "      <td>0.322974</td>\n",
       "      <td>0.730891</td>\n",
       "    </tr>\n",
       "    <tr>\n",
       "      <th>b</th>\n",
       "      <td>4.0</td>\n",
       "      <td>0.359922</td>\n",
       "      <td>0.366345</td>\n",
       "      <td>0.035736</td>\n",
       "      <td>0.166218</td>\n",
       "      <td>0.260920</td>\n",
       "      <td>0.454624</td>\n",
       "      <td>0.882112</td>\n",
       "      <td>4.0</td>\n",
       "      <td>0.005270</td>\n",
       "      <td>...</td>\n",
       "      <td>0.003082</td>\n",
       "      <td>0.008306</td>\n",
       "      <td>4.0</td>\n",
       "      <td>0.242066</td>\n",
       "      <td>0.335229</td>\n",
       "      <td>0.001963</td>\n",
       "      <td>0.036796</td>\n",
       "      <td>0.117705</td>\n",
       "      <td>0.322974</td>\n",
       "      <td>0.730891</td>\n",
       "    </tr>\n",
       "    <tr>\n",
       "      <th>c</th>\n",
       "      <td>9.0</td>\n",
       "      <td>0.125044</td>\n",
       "      <td>0.095297</td>\n",
       "      <td>0.012480</td>\n",
       "      <td>0.058350</td>\n",
       "      <td>0.120425</td>\n",
       "      <td>0.133728</td>\n",
       "      <td>0.330355</td>\n",
       "      <td>9.0</td>\n",
       "      <td>0.015138</td>\n",
       "      <td>...</td>\n",
       "      <td>0.052133</td>\n",
       "      <td>0.120074</td>\n",
       "      <td>9.0</td>\n",
       "      <td>0.235089</td>\n",
       "      <td>0.215282</td>\n",
       "      <td>0.079644</td>\n",
       "      <td>0.096945</td>\n",
       "      <td>0.108153</td>\n",
       "      <td>0.375910</td>\n",
       "      <td>0.695363</td>\n",
       "    </tr>\n",
       "  </tbody>\n",
       "</table>\n",
       "<p>3 rows × 56 columns</p>\n",
       "</div>"
      ],
      "text/plain": [
       "   angry_count  angry_mean  angry_std  angry_min  angry_25%  angry_50%  \\\n",
       "a          4.0    0.359922   0.366345   0.035736   0.166218   0.260920   \n",
       "b          4.0    0.359922   0.366345   0.035736   0.166218   0.260920   \n",
       "c          9.0    0.125044   0.095297   0.012480   0.058350   0.120425   \n",
       "\n",
       "   angry_75%  angry_max  disgust_count  disgust_mean  ...  surprise_75%  \\\n",
       "a   0.454624   0.882112            4.0      0.005270  ...      0.003082   \n",
       "b   0.454624   0.882112            4.0      0.005270  ...      0.003082   \n",
       "c   0.133728   0.330355            9.0      0.015138  ...      0.052133   \n",
       "\n",
       "   surprise_max  neutral_count  neutral_mean  neutral_std  neutral_min  \\\n",
       "a      0.008306            4.0      0.242066     0.335229     0.001963   \n",
       "b      0.008306            4.0      0.242066     0.335229     0.001963   \n",
       "c      0.120074            9.0      0.235089     0.215282     0.079644   \n",
       "\n",
       "   neutral_25%  neutral_50%  neutral_75%  neutral_max  \n",
       "a     0.036796     0.117705     0.322974     0.730891  \n",
       "b     0.036796     0.117705     0.322974     0.730891  \n",
       "c     0.096945     0.108153     0.375910     0.695363  \n",
       "\n",
       "[3 rows x 56 columns]"
      ]
     },
     "execution_count": 111,
     "metadata": {},
     "output_type": "execute_result"
    }
   ],
   "source": [
    "trailer_emotions.index = trailer_faces.index\n",
    "trailer_emotions"
   ]
  },
  {
   "cell_type": "code",
   "execution_count": 104,
   "metadata": {},
   "outputs": [
    {
     "data": {
      "text/plain": [
       "Int64Index([0, 0, 0], dtype='int64')"
      ]
     },
     "execution_count": 104,
     "metadata": {},
     "output_type": "execute_result"
    }
   ],
   "source": [
    "trailer_emotions.index"
   ]
  },
  {
   "cell_type": "code",
   "execution_count": 96,
   "metadata": {},
   "outputs": [
    {
     "data": {
      "text/plain": [
       "count    4.000000\n",
       "mean     0.359922\n",
       "std      0.366345\n",
       "min      0.035736\n",
       "25%      0.166218\n",
       "50%      0.260920\n",
       "75%      0.454624\n",
       "max      0.882112\n",
       "Name: angry, dtype: float64"
      ]
     },
     "execution_count": 96,
     "metadata": {},
     "output_type": "execute_result"
    }
   ],
   "source": [
    "described_emotion_t"
   ]
  },
  {
   "cell_type": "code",
   "execution_count": 23,
   "metadata": {},
   "outputs": [
    {
     "data": {
      "text/html": [
       "<div>\n",
       "<style scoped>\n",
       "    .dataframe tbody tr th:only-of-type {\n",
       "        vertical-align: middle;\n",
       "    }\n",
       "\n",
       "    .dataframe tbody tr th {\n",
       "        vertical-align: top;\n",
       "    }\n",
       "\n",
       "    .dataframe thead th {\n",
       "        text-align: right;\n",
       "    }\n",
       "</style>\n",
       "<table border=\"1\" class=\"dataframe\">\n",
       "  <thead>\n",
       "    <tr style=\"text-align: right;\">\n",
       "      <th></th>\n",
       "      <th>index</th>\n",
       "      <th>count</th>\n",
       "      <th>mean</th>\n",
       "      <th>std</th>\n",
       "      <th>min</th>\n",
       "      <th>25%</th>\n",
       "      <th>50%</th>\n",
       "      <th>75%</th>\n",
       "      <th>max</th>\n",
       "    </tr>\n",
       "  </thead>\n",
       "  <tbody>\n",
       "    <tr>\n",
       "      <th>0</th>\n",
       "      <td>DinnerAtEightTrailer.mp4</td>\n",
       "      <td>10.0</td>\n",
       "      <td>0.400000</td>\n",
       "      <td>0.699206</td>\n",
       "      <td>0.0</td>\n",
       "      <td>0.0</td>\n",
       "      <td>0.0</td>\n",
       "      <td>0.75</td>\n",
       "      <td>2.0</td>\n",
       "    </tr>\n",
       "    <tr>\n",
       "      <th>1</th>\n",
       "      <td>FootlightParadeTrailer.mp4</td>\n",
       "      <td>20.0</td>\n",
       "      <td>0.450000</td>\n",
       "      <td>0.686333</td>\n",
       "      <td>0.0</td>\n",
       "      <td>0.0</td>\n",
       "      <td>0.0</td>\n",
       "      <td>1.00</td>\n",
       "      <td>2.0</td>\n",
       "    </tr>\n",
       "    <tr>\n",
       "      <th>2</th>\n",
       "      <td>AllQuietOnTheWesternFront1930Trailer.mp4</td>\n",
       "      <td>98.0</td>\n",
       "      <td>0.275510</td>\n",
       "      <td>0.588211</td>\n",
       "      <td>0.0</td>\n",
       "      <td>0.0</td>\n",
       "      <td>0.0</td>\n",
       "      <td>0.00</td>\n",
       "      <td>3.0</td>\n",
       "    </tr>\n",
       "    <tr>\n",
       "      <th>3</th>\n",
       "      <td>SatanMetALadyTrailer.mp4</td>\n",
       "      <td>14.0</td>\n",
       "      <td>0.357143</td>\n",
       "      <td>0.497245</td>\n",
       "      <td>0.0</td>\n",
       "      <td>0.0</td>\n",
       "      <td>0.0</td>\n",
       "      <td>1.00</td>\n",
       "      <td>1.0</td>\n",
       "    </tr>\n",
       "    <tr>\n",
       "      <th>4</th>\n",
       "      <td>TheGoodEarthTrailer.mp4</td>\n",
       "      <td>8.0</td>\n",
       "      <td>0.000000</td>\n",
       "      <td>0.000000</td>\n",
       "      <td>0.0</td>\n",
       "      <td>0.0</td>\n",
       "      <td>0.0</td>\n",
       "      <td>0.00</td>\n",
       "      <td>0.0</td>\n",
       "    </tr>\n",
       "    <tr>\n",
       "      <th>5</th>\n",
       "      <td>TheYoungInHeartTrailer.mp4</td>\n",
       "      <td>7.0</td>\n",
       "      <td>0.428571</td>\n",
       "      <td>0.534522</td>\n",
       "      <td>0.0</td>\n",
       "      <td>0.0</td>\n",
       "      <td>0.0</td>\n",
       "      <td>1.00</td>\n",
       "      <td>1.0</td>\n",
       "    </tr>\n",
       "    <tr>\n",
       "      <th>6</th>\n",
       "      <td>AtTheCircusTrailer.mp4</td>\n",
       "      <td>6.0</td>\n",
       "      <td>0.000000</td>\n",
       "      <td>0.000000</td>\n",
       "      <td>0.0</td>\n",
       "      <td>0.0</td>\n",
       "      <td>0.0</td>\n",
       "      <td>0.00</td>\n",
       "      <td>0.0</td>\n",
       "    </tr>\n",
       "    <tr>\n",
       "      <th>7</th>\n",
       "      <td>TheGayDivorceeTrailer.mp4</td>\n",
       "      <td>20.0</td>\n",
       "      <td>0.250000</td>\n",
       "      <td>0.444262</td>\n",
       "      <td>0.0</td>\n",
       "      <td>0.0</td>\n",
       "      <td>0.0</td>\n",
       "      <td>0.25</td>\n",
       "      <td>1.0</td>\n",
       "    </tr>\n",
       "    <tr>\n",
       "      <th>8</th>\n",
       "      <td>TestPilotTrailer.mp4</td>\n",
       "      <td>34.0</td>\n",
       "      <td>0.147059</td>\n",
       "      <td>0.500445</td>\n",
       "      <td>0.0</td>\n",
       "      <td>0.0</td>\n",
       "      <td>0.0</td>\n",
       "      <td>0.00</td>\n",
       "      <td>2.0</td>\n",
       "    </tr>\n",
       "    <tr>\n",
       "      <th>9</th>\n",
       "      <td>BonnieScotlandTrailer.mp4</td>\n",
       "      <td>5.0</td>\n",
       "      <td>0.000000</td>\n",
       "      <td>0.000000</td>\n",
       "      <td>0.0</td>\n",
       "      <td>0.0</td>\n",
       "      <td>0.0</td>\n",
       "      <td>0.00</td>\n",
       "      <td>0.0</td>\n",
       "    </tr>\n",
       "    <tr>\n",
       "      <th>10</th>\n",
       "      <td>LetsMakeLoveTrailer.mp4</td>\n",
       "      <td>105.0</td>\n",
       "      <td>0.523810</td>\n",
       "      <td>0.573371</td>\n",
       "      <td>0.0</td>\n",
       "      <td>0.0</td>\n",
       "      <td>0.0</td>\n",
       "      <td>1.00</td>\n",
       "      <td>2.0</td>\n",
       "    </tr>\n",
       "    <tr>\n",
       "      <th>11</th>\n",
       "      <td>55DaysAtPekingTrailer.mp4</td>\n",
       "      <td>103.0</td>\n",
       "      <td>0.165049</td>\n",
       "      <td>0.398455</td>\n",
       "      <td>0.0</td>\n",
       "      <td>0.0</td>\n",
       "      <td>0.0</td>\n",
       "      <td>0.00</td>\n",
       "      <td>2.0</td>\n",
       "    </tr>\n",
       "    <tr>\n",
       "      <th>12</th>\n",
       "      <td>TheCrawlingHandTrailer2.mp4</td>\n",
       "      <td>29.0</td>\n",
       "      <td>0.275862</td>\n",
       "      <td>0.527565</td>\n",
       "      <td>0.0</td>\n",
       "      <td>0.0</td>\n",
       "      <td>0.0</td>\n",
       "      <td>0.00</td>\n",
       "      <td>2.0</td>\n",
       "    </tr>\n",
       "    <tr>\n",
       "      <th>13</th>\n",
       "      <td>TheRoseTrailer.mp4</td>\n",
       "      <td>58.0</td>\n",
       "      <td>0.103448</td>\n",
       "      <td>0.359808</td>\n",
       "      <td>0.0</td>\n",
       "      <td>0.0</td>\n",
       "      <td>0.0</td>\n",
       "      <td>0.00</td>\n",
       "      <td>2.0</td>\n",
       "    </tr>\n",
       "    <tr>\n",
       "      <th>14</th>\n",
       "      <td>GenghisKhanTrailer.mp4</td>\n",
       "      <td>125.0</td>\n",
       "      <td>0.184000</td>\n",
       "      <td>0.389043</td>\n",
       "      <td>0.0</td>\n",
       "      <td>0.0</td>\n",
       "      <td>0.0</td>\n",
       "      <td>0.00</td>\n",
       "      <td>1.0</td>\n",
       "    </tr>\n",
       "    <tr>\n",
       "      <th>15</th>\n",
       "      <td>MatangoTrailer.mp4</td>\n",
       "      <td>35.0</td>\n",
       "      <td>0.400000</td>\n",
       "      <td>0.774597</td>\n",
       "      <td>0.0</td>\n",
       "      <td>0.0</td>\n",
       "      <td>0.0</td>\n",
       "      <td>0.50</td>\n",
       "      <td>3.0</td>\n",
       "    </tr>\n",
       "    <tr>\n",
       "      <th>16</th>\n",
       "      <td>Boccaccio70Trailer.mp4</td>\n",
       "      <td>86.0</td>\n",
       "      <td>0.139535</td>\n",
       "      <td>0.380798</td>\n",
       "      <td>0.0</td>\n",
       "      <td>0.0</td>\n",
       "      <td>0.0</td>\n",
       "      <td>0.00</td>\n",
       "      <td>2.0</td>\n",
       "    </tr>\n",
       "    <tr>\n",
       "      <th>17</th>\n",
       "      <td>CocoBeforeChanelFullTrailer.mp4</td>\n",
       "      <td>114.0</td>\n",
       "      <td>0.192982</td>\n",
       "      <td>0.418112</td>\n",
       "      <td>0.0</td>\n",
       "      <td>0.0</td>\n",
       "      <td>0.0</td>\n",
       "      <td>0.00</td>\n",
       "      <td>2.0</td>\n",
       "    </tr>\n",
       "    <tr>\n",
       "      <th>18</th>\n",
       "      <td>HighAnxietyTrailer.mp4</td>\n",
       "      <td>85.0</td>\n",
       "      <td>0.282353</td>\n",
       "      <td>0.683335</td>\n",
       "      <td>0.0</td>\n",
       "      <td>0.0</td>\n",
       "      <td>0.0</td>\n",
       "      <td>0.00</td>\n",
       "      <td>4.0</td>\n",
       "    </tr>\n",
       "    <tr>\n",
       "      <th>19</th>\n",
       "      <td>OurManFlintTrailer.mp4</td>\n",
       "      <td>93.0</td>\n",
       "      <td>0.387097</td>\n",
       "      <td>0.989425</td>\n",
       "      <td>0.0</td>\n",
       "      <td>0.0</td>\n",
       "      <td>0.0</td>\n",
       "      <td>0.00</td>\n",
       "      <td>5.0</td>\n",
       "    </tr>\n",
       "    <tr>\n",
       "      <th>20</th>\n",
       "      <td>HardwiredTrailer.mp4</td>\n",
       "      <td>82.0</td>\n",
       "      <td>0.146341</td>\n",
       "      <td>0.388792</td>\n",
       "      <td>0.0</td>\n",
       "      <td>0.0</td>\n",
       "      <td>0.0</td>\n",
       "      <td>0.00</td>\n",
       "      <td>2.0</td>\n",
       "    </tr>\n",
       "    <tr>\n",
       "      <th>21</th>\n",
       "      <td>MrMrsSmith2005Trailer.mp4</td>\n",
       "      <td>114.0</td>\n",
       "      <td>0.315789</td>\n",
       "      <td>0.485466</td>\n",
       "      <td>0.0</td>\n",
       "      <td>0.0</td>\n",
       "      <td>0.0</td>\n",
       "      <td>1.00</td>\n",
       "      <td>2.0</td>\n",
       "    </tr>\n",
       "    <tr>\n",
       "      <th>22</th>\n",
       "      <td>TheMessengerTrailer1.mp4</td>\n",
       "      <td>149.0</td>\n",
       "      <td>0.335570</td>\n",
       "      <td>0.653584</td>\n",
       "      <td>0.0</td>\n",
       "      <td>0.0</td>\n",
       "      <td>0.0</td>\n",
       "      <td>1.00</td>\n",
       "      <td>3.0</td>\n",
       "    </tr>\n",
       "    <tr>\n",
       "      <th>23</th>\n",
       "      <td>TheTripletsOfBellviewTrailer.mp4</td>\n",
       "      <td>118.0</td>\n",
       "      <td>0.050847</td>\n",
       "      <td>0.256454</td>\n",
       "      <td>0.0</td>\n",
       "      <td>0.0</td>\n",
       "      <td>0.0</td>\n",
       "      <td>0.00</td>\n",
       "      <td>2.0</td>\n",
       "    </tr>\n",
       "    <tr>\n",
       "      <th>24</th>\n",
       "      <td>KateLeopoldTrailer.mp4</td>\n",
       "      <td>103.0</td>\n",
       "      <td>0.378641</td>\n",
       "      <td>0.612236</td>\n",
       "      <td>0.0</td>\n",
       "      <td>0.0</td>\n",
       "      <td>0.0</td>\n",
       "      <td>1.00</td>\n",
       "      <td>3.0</td>\n",
       "    </tr>\n",
       "    <tr>\n",
       "      <th>25</th>\n",
       "      <td>BeyondTheTimeBarrierTrailer2.mp4</td>\n",
       "      <td>19.0</td>\n",
       "      <td>0.210526</td>\n",
       "      <td>0.917663</td>\n",
       "      <td>0.0</td>\n",
       "      <td>0.0</td>\n",
       "      <td>0.0</td>\n",
       "      <td>0.00</td>\n",
       "      <td>4.0</td>\n",
       "    </tr>\n",
       "    <tr>\n",
       "      <th>26</th>\n",
       "      <td>DidYouHearAboutTheMorgansTrailer.mp4</td>\n",
       "      <td>128.0</td>\n",
       "      <td>0.531250</td>\n",
       "      <td>0.663295</td>\n",
       "      <td>0.0</td>\n",
       "      <td>0.0</td>\n",
       "      <td>0.0</td>\n",
       "      <td>1.00</td>\n",
       "      <td>2.0</td>\n",
       "    </tr>\n",
       "    <tr>\n",
       "      <th>27</th>\n",
       "      <td>TheSecretInTheirEyesTrailer.mp4</td>\n",
       "      <td>46.0</td>\n",
       "      <td>0.347826</td>\n",
       "      <td>0.481543</td>\n",
       "      <td>0.0</td>\n",
       "      <td>0.0</td>\n",
       "      <td>0.0</td>\n",
       "      <td>1.00</td>\n",
       "      <td>1.0</td>\n",
       "    </tr>\n",
       "    <tr>\n",
       "      <th>28</th>\n",
       "      <td>ChristmasWithTheKranksTrailer.mp4</td>\n",
       "      <td>122.0</td>\n",
       "      <td>0.442623</td>\n",
       "      <td>0.843538</td>\n",
       "      <td>0.0</td>\n",
       "      <td>0.0</td>\n",
       "      <td>0.0</td>\n",
       "      <td>1.00</td>\n",
       "      <td>5.0</td>\n",
       "    </tr>\n",
       "    <tr>\n",
       "      <th>29</th>\n",
       "      <td>KungFuPanda2DvdTrailer.mp4</td>\n",
       "      <td>112.0</td>\n",
       "      <td>0.008929</td>\n",
       "      <td>0.094491</td>\n",
       "      <td>0.0</td>\n",
       "      <td>0.0</td>\n",
       "      <td>0.0</td>\n",
       "      <td>0.00</td>\n",
       "      <td>1.0</td>\n",
       "    </tr>\n",
       "  </tbody>\n",
       "</table>\n",
       "</div>"
      ],
      "text/plain": [
       "                                       index  count      mean       std  min  \\\n",
       "0                   DinnerAtEightTrailer.mp4   10.0  0.400000  0.699206  0.0   \n",
       "1                 FootlightParadeTrailer.mp4   20.0  0.450000  0.686333  0.0   \n",
       "2   AllQuietOnTheWesternFront1930Trailer.mp4   98.0  0.275510  0.588211  0.0   \n",
       "3                   SatanMetALadyTrailer.mp4   14.0  0.357143  0.497245  0.0   \n",
       "4                    TheGoodEarthTrailer.mp4    8.0  0.000000  0.000000  0.0   \n",
       "5                 TheYoungInHeartTrailer.mp4    7.0  0.428571  0.534522  0.0   \n",
       "6                     AtTheCircusTrailer.mp4    6.0  0.000000  0.000000  0.0   \n",
       "7                  TheGayDivorceeTrailer.mp4   20.0  0.250000  0.444262  0.0   \n",
       "8                       TestPilotTrailer.mp4   34.0  0.147059  0.500445  0.0   \n",
       "9                  BonnieScotlandTrailer.mp4    5.0  0.000000  0.000000  0.0   \n",
       "10                   LetsMakeLoveTrailer.mp4  105.0  0.523810  0.573371  0.0   \n",
       "11                 55DaysAtPekingTrailer.mp4  103.0  0.165049  0.398455  0.0   \n",
       "12               TheCrawlingHandTrailer2.mp4   29.0  0.275862  0.527565  0.0   \n",
       "13                        TheRoseTrailer.mp4   58.0  0.103448  0.359808  0.0   \n",
       "14                    GenghisKhanTrailer.mp4  125.0  0.184000  0.389043  0.0   \n",
       "15                        MatangoTrailer.mp4   35.0  0.400000  0.774597  0.0   \n",
       "16                    Boccaccio70Trailer.mp4   86.0  0.139535  0.380798  0.0   \n",
       "17           CocoBeforeChanelFullTrailer.mp4  114.0  0.192982  0.418112  0.0   \n",
       "18                    HighAnxietyTrailer.mp4   85.0  0.282353  0.683335  0.0   \n",
       "19                    OurManFlintTrailer.mp4   93.0  0.387097  0.989425  0.0   \n",
       "20                      HardwiredTrailer.mp4   82.0  0.146341  0.388792  0.0   \n",
       "21                 MrMrsSmith2005Trailer.mp4  114.0  0.315789  0.485466  0.0   \n",
       "22                  TheMessengerTrailer1.mp4  149.0  0.335570  0.653584  0.0   \n",
       "23          TheTripletsOfBellviewTrailer.mp4  118.0  0.050847  0.256454  0.0   \n",
       "24                    KateLeopoldTrailer.mp4  103.0  0.378641  0.612236  0.0   \n",
       "25          BeyondTheTimeBarrierTrailer2.mp4   19.0  0.210526  0.917663  0.0   \n",
       "26      DidYouHearAboutTheMorgansTrailer.mp4  128.0  0.531250  0.663295  0.0   \n",
       "27           TheSecretInTheirEyesTrailer.mp4   46.0  0.347826  0.481543  0.0   \n",
       "28         ChristmasWithTheKranksTrailer.mp4  122.0  0.442623  0.843538  0.0   \n",
       "29                KungFuPanda2DvdTrailer.mp4  112.0  0.008929  0.094491  0.0   \n",
       "\n",
       "    25%  50%   75%  max  \n",
       "0   0.0  0.0  0.75  2.0  \n",
       "1   0.0  0.0  1.00  2.0  \n",
       "2   0.0  0.0  0.00  3.0  \n",
       "3   0.0  0.0  1.00  1.0  \n",
       "4   0.0  0.0  0.00  0.0  \n",
       "5   0.0  0.0  1.00  1.0  \n",
       "6   0.0  0.0  0.00  0.0  \n",
       "7   0.0  0.0  0.25  1.0  \n",
       "8   0.0  0.0  0.00  2.0  \n",
       "9   0.0  0.0  0.00  0.0  \n",
       "10  0.0  0.0  1.00  2.0  \n",
       "11  0.0  0.0  0.00  2.0  \n",
       "12  0.0  0.0  0.00  2.0  \n",
       "13  0.0  0.0  0.00  2.0  \n",
       "14  0.0  0.0  0.00  1.0  \n",
       "15  0.0  0.0  0.50  3.0  \n",
       "16  0.0  0.0  0.00  2.0  \n",
       "17  0.0  0.0  0.00  2.0  \n",
       "18  0.0  0.0  0.00  4.0  \n",
       "19  0.0  0.0  0.00  5.0  \n",
       "20  0.0  0.0  0.00  2.0  \n",
       "21  0.0  0.0  1.00  2.0  \n",
       "22  0.0  0.0  1.00  3.0  \n",
       "23  0.0  0.0  0.00  2.0  \n",
       "24  0.0  0.0  1.00  3.0  \n",
       "25  0.0  0.0  0.00  4.0  \n",
       "26  0.0  0.0  1.00  2.0  \n",
       "27  0.0  0.0  1.00  1.0  \n",
       "28  0.0  0.0  1.00  5.0  \n",
       "29  0.0  0.0  0.00  1.0  "
      ]
     },
     "execution_count": 23,
     "metadata": {},
     "output_type": "execute_result"
    }
   ],
   "source": [
    "transposed = trailer_faces.transpose().reset_index()"
   ]
  },
  {
   "cell_type": "code",
   "execution_count": null,
   "metadata": {},
   "outputs": [],
   "source": []
  },
  {
   "cell_type": "code",
   "execution_count": null,
   "metadata": {},
   "outputs": [],
   "source": []
  },
  {
   "cell_type": "code",
   "execution_count": null,
   "metadata": {},
   "outputs": [],
   "source": []
  },
  {
   "cell_type": "code",
   "execution_count": 26,
   "metadata": {},
   "outputs": [],
   "source": [
    "filename = \"Boccaccio70Trailer.mp4\"\n",
    "cap = cv2.VideoCapture(filename)\n",
    "\n",
    "frames = []\n",
    "shot_length = []\n",
    "\n",
    "for start_time, end_time in scene_list:\n",
    "    duration = end_time - start_time\n",
    "    frame = (start_time.get_frames() + int(duration.get_frames() / 2))\n",
    "    cap.set(cv2.CAP_PROP_POS_FRAMES,frame)\n",
    "    ret, frame = cap.read()\n",
    "    frame = cv2.cvtColor(frame, cv2.COLOR_BGR2RGB)\n",
    "    frames.append(frame)\n",
    "    shot_length.append(duration.get_seconds())"
   ]
  },
  {
   "cell_type": "code",
   "execution_count": 32,
   "metadata": {},
   "outputs": [
    {
     "data": {
      "text/plain": [
       "<matplotlib.image.AxesImage at 0x117b2d5e0>"
      ]
     },
     "execution_count": 32,
     "metadata": {},
     "output_type": "execute_result"
    },
    {
     "data": {
      "image/png": "[encoded data removed]",
      "text/plain": [
       "<Figure size 432x288 with 1 Axes>"
      ]
     },
     "metadata": {
      "needs_background": "light"
     },
     "output_type": "display_data"
    }
   ],
   "source": [
    "i = 11\n",
    "ex = frames[i]\n",
    "plt.imshow(ex)"
   ]
  },
  {
   "cell_type": "code",
   "execution_count": 33,
   "metadata": {},
   "outputs": [
    {
     "data": {
      "text/plain": [
       "(480, 848, 3)"
      ]
     },
     "execution_count": 33,
     "metadata": {},
     "output_type": "execute_result"
    }
   ],
   "source": [
    "ex.shape"
   ]
  },
  {
   "cell_type": "code",
   "execution_count": null,
   "metadata": {},
   "outputs": [],
   "source": []
  },
  {
   "cell_type": "code",
   "execution_count": 34,
   "metadata": {},
   "outputs": [
    {
     "data": {
      "text/plain": [
       "numpy.ndarray"
      ]
     },
     "execution_count": 34,
     "metadata": {},
     "output_type": "execute_result"
    }
   ],
   "source": [
    "type(ex)"
   ]
  },
  {
   "cell_type": "code",
   "execution_count": 35,
   "metadata": {},
   "outputs": [],
   "source": [
    "gray_image = cv2.cvtColor(ex, cv2.COLOR_RGB2GRAY)"
   ]
  },
  {
   "cell_type": "code",
   "execution_count": 36,
   "metadata": {},
   "outputs": [
    {
     "data": {
      "text/plain": [
       "<matplotlib.image.AxesImage at 0x1216dc430>"
      ]
     },
     "execution_count": 36,
     "metadata": {},
     "output_type": "execute_result"
    },
    {
     "data": {
      "image/png": "[encoded data removed]",
      "text/plain": [
       "<Figure size 432x288 with 1 Axes>"
      ]
     },
     "metadata": {
      "needs_background": "light"
     },
     "output_type": "display_data"
    }
   ],
   "source": [
    "plt.imshow(gray_image, cmap=\"gray\")"
   ]
  },
  {
   "cell_type": "code",
   "execution_count": 37,
   "metadata": {},
   "outputs": [
    {
     "name": "stdout",
     "output_type": "stream",
     "text": [
      "Detected 2 face(s)!\n"
     ]
    }
   ],
   "source": [
    "face_classification = cv2.CascadeClassifier('haarcascade_frontalface_default.xml') # load the classifier only once!\n",
    "\n",
    "faces = face_classification.detectMultiScale(gray_image, 1.3, 5) # detect the faces \n",
    "n_faces = len(faces) # get the number of faces\n",
    "print('Detected {} face(s)!'.format(n_faces))"
   ]
  },
  {
   "cell_type": "code",
   "execution_count": 38,
   "metadata": {},
   "outputs": [
    {
     "name": "stdout",
     "output_type": "stream",
     "text": [
      "394 91 167 167\n",
      "170 193 150 150\n"
     ]
    }
   ],
   "source": [
    "for (x, y, w, h) in faces:\n",
    "    print(x, y, w, h)"
   ]
  },
  {
   "cell_type": "code",
   "execution_count": 39,
   "metadata": {},
   "outputs": [],
   "source": [
    "tot = gray_image.shape[0]*gray_image.shape[1]"
   ]
  },
  {
   "cell_type": "code",
   "execution_count": 40,
   "metadata": {},
   "outputs": [],
   "source": [
    "face = h*h"
   ]
  },
  {
   "cell_type": "code",
   "execution_count": 41,
   "metadata": {},
   "outputs": [
    {
     "data": {
      "text/plain": [
       "0.055277122641509434"
      ]
     },
     "execution_count": 41,
     "metadata": {},
     "output_type": "execute_result"
    }
   ],
   "source": [
    "face/tot"
   ]
  },
  {
   "cell_type": "code",
   "execution_count": 42,
   "metadata": {},
   "outputs": [
    {
     "name": "stdout",
     "output_type": "stream",
     "text": [
      "WARNING:tensorflow:Error in loading the saved optimizer state. As a result, your model is starting with a freshly initialized optimizer.\n",
      "woman 0.69595027\n",
      "woman 0.6035089\n"
     ]
    }
   ],
   "source": [
    "from tensorflow.keras.models import load_model\n",
    "\n",
    "def apply_offsets(face_coordinates, offsets):\n",
    "    \"\"\"\n",
    "    Derived from https://github.com/oarriaga/face_classification/blob/\n",
    "    b861d21b0e76ca5514cdeb5b56a689b7318584f4/src/utils/inference.py#L21\n",
    "    \"\"\"\n",
    "    x, y, width, height = face_coordinates\n",
    "    x_off, y_off = offsets\n",
    "    return (x - x_off, x + width + x_off, y - y_off, y + height + y_off)\n",
    "\n",
    "gender_classifier = load_model('gender_mini_XCEPTION.21-0.95.hdf5') # load this only once! (not in a loop)\n",
    "\n",
    "GENDER_OFFSETS = (10, 10)\n",
    "INPUT_SHAPE_GENDER = gender_classifier.input_shape[1:3]\n",
    "\n",
    "labels = ['woman', 'man']\n",
    "\n",
    "for face_coordinates in faces: # using the output of the CascadeClassifier\n",
    "    x1, x2, y1, y2 = apply_offsets(face_coordinates, GENDER_OFFSETS) # extends the bounding box\n",
    "    face_img = gray_image[y1:y2, x1:x2] # only get the face \n",
    "    face_img = cv2.resize(face_img, (INPUT_SHAPE_GENDER)) # resize the image\n",
    "    face_img = face_img.astype('float32') / 255.0 # preprocess the image\n",
    "    face_img = np.expand_dims(face_img, 0) # batch of one\n",
    "    probas = gender_classifier.predict(face_img) \n",
    "    print(labels[np.argmax(probas[0])], probas[0][np.argmax(probas[0])]) # print the class and the probabilitys"
   ]
  },
  {
   "cell_type": "code",
   "execution_count": 43,
   "metadata": {},
   "outputs": [
    {
     "name": "stdout",
     "output_type": "stream",
     "text": [
      "WARNING:tensorflow:Error in loading the saved optimizer state. As a result, your model is starting with a freshly initialized optimizer.\n",
      "This person looks surprise\n",
      "{'angry': 0.0126372455, 'disgust': 8.32343e-05, 'fear': 0.10556537, 'happy': 0.0056242156, 'sad': 0.035209082, 'surprise': 0.58016217, 'neutral': 0.26071864}\n",
      "This person looks sad\n",
      "{'angry': 0.05362286, 'disgust': 0.0002209592, 'fear': 0.40849715, 'happy': 0.00024245368, 'sad': 0.43577474, 'surprise': 0.0036720082, 'neutral': 0.09796981}\n"
     ]
    }
   ],
   "source": [
    "emotion_classifier = load_model('fer2013_mini_XCEPTION.102-0.66.hdf5') # load this only once! (not in a loop)\n",
    "\n",
    "EMOTION_OFFSETS = (0, 0)\n",
    "INPUT_SHAPE_EMOTION = emotion_classifier.input_shape[1:3]\n",
    "\n",
    "labels = ['angry', 'disgust', 'fear', 'happy', 'sad', 'surprise', 'neutral']\n",
    "\n",
    "for face_coordinates in faces:\n",
    "    x1, x2, y1, y2 = apply_offsets(face_coordinates, EMOTION_OFFSETS) \n",
    "    face_img = gray_image[y1:y2, x1:x2] # only get the face\n",
    "    face_img = cv2.resize(face_img, (INPUT_SHAPE_EMOTION))\n",
    "    face_img = face_img.astype('float32') / 255.0 # pre-processing \n",
    "    face_img = face_img - 0.5 # pre-processing specific to the emotion classifier\n",
    "    face_img = face_img * 2.0 # pre-processing specific to the emotion classifier\n",
    "    face_img = np.expand_dims(face_img, 0) # batch of one\n",
    "    face_img = np.expand_dims(face_img, -1) # pre-processing specific to the emotion classifier\n",
    "    probas = emotion_classifier.predict(face_img)\n",
    "    label = labels[np.argmax(probas[0])]\n",
    "    emotionprobas = dict(zip(labels, probas[0])) # make a dictionary from the labels and the probabilities\n",
    "    print('This person looks {}'.format(label))\n",
    "    print(emotionprobas)"
   ]
  },
  {
   "cell_type": "code",
   "execution_count": 47,
   "metadata": {},
   "outputs": [
    {
     "data": {
      "text/plain": [
       "(7,)"
      ]
     },
     "execution_count": 47,
     "metadata": {},
     "output_type": "execute_result"
    }
   ],
   "source": [
    "probas.squeeze().shape"
   ]
  },
  {
   "cell_type": "code",
   "execution_count": 51,
   "metadata": {},
   "outputs": [
    {
     "data": {
      "text/html": [
       "<div>\n",
       "<style scoped>\n",
       "    .dataframe tbody tr th:only-of-type {\n",
       "        vertical-align: middle;\n",
       "    }\n",
       "\n",
       "    .dataframe tbody tr th {\n",
       "        vertical-align: top;\n",
       "    }\n",
       "\n",
       "    .dataframe thead th {\n",
       "        text-align: right;\n",
       "    }\n",
       "</style>\n",
       "<table border=\"1\" class=\"dataframe\">\n",
       "  <thead>\n",
       "    <tr style=\"text-align: right;\">\n",
       "      <th></th>\n",
       "      <th>angry</th>\n",
       "      <th>disgust</th>\n",
       "      <th>fear</th>\n",
       "      <th>happy</th>\n",
       "      <th>sad</th>\n",
       "      <th>surprise</th>\n",
       "      <th>neutral</th>\n",
       "    </tr>\n",
       "  </thead>\n",
       "  <tbody>\n",
       "    <tr>\n",
       "      <th>0</th>\n",
       "      <td>0.053623</td>\n",
       "      <td>0.000221</td>\n",
       "      <td>0.408497</td>\n",
       "      <td>0.000242</td>\n",
       "      <td>0.435775</td>\n",
       "      <td>0.003672</td>\n",
       "      <td>0.09797</td>\n",
       "    </tr>\n",
       "    <tr>\n",
       "      <th>1</th>\n",
       "      <td>0.053623</td>\n",
       "      <td>0.000221</td>\n",
       "      <td>0.408497</td>\n",
       "      <td>0.000242</td>\n",
       "      <td>0.435775</td>\n",
       "      <td>0.003672</td>\n",
       "      <td>0.09797</td>\n",
       "    </tr>\n",
       "  </tbody>\n",
       "</table>\n",
       "</div>"
      ],
      "text/plain": [
       "      angry   disgust      fear     happy       sad  surprise  neutral\n",
       "0  0.053623  0.000221  0.408497  0.000242  0.435775  0.003672  0.09797\n",
       "1  0.053623  0.000221  0.408497  0.000242  0.435775  0.003672  0.09797"
      ]
     },
     "execution_count": 51,
     "metadata": {},
     "output_type": "execute_result"
    }
   ],
   "source": [
    "emotionss = pd.DataFrame([probas.squeeze(), probas.squeeze()], columns = labels)\n",
    "emotionss"
   ]
  },
  {
   "cell_type": "code",
   "execution_count": 63,
   "metadata": {},
   "outputs": [
    {
     "name": "stdout",
     "output_type": "stream",
     "text": [
      "angry\n",
      "disgust\n",
      "fear\n",
      "happy\n",
      "sad\n",
      "surprise\n",
      "neutral\n"
     ]
    }
   ],
   "source": [
    "\n",
    "for emotion in emotionss.columns:\n",
    "    print(emotion)\n",
    "    emotion_temp = pd.DataFrame(emotionss[emotion].describe())\n",
    "    emotion_temp"
   ]
  },
  {
   "cell_type": "code",
   "execution_count": 69,
   "metadata": {
    "scrolled": true
   },
   "outputs": [
    {
     "data": {
      "text/html": [
       "<div>\n",
       "<style scoped>\n",
       "    .dataframe tbody tr th:only-of-type {\n",
       "        vertical-align: middle;\n",
       "    }\n",
       "\n",
       "    .dataframe tbody tr th {\n",
       "        vertical-align: top;\n",
       "    }\n",
       "\n",
       "    .dataframe thead th {\n",
       "        text-align: right;\n",
       "    }\n",
       "</style>\n",
       "<table border=\"1\" class=\"dataframe\">\n",
       "  <thead>\n",
       "    <tr style=\"text-align: right;\">\n",
       "      <th></th>\n",
       "      <th>neutral_count</th>\n",
       "      <th>neutral_mean</th>\n",
       "      <th>neutral_std</th>\n",
       "      <th>neutral_min</th>\n",
       "      <th>neutral_25%</th>\n",
       "      <th>neutral_50%</th>\n",
       "      <th>neutral_75%</th>\n",
       "      <th>neutral_max</th>\n",
       "    </tr>\n",
       "  </thead>\n",
       "  <tbody>\n",
       "    <tr>\n",
       "      <th>neutral</th>\n",
       "      <td>2.0</td>\n",
       "      <td>0.09797</td>\n",
       "      <td>0.0</td>\n",
       "      <td>0.09797</td>\n",
       "      <td>0.09797</td>\n",
       "      <td>0.09797</td>\n",
       "      <td>0.09797</td>\n",
       "      <td>0.09797</td>\n",
       "    </tr>\n",
       "  </tbody>\n",
       "</table>\n",
       "</div>"
      ],
      "text/plain": [
       "         neutral_count  neutral_mean  neutral_std  neutral_min  neutral_25%  \\\n",
       "neutral            2.0       0.09797          0.0      0.09797      0.09797   \n",
       "\n",
       "         neutral_50%  neutral_75%  neutral_max  \n",
       "neutral      0.09797      0.09797      0.09797  "
      ]
     },
     "execution_count": 69,
     "metadata": {},
     "output_type": "execute_result"
    }
   ],
   "source": [
    "transpose = emotion_temp.transpose()\n",
    "transpose.columns = [f\"{emotion}_{desc}\" for desc in transpose.columns]\n",
    "transpose"
   ]
  },
  {
   "cell_type": "code",
   "execution_count": 85,
   "metadata": {},
   "outputs": [],
   "source": [
    "test = pd.DataFrame()"
   ]
  },
  {
   "cell_type": "code",
   "execution_count": 87,
   "metadata": {},
   "outputs": [
    {
     "data": {
      "text/html": [
       "<div>\n",
       "<style scoped>\n",
       "    .dataframe tbody tr th:only-of-type {\n",
       "        vertical-align: middle;\n",
       "    }\n",
       "\n",
       "    .dataframe tbody tr th {\n",
       "        vertical-align: top;\n",
       "    }\n",
       "\n",
       "    .dataframe thead th {\n",
       "        text-align: right;\n",
       "    }\n",
       "</style>\n",
       "<table border=\"1\" class=\"dataframe\">\n",
       "  <thead>\n",
       "    <tr style=\"text-align: right;\">\n",
       "      <th></th>\n",
       "      <th>neutral_count</th>\n",
       "      <th>neutral_mean</th>\n",
       "      <th>neutral_std</th>\n",
       "      <th>neutral_min</th>\n",
       "      <th>neutral_25%</th>\n",
       "      <th>neutral_50%</th>\n",
       "      <th>neutral_75%</th>\n",
       "      <th>neutral_max</th>\n",
       "      <th>neutral_count</th>\n",
       "      <th>neutral_mean</th>\n",
       "      <th>neutral_std</th>\n",
       "      <th>neutral_min</th>\n",
       "      <th>neutral_25%</th>\n",
       "      <th>neutral_50%</th>\n",
       "      <th>neutral_75%</th>\n",
       "      <th>neutral_max</th>\n",
       "    </tr>\n",
       "  </thead>\n",
       "  <tbody>\n",
       "    <tr>\n",
       "      <th>0</th>\n",
       "      <td>2.0</td>\n",
       "      <td>0.09797</td>\n",
       "      <td>0.0</td>\n",
       "      <td>0.09797</td>\n",
       "      <td>0.09797</td>\n",
       "      <td>0.09797</td>\n",
       "      <td>0.09797</td>\n",
       "      <td>0.09797</td>\n",
       "      <td>2.0</td>\n",
       "      <td>0.09797</td>\n",
       "      <td>0.0</td>\n",
       "      <td>0.09797</td>\n",
       "      <td>0.09797</td>\n",
       "      <td>0.09797</td>\n",
       "      <td>0.09797</td>\n",
       "      <td>0.09797</td>\n",
       "    </tr>\n",
       "  </tbody>\n",
       "</table>\n",
       "</div>"
      ],
      "text/plain": [
       "   neutral_count  neutral_mean  neutral_std  neutral_min  neutral_25%  \\\n",
       "0            2.0       0.09797          0.0      0.09797      0.09797   \n",
       "\n",
       "   neutral_50%  neutral_75%  neutral_max  neutral_count  neutral_mean  \\\n",
       "0      0.09797      0.09797      0.09797            2.0       0.09797   \n",
       "\n",
       "   neutral_std  neutral_min  neutral_25%  neutral_50%  neutral_75%  \\\n",
       "0          0.0      0.09797      0.09797      0.09797      0.09797   \n",
       "\n",
       "   neutral_max  \n",
       "0      0.09797  "
      ]
     },
     "execution_count": 87,
     "metadata": {},
     "output_type": "execute_result"
    }
   ],
   "source": [
    "\n",
    "test = pd.concat([test, transpose.reset_index(drop=True)], axis=1)\n",
    "test"
   ]
  },
  {
   "cell_type": "code",
   "execution_count": 65,
   "metadata": {},
   "outputs": [
    {
     "data": {
      "text/html": [
       "<div>\n",
       "<style scoped>\n",
       "    .dataframe tbody tr th:only-of-type {\n",
       "        vertical-align: middle;\n",
       "    }\n",
       "\n",
       "    .dataframe tbody tr th {\n",
       "        vertical-align: top;\n",
       "    }\n",
       "\n",
       "    .dataframe thead th {\n",
       "        text-align: right;\n",
       "    }\n",
       "</style>\n",
       "<table border=\"1\" class=\"dataframe\">\n",
       "  <thead>\n",
       "    <tr style=\"text-align: right;\">\n",
       "      <th></th>\n",
       "      <th>neutral</th>\n",
       "    </tr>\n",
       "  </thead>\n",
       "  <tbody>\n",
       "    <tr>\n",
       "      <th>count</th>\n",
       "      <td>2.00000</td>\n",
       "    </tr>\n",
       "    <tr>\n",
       "      <th>mean</th>\n",
       "      <td>0.09797</td>\n",
       "    </tr>\n",
       "    <tr>\n",
       "      <th>std</th>\n",
       "      <td>0.00000</td>\n",
       "    </tr>\n",
       "    <tr>\n",
       "      <th>min</th>\n",
       "      <td>0.09797</td>\n",
       "    </tr>\n",
       "    <tr>\n",
       "      <th>25%</th>\n",
       "      <td>0.09797</td>\n",
       "    </tr>\n",
       "    <tr>\n",
       "      <th>50%</th>\n",
       "      <td>0.09797</td>\n",
       "    </tr>\n",
       "    <tr>\n",
       "      <th>75%</th>\n",
       "      <td>0.09797</td>\n",
       "    </tr>\n",
       "    <tr>\n",
       "      <th>max</th>\n",
       "      <td>0.09797</td>\n",
       "    </tr>\n",
       "    <tr>\n",
       "      <th>count</th>\n",
       "      <td>2.00000</td>\n",
       "    </tr>\n",
       "    <tr>\n",
       "      <th>mean</th>\n",
       "      <td>0.09797</td>\n",
       "    </tr>\n",
       "    <tr>\n",
       "      <th>std</th>\n",
       "      <td>0.00000</td>\n",
       "    </tr>\n",
       "    <tr>\n",
       "      <th>min</th>\n",
       "      <td>0.09797</td>\n",
       "    </tr>\n",
       "    <tr>\n",
       "      <th>25%</th>\n",
       "      <td>0.09797</td>\n",
       "    </tr>\n",
       "    <tr>\n",
       "      <th>50%</th>\n",
       "      <td>0.09797</td>\n",
       "    </tr>\n",
       "    <tr>\n",
       "      <th>75%</th>\n",
       "      <td>0.09797</td>\n",
       "    </tr>\n",
       "    <tr>\n",
       "      <th>max</th>\n",
       "      <td>0.09797</td>\n",
       "    </tr>\n",
       "  </tbody>\n",
       "</table>\n",
       "</div>"
      ],
      "text/plain": [
       "       neutral\n",
       "count  2.00000\n",
       "mean   0.09797\n",
       "std    0.00000\n",
       "min    0.09797\n",
       "25%    0.09797\n",
       "50%    0.09797\n",
       "75%    0.09797\n",
       "max    0.09797\n",
       "count  2.00000\n",
       "mean   0.09797\n",
       "std    0.00000\n",
       "min    0.09797\n",
       "25%    0.09797\n",
       "50%    0.09797\n",
       "75%    0.09797\n",
       "max    0.09797"
      ]
     },
     "execution_count": 65,
     "metadata": {},
     "output_type": "execute_result"
    }
   ],
   "source": [
    "pd.concat([emotion_temp, emotion_temp])"
   ]
  },
  {
   "cell_type": "code",
   "execution_count": null,
   "metadata": {},
   "outputs": [],
   "source": []
  },
  {
   "cell_type": "code",
   "execution_count": 127,
   "metadata": {},
   "outputs": [],
   "source": [
    "face_classification = cv2.CascadeClassifier('haarcascade_frontalface_default.xml') # load the classifier only once!\n",
    "\n",
    "trailer_faces = pd.DataFrame()\n",
    "frame_faces = []\n",
    "for frame in frames:\n",
    "    gray_image = cv2.cvtColor(frame, cv2.COLOR_BGR2GRAY)\n",
    "    faces = face_classification.detectMultiScale(gray_image, 1.3, 5) # detect the faces \n",
    "    n_faces = len(faces) # get the number of faces\n",
    "    frame_faces.append(n_faces)\n",
    "    mean_faces = np.mean(frame_faces)\n",
    "    mean_np.std(frame_faces)\n",
    "    described = pd.DataFrame(frame_faces).describe()\n",
    "    trailer_faces = pd.concat([trailer_faces, described], axis=1)"
   ]
  },
  {
   "cell_type": "code",
   "execution_count": 149,
   "metadata": {},
   "outputs": [
    {
     "data": {
      "text/html": [
       "<div>\n",
       "<style scoped>\n",
       "    .dataframe tbody tr th:only-of-type {\n",
       "        vertical-align: middle;\n",
       "    }\n",
       "\n",
       "    .dataframe tbody tr th {\n",
       "        vertical-align: top;\n",
       "    }\n",
       "\n",
       "    .dataframe thead th {\n",
       "        text-align: right;\n",
       "    }\n",
       "</style>\n",
       "<table border=\"1\" class=\"dataframe\">\n",
       "  <thead>\n",
       "    <tr style=\"text-align: right;\">\n",
       "      <th></th>\n",
       "      <th>0</th>\n",
       "    </tr>\n",
       "  </thead>\n",
       "  <tbody>\n",
       "    <tr>\n",
       "      <th>count</th>\n",
       "      <td>164.000000</td>\n",
       "    </tr>\n",
       "    <tr>\n",
       "      <th>mean</th>\n",
       "      <td>0.378049</td>\n",
       "    </tr>\n",
       "    <tr>\n",
       "      <th>std</th>\n",
       "      <td>0.745378</td>\n",
       "    </tr>\n",
       "    <tr>\n",
       "      <th>min</th>\n",
       "      <td>0.000000</td>\n",
       "    </tr>\n",
       "    <tr>\n",
       "      <th>25%</th>\n",
       "      <td>0.000000</td>\n",
       "    </tr>\n",
       "    <tr>\n",
       "      <th>50%</th>\n",
       "      <td>0.000000</td>\n",
       "    </tr>\n",
       "    <tr>\n",
       "      <th>75%</th>\n",
       "      <td>1.000000</td>\n",
       "    </tr>\n",
       "    <tr>\n",
       "      <th>max</th>\n",
       "      <td>5.000000</td>\n",
       "    </tr>\n",
       "  </tbody>\n",
       "</table>\n",
       "</div>"
      ],
      "text/plain": [
       "                0\n",
       "count  164.000000\n",
       "mean     0.378049\n",
       "std      0.745378\n",
       "min      0.000000\n",
       "25%      0.000000\n",
       "50%      0.000000\n",
       "75%      1.000000\n",
       "max      5.000000"
      ]
     },
     "execution_count": 149,
     "metadata": {},
     "output_type": "execute_result"
    }
   ],
   "source": [
    "described = pd.DataFrame(frame_faces).describe()\n",
    "described"
   ]
  },
  {
   "cell_type": "code",
   "execution_count": 140,
   "metadata": {},
   "outputs": [
    {
     "data": {
      "text/html": [
       "<div>\n",
       "<style scoped>\n",
       "    .dataframe tbody tr th:only-of-type {\n",
       "        vertical-align: middle;\n",
       "    }\n",
       "\n",
       "    .dataframe tbody tr th {\n",
       "        vertical-align: top;\n",
       "    }\n",
       "\n",
       "    .dataframe thead th {\n",
       "        text-align: right;\n",
       "    }\n",
       "</style>\n",
       "<table border=\"1\" class=\"dataframe\">\n",
       "  <thead>\n",
       "    <tr style=\"text-align: right;\">\n",
       "      <th></th>\n",
       "    </tr>\n",
       "  </thead>\n",
       "  <tbody>\n",
       "  </tbody>\n",
       "</table>\n",
       "</div>"
      ],
      "text/plain": [
       "Empty DataFrame\n",
       "Columns: []\n",
       "Index: []"
      ]
     },
     "execution_count": 140,
     "metadata": {},
     "output_type": "execute_result"
    }
   ],
   "source": [
    "trailer_faces = pd.DataFrame()\n",
    "trailer_faces"
   ]
  },
  {
   "cell_type": "code",
   "execution_count": 152,
   "metadata": {
    "scrolled": true
   },
   "outputs": [
    {
     "data": {
      "text/html": [
       "<div>\n",
       "<style scoped>\n",
       "    .dataframe tbody tr th:only-of-type {\n",
       "        vertical-align: middle;\n",
       "    }\n",
       "\n",
       "    .dataframe tbody tr th {\n",
       "        vertical-align: top;\n",
       "    }\n",
       "\n",
       "    .dataframe thead th {\n",
       "        text-align: right;\n",
       "    }\n",
       "</style>\n",
       "<table border=\"1\" class=\"dataframe\">\n",
       "  <thead>\n",
       "    <tr style=\"text-align: right;\">\n",
       "      <th></th>\n",
       "      <th>0</th>\n",
       "      <th>0</th>\n",
       "    </tr>\n",
       "  </thead>\n",
       "  <tbody>\n",
       "    <tr>\n",
       "      <th>count</th>\n",
       "      <td>164.000000</td>\n",
       "      <td>164.000000</td>\n",
       "    </tr>\n",
       "    <tr>\n",
       "      <th>mean</th>\n",
       "      <td>0.378049</td>\n",
       "      <td>0.378049</td>\n",
       "    </tr>\n",
       "    <tr>\n",
       "      <th>std</th>\n",
       "      <td>0.745378</td>\n",
       "      <td>0.745378</td>\n",
       "    </tr>\n",
       "    <tr>\n",
       "      <th>min</th>\n",
       "      <td>0.000000</td>\n",
       "      <td>0.000000</td>\n",
       "    </tr>\n",
       "    <tr>\n",
       "      <th>25%</th>\n",
       "      <td>0.000000</td>\n",
       "      <td>0.000000</td>\n",
       "    </tr>\n",
       "    <tr>\n",
       "      <th>50%</th>\n",
       "      <td>0.000000</td>\n",
       "      <td>0.000000</td>\n",
       "    </tr>\n",
       "    <tr>\n",
       "      <th>75%</th>\n",
       "      <td>1.000000</td>\n",
       "      <td>1.000000</td>\n",
       "    </tr>\n",
       "    <tr>\n",
       "      <th>max</th>\n",
       "      <td>5.000000</td>\n",
       "      <td>5.000000</td>\n",
       "    </tr>\n",
       "  </tbody>\n",
       "</table>\n",
       "</div>"
      ],
      "text/plain": [
       "                0           0\n",
       "count  164.000000  164.000000\n",
       "mean     0.378049    0.378049\n",
       "std      0.745378    0.745378\n",
       "min      0.000000    0.000000\n",
       "25%      0.000000    0.000000\n",
       "50%      0.000000    0.000000\n",
       "75%      1.000000    1.000000\n",
       "max      5.000000    5.000000"
      ]
     },
     "execution_count": 152,
     "metadata": {},
     "output_type": "execute_result"
    }
   ],
   "source": [
    "pd.concat([described, described], axis=1)"
   ]
  },
  {
   "cell_type": "code",
   "execution_count": null,
   "metadata": {},
   "outputs": [],
   "source": []
  },
  {
   "cell_type": "code",
   "execution_count": null,
   "metadata": {},
   "outputs": [],
   "source": [
    "for i in "
   ]
  }
 ],
 "metadata": {
  "kernelspec": {
   "display_name": "Python 3",
   "language": "python",
   "name": "python3"
  },
  "language_info": {
   "codemirror_mode": {
    "name": "ipython",
    "version": 3
   },
   "file_extension": ".py",
   "mimetype": "text/x-python",
   "name": "python",
   "nbconvert_exporter": "python",
   "pygments_lexer": "ipython3",
   "version": "3.7.6"
  }
 },
 "nbformat": 4,
 "nbformat_minor": 4
}
