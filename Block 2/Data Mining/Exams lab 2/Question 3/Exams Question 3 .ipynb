{
 "cells": [
  {
   "cell_type": "code",
   "execution_count": 1,
   "metadata": {},
   "outputs": [],
   "source": [
    "import os\n",
    "import cv2\n",
    "import wget\n",
    "from tqdm.notebook import tqdm\n",
    "import pandas as pd\n",
    "import random as rd\n",
    "import numpy as np"
   ]
  },
  {
   "cell_type": "code",
   "execution_count": 6,
   "metadata": {},
   "outputs": [],
   "source": [
    "df = pd.read_csv('trailers.csv')"
   ]
  },
  {
   "cell_type": "code",
   "execution_count": 7,
   "metadata": {},
   "outputs": [
    {
     "data": {
      "text/html": [
       "<div>\n",
       "<style scoped>\n",
       "    .dataframe tbody tr th:only-of-type {\n",
       "        vertical-align: middle;\n",
       "    }\n",
       "\n",
       "    .dataframe tbody tr th {\n",
       "        vertical-align: top;\n",
       "    }\n",
       "\n",
       "    .dataframe thead th {\n",
       "        text-align: right;\n",
       "    }\n",
       "</style>\n",
       "<table border=\"1\" class=\"dataframe\">\n",
       "  <thead>\n",
       "    <tr style=\"text-align: right;\">\n",
       "      <th></th>\n",
       "      <th>trailer_title</th>\n",
       "      <th>url</th>\n",
       "      <th>imdb_id</th>\n",
       "      <th>year</th>\n",
       "      <th>rating</th>\n",
       "      <th>votes</th>\n",
       "      <th>genre</th>\n",
       "    </tr>\n",
       "  </thead>\n",
       "  <tbody>\n",
       "    <tr>\n",
       "      <th>0</th>\n",
       "      <td>THE BIG PARADE trailer</td>\n",
       "      <td>https://archive.org/download/TheBigParadeTrail...</td>\n",
       "      <td>15624</td>\n",
       "      <td>1925</td>\n",
       "      <td>7.9</td>\n",
       "      <td>6148.0</td>\n",
       "      <td>Drama|Romance|War</td>\n",
       "    </tr>\n",
       "    <tr>\n",
       "      <th>1</th>\n",
       "      <td>ALL QUIET ON THE WESTERN FRONT 1930 trailer</td>\n",
       "      <td>https://archive.org/download/AllQuietOnTheWest...</td>\n",
       "      <td>20629</td>\n",
       "      <td>1930</td>\n",
       "      <td>8.0</td>\n",
       "      <td>56948.0</td>\n",
       "      <td>Drama|War</td>\n",
       "    </tr>\n",
       "    <tr>\n",
       "      <th>2</th>\n",
       "      <td>THE OREGON TRAIL trailer</td>\n",
       "      <td>https://archive.org/download/TheOregonTrailTra...</td>\n",
       "      <td>20691</td>\n",
       "      <td>1926</td>\n",
       "      <td>7.2</td>\n",
       "      <td>3353.0</td>\n",
       "      <td>Adventure|Romance|Western</td>\n",
       "    </tr>\n",
       "    <tr>\n",
       "      <th>3</th>\n",
       "      <td>FIVE STAR FINAL trailer</td>\n",
       "      <td>https://archive.org/download/FiveStarFinalTrai...</td>\n",
       "      <td>21873</td>\n",
       "      <td>1931</td>\n",
       "      <td>7.2</td>\n",
       "      <td>1790.0</td>\n",
       "      <td>Crime|Drama</td>\n",
       "    </tr>\n",
       "    <tr>\n",
       "      <th>4</th>\n",
       "      <td>LITTLE CAESAR trailer</td>\n",
       "      <td>https://archive.org/download/LittleCaesarTrail...</td>\n",
       "      <td>21079</td>\n",
       "      <td>1931</td>\n",
       "      <td>7.3</td>\n",
       "      <td>11958.0</td>\n",
       "      <td>Action|Crime|Drama|Romance</td>\n",
       "    </tr>\n",
       "  </tbody>\n",
       "</table>\n",
       "</div>"
      ],
      "text/plain": [
       "                                 trailer_title  \\\n",
       "0                       THE BIG PARADE trailer   \n",
       "1  ALL QUIET ON THE WESTERN FRONT 1930 trailer   \n",
       "2                     THE OREGON TRAIL trailer   \n",
       "3                      FIVE STAR FINAL trailer   \n",
       "4                        LITTLE CAESAR trailer   \n",
       "\n",
       "                                                 url  imdb_id  year  rating  \\\n",
       "0  https://archive.org/download/TheBigParadeTrail...    15624  1925     7.9   \n",
       "1  https://archive.org/download/AllQuietOnTheWest...    20629  1930     8.0   \n",
       "2  https://archive.org/download/TheOregonTrailTra...    20691  1926     7.2   \n",
       "3  https://archive.org/download/FiveStarFinalTrai...    21873  1931     7.2   \n",
       "4  https://archive.org/download/LittleCaesarTrail...    21079  1931     7.3   \n",
       "\n",
       "     votes                       genre  \n",
       "0   6148.0           Drama|Romance|War  \n",
       "1  56948.0                   Drama|War  \n",
       "2   3353.0   Adventure|Romance|Western  \n",
       "3   1790.0                 Crime|Drama  \n",
       "4  11958.0  Action|Crime|Drama|Romance  "
      ]
     },
     "execution_count": 7,
     "metadata": {},
     "output_type": "execute_result"
    }
   ],
   "source": [
    "df.head()"
   ]
  },
  {
   "cell_type": "markdown",
   "metadata": {},
   "source": [
    "Now i am going to extract the subsets from 6.1 the same way, i will use a little bigger sample now with a number o n = 10"
   ]
  },
  {
   "cell_type": "code",
   "execution_count": 8,
   "metadata": {},
   "outputs": [],
   "source": [
    "n = 10\n",
    "trailers1920_40 = trailers[(trailers.year > 1920) & (trailers.year < 1940)].sample(n)\n",
    "trailers1960_80 = trailers[(trailers.year > 1960) & (trailers.year < 1980)].sample(n)\n",
    "trailers2000 = trailers[trailers.year > 2000].sample(n)"
   ]
  },
  {
   "cell_type": "code",
   "execution_count": 9,
   "metadata": {},
   "outputs": [],
   "source": [
    "def dl_sample(df, folder):\n",
    "    if not os.path.exists(folder):\n",
    "        os.mkdir(folder)\n",
    "    \n",
    "    video_paths = []\n",
    "    for video in df.itertuples():\n",
    "        video_url = video.url\n",
    "        output_path = folder + video.trailer_title + '.mp4'\n",
    "        filename = wget.download(video_url, out=output_path)\n",
    "        video_paths.append(output_path)\n",
    "        \n",
    "    return video_paths"
   ]
  },
  {
   "cell_type": "code",
   "execution_count": 10,
   "metadata": {},
   "outputs": [],
   "source": [
    "trailer1920 = dl_sample(trailers1920_40, 'vid_1920/')\n",
    "trailer1960 = dl_sample(trailers1960_80, 'vid_1960/')\n",
    "trailer2000 = dl_sample(trailers2000, 'vid_2000/')"
   ]
  },
  {
   "cell_type": "code",
   "execution_count": null,
   "metadata": {},
   "outputs": [],
   "source": []
  },
  {
   "cell_type": "code",
   "execution_count": 12,
   "metadata": {},
   "outputs": [
    {
     "name": "stdout",
     "output_type": "stream",
     "text": [
      "30\n"
     ]
    },
    {
     "data": {
      "text/html": [
       "<div>\n",
       "<style scoped>\n",
       "    .dataframe tbody tr th:only-of-type {\n",
       "        vertical-align: middle;\n",
       "    }\n",
       "\n",
       "    .dataframe tbody tr th {\n",
       "        vertical-align: top;\n",
       "    }\n",
       "\n",
       "    .dataframe thead th {\n",
       "        text-align: right;\n",
       "    }\n",
       "</style>\n",
       "<table border=\"1\" class=\"dataframe\">\n",
       "  <thead>\n",
       "    <tr style=\"text-align: right;\">\n",
       "      <th></th>\n",
       "      <th>trailer_title</th>\n",
       "      <th>url</th>\n",
       "      <th>imdb_id</th>\n",
       "      <th>year</th>\n",
       "      <th>rating</th>\n",
       "      <th>votes</th>\n",
       "      <th>genre</th>\n",
       "    </tr>\n",
       "  </thead>\n",
       "  <tbody>\n",
       "    <tr>\n",
       "      <th>76</th>\n",
       "      <td>IDIOT'S DELIGHT trailer</td>\n",
       "      <td>https://archive.org/download/IdiotsDelightTrai...</td>\n",
       "      <td>31473</td>\n",
       "      <td>1939</td>\n",
       "      <td>6.5</td>\n",
       "      <td>1289.0</td>\n",
       "      <td>Comedy|Drama|Musical|Romance</td>\n",
       "    </tr>\n",
       "    <tr>\n",
       "      <th>61</th>\n",
       "      <td>THE GOOD EARTH trailer</td>\n",
       "      <td>https://archive.org/download/TheGoodEarthTrail...</td>\n",
       "      <td>28944</td>\n",
       "      <td>1937</td>\n",
       "      <td>7.5</td>\n",
       "      <td>4474.0</td>\n",
       "      <td>Drama|Romance</td>\n",
       "    </tr>\n",
       "    <tr>\n",
       "      <th>86</th>\n",
       "      <td>JUAREZ trailer</td>\n",
       "      <td>https://archive.org/download/JuarezTrailer/Jua...</td>\n",
       "      <td>31516</td>\n",
       "      <td>1939</td>\n",
       "      <td>7.1</td>\n",
       "      <td>1963.0</td>\n",
       "      <td>Biography|Drama|History|Romance</td>\n",
       "    </tr>\n",
       "    <tr>\n",
       "      <th>58</th>\n",
       "      <td>THE LIFE OF EMILE ZOLA Trailer</td>\n",
       "      <td>https://archive.org/download/THELIFEOFEMILEZOL...</td>\n",
       "      <td>29146</td>\n",
       "      <td>1937</td>\n",
       "      <td>7.2</td>\n",
       "      <td>7066.0</td>\n",
       "      <td>Biography|Drama</td>\n",
       "    </tr>\n",
       "    <tr>\n",
       "      <th>46</th>\n",
       "      <td>THEODORA GOES WILD trailer</td>\n",
       "      <td>https://archive.org/download/TheodoraGoesWildT...</td>\n",
       "      <td>28355</td>\n",
       "      <td>1936</td>\n",
       "      <td>7.2</td>\n",
       "      <td>2123.0</td>\n",
       "      <td>Comedy|Romance</td>\n",
       "    </tr>\n",
       "  </tbody>\n",
       "</table>\n",
       "</div>"
      ],
      "text/plain": [
       "                     trailer_title  \\\n",
       "76         IDIOT'S DELIGHT trailer   \n",
       "61          THE GOOD EARTH trailer   \n",
       "86                  JUAREZ trailer   \n",
       "58  THE LIFE OF EMILE ZOLA Trailer   \n",
       "46      THEODORA GOES WILD trailer   \n",
       "\n",
       "                                                  url  imdb_id  year  rating  \\\n",
       "76  https://archive.org/download/IdiotsDelightTrai...    31473  1939     6.5   \n",
       "61  https://archive.org/download/TheGoodEarthTrail...    28944  1937     7.5   \n",
       "86  https://archive.org/download/JuarezTrailer/Jua...    31516  1939     7.1   \n",
       "58  https://archive.org/download/THELIFEOFEMILEZOL...    29146  1937     7.2   \n",
       "46  https://archive.org/download/TheodoraGoesWildT...    28355  1936     7.2   \n",
       "\n",
       "     votes                            genre  \n",
       "76  1289.0     Comedy|Drama|Musical|Romance  \n",
       "61  4474.0                    Drama|Romance  \n",
       "86  1963.0  Biography|Drama|History|Romance  \n",
       "58  7066.0                  Biography|Drama  \n",
       "46  2123.0                   Comedy|Romance  "
      ]
     },
     "execution_count": 12,
     "metadata": {},
     "output_type": "execute_result"
    }
   ],
   "source": [
    "trailer_samples = pd.concat([trailers1920_40,trailers1960_80,trailers2000])# all the trailers in one list\n",
    "print(len(trailer_samples))\n",
    "trailer_samples.head()"
   ]
  },
  {
   "cell_type": "code",
   "execution_count": 77,
   "metadata": {},
   "outputs": [],
   "source": [
    "#I find all the scenes from the movies using the function from the manual\n",
    "from scenedetect import VideoManager\n",
    "from scenedetect import SceneManager\n",
    "\n",
    "from scenedetect.detectors import ContentDetector\n",
    "from scenedetect.scene_manager import generate_images\n",
    "\n",
    "def find_scenes(video_path, threshold=30.0):\n",
    "    video_manager = VideoManager([video_path])\n",
    "    scene_manager = SceneManager()\n",
    "    scene_manager.add_detector(\n",
    "        ContentDetector(threshold=threshold))\n",
    "    base_timecode = video_manager.get_base_timecode()\n",
    "    video_manager.set_downscale_factor()\n",
    "    video_manager.start()\n",
    "    scene_manager.detect_scenes(frame_source=video_manager, show_progress=False)    \n",
    "    return scene_manager.get_scene_list(base_timecode)"
   ]
  },
  {
   "cell_type": "code",
   "execution_count": 78,
   "metadata": {},
   "outputs": [],
   "source": [
    "#I am using the face classification to detect the faces from manual\n",
    "face_classification = cv2.CascadeClassifier('haarcascade_frontalface_default.xml') # load the classifier only once!"
   ]
  },
  {
   "cell_type": "code",
   "execution_count": 79,
   "metadata": {},
   "outputs": [
    {
     "ename": "NameError",
     "evalue": "name 'load_model' is not defined",
     "output_type": "error",
     "traceback": [
      "\u001b[1;31m---------------------------------------------------------------------------\u001b[0m",
      "\u001b[1;31mNameError\u001b[0m                                 Traceback (most recent call last)",
      "\u001b[1;32m<ipython-input-79-e47fe06f65c5>\u001b[0m in \u001b[0;36m<module>\u001b[1;34m\u001b[0m\n\u001b[0;32m      1\u001b[0m \u001b[1;31m#I am loading the emotions classifier also from the manual\u001b[0m\u001b[1;33m\u001b[0m\u001b[1;33m\u001b[0m\u001b[1;33m\u001b[0m\u001b[0m\n\u001b[1;32m----> 2\u001b[1;33m \u001b[0memotion_classifier\u001b[0m \u001b[1;33m=\u001b[0m \u001b[0mload_model\u001b[0m\u001b[1;33m(\u001b[0m\u001b[1;34m'fer2013_mini_XCEPTION.102-0.66.hdf5'\u001b[0m\u001b[1;33m)\u001b[0m \u001b[1;31m# load this only once! (not in a loop)\u001b[0m\u001b[1;33m\u001b[0m\u001b[1;33m\u001b[0m\u001b[0m\n\u001b[0m\u001b[0;32m      3\u001b[0m \u001b[0mEMOTION_OFFSETS\u001b[0m \u001b[1;33m=\u001b[0m \u001b[1;33m(\u001b[0m\u001b[1;36m0\u001b[0m\u001b[1;33m,\u001b[0m \u001b[1;36m0\u001b[0m\u001b[1;33m)\u001b[0m\u001b[1;33m\u001b[0m\u001b[1;33m\u001b[0m\u001b[0m\n\u001b[0;32m      4\u001b[0m \u001b[0mINPUT_SHAPE_EMOTION\u001b[0m \u001b[1;33m=\u001b[0m \u001b[0memotion_classifier\u001b[0m\u001b[1;33m.\u001b[0m\u001b[0minput_shape\u001b[0m\u001b[1;33m[\u001b[0m\u001b[1;36m1\u001b[0m\u001b[1;33m:\u001b[0m\u001b[1;36m3\u001b[0m\u001b[1;33m]\u001b[0m\u001b[1;33m\u001b[0m\u001b[1;33m\u001b[0m\u001b[0m\n\u001b[0;32m      5\u001b[0m \u001b[0mlabels\u001b[0m \u001b[1;33m=\u001b[0m \u001b[1;33m[\u001b[0m\u001b[1;34m'angry'\u001b[0m\u001b[1;33m,\u001b[0m \u001b[1;34m'disgust'\u001b[0m\u001b[1;33m,\u001b[0m \u001b[1;34m'fear'\u001b[0m\u001b[1;33m,\u001b[0m \u001b[1;34m'happy'\u001b[0m\u001b[1;33m,\u001b[0m \u001b[1;34m'sad'\u001b[0m\u001b[1;33m,\u001b[0m \u001b[1;34m'surprise'\u001b[0m\u001b[1;33m,\u001b[0m \u001b[1;34m'neutral'\u001b[0m\u001b[1;33m]\u001b[0m\u001b[1;33m\u001b[0m\u001b[1;33m\u001b[0m\u001b[0m\n",
      "\u001b[1;31mNameError\u001b[0m: name 'load_model' is not defined"
     ]
    }
   ],
   "source": [
    "#I am loading the emotions classifier also from the manual\n",
    "emotion_classifier = load_model('fer2013_mini_XCEPTION.102-0.66.hdf5') # load this only once! (not in a loop)\n",
    "EMOTION_OFFSETS = (0, 0)\n",
    "INPUT_SHAPE_EMOTION = emotion_classifier.input_shape[1:3]\n",
    "labels = ['angry', 'disgust', 'fear', 'happy', 'sad', 'surprise', 'neutral']"
   ]
  },
  {
   "cell_type": "markdown",
   "metadata": {},
   "source": [
    "Now i have to create the loop to find first the faces and then the emotions from the 3 subsets that i have i am going to create 6 variances 2 for every subset(number of faces and emotions)"
   ]
  },
  {
   "cell_type": "code",
   "execution_count": 66,
   "metadata": {},
   "outputs": [],
   "source": [
    "#firstly i am going to loop through the 1920 until 1940 videos \n",
    "tr_faces_1920 = pd.DataFrame()\n",
    "tr_emotions_1920 = pd.DataFrame()"
   ]
  },
  {
   "cell_type": "code",
   "execution_count": 75,
   "metadata": {},
   "outputs": [
    {
     "name": "stdout",
     "output_type": "stream",
     "text": [
      "error with IdiotsDelightTrailer.mp4\n"
     ]
    },
    {
     "ename": "OSError",
     "evalue": "Video file(s) not found.",
     "output_type": "error",
     "traceback": [
      "\u001b[1;31m---------------------------------------------------------------------------\u001b[0m",
      "\u001b[1;31mOSError\u001b[0m                                   Traceback (most recent call last)",
      "\u001b[1;32m<ipython-input-75-71a9a51f03af>\u001b[0m in \u001b[0;36m<module>\u001b[1;34m\u001b[0m\n\u001b[0;32m     13\u001b[0m         \u001b[0mcap\u001b[0m \u001b[1;33m=\u001b[0m \u001b[0mcv2\u001b[0m\u001b[1;33m.\u001b[0m\u001b[0mVideoCapture\u001b[0m\u001b[1;33m(\u001b[0m\u001b[0mfilename\u001b[0m\u001b[1;33m)\u001b[0m\u001b[1;33m\u001b[0m\u001b[1;33m\u001b[0m\u001b[0m\n\u001b[0;32m     14\u001b[0m         \u001b[0mframes\u001b[0m \u001b[1;33m=\u001b[0m \u001b[1;33m[\u001b[0m\u001b[1;33m]\u001b[0m\u001b[1;33m\u001b[0m\u001b[1;33m\u001b[0m\u001b[0m\n\u001b[1;32m---> 15\u001b[1;33m         \u001b[0mscene_list\u001b[0m \u001b[1;33m=\u001b[0m \u001b[0mfind_scenes\u001b[0m\u001b[1;33m(\u001b[0m\u001b[0mfilename\u001b[0m\u001b[1;33m,\u001b[0m \u001b[0mthreshold\u001b[0m\u001b[1;33m=\u001b[0m\u001b[1;36m30\u001b[0m\u001b[1;33m)\u001b[0m\u001b[1;33m\u001b[0m\u001b[1;33m\u001b[0m\u001b[0m\n\u001b[0m\u001b[0;32m     16\u001b[0m         \u001b[1;32mfor\u001b[0m \u001b[0mstart_time\u001b[0m\u001b[1;33m,\u001b[0m \u001b[0mend_time\u001b[0m \u001b[1;32min\u001b[0m \u001b[0mscene_list\u001b[0m\u001b[1;33m:\u001b[0m\u001b[1;33m\u001b[0m\u001b[1;33m\u001b[0m\u001b[0m\n\u001b[0;32m     17\u001b[0m             \u001b[0mduration\u001b[0m \u001b[1;33m=\u001b[0m \u001b[0mend_time\u001b[0m \u001b[1;33m-\u001b[0m \u001b[0mstart_time\u001b[0m\u001b[1;33m\u001b[0m\u001b[1;33m\u001b[0m\u001b[0m\n",
      "\u001b[1;32m<ipython-input-13-74ff0e0e3b67>\u001b[0m in \u001b[0;36mfind_scenes\u001b[1;34m(video_path, threshold)\u001b[0m\n\u001b[0;32m      6\u001b[0m \u001b[1;33m\u001b[0m\u001b[0m\n\u001b[0;32m      7\u001b[0m \u001b[1;32mdef\u001b[0m \u001b[0mfind_scenes\u001b[0m\u001b[1;33m(\u001b[0m\u001b[0mvideo_path\u001b[0m\u001b[1;33m,\u001b[0m \u001b[0mthreshold\u001b[0m\u001b[1;33m=\u001b[0m\u001b[1;36m30.0\u001b[0m\u001b[1;33m)\u001b[0m\u001b[1;33m:\u001b[0m\u001b[1;33m\u001b[0m\u001b[1;33m\u001b[0m\u001b[0m\n\u001b[1;32m----> 8\u001b[1;33m     \u001b[0mvideo_manager\u001b[0m \u001b[1;33m=\u001b[0m \u001b[0mVideoManager\u001b[0m\u001b[1;33m(\u001b[0m\u001b[1;33m[\u001b[0m\u001b[0mvideo_path\u001b[0m\u001b[1;33m]\u001b[0m\u001b[1;33m)\u001b[0m\u001b[1;33m\u001b[0m\u001b[1;33m\u001b[0m\u001b[0m\n\u001b[0m\u001b[0;32m      9\u001b[0m     \u001b[0mscene_manager\u001b[0m \u001b[1;33m=\u001b[0m \u001b[0mSceneManager\u001b[0m\u001b[1;33m(\u001b[0m\u001b[1;33m)\u001b[0m\u001b[1;33m\u001b[0m\u001b[1;33m\u001b[0m\u001b[0m\n\u001b[0;32m     10\u001b[0m     scene_manager.add_detector(\n",
      "\u001b[1;32m~\\anaconda3\\lib\\site-packages\\scenedetect\\video_manager.py\u001b[0m in \u001b[0;36m__init__\u001b[1;34m(self, video_files, framerate, logger)\u001b[0m\n\u001b[0;32m    371\u001b[0m         \u001b[1;31m# These VideoCaptures are only open in this process.\u001b[0m\u001b[1;33m\u001b[0m\u001b[1;33m\u001b[0m\u001b[1;33m\u001b[0m\u001b[0m\n\u001b[0;32m    372\u001b[0m         self._cap_list, self._cap_framerate, self._cap_framesize = open_captures(\n\u001b[1;32m--> 373\u001b[1;33m             video_files=video_files, framerate=framerate)\n\u001b[0m\u001b[0;32m    374\u001b[0m         \u001b[0mself\u001b[0m\u001b[1;33m.\u001b[0m\u001b[0m_end_of_video\u001b[0m \u001b[1;33m=\u001b[0m \u001b[1;32mFalse\u001b[0m\u001b[1;33m\u001b[0m\u001b[1;33m\u001b[0m\u001b[0m\n\u001b[0;32m    375\u001b[0m         \u001b[0mself\u001b[0m\u001b[1;33m.\u001b[0m\u001b[0m_start_time\u001b[0m \u001b[1;33m=\u001b[0m \u001b[0mself\u001b[0m\u001b[1;33m.\u001b[0m\u001b[0mget_base_timecode\u001b[0m\u001b[1;33m(\u001b[0m\u001b[1;33m)\u001b[0m\u001b[1;33m\u001b[0m\u001b[1;33m\u001b[0m\u001b[0m\n",
      "\u001b[1;32m~\\anaconda3\\lib\\site-packages\\scenedetect\\video_manager.py\u001b[0m in \u001b[0;36mopen_captures\u001b[1;34m(video_files, framerate, validate_parameters)\u001b[0m\n\u001b[0;32m    230\u001b[0m     \u001b[1;31m# Check if files exist.\u001b[0m\u001b[1;33m\u001b[0m\u001b[1;33m\u001b[0m\u001b[1;33m\u001b[0m\u001b[0m\n\u001b[0;32m    231\u001b[0m     \u001b[1;32mif\u001b[0m \u001b[1;32mnot\u001b[0m \u001b[0mis_device\u001b[0m \u001b[1;32mand\u001b[0m \u001b[0many\u001b[0m\u001b[1;33m(\u001b[0m\u001b[1;33m[\u001b[0m\u001b[1;32mnot\u001b[0m \u001b[0mos\u001b[0m\u001b[1;33m.\u001b[0m\u001b[0mpath\u001b[0m\u001b[1;33m.\u001b[0m\u001b[0mexists\u001b[0m\u001b[1;33m(\u001b[0m\u001b[0mvideo_file\u001b[0m\u001b[1;33m)\u001b[0m \u001b[1;32mfor\u001b[0m \u001b[0mvideo_file\u001b[0m \u001b[1;32min\u001b[0m \u001b[0mvideo_files\u001b[0m\u001b[1;33m]\u001b[0m\u001b[1;33m)\u001b[0m\u001b[1;33m:\u001b[0m\u001b[1;33m\u001b[0m\u001b[1;33m\u001b[0m\u001b[0m\n\u001b[1;32m--> 232\u001b[1;33m         \u001b[1;32mraise\u001b[0m \u001b[0mIOError\u001b[0m\u001b[1;33m(\u001b[0m\u001b[1;34m\"Video file(s) not found.\"\u001b[0m\u001b[1;33m)\u001b[0m\u001b[1;33m\u001b[0m\u001b[1;33m\u001b[0m\u001b[0m\n\u001b[0m\u001b[0;32m    233\u001b[0m     \u001b[0mcap_list\u001b[0m \u001b[1;33m=\u001b[0m \u001b[1;33m[\u001b[0m\u001b[1;33m]\u001b[0m\u001b[1;33m\u001b[0m\u001b[1;33m\u001b[0m\u001b[0m\n\u001b[0;32m    234\u001b[0m \u001b[1;33m\u001b[0m\u001b[0m\n",
      "\u001b[1;31mOSError\u001b[0m: Video file(s) not found."
     ]
    }
   ],
   "source": [
    "#i have to loop through all the videos\n",
    "for i in range(len(trailers1920_40)): #to get the trailers\n",
    "    tr = trailers1920_40.iloc[i]\n",
    "    tr_url = tr[\"url\"]\n",
    "    tr_file = tr_url.split(\"/\")[-1]\n",
    "    if os.path.isfile(str(tr_file)):\n",
    "        print (str(tr_file))\n",
    "    else:\n",
    "        print(f\"error with {tr_file}\")\n",
    "     # get frames\n",
    "    filename = tr_file\n",
    "    if filename not in tr_faces_1920.index:\n",
    "        cap = cv2.VideoCapture(filename)\n",
    "        frames = []\n",
    "        scene_list = find_scenes(filename, threshold=30)\n",
    "        for start_time, end_time in scene_list:\n",
    "            duration = end_time - start_time\n",
    "            frame = (start_time.get_frames() + int(duration.get_frames() / 2))\n",
    "            cap.set(cv2.CAP_PROP_POS_FRAMES,frame)\n",
    "            ret, frame = cap.read()\n",
    "            frame = cv2.cvtColor(frame, cv2.COLOR_BGR2GRAY)\n",
    "            frames.append(frame)\n",
    "\n",
    "        # get amount of faces in frame\n",
    "        frame_faces = []\n",
    "        emotions_probas = []\n",
    "        for frame in frames:\n",
    "            gray_image = frame\n",
    "            faces = face_classification.detectMultiScale(gray_image, 1.3, 5) # detect the faces \n",
    "            n_faces = len(faces) # get the number of faces\n",
    "            frame_faces.append(n_faces)\n",
    "            # for each frame with faces, I want to get the emotions\n",
    "            if n_faces > 0:\n",
    "                for face_coordinates in faces:\n",
    "                    x1, x2, y1, y2 = apply_offsets(face_coordinates, EMOTION_OFFSETS) \n",
    "                    face_img = gray_image[y1:y2, x1:x2] # only get the face\n",
    "                    face_img = cv2.resize(face_img, (INPUT_SHAPE_EMOTION))\n",
    "                    face_img = face_img.astype('float32') / 255.0 # pre-processing \n",
    "                    face_img = face_img - 0.5 # pre-processing specific to the emotion classifier\n",
    "                    face_img = face_img * 2.0 # pre-processing specific to the emotion classifier\n",
    "                    face_img = np.expand_dims(face_img, 0) # batch of one\n",
    "                    face_img = np.expand_dims(face_img, -1) # pre-processing specific to the emotion classifier\n",
    "                    probas = emotion_classifier.predict(face_img).squeeze()\n",
    "                    # add emotions of all faces to a list\n",
    "                    emotions_probas.append(probas)\n",
    "        face_described = pd.DataFrame(frame_faces).describe()\n",
    "        face_described_t = face_described.transpose()\n",
    "        face_described_t.columns = [f\"faces_in_frame_{desc}\" for desc in face_described_t.columns]\n",
    "        face_described_t.index = [str(tr_file)]\n",
    "        trailer_faces = pd.concat([trailer_faces, face_described.transpose()])\n",
    "        \n",
    "        # make a df from probabilities\n",
    "        emotions_probas_df = pd.DataFrame(emotions_probas, columns = labels)\n",
    "        described_emotions = pd.DataFrame()\n",
    "        for label in labels:\n",
    "            described_emotion = pd.DataFrame(emotions_probas_df[label].describe())\n",
    "            described_emotion_t = described_emotion.transpose()\n",
    "            described_emotion_t.columns = [f\"{label}_{desc}\" for desc in described_emotion_t.columns]\n",
    "            described_emotions = pd.concat([described_emotions, described_emotion_t.reset_index(drop=True)], axis=1)\n",
    "        described_emotions.index = [filename]\n",
    "        tr_emotions_1920 = pd.concat([tr_emotions_1920, described_emotions])        \n",
    "        \n",
    "        "
   ]
  },
  {
   "cell_type": "code",
   "execution_count": 76,
   "metadata": {},
   "outputs": [
    {
     "name": "stdout",
     "output_type": "stream",
     "text": [
      "IDIOT'S DELIGHT trailer\n",
      "THE GOOD EARTH trailer\n",
      "JUAREZ trailer\n",
      "THE LIFE OF EMILE ZOLA Trailer\n",
      "THEODORA GOES WILD trailer\n",
      "THE MUMMY'S HAND trailer\n",
      "BLACK LEGION trailer\n",
      "HEROES FOR SALE trailer.\n",
      "GOLD DIGGERS OF 1935 trailer\n",
      "NINOTCHKA trailer.\n"
     ]
    }
   ],
   "source": [
    " for i in range(len(trailers1920_40)):\n",
    "    tr = trailers1920_40.iloc[i]\n",
    "    print(tr[\"trailer_title\"])\n",
    "    \n",
    "    tr_url = tr[\"url\"]\n",
    "    tr_file = tr_url.split(\"/\")[-1]\n",
    "    if not os.path.isfile(tr_file):\n",
    "        os.system(\"wget \" + tr_url)"
   ]
  },
  {
   "cell_type": "code",
   "execution_count": 61,
   "metadata": {},
   "outputs": [],
   "source": []
  },
  {
   "cell_type": "code",
   "execution_count": null,
   "metadata": {},
   "outputs": [],
   "source": []
  },
  {
   "cell_type": "code",
   "execution_count": null,
   "metadata": {},
   "outputs": [],
   "source": []
  }
 ],
 "metadata": {
  "kernelspec": {
   "display_name": "Python 3",
   "language": "python",
   "name": "python3"
  },
  "language_info": {
   "codemirror_mode": {
    "name": "ipython",
    "version": 3
   },
   "file_extension": ".py",
   "mimetype": "text/x-python",
   "name": "python",
   "nbconvert_exporter": "python",
   "pygments_lexer": "ipython3",
   "version": "3.7.6"
  }
 },
 "nbformat": 4,
 "nbformat_minor": 4
}
