{
 "cells": [
  {
   "cell_type": "markdown",
   "metadata": {
    "id": "AyTN6RyLLqNQ"
   },
   "source": [
    "# Question 2 Exams\n",
    "### Name: Ioannis Konstantakopoulos , \n",
    "### st.num:0960047\n",
    "\n",
    "My first though when i saw the CEO word in the assignment was to try and find if there is any increse in females appearences now rather than 15-20 years ago. I tried to find some numbers about the ratio of male and female CEO's, my expectations is that the number of CEO's back then as the paper indicates(https://www.researchgate.net/figure/Females-as-a-percent-of-all-non-CEO-top-executives-and-as-a-percent-of-all-CEOs_fig2_235310605) back in 2004 there where only 2% of women CEO's. I think the proportion has changed to a more -but not even close to equal- proportion nowadays. As the article declares even now the proportion of women CEO's At Fortune 500 Companies (https://www.statista.com/chart/13995/female-ceos-in-fortune-500-companies/) is still really low at 7%. Although it was doubled i expected more women to have power positions. \n",
    "\n",
    "I will use the google images downloader to download pictures titled 'CEO' to see if my findings will be the same as the article. I will first use cascadeing classifier to perform face detection. Then iterate through all the faces in the photo and perform gender classification. After that i will count the number of female and male faces so i can have the proportion of my predictions "
   ]
  },
  {
   "cell_type": "code",
   "execution_count": 6,
   "metadata": {
    "colab": {
     "base_uri": "https://localhost:8080/"
    },
    "id": "kQoSJ53T4Vmi",
    "outputId": "c52df557-4105-4a59-8295-8217a17889a7"
   },
   "outputs": [
    {
     "name": "stdout",
     "output_type": "stream",
     "text": [
      "Requirement already satisfied: wget in /usr/local/lib/python3.6/dist-packages (3.2)\n",
      "Collecting git+https://github.com/Joeclinton1/google-images-download.git\n",
      "  Cloning https://github.com/Joeclinton1/google-images-download.git to /tmp/pip-req-build-utgepv24\n",
      "  Running command git clone -q https://github.com/Joeclinton1/google-images-download.git /tmp/pip-req-build-utgepv24\n",
      "Collecting selenium\n",
      "\u001b[?25l  Downloading https://files.pythonhosted.org/packages/80/d6/4294f0b4bce4de0abf13e17190289f9d0613b0a44e5dd6a7f5ca98459853/selenium-3.141.0-py2.py3-none-any.whl (904kB)\n",
      "\u001b[K     |████████████████████████████████| 911kB 6.3MB/s \n",
      "\u001b[?25hRequirement already satisfied, skipping upgrade: urllib3 in /usr/local/lib/python3.6/dist-packages (from selenium->google-images-download==2.8.0) (1.24.3)\n",
      "Building wheels for collected packages: google-images-download\n",
      "  Building wheel for google-images-download (setup.py) ... \u001b[?25l\u001b[?25hdone\n",
      "  Created wheel for google-images-download: filename=google_images_download-2.8.0-py2.py3-none-any.whl size=15792 sha256=5947eaf91276fa76a097fdfaa3f6f6c905ba278b4fa3321f4d42869326fcf0dd\n",
      "  Stored in directory: /tmp/pip-ephem-wheel-cache-zv2wz3_j/wheels/1a/36/c9/53bd827bc241b69fe47b90731625459627f82694ecd8a88273\n",
      "Successfully built google-images-download\n",
      "Installing collected packages: selenium, google-images-download\n",
      "Successfully installed google-images-download-2.8.0 selenium-3.141.0\n"
     ]
    }
   ],
   "source": [
    "!pip install wget\n",
    "!pip install git+https://github.com/Joeclinton1/google-images-download.git --upgrade "
   ]
  },
  {
   "cell_type": "code",
   "execution_count": 3,
   "metadata": {
    "id": "LnAKo6rK4fVl"
   },
   "outputs": [],
   "source": [
    "import io\n",
    "import urllib\n",
    "\n",
    "import matplotlib.pyplot as plt\n",
    "from PIL import Image, ImageOps\n",
    "from tensorflow.keras.preprocessing import image\n",
    "\n",
    "import numpy as np\n",
    "import pandas as pd\n",
    "\n",
    "import cv2\n",
    "\n",
    "from tensorflow.keras.applications.resnet50 import ResNet50\n",
    "from tensorflow.keras.applications.resnet50 import preprocess_input, decode_predictions\n",
    "import tensorflow_hub as hub\n",
    "from urllib.request import urlopen\n",
    "\n",
    "import re\n",
    "import pytesseract\n",
    "from PIL import Image\n",
    "\n",
    "from tensorflow.keras.models import load_model\n",
    "\n",
    "import colorgram\n",
    "from matplotlib.colors import to_hex\n",
    "\n",
    "import matplotlib as mpl\n",
    "import webcolors\n",
    "\n",
    "from os import listdir\n",
    "from os.path import isfile, join\n",
    "\n",
    "import wget"
   ]
  },
  {
   "cell_type": "code",
   "execution_count": null,
   "metadata": {
    "id": "F_K04uA80xiK"
   },
   "outputs": [],
   "source": [
    "from google.colab import drive\n",
    "drive.mount('/content/drive')"
   ]
  },
  {
   "cell_type": "code",
   "execution_count": 4,
   "metadata": {
    "id": "cUehZICq0yL2"
   },
   "outputs": [],
   "source": [
    "MY_QUERY = \"CEO\"\n",
    "N_IMAGES = 80\n",
    "OUTPUT_DIR = '/content/drive/MyDrive/Q2'"
   ]
  },
  {
   "cell_type": "code",
   "execution_count": 7,
   "metadata": {
    "colab": {
     "base_uri": "https://localhost:8080/"
    },
    "id": "R4__JFTD06ZX",
    "outputId": "95ebfd1f-edd8-477d-ad0b-e85f91c63538"
   },
   "outputs": [
    {
     "name": "stdout",
     "output_type": "stream",
     "text": [
      "\n",
      "Item no.: 1 --> Item name = CEO\n",
      "Evaluating...\n",
      "Starting Download...\n",
      "Image URL: https://upload.wikimedia.org/wikipedia/commons/thumb/4/4e/Group_of_Fortune_500_CEOs_in_2015_%28cropped_to_remove_non-CEO%29.jpg/220px-Group_of_Fortune_500_CEOs_in_2015_%28cropped_to_remove_non-CEO%29.jpg\n",
      "Completed Image ====> 1.220px-group_of_fortune_500_ceos_in_2015_%28cropped_to_remove_non-ceo%29.jpg\n",
      "Image URL: https://s3.amazonaws.com/utep-uploads/wp-content/uploads/sparkle-box/2019/04/30112737/Female-CEO.jpg\n",
      "Completed Image ====> 2.female-ceo.jpg\n",
      "Image URL: https://personalexcellence.co/files/ceo.jpg\n",
      "Completed Image ====> 3.ceo.jpg\n",
      "Image URL: https://mms.businesswire.com/media/20200218005271/en/773989/5/Odilon_Almeida_Headshot_1.jpg\n",
      "Completed Image ====> 4.odilon_almeida_headshot_1.jpg\n",
      "Image URL: https://www.mckinsey.com/~/media/McKinsey/Business%20Functions/McKinsey%20Digital/Our%20Insights/The%20CEOs%20new%20technology%20agenda/CEO-standard-Offset300-1536x1536.jpg\n",
      "Completed Image ====> 5.ceo-standard-offset300-1536x1536.jpg\n",
      "Image URL: https://www.europeanceo.com/wp-content/uploads/2017/08/CEO-magic-touch.jpg\n",
      "Completed Image ====> 6.ceo-magic-touch.jpg\n",
      "Image URL: https://content.fortune.com/wp-content/uploads/2020/02/Jeff-Weiner-LinkedIn-Ceo.jpg\n",
      "Completed Image ====> 7.jeff-weiner-linkedin-ceo.jpg\n",
      "Image URL: https://heartofthecustomer.com/wp-content/uploads/2014/10/CEO.jpg\n",
      "Completed Image ====> 8.ceo.jpg\n",
      "Image URL: https://www.incimages.com/uploaded_files/image/1920x1080/getty_640189368_393093.jpg\n",
      "Completed Image ====> 9.getty_640189368_393093.jpg\n",
      "Image URL: https://assets.entrepreneur.com/content/3x2/2000/1598288291-GettyImages-1128213402.jpg?width=700&crop=2:1\n",
      "Completed Image ====> 10.1598288291-gettyimages-1128213402.jpg\n",
      "Image URL: https://54.190.189.255/sites/default/files/ceo_guy.jpg\n",
      "CertificateError on an image...trying next one... Error: hostname '54.190.189.255' doesn't match either of 'execed.economist.com', 'executiveeducation.economist.com', 'executive-education.economist.com', 'exed.economist.com'\n",
      "Image URL: https://static01.nyt.com/images/2020/01/14/business/00renaultceo/00renaultceo-videoSixteenByNineJumbo1600.jpg\n",
      "Completed Image ====> 11.00renaultceo-videosixteenbyninejumbo1600.jpg\n",
      "Image URL: https://static01.nyt.com/images/2019/11/04/business/04mcdonalds/merlin_163865460_5728178e-08bd-4454-9d5b-502505af7921-superJumbo.jpg\n",
      "Completed Image ====> 12.merlin_163865460_5728178e-08bd-4454-9d5b-502505af7921-superjumbo.jpg\n",
      "Image URL: https://us.res.keymedia.com/files/image/iStock_Neww_boss_CEO.jpg\n",
      "Completed Image ====> 13.istock_neww_boss_ceo.jpg\n",
      "Image URL: https://online.norwich.edu/sites/default/files/styles/resource_standard_hero/public/content/resources/header/nu_msl_-_understanding_ceo_leadership_styles.jpg?itok=cPm1Chcx\n",
      "Completed Image ====> 14.nu_msl_-_understanding_ceo_leadership_styles.jpg\n",
      "Image URL: https://chiefexecutive.net/wp-content/uploads/2019/05/AdobeStock_92246077-1024x765.jpeg\n",
      "Completed Image ====> 15.adobestock_92246077-1024x765.jpeg\n",
      "Image URL: https://s3-us-east-2.amazonaws.com/maryville/wp-content/uploads/2018/08/28173307/ceo-smiling-500x333.jpg\n",
      "Completed Image ====> 16.ceo-smiling-500x333.jpg\n",
      "Image URL: https://www.ccl.org/wp-content/uploads/2017/07/becoming-ceo-leading-effectively-center-for-creative-leadership-ccl.jpg\n",
      "Completed Image ====> 17.becoming-ceo-leading-effectively-center-for-creative-leadership-ccl.jpg\n",
      "Image URL: https://www.ft.com/__origami/service/image/v2/images/raw/http%3A%2F%2Fcom.ft.imagepublish.upp-prod-us.s3.amazonaws.com%2F9f6a7b64-856d-11ea-b555-37a289098206?fit=scale-down&source=next&width=700\n",
      "Completed Image ====> 18.http%3a%2f%2fcom.ft.imagepublish.upp-prod-us.s3.amazonaws.com%2f9f6a7b64-856d-11ea-b555-37a289098206.jpg\n",
      "Image URL: https://assets.entrepreneur.com/content/3x2/2000/20161108172155-GettyImages-143072197.jpeg\n",
      "Completed Image ====> 19.20161108172155-gettyimages-143072197.jpeg\n",
      "Image URL: https://static.politico.com/dims4/default/62ba770/2147483647/resize/1160x%3E/quality/90/?url=https%3A%2F%2Fstatic.politico.com%2F79%2F5f%2Fb896d188455d8b7d92ddf8201d6c%2Fap20207634902541-1.jpg\n",
      "Completed Image ====> 20..jpg\n",
      "Image URL: https://chiefexecutive.net/wp-content/uploads/2019/07/MARRIOTT_ARNE_273A0339-e1562953915804-1024x841.jpg\n",
      "Completed Image ====> 21.marriott_arne_273a0339-e1562953915804-1024x841.jpg\n",
      "Image URL: https://cdn.geekwire.com/wp-content/uploads/2020/08/barton.jpg\n",
      "Completed Image ====> 22.barton.jpg\n",
      "Image URL: https://i2.wp.com/www.steverrobbins.com/wp-content/uploads/ceo-woman-Depositphotos_12497994_xl-2015-800w.jpg?resize=800%2C533&ssl=1\n",
      "Completed Image ====> 23.ceo-woman-depositphotos_12497994_xl-2015-800w.jpg\n",
      "Image URL: https://www.drive-revenue.com/wp-content/uploads/2019/09/ceo.jpg\n",
      "Completed Image ====> 24.ceo.jpg\n",
      "Image URL: https://assets.entrepreneur.com/content/3x2/2000/20190402203550-GettyImages-694983385.jpeg\n",
      "Completed Image ====> 25.20190402203550-gettyimages-694983385.jpeg\n",
      "Image URL: http://www.lollydaskal.com/wp-content/uploads/2018/07/Screen-Shot-2018-07-12-at-3.50.44-AM.png\n",
      "Completed Image ====> 26.screen-shot-2018-07-12-at-3.50.44-am.png\n",
      "Image URL: https://content.thriveglobal.com/wp-content/uploads/2020/02/Why-You-Need-To-Be-The-CEO-Of-Your-Career.jpg\n",
      "Completed Image ====> 27.why-you-need-to-be-the-ceo-of-your-career.jpg\n",
      "Image URL: https://www.incimages.com/uploaded_files/image/1920x1080/getty_509682457_190091.jpg\n",
      "Completed Image ====> 28.getty_509682457_190091.jpg\n",
      "Image URL: https://www.equilar.com/images/blog/398/blog-8-21-making-the-transition-from-cfo-to-ceo-800x400.png\n",
      "Completed Image ====> 29.blog-8-21-making-the-transition-from-cfo-to-ceo-800x400.png\n",
      "Image URL: https://images.techhive.com/images/article/2016/03/ceo_role-100649811-large.jpg\n",
      "Completed Image ====> 30.ceo_role-100649811-large.jpg\n",
      "Image URL: https://www.boardeffect.com/wp-content/uploads/2018/06/The-Role-of-the-CEO-for-Healthcare-Industries.jpg\n",
      "Completed Image ====> 31.the-role-of-the-ceo-for-healthcare-industries.jpg\n",
      "Image URL: https://cdn.corporatefinanceinstitute.com/assets/meg-whitman-ceo-819x1024.jpg\n",
      "Completed Image ====> 32.meg-whitman-ceo-819x1024.jpg\n",
      "Image URL: https://www.jt.com/about/images/pic_panel-02.jpg\n",
      "Completed Image ====> 33.pic_panel-02.jpg\n",
      "Image URL: https://cdn.cnn.com/cnnnext/dam/assets/200202185531-alphabet-microsoft-adobe-ceo-split-super-tease.jpg\n",
      "Completed Image ====> 34.200202185531-alphabet-microsoft-adobe-ceo-split-super-tease.jpg\n",
      "Image URL: https://occ-0-1722-1723.1.nflxso.net/dnm/api/v6/LmEnxtiAuzezXBjYXPuDgfZ4zZQ/AAAABQVbi32oimS78ta3J-A4s3Mb_qPLXrfik-jiiR3_0PLY-phBf0s4UnUplrhXSLawGePFF9vTc_tncd_5tx4dX3LHrKrEi9FWZz2c.png?r=645\n",
      "Completed Image ====> 35.aaaabqvbi32oims78ta3j-a4s3mb_qplxrfik-jiir3_0ply-phbf0s4unuplrhxslawgepff9vtc_tncd_5tx4dx3lhrkrei9fwzz2c.png\n",
      "Image URL: https://cdn.vox-cdn.com/thumbor/2eZZcwKbm1Sp0GF3Frhp3QMeujw=/0x0:4246x2748/1200x800/filters:focal(1784x1035:2462x1713)/cdn.vox-cdn.com/uploads/chorus_image/image/65829950/1173430278.jpg.0.jpg\n",
      "Completed Image ====> 36.1173430278.jpg.0.jpg\n",
      "Image URL: https://www.mitsui.com/jp/en/ir/annual/message/images/picture01sp.jpg\n",
      "Completed Image ====> 37.picture01sp.jpg\n",
      "Image URL: https://www.betterteam.com/i/ceo-vs-cfo-420x320-20200625.jpg\n",
      "Completed Image ====> 38.ceo-vs-cfo-420x320-20200625.jpg\n",
      "Image URL: https://www.3m.com/wps/wcm/connect/ad9324ce-5714-4dd7-b2b5-b992e7455d37/mike-roman-3m-ceo.jpg?MOD=AJPERES&CACHEID=ROOTWORKSPACE-ad9324ce-5714-4dd7-b2b5-b992e7455d37-n5gmUIH\n",
      "IOError on an image...trying next one... Error: The read operation timed out\n",
      "Image URL: https://cdn.corporatefinanceinstitute.com/assets/Jamie_Dimon-CEO-JPMorgan_Chase-1024x813.jpg\n",
      "Completed Image ====> 39.jamie_dimon-ceo-jpmorgan_chase-1024x813.jpg\n",
      "Image URL: https://blog.smarp.com/hubfs/What%20should%20a%20CEO%20know%20about%20Internal%20Communication.png\n",
      "Completed Image ====> 40.what%20should%20a%20ceo%20know%20about%20internal%20communication.png\n",
      "Image URL: https://mms.businesswire.com/media/20190605005913/en/725942/5/Darren_Rebelez_0039_Web.jpg\n",
      "Completed Image ====> 41.darren_rebelez_0039_web.jpg\n",
      "Image URL: https://qtxasset.com/fiercepharma/1610554850/AlbertBourla.jpg/AlbertBourla.jpg?dJKi3Ytc1VQR_de1ENguQaMv__4He0xU\n",
      "Completed Image ====> 42.albertbourla.jpg\n",
      "Image URL: https://www.s.americanbanker.com/bank-ceo/assets/OzzqTNf00H/comp-1-00225-1920x1080.jpeg\n",
      "Completed Image ====> 43.comp-1-00225-1920x1080.jpeg\n",
      "Image URL: https://www.t-mobile.com/news/_admin/uploads/2019/11/NTC-New-T-Mobile-11-17-19.png\n",
      "Completed Image ====> 44.ntc-new-t-mobile-11-17-19.png\n",
      "Image URL: https://www.kornferry.com/content/dam/kornferry/banners/boards-ceo-services-banner.jpg\n",
      "Completed Image ====> 45.boards-ceo-services-banner.jpg\n",
      "Image URL: https://www.ceo.org/sfsites/c/file-asset/education?v=1\n",
      "Completed Image ====> 46.education.jpg\n",
      "Image URL: https://chiefexecutive.net/wp-content/uploads/2020/07/Moynihan.jpg\n",
      "Completed Image ====> 47.moynihan.jpg\n",
      "Image URL: https://upload.wikimedia.org/wikipedia/commons/7/78/MS-Exec-Nadella-Satya-2017-08-31-22_%28cropped%29.jpg\n",
      "Completed Image ====> 48.ms-exec-nadella-satya-2017-08-31-22_%28cropped%29.jpg\n",
      "Image URL: https://cdn.vox-cdn.com/thumbor/j89C9wBA-i7Q_fhtmn666qLyQsI=/1400x1400/filters:format(jpeg)/cdn.vox-cdn.com/uploads/chorus_asset/file/19097528/CES_Inline_3.jpeg\n",
      "Completed Image ====> 49.ces_inline_3.jpeg\n",
      "Image URL: https://audimediacenter-a.akamaihd.net/system/production/media/91312/images/70f99984f274869799d9f1554b1fa8699dff454c/A202640_blog.jpg?1592841531\n",
      "Completed Image ====> 50.a202640_blog.jpg\n",
      "Image URL: https://img.offshore-mag.com/files/base/ebm/os/image/2020/06/Tengku_Muhammad_Taufik.5ee7ca283da52.png?auto=format&w=720\n",
      "Completed Image ====> 51.tengku_muhammad_taufik.5ee7ca283da52.png\n",
      "Image URL: https://www.gannett-cdn.com/presto/2020/02/25/USAT/06020242-3d46-4e86-b810-ae3b4787d961-VPC_DISNEY_CEO_BOB_IGER_STEPS_DOWN_DESK_THUMB.jpg\n",
      "Completed Image ====> 52.06020242-3d46-4e86-b810-ae3b4787d961-vpc_disney_ceo_bob_iger_steps_down_desk_thumb.jpg\n",
      "Image URL: https://www.supermarketnews.com/sites/supermarketnews.com/files/styles/article_featured_retina/public/John%20Furner_Walmart%20-%20Copy.jpg?itok=lZ3IyOP3\n",
      "Completed Image ====> 53.john%20furner_walmart%20-%20copy.jpg\n",
      "Image URL: https://thumbor.forbes.com/thumbor/1920x1559/filters%3Aformat%28jpg%29/https%3A%2F%2Fspecials-images.forbesimg.com%2Fimageserve%2F5ec3eda9d7d5570006406ac6%2F0x0.jpg%3Ffit%3Dscale\n",
      "Completed Image ====> 54.https%3a%2f%2fspecials-images.forbesimg.com%2fimageserve%2f5ec3eda9d7d5570006406ac6%2f0x0.jpg%3ffit%3dscale.jpg\n",
      "Image URL: https://cdn.corporate.walmart.com/dims4/WMT/fa1fe95/2147483647/strip/true/crop/5472x3569+0+0/resize/920x600!/quality/90/?url=https%3A%2F%2Fcdn.corporate.walmart.com%2F80%2F74%2F3ba1699c490e9151e0de33a05b18%2Fh2i8854.JPG\n",
      "Completed Image ====> 55..jpg\n",
      "Image URL: https://newsroom.intel.com/wp-content/uploads/sites/11/2019/01/Intel-Bob-Swan.jpg\n",
      "Completed Image ====> 56.intel-bob-swan.jpg\n",
      "Image URL: https://assets.weforum.org/editor/XmVTAwC41xM14kt1VK9jwfJkNWSdgf0X3e3oROiCa6A.jpg\n",
      "Completed Image ====> 57.xmvtawc41xm14kt1vk9jwfjknwsdgf0x3e3oroica6a.jpg\n",
      "Image URL: https://www.nec.com/en/global/about/images/president.jpg\n",
      "Completed Image ====> 58.president.jpg\n",
      "Image URL: https://upload.wikimedia.org/wikipedia/commons/thumb/0/01/Shantanu_Narayen_-_the_CEO_of_Adobe_Inc.jpg/1200px-Shantanu_Narayen_-_the_CEO_of_Adobe_Inc.jpg\n",
      "Completed Image ====> 59.1200px-shantanu_narayen_-_the_ceo_of_adobe_inc.jpg\n",
      "Image URL: https://i.insider.com/5f18ac722618b973eb211818?width=700\n",
      "Completed Image ====> 60.5f18ac722618b973eb211818.jpg\n",
      "Image URL: https://images.wsj.net/im-155874?width=620&size=1.5\n",
      "Completed Image ====> 61.im-155874.jpg\n",
      "Image URL: https://www.gannett-cdn.com/presto/2020/10/01/PDTF/dc7d1d5d-3a1b-4735-895d-a5a527651783-new_Jim_Farley_CEO_.JPG?crop=7359,4140,x0,y376&width=3200&height=1801&format=pjpg&auto=webp\n",
      "Completed Image ====> 62.dc7d1d5d-3a1b-4735-895d-a5a527651783-new_jim_farley_ceo_.jpg\n",
      "Image URL: https://content.fortune.com/wp-content/uploads/2019/08/CEO09.19_Romerty_Dimon_Gursky.jpg?w=840\n",
      "Completed Image ====> 63.ceo09.19_romerty_dimon_gursky.jpg\n",
      "Image URL: https://images.ctfassets.net/yzn2zv0qt1y1/2JqlLHGTevTIgZ7wjrvmSl/ca900046f193ef84dad45bef9c383250/jake-dela-concepcion-1XvBhhDcGfU-unsplash.jpg?w=750\n",
      "Completed Image ====> 64.jake-dela-concepcion-1xvbhhdcgfu-unsplash.jpg\n",
      "Image URL: https://specials-images.forbesimg.com/imageserve/515960556/960x0.jpg?fit=scale\n",
      "Completed Image ====> 65.960x0.jpg\n",
      "Image URL: https://www.thebalancesmb.com/thmb/VsIDAIPaYEX-sYkng7t9RXxoGHM=/3003x1689/smart/filters:no_upscale()/fast-company-innovation-festival---starbucks-ceo-kevin-johnson-is-doubling-down-on-innovation-and-empathy-866773758-5a0646f0e258f80037b85cf7.jpg\n",
      "Completed Image ====> 66.fast-company-innovation-festival---starbucks-ceo-kevin-johnson-is-doubling-down-on-innovation-and-empathy-866773758-5a0646f0e258f80037b85cf7.jpg\n",
      "Image URL: https://www.gannett-cdn.com/-mm-/e9c76406e2cc255455f8a784eb318461f02bba3b/c=0-50-1500-2050/local/-/media/2018/07/02/DetroitFreeP/DetroitFreePress/636661358485179299-Ritch-Allison-5X7-300.jpg\n",
      "Completed Image ====> 67.636661358485179299-ritch-allison-5x7-300.jpg\n",
      "Image URL: https://image.cnbcfm.com/api/v1/image/106740470-1602533706807-kong.jpg?v=1602533912\n",
      "Completed Image ====> 68.106740470-1602533706807-kong.jpg\n",
      "Image URL: https://fee.org/media/35785/ceo.jpg?center=0.28055555555555556,0.49629629629629629&mode=crop&width=1200&rnd=132152580620000000\n",
      "Completed Image ====> 69.ceo.jpg\n",
      "Image URL: https://static.seattletimes.com/wp-content/uploads/2019/11/11082019_teaser_tzr_122621-780x501.jpg\n",
      "Completed Image ====> 70.11082019_teaser_tzr_122621-780x501.jpg\n",
      "Image URL: https://static.ebayinc.com/static/assets/Uploads/Stories/Articles/_resampled/ScaleWidthWyI4MDAiXQ/Jamie-Iannone-1600x900.jpg\n",
      "Completed Image ====> 71.jamie-iannone-1600x900.jpg\n",
      "Image URL: https://chiefexecutive.net/wp-content/uploads/2018/07/MarillynHewson-1024x683.jpeg\n",
      "Completed Image ====> 72.marillynhewson-1024x683.jpeg\n",
      "Image URL: https://www.tmc.edu/news/wp-content/uploads/sites/2/2020/08/MH-News-CEOs-scaled.jpg\n",
      "Completed Image ====> 73.mh-news-ceos-scaled.jpg\n",
      "Image URL: https://image.cnbcfm.com/api/v1/image/106784388-1604680262830-106051763-1564597993549mackeyandhiswife.jpg?v=1605802552&w=1400&h=950\n",
      "Completed Image ====> 74.106784388-1604680262830-106051763-1564597993549mackeyandhiswife.jpg\n",
      "Image URL: https://compote.slate.com/images/94e9e2e1-9602-4abc-87b8-d8b95a7d2f96.jpeg?width=780&height=520&rect=4074x2716&offset=0x0\n",
      "Completed Image ====> 75.94e9e2e1-9602-4abc-87b8-d8b95a7d2f96.jpeg\n",
      "Image URL: https://flex.com/-/media/flex/Leaders/thumbnails/Thumbnails2020/ExecutiveHeadshots_Web_Revathi_560x560.png?revision=0c524654-e3db-4555-96ef-541a785e8f0a\n",
      "Completed Image ====> 76.executiveheadshots_web_revathi_560x560.png\n",
      "Image URL: https://www.roche.com/dam/jcr:94719ff5-1ba1-47a5-8a56-5db0d722a32e/en/digitalisation-of-healthcare-740.jpg\n",
      "Completed Image ====> 77.digitalisation-of-healthcare-740.jpg\n",
      "Image URL: https://www.securitymagazine.com/ext/resources/Default-images/Responsive-Defaults/businesswoman-454874_19201.jpg?1549506633\n",
      "Completed Image ====> 78.businesswoman-454874_19201.jpg\n",
      "Image URL: https://corporate.target.com/_media/TargetCorp/Press/Leadership/Brian-Cornell_Target.jpg?ext=.jpg\n",
      "Completed Image ====> 79.brian-cornell_target.jpg\n",
      "Image URL: https://www.sempra.com/sites/default/files/content/images/node-media-image/2020/jeffrey-martin-400x480.jpg\n",
      "Completed Image ====> 80.jeffrey-martin-400x480.jpg\n",
      "\n",
      "Errors: 2\n",
      "\n"
     ]
    }
   ],
   "source": [
    "from google_images_download import google_images_download\n",
    "\n",
    "response = google_images_download.googleimagesdownload() \n",
    "arguments = {\"keywords\": MY_QUERY,\n",
    "             \"limit\": N_IMAGES, \n",
    "             \"output_ todirectory\":OUTPUT_DIR,\n",
    "             \"print_urls\":True}   \n",
    "paths = response.download(arguments) "
   ]
  },
  {
   "cell_type": "code",
   "execution_count": 10,
   "metadata": {
    "colab": {
     "base_uri": "https://localhost:8080/",
     "height": 287
    },
    "id": "s5Xp0dGc06g-",
    "outputId": "5bca3b53-0e3a-4a24-85c4-6774f83a6ec7"
   },
   "outputs": [
    {
     "data": {
      "text/plain": [
       "<matplotlib.image.AxesImage at 0x7fd28b929438>"
      ]
     },
     "execution_count": 10,
     "metadata": {
      "tags": []
     },
     "output_type": "execute_result"
    },
    {
     "data": {
      "image/png": "[encoded data removed]",
      "text/plain": [
       "<Figure size 432x288 with 1 Axes>"
      ]
     },
     "metadata": {
      "needs_background": "light",
      "tags": []
     },
     "output_type": "display_data"
    }
   ],
   "source": [
    "import matplotlib.pyplot as plt\n",
    "import matplotlib.image as mpimg\n",
    "\n",
    "plt.imshow(mpimg.imread(paths[0][MY_QUERY][21])) # prints our first image"
   ]
  },
  {
   "cell_type": "markdown",
   "metadata": {
    "id": "axQ152VfP9Dq"
   },
   "source": [
    "A quick veiw in my images, I found that indeed the males are way more than females but the proportion of females is way more than 7%. Maybe the google images are biased to promote females so more and more taking actions and aply for CEO's positions"
   ]
  },
  {
   "cell_type": "code",
   "execution_count": null,
   "metadata": {
    "id": "TQZmj_WM06jW"
   },
   "outputs": [],
   "source": [
    "import os\n",
    "from PIL import Image\n",
    "\n",
    "OUTPUT_DIR_QUERY = os.path.join(OUTPUT_DIR, MY_QUERY)\n",
    "for filename in os.listdir(OUTPUT_DIR_QUERY):\n",
    "    output_dir_file = os.path.join(OUTPUT_DIR_QUERY, filename)\n",
    "    try :\n",
    "        with Image.open(output_dir_file) as im:\n",
    "             print('ok')\n",
    "    except :\n",
    "        print(output_dir_file)\n",
    "        os.remove(output_dir_file)\n",
    "            "
   ]
  },
  {
   "cell_type": "code",
   "execution_count": 13,
   "metadata": {
    "id": "sFsWlFTw06lK"
   },
   "outputs": [],
   "source": [
    "#Code manual\n",
    "%config InlineBackend.figure_format='retina' \n",
    "\n",
    "def load_image_from_url(url, target_size=None, color_mode='rgb'):\n",
    "    assert color_mode in ('grayscale', 'rgb'), 'color_mode must be \"grayscale\" or \"rgb\"'\n",
    "    response = urllib.request.urlopen(url)\n",
    "    img = Image.open(io.BytesIO(response.read()))\n",
    "    img = img.convert('RGB')\n",
    "    if color_mode == 'grayscale':\n",
    "        img = ImageOps.grayscale(img)\n",
    "    if target_size:\n",
    "        img = img.resize(target_size, Image.NEAREST) # resize\n",
    "    return image.img_to_array(img)\n",
    "\n",
    "def load_image_from_path(image_path, target_size=None, color_mode='rgb'):\n",
    "    pil_image = image.load_img(image_path, \n",
    "                               target_size=target_size,\n",
    "                            color_mode=color_mode)\n",
    "    return image.img_to_array(pil_image)"
   ]
  },
  {
   "cell_type": "code",
   "execution_count": 16,
   "metadata": {
    "id": "STLEnkhU4oir"
   },
   "outputs": [],
   "source": [
    "# import a list of all movie poster file names.\n",
    "mypath = '/content/drive/MyDrive/Q2/CEO'\n",
    "onlyfiles = [f for f in listdir(mypath) if isfile(join(mypath, f))]"
   ]
  },
  {
   "cell_type": "code",
   "execution_count": 23,
   "metadata": {
    "colab": {
     "base_uri": "https://localhost:8080/",
     "height": 206
    },
    "id": "Z6D0wQchHUdk",
    "outputId": "d3eeff81-e9c4-4f90-9712-d99bbbe5bd8d"
   },
   "outputs": [
    {
     "data": {
      "text/html": [
       "<div>\n",
       "<style scoped>\n",
       "    .dataframe tbody tr th:only-of-type {\n",
       "        vertical-align: middle;\n",
       "    }\n",
       "\n",
       "    .dataframe tbody tr th {\n",
       "        vertical-align: top;\n",
       "    }\n",
       "\n",
       "    .dataframe thead th {\n",
       "        text-align: right;\n",
       "    }\n",
       "</style>\n",
       "<table border=\"1\" class=\"dataframe\">\n",
       "  <thead>\n",
       "    <tr style=\"text-align: right;\">\n",
       "      <th></th>\n",
       "      <th>File_name</th>\n",
       "    </tr>\n",
       "  </thead>\n",
       "  <tbody>\n",
       "    <tr>\n",
       "      <th>0</th>\n",
       "      <td>42.albertbourla.jpg</td>\n",
       "    </tr>\n",
       "    <tr>\n",
       "      <th>1</th>\n",
       "      <td>4.odilon_almeida_headshot_1.jpg</td>\n",
       "    </tr>\n",
       "    <tr>\n",
       "      <th>2</th>\n",
       "      <td>18.http%3a%2f%2fcom.ft.imagepublish.upp-prod-u...</td>\n",
       "    </tr>\n",
       "    <tr>\n",
       "      <th>3</th>\n",
       "      <td>14.nu_msl_-_understanding_ceo_leadership_style...</td>\n",
       "    </tr>\n",
       "    <tr>\n",
       "      <th>4</th>\n",
       "      <td>22.barton.jpg</td>\n",
       "    </tr>\n",
       "  </tbody>\n",
       "</table>\n",
       "</div>"
      ],
      "text/plain": [
       "                                           File_name\n",
       "0                                42.albertbourla.jpg\n",
       "1                    4.odilon_almeida_headshot_1.jpg\n",
       "2  18.http%3a%2f%2fcom.ft.imagepublish.upp-prod-u...\n",
       "3  14.nu_msl_-_understanding_ceo_leadership_style...\n",
       "4                                      22.barton.jpg"
      ]
     },
     "execution_count": 23,
     "metadata": {
      "tags": []
     },
     "output_type": "execute_result"
    }
   ],
   "source": [
    "CEO = pd.DataFrame()\n",
    "CEO['File_name'] = onlyfiles\n",
    "CEO.head()"
   ]
  },
  {
   "cell_type": "code",
   "execution_count": 18,
   "metadata": {
    "colab": {
     "base_uri": "https://localhost:8080/"
    },
    "id": "PkpQ2DKX4v8l",
    "outputId": "e18d526b-f768-474c-c70e-58ec819d3d52"
   },
   "outputs": [
    {
     "name": "stdout",
     "output_type": "stream",
     "text": [
      "WARNING:tensorflow:Error in loading the saved optimizer state. As a result, your model is starting with a freshly initialized optimizer.\n"
     ]
    }
   ],
   "source": [
    "#Code manual\n",
    "# face classification\n",
    "model_url = 'https://raw.githubusercontent.com/opencv/opencv/master/data/haarcascades/haarcascade_frontalface_default.xml'\n",
    "face_model = wget.download(model_url)\n",
    "\n",
    "face_classification = cv2.CascadeClassifier(face_model) # load the classifier only once!\n",
    "\n",
    "def apply_offsets(face_coordinates, offsets):\n",
    "    \"\"\"\n",
    "    Derived from https://github.com/oarriaga/face_classification/blob/\n",
    "    b861d21b0e76ca5514cdeb5b56a689b7318584f4/src/utils/inference.py#L21\n",
    "    \"\"\"\n",
    "    x, y, width, height = face_coordinates\n",
    "    x_off, y_off = offsets\n",
    "    return (x - x_off, x + width + x_off, y - y_off, y + height + y_off)\n",
    "\n",
    "gender_classifier = load_model('/content/drive/MyDrive/5.2/gender_mini_XCEPTION.21-0.95.hdf5') # load this only once! (not in a loop)\n",
    "GENDER_OFFSETS = (10, 10)\n",
    "INPUT_SHAPE_GENDER = gender_classifier.input_shape[1:3]"
   ]
  },
  {
   "cell_type": "code",
   "execution_count": 18,
   "metadata": {
    "id": "XKCpYnz6FTGv"
   },
   "outputs": [],
   "source": []
  },
  {
   "cell_type": "code",
   "execution_count": 21,
   "metadata": {
    "colab": {
     "base_uri": "https://localhost:8080/"
    },
    "id": "SwApa2RO4278",
    "outputId": "1ddddc2d-f179-4eec-c8c0-66dde38deb25"
   },
   "outputs": [
    {
     "name": "stdout",
     "output_type": "stream",
     "text": [
      "Error..continuing\n"
     ]
    }
   ],
   "source": [
    "#Code myself+manual i used try except to find if there are any pictures not detected by the code\n",
    "labels = ['woman', 'man']\n",
    "n_female = []\n",
    "n_male = []\n",
    "\n",
    "for i in onlyfiles:\n",
    "    pre_image = load_image_from_path(''.join(('/content/drive/MyDrive/Q2/CEO/',i)), color_mode='grayscale')\n",
    "    gray_image = np.squeeze(pre_image).astype('uint8')\n",
    "\n",
    "    face_classification = cv2.CascadeClassifier('haarcascade_frontalface_default.xml') # load the classifier \n",
    "    faces = face_classification.detectMultiScale(gray_image, 1.3, 5) # detect the faces\n",
    "    \n",
    "    male = 0\n",
    "    female = 0\n",
    "    \n",
    "    for face_coordinates in faces: # using the output of the CascadeClassifier\n",
    "        try:\n",
    "            x1, x2, y1, y2 = apply_offsets(face_coordinates, GENDER_OFFSETS) # extends the bounding box\n",
    "            face_img = gray_image[y1:y2, x1:x2] # only get the face \n",
    "            face_img = cv2.resize(face_img, (INPUT_SHAPE_GENDER)) # resize the image\n",
    "            face_img = face_img.astype('float32') / 255.0 # preprocess the image\n",
    "            face_img = np.expand_dims(face_img, 0) # batch of one\n",
    "            probas = gender_classifier.predict(face_img)\n",
    "        except:\n",
    "            print('Error..continuing')\n",
    "            continue\n",
    "            \n",
    "        if labels[np.argmax(probas[0])] == 'man':\n",
    "            male += 1\n",
    "        elif labels[np.argmax(probas[0])] == 'woman':\n",
    "            female += 1\n",
    "    \n",
    "    n_male.append(male)\n",
    "    n_female.append(female)"
   ]
  },
  {
   "cell_type": "code",
   "execution_count": 24,
   "metadata": {
    "colab": {
     "base_uri": "https://localhost:8080/",
     "height": 206
    },
    "id": "ET2xCNdLFcmU",
    "outputId": "330848c7-c73b-4388-fbd9-3287ed89ec4c"
   },
   "outputs": [
    {
     "data": {
      "text/html": [
       "<div>\n",
       "<style scoped>\n",
       "    .dataframe tbody tr th:only-of-type {\n",
       "        vertical-align: middle;\n",
       "    }\n",
       "\n",
       "    .dataframe tbody tr th {\n",
       "        vertical-align: top;\n",
       "    }\n",
       "\n",
       "    .dataframe thead th {\n",
       "        text-align: right;\n",
       "    }\n",
       "</style>\n",
       "<table border=\"1\" class=\"dataframe\">\n",
       "  <thead>\n",
       "    <tr style=\"text-align: right;\">\n",
       "      <th></th>\n",
       "      <th>File_name</th>\n",
       "      <th>n_male</th>\n",
       "      <th>n_female</th>\n",
       "    </tr>\n",
       "  </thead>\n",
       "  <tbody>\n",
       "    <tr>\n",
       "      <th>0</th>\n",
       "      <td>42.albertbourla.jpg</td>\n",
       "      <td>1</td>\n",
       "      <td>0</td>\n",
       "    </tr>\n",
       "    <tr>\n",
       "      <th>1</th>\n",
       "      <td>4.odilon_almeida_headshot_1.jpg</td>\n",
       "      <td>0</td>\n",
       "      <td>2</td>\n",
       "    </tr>\n",
       "    <tr>\n",
       "      <th>2</th>\n",
       "      <td>18.http%3a%2f%2fcom.ft.imagepublish.upp-prod-u...</td>\n",
       "      <td>1</td>\n",
       "      <td>0</td>\n",
       "    </tr>\n",
       "    <tr>\n",
       "      <th>3</th>\n",
       "      <td>14.nu_msl_-_understanding_ceo_leadership_style...</td>\n",
       "      <td>5</td>\n",
       "      <td>1</td>\n",
       "    </tr>\n",
       "    <tr>\n",
       "      <th>4</th>\n",
       "      <td>22.barton.jpg</td>\n",
       "      <td>1</td>\n",
       "      <td>0</td>\n",
       "    </tr>\n",
       "  </tbody>\n",
       "</table>\n",
       "</div>"
      ],
      "text/plain": [
       "                                           File_name  n_male  n_female\n",
       "0                                42.albertbourla.jpg       1         0\n",
       "1                    4.odilon_almeida_headshot_1.jpg       0         2\n",
       "2  18.http%3a%2f%2fcom.ft.imagepublish.upp-prod-u...       1         0\n",
       "3  14.nu_msl_-_understanding_ceo_leadership_style...       5         1\n",
       "4                                      22.barton.jpg       1         0"
      ]
     },
     "execution_count": 24,
     "metadata": {
      "tags": []
     },
     "output_type": "execute_result"
    }
   ],
   "source": [
    "CEO['n_male'] = n_male\n",
    "CEO['n_female'] = n_female\n",
    "CEO.head()"
   ]
  },
  {
   "cell_type": "code",
   "execution_count": 25,
   "metadata": {
    "colab": {
     "base_uri": "https://localhost:8080/"
    },
    "id": "qozpbZIp5F4k",
    "outputId": "e4bf4255-7983-413e-e34d-f8345aeec073"
   },
   "outputs": [
    {
     "data": {
      "text/plain": [
       "62"
      ]
     },
     "execution_count": 25,
     "metadata": {
      "tags": []
     },
     "output_type": "execute_result"
    }
   ],
   "source": [
    "CEO['n_male'].sum()"
   ]
  },
  {
   "cell_type": "code",
   "execution_count": 26,
   "metadata": {
    "colab": {
     "base_uri": "https://localhost:8080/"
    },
    "id": "qvRufTUD5dcy",
    "outputId": "c804cfcf-4a74-4d5b-aade-bc7cfdbacb4a"
   },
   "outputs": [
    {
     "data": {
      "text/plain": [
       "38"
      ]
     },
     "execution_count": 26,
     "metadata": {
      "tags": []
     },
     "output_type": "execute_result"
    }
   ],
   "source": [
    "CEO['n_female'].sum()"
   ]
  },
  {
   "cell_type": "markdown",
   "metadata": {
    "id": "JZ4P8o01-J7T"
   },
   "source": [
    "### Conclusion\n",
    "\n",
    "Watching the results i saw that my first expectation was completely off, i was expecting something like 7-10% of the photos showing a woman instead the proportion that i have from my data is almost 40%! One of the solutions that i have in mind is in some pictures there are many faces.Maybe one of them is the ceo but my code is taking all of them as possible faces and findes the gender. So the accuracy may be not the best,also another reason as i wrote above might be the promosion for women to apply for better possitions. The mainly reason of my research was to prove the number of women CEO has increassed the last 15-20 years. I also though of making emotion classification but the gender was more into my research purpose, although emotion in any way is another feature that seems to have some value to me and maybe worth discussion.They are relly important in the highest positions as they are the ones to take the most taught decissions. All in all my results are not close to the articles but i think that the proportion of women CEO's is changing faster that ever before at least from the google search findings."
   ]
  },
  {
   "cell_type": "code",
   "execution_count": null,
   "metadata": {},
   "outputs": [],
   "source": []
  }
 ],
 "metadata": {
  "colab": {
   "name": "Untitled0.ipynb",
   "provenance": []
  },
  "kernelspec": {
   "display_name": "Python 3",
   "language": "python",
   "name": "python3"
  },
  "language_info": {
   "codemirror_mode": {
    "name": "ipython",
    "version": 3
   },
   "file_extension": ".py",
   "mimetype": "text/x-python",
   "name": "python",
   "nbconvert_exporter": "python",
   "pygments_lexer": "ipython3",
   "version": "3.7.6"
  }
 },
 "nbformat": 4,
 "nbformat_minor": 1
}
