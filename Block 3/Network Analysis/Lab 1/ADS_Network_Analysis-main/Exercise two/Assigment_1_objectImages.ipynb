{
 "cells": [
  {
   "cell_type": "code",
   "execution_count": 1,
   "metadata": {},
   "outputs": [
    {
     "name": "stderr",
     "output_type": "stream",
     "text": [
      "Using TensorFlow backend.\n"
     ]
    }
   ],
   "source": [
    "import tensorflow as tf\n",
    "import keras\n",
    "import pandas as pd\n",
    "import numpy as np\n",
    "import matplotlib.pyplot as plt\n",
    "from keras.preprocessing.image import ImageDataGenerator #preprocessing images"
   ]
  },
  {
   "cell_type": "markdown",
   "metadata": {},
   "source": [
    "Identifying objects from images with a high variation in object position, size and\n",
    "viewing angle is a particularly difficult problem, and a major application of artificial\n",
    "deep learning networks. Here we will build a network to do this.\n",
    "\n",
    "This network has\n",
    "more layers and is more computationally-intensive than previous exercises, even\n",
    "using the low-resolution images we will use here.\n",
    "The CIFAR-10 dataset contains colour images of objects, each 32x32x3 pixels (for\n",
    "the three colour channels). These have 10 categories (or classes) of object (airplane,\n",
    "automobile, bird, cat, deer, dog, frog, horse, ship & truck) with 5,000 images in each,\n",
    "making a total of 50,000 images in the training set (x_train, y_train), randomly\n",
    "ordered with numerical labels for each (1=airplane, 2=automobile etc.). The test set\n",
    "(x_test, y_test) contains 10,000 images ordered by their label."
   ]
  },
  {
   "cell_type": "code",
   "execution_count": 4,
   "metadata": {},
   "outputs": [
    {
     "name": "stdout",
     "output_type": "stream",
     "text": [
      "Downloading data from https://www.cs.toronto.edu/~kriz/cifar-10-python.tar.gz\n",
      "170500096/170498071 [==============================] - 15s 0us/step\n"
     ]
    }
   ],
   "source": [
    "#Download the dataset\n",
    "(x_train, y_train), (x_test, y_test) = keras.datasets.cifar10.load_data()  #uncoment to load again"
   ]
  },
  {
   "cell_type": "code",
   "execution_count": 5,
   "metadata": {},
   "outputs": [],
   "source": [
    "#Save to disk (avoid the need of download one more time.. ~23 min :( ) Uncoment to save again, in case of step above used!\n",
    "np.save('x_train', x_train)\n",
    "np.save('y_train', y_train)\n",
    "np.save('x_test', x_test)\n",
    "np.save('y_test', y_test)"
   ]
  },
  {
   "cell_type": "code",
   "execution_count": 6,
   "metadata": {},
   "outputs": [],
   "source": [
    "#load Files\n",
    "x_train = np.load('x_train.npy')\n",
    "x_test = np.load('x_test.npy')\n",
    "y_train = np.load('y_train.npy')\n",
    "y_test = np.load('y_test.npy')"
   ]
  },
  {
   "cell_type": "code",
   "execution_count": 7,
   "metadata": {},
   "outputs": [],
   "source": [
    "#scale the data\n",
    "x_train = x_train / 255\n",
    "x_test = x_test / 255\n"
   ]
  },
  {
   "cell_type": "code",
   "execution_count": 8,
   "metadata": {},
   "outputs": [],
   "source": [
    "#Categorical Variables\n",
    "y_train = keras.utils.to_categorical(y_train, 10)\n",
    "y_test = keras.utils.to_categorical(y_test, 10)\n"
   ]
  },
  {
   "cell_type": "markdown",
   "metadata": {},
   "source": [
    "## Question 16:\n",
    "Before fitting the model, show your teacher the code you used to define the model\n",
    "described here. (Question 16, 6 points)"
   ]
  },
  {
   "cell_type": "code",
   "execution_count": 10,
   "metadata": {},
   "outputs": [
    {
     "name": "stdout",
     "output_type": "stream",
     "text": [
      "Model: \"sequential_2\"\n",
      "_________________________________________________________________\n",
      "Layer (type)                 Output Shape              Param #   \n",
      "=================================================================\n",
      "conv2d_5 (Conv2D)            (None, 32, 32, 32)        896       \n",
      "_________________________________________________________________\n",
      "conv2d_6 (Conv2D)            (None, 30, 30, 32)        9248      \n",
      "_________________________________________________________________\n",
      "max_pooling2d_3 (MaxPooling2 (None, 15, 15, 32)        0         \n",
      "_________________________________________________________________\n",
      "dropout_4 (Dropout)          (None, 15, 15, 32)        0         \n",
      "_________________________________________________________________\n",
      "conv2d_7 (Conv2D)            (None, 15, 15, 32)        9248      \n",
      "_________________________________________________________________\n",
      "conv2d_8 (Conv2D)            (None, 13, 13, 32)        9248      \n",
      "_________________________________________________________________\n",
      "max_pooling2d_4 (MaxPooling2 (None, 6, 6, 32)          0         \n",
      "_________________________________________________________________\n",
      "dropout_5 (Dropout)          (None, 6, 6, 32)          0         \n",
      "_________________________________________________________________\n",
      "flatten_2 (Flatten)          (None, 1152)              0         \n",
      "_________________________________________________________________\n",
      "dense_3 (Dense)              (None, 512)               590336    \n",
      "_________________________________________________________________\n",
      "dropout_6 (Dropout)          (None, 512)               0         \n",
      "_________________________________________________________________\n",
      "dense_4 (Dense)              (None, 10)                5130      \n",
      "=================================================================\n",
      "Total params: 624,106\n",
      "Trainable params: 624,106\n",
      "Non-trainable params: 0\n",
      "_________________________________________________________________\n"
     ]
    }
   ],
   "source": [
    "#Defining model with Dropout Layers\n",
    "model = keras.Sequential()\n",
    "#Conv 1\n",
    "model.add(keras.layers.Conv2D(filters=32, kernel_size=(3, 3),\n",
    "                              activation=\"relu\", input_shape=(32, 32, 3), padding='same'))\n",
    "#Conv2\n",
    "model.add(keras.layers.Conv2D(filters=32, kernel_size=(3, 3), \n",
    "                              activation=\"relu\"))\n",
    "#maxPool\n",
    "model.add(keras.layers.MaxPool2D(pool_size=(2, 2)))\n",
    "model.add(keras.layers.Dropout(rate=0.25))\n",
    "#-----------------------#\n",
    "#ADD NEW LAYERS\n",
    "#Conv 3\n",
    "model.add(keras.layers.Conv2D(filters=32, kernel_size=(3, 3),\n",
    "                              activation=\"relu\", padding='same'))\n",
    "#Conv 4\n",
    "model.add(keras.layers.Conv2D(filters=32, kernel_size=(3, 3), \n",
    "                              activation=\"relu\"))\n",
    "#maxPool 2\n",
    "model.add(keras.layers.MaxPool2D(pool_size=(2, 2)))\n",
    "model.add(keras.layers.Dropout(rate=0.25))\n",
    "\n",
    "#-----------------------#\n",
    "#Flattening \n",
    "model.add(keras.layers.Flatten())\n",
    "\n",
    "#fullDense\n",
    "model.add(keras.layers.Dense(512, activation=\"relu\")) \n",
    "model.add(keras.layers.Dropout(rate=0.5))\n",
    "\n",
    "#outputlayer\n",
    "model.add(keras.layers.Dense(10, activation=\"softmax\")) \n",
    "\n",
    "#Compile the Model:\n",
    "model.compile(loss='categorical_crossentropy',\n",
    "       optimizer=keras.optimizers.RMSprop(lr=0.0001, decay=1e-6), metrics=['accuracy'])\n",
    "\n",
    "model.summary()"
   ]
  },
  {
   "cell_type": "code",
   "execution_count": 11,
   "metadata": {},
   "outputs": [
    {
     "name": "stdout",
     "output_type": "stream",
     "text": [
      "Train on 50000 samples, validate on 10000 samples\n",
      "Epoch 1/20\n",
      "50000/50000 [==============================] - 125s 2ms/step - loss: 1.8732 - accuracy: 0.3082 - val_loss: 1.6120 - val_accuracy: 0.4115\n",
      "Epoch 2/20\n",
      "50000/50000 [==============================] - 126s 3ms/step - loss: 1.5660 - accuracy: 0.4268 - val_loss: 1.4562 - val_accuracy: 0.4799\n",
      "Epoch 3/20\n",
      "50000/50000 [==============================] - 127s 3ms/step - loss: 1.4339 - accuracy: 0.4801 - val_loss: 1.3234 - val_accuracy: 0.5267\n",
      "Epoch 4/20\n",
      "50000/50000 [==============================] - 118s 2ms/step - loss: 1.3523 - accuracy: 0.5138 - val_loss: 1.2485 - val_accuracy: 0.5587\n",
      "Epoch 5/20\n",
      "50000/50000 [==============================] - 128s 3ms/step - loss: 1.2909 - accuracy: 0.5361 - val_loss: 1.2234 - val_accuracy: 0.5647\n",
      "Epoch 6/20\n",
      "50000/50000 [==============================] - 124s 2ms/step - loss: 1.2365 - accuracy: 0.5633 - val_loss: 1.1675 - val_accuracy: 0.5862\n",
      "Epoch 7/20\n",
      "50000/50000 [==============================] - 132s 3ms/step - loss: 1.1887 - accuracy: 0.5756 - val_loss: 1.1183 - val_accuracy: 0.6039\n",
      "Epoch 8/20\n",
      "50000/50000 [==============================] - 124s 2ms/step - loss: 1.1358 - accuracy: 0.5972 - val_loss: 1.0614 - val_accuracy: 0.6284\n",
      "Epoch 9/20\n",
      "50000/50000 [==============================] - 127s 3ms/step - loss: 1.1010 - accuracy: 0.6127 - val_loss: 1.0101 - val_accuracy: 0.6470\n",
      "Epoch 10/20\n",
      "50000/50000 [==============================] - 124s 2ms/step - loss: 1.0634 - accuracy: 0.6263 - val_loss: 0.9762 - val_accuracy: 0.6584\n",
      "Epoch 11/20\n",
      "50000/50000 [==============================] - 123s 2ms/step - loss: 1.0292 - accuracy: 0.6375 - val_loss: 0.9764 - val_accuracy: 0.6519\n",
      "Epoch 12/20\n",
      "50000/50000 [==============================] - 127s 3ms/step - loss: 1.0054 - accuracy: 0.6453 - val_loss: 0.9404 - val_accuracy: 0.6704\n",
      "Epoch 13/20\n",
      "50000/50000 [==============================] - 125s 2ms/step - loss: 0.9791 - accuracy: 0.6564 - val_loss: 0.8996 - val_accuracy: 0.6854\n",
      "Epoch 14/20\n",
      "50000/50000 [==============================] - 123s 2ms/step - loss: 0.9589 - accuracy: 0.6640 - val_loss: 0.9085 - val_accuracy: 0.6809\n",
      "Epoch 15/20\n",
      "50000/50000 [==============================] - 136s 3ms/step - loss: 0.9374 - accuracy: 0.6720 - val_loss: 0.9307 - val_accuracy: 0.6823\n",
      "Epoch 16/20\n",
      "50000/50000 [==============================] - 126s 3ms/step - loss: 0.9172 - accuracy: 0.6792 - val_loss: 0.8542 - val_accuracy: 0.7026\n",
      "Epoch 17/20\n",
      "50000/50000 [==============================] - 129s 3ms/step - loss: 0.8982 - accuracy: 0.6855 - val_loss: 0.8316 - val_accuracy: 0.7099\n",
      "Epoch 18/20\n",
      "50000/50000 [==============================] - 132s 3ms/step - loss: 0.8876 - accuracy: 0.6882 - val_loss: 0.8289 - val_accuracy: 0.7120\n",
      "Epoch 19/20\n",
      "50000/50000 [==============================] - 124s 2ms/step - loss: 0.8687 - accuracy: 0.6974 - val_loss: 0.8160 - val_accuracy: 0.7151\n",
      "Epoch 20/20\n",
      "50000/50000 [==============================] - 121s 2ms/step - loss: 0.8552 - accuracy: 0.6995 - val_loss: 0.8385 - val_accuracy: 0.7073\n"
     ]
    }
   ],
   "source": [
    "# Fit the model\n",
    "history = model.fit(x_train, y_train, batch_size=32, \n",
    "                    epochs=20, verbose=1, validation_data=(x_test, y_test), shuffle=True)"
   ]
  },
  {
   "cell_type": "code",
   "execution_count": 12,
   "metadata": {},
   "outputs": [],
   "source": [
    "#Save model to disk\n",
    "model.save('model_objects')"
   ]
  },
  {
   "cell_type": "code",
   "execution_count": 20,
   "metadata": {},
   "outputs": [
    {
     "data": {
      "text/plain": [
       "<tensorflow.python.keras.engine.sequential.Sequential at 0x2562d2fdeb0>"
      ]
     },
     "execution_count": 20,
     "metadata": {},
     "output_type": "execute_result"
    }
   ],
   "source": [
    "#load model = > uncoment to run! :)\n",
    "#model = keras.models.load_model('model_objects')\n",
    "#model"
   ]
  },
  {
   "cell_type": "markdown",
   "metadata": {},
   "source": [
    "## Question 17:\n",
    "Plot the training history and show it to your teacher (Question 17, 2 points)"
   ]
  },
  {
   "cell_type": "code",
   "execution_count": 13,
   "metadata": {},
   "outputs": [
    {
     "data": {
      "text/plain": [
       "<matplotlib.legend.Legend at 0x1800efed648>"
      ]
     },
     "execution_count": 13,
     "metadata": {},
     "output_type": "execute_result"
    },
    {
     "data": {
      "image/png": "[encoded data removed]",
      "text/plain": [
       "<Figure size 720x360 with 2 Axes>"
      ]
     },
     "metadata": {
      "needs_background": "light"
     },
     "output_type": "display_data"
    }
   ],
   "source": [
    "#Accuracy\n",
    "fig, [ax,ax1] = plt.subplots(figsize=(10,5),nrows=1,ncols=2)\n",
    "plt.title('model accuracy')\n",
    "ax.plot(history.history['accuracy'], label = 'accuracy')\n",
    "ax.plot(history.history['val_accuracy'], label = 'val_accuracy')\n",
    "ax.legend()\n",
    "plt.title('model Loss')\n",
    "ax1.plot(history.history['loss'], label = 'loss')\n",
    "ax1.plot(history.history['val_loss'], label = 'val_loss')\n",
    "ax1.legend()"
   ]
  },
  {
   "cell_type": "markdown",
   "metadata": {},
   "source": [
    "## Question 18:\n",
    "Discuss with your group, then describe to your teacher, how the training history\n",
    "differs from the convolutional model for digit recognition and why. (Question 18, 5\n",
    "points)"
   ]
  },
  {
   "cell_type": "markdown",
   "metadata": {},
   "source": [
    "The model is more complex, with 2 layers of convolutions (4 if we consider 2 conv x 2 sub conv). It by itself turn the model slower than before. Contribution to this we have now 3D array of image, so basicaly we come from 784 to 3072 (32x32x3) input size, it turns the model slower. "
   ]
  },
  {
   "cell_type": "markdown",
   "metadata": {},
   "source": [
    "## Question 19: \n",
    "Discuss with your group, then describe to your teacher, how the time taken for each\n",
    "training epoch differs from the convolutional model for digit recognition. Give several\n",
    "factors that may contribute to this difference (Question 19, 4 points)"
   ]
  },
  {
   "cell_type": "code",
   "execution_count": null,
   "metadata": {},
   "outputs": [],
   "source": []
  }
 ],
 "metadata": {
  "kernelspec": {
   "display_name": "Python 3",
   "language": "python",
   "name": "python3"
  },
  "language_info": {
   "codemirror_mode": {
    "name": "ipython",
    "version": 3
   },
   "file_extension": ".py",
   "mimetype": "text/x-python",
   "name": "python",
   "nbconvert_exporter": "python",
   "pygments_lexer": "ipython3",
   "version": "3.7.6"
  }
 },
 "nbformat": 4,
 "nbformat_minor": 4
}
