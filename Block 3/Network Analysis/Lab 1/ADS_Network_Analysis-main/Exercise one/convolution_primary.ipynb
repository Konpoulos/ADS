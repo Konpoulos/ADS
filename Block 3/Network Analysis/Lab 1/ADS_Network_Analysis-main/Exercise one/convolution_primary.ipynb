{
 "cells": [
  {
   "cell_type": "markdown",
   "metadata": {},
   "source": [
    "# Convolutional Network for Numbers Recognition\n",
    "\n",
    "Convolutional layers don’t flatten x and y spatial dimensions, \n",
    "and need an extra dimension for colour channels (in the input image)\n",
    "or multiple feature maps"
   ]
  },
  {
   "cell_type": "code",
   "execution_count": 26,
   "metadata": {},
   "outputs": [],
   "source": [
    "import numpy as np\n",
    "from tensorflow import keras\n",
    "from tensorflow.keras import layers\n",
    "import matplotlib.pyplot as plt "
   ]
  },
  {
   "cell_type": "markdown",
   "metadata": {},
   "source": [
    "# Prepare the data"
   ]
  },
  {
   "cell_type": "code",
   "execution_count": 21,
   "metadata": {},
   "outputs": [
    {
     "name": "stdout",
     "output_type": "stream",
     "text": [
      "x_train shape: (60000, 28, 28, 1)\n",
      "60000 train samples\n",
      "10000 test samples\n",
      "y_train shape: (60000, 10)\n",
      "y_test shape: (10000, 10)\n"
     ]
    }
   ],
   "source": [
    "# Model / data parameters\n",
    "num_classes = 10\n",
    "input_shape = (28, 28, 1)\n",
    "\n",
    "# the data, split between train and test sets\n",
    "(x_train, y_train), (x_test, y_test) = keras.datasets.mnist.load_data()\n",
    "\n",
    "# Scale images to the [0, 1] range\n",
    "x_train = x_train.astype(\"float32\") / 255  # (60000, 28, 28)\n",
    "x_test = x_test.astype(\"float32\") / 255 # (10000, 28, 28)\n",
    "\n",
    "# Make sure images have shape (28, 28, 1)\n",
    "# Need an extra dimension for colour channels\n",
    "x_train = np.expand_dims(x_train, -1) # (60000, 28, 28, 1)\n",
    "x_test = np.expand_dims(x_test, -1) # (10000, 28, 28, 1)\n",
    "print(\"x_train shape:\", x_train.shape)\n",
    "print(x_train.shape[0], \"train samples\")\n",
    "print(x_test.shape[0], \"test samples\")\n",
    "\n",
    "\n",
    "# convert class vectors to binary class matrices\n",
    "y_train = keras.utils.to_categorical(y_train, num_classes)\n",
    "y_test = keras.utils.to_categorical(y_test, num_classes)\n",
    "\n",
    "print(\"y_train shape:\", y_train.shape)\n",
    "print(\"y_test shape:\", y_test.shape)\n"
   ]
  },
  {
   "cell_type": "markdown",
   "metadata": {},
   "source": [
    "# Build the model"
   ]
  },
  {
   "cell_type": "code",
   "execution_count": 23,
   "metadata": {},
   "outputs": [
    {
     "name": "stdout",
     "output_type": "stream",
     "text": [
      "Model: \"sequential\"\n",
      "_________________________________________________________________\n",
      "Layer (type)                 Output Shape              Param #   \n",
      "=================================================================\n",
      "conv2d (Conv2D)              (None, 26, 26, 32)        320       \n",
      "_________________________________________________________________\n",
      "conv2d_1 (Conv2D)            (None, 24, 24, 64)        18496     \n",
      "_________________________________________________________________\n",
      "max_pooling2d (MaxPooling2D) (None, 12, 12, 64)        0         \n",
      "_________________________________________________________________\n",
      "flatten (Flatten)            (None, 9216)              0         \n",
      "_________________________________________________________________\n",
      "dense (Dense)                (None, 128)               1179776   \n",
      "_________________________________________________________________\n",
      "dense_1 (Dense)              (None, 10)                1290      \n",
      "=================================================================\n",
      "Total params: 1,199,882\n",
      "Trainable params: 1,199,882\n",
      "Non-trainable params: 0\n",
      "_________________________________________________________________\n"
     ]
    }
   ],
   "source": [
    "\n",
    "# model = keras.Sequential() \n",
    "# model.add(keras.layers.Conv2D(filters=32, kernel_size=(3, 3), activation=\"relu\", input_shape=input_shape)) \n",
    "# model.add(keras.layers.Conv2D(filters=64, kernel_size=(3, 3), activation=\"relu\")) \n",
    "# model.add(keras.layers.MaxPool2D(pool_size=(2, 2))) \n",
    "# model.add(keras.layers.Flatten()) \n",
    "# model.add(keras.layers.Dense(128, activation=\"relu\")) \n",
    "# model.add(keras.layers.Dense(10, activation=\"softmax\")) \n",
    "\n",
    "\n",
    "model = keras.Sequential(\n",
    "    [\n",
    "        keras.Input(shape=input_shape),\n",
    "        layers.Conv2D(32, kernel_size=(3, 3), activation=\"relu\"), # 32 filters\n",
    "        layers.Conv2D(64, kernel_size=(3, 3), activation=\"relu\"), # 64 filters\n",
    "        layers.MaxPooling2D(pool_size=(2, 2)),\n",
    "        layers.Flatten(),\n",
    "        layers.Dense(128, activation=\"relu\"),\n",
    "        layers.Dense(10, activation=\"softmax\"),\n",
    "    ]\n",
    ")\n",
    "\n",
    "model.summary()"
   ]
  },
  {
   "cell_type": "markdown",
   "metadata": {},
   "source": [
    "# Train the model"
   ]
  },
  {
   "cell_type": "code",
   "execution_count": 28,
   "metadata": {},
   "outputs": [
    {
     "name": "stdout",
     "output_type": "stream",
     "text": [
      "Epoch 1/6\n",
      "375/375 [==============================] - 44s 115ms/step - loss: 1.0797 - accuracy: 0.7666 - val_loss: 0.9544 - val_accuracy: 0.8119\n",
      "Epoch 2/6\n",
      "375/375 [==============================] - 45s 119ms/step - loss: 0.9618 - accuracy: 0.7954 - val_loss: 0.8466 - val_accuracy: 0.8315\n",
      "Epoch 3/6\n",
      "375/375 [==============================] - 49s 131ms/step - loss: 0.8641 - accuracy: 0.8104 - val_loss: 0.7551 - val_accuracy: 0.8428\n",
      "Epoch 4/6\n",
      "375/375 [==============================] - 45s 121ms/step - loss: 0.7740 - accuracy: 0.8247 - val_loss: 0.6789 - val_accuracy: 0.8532\n",
      "Epoch 5/6\n",
      "375/375 [==============================] - 45s 119ms/step - loss: 0.7109 - accuracy: 0.8328 - val_loss: 0.6172 - val_accuracy: 0.8600\n",
      "Epoch 6/6\n",
      "375/375 [==============================] - 44s 117ms/step - loss: 0.6462 - accuracy: 0.8441 - val_loss: 0.5672 - val_accuracy: 0.8652\n"
     ]
    }
   ],
   "source": [
    "batch_size = 128\n",
    "epochs = 6\n",
    "\n",
    "model.compile(loss='categorical_crossentropy',\n",
    "              optimizer=keras.optimizers.Adadelta(), \n",
    "              metrics='accuracy')\n",
    "\n",
    "history = model.fit(x_train, y_train, batch_size=batch_size, epochs=epochs, validation_split=0.2)\n"
   ]
  },
  {
   "cell_type": "markdown",
   "metadata": {},
   "source": [
    "# Plot the training history "
   ]
  },
  {
   "cell_type": "code",
   "execution_count": 29,
   "metadata": {},
   "outputs": [
    {
     "data": {
      "image/png": "[encoded data removed]",
      "text/plain": [
       "<Figure size 432x288 with 1 Axes>"
      ]
     },
     "metadata": {
      "needs_background": "light"
     },
     "output_type": "display_data"
    },
    {
     "data": {
      "image/png": "[encoded data removed]",
      "text/plain": [
       "<Figure size 432x288 with 1 Axes>"
      ]
     },
     "metadata": {
      "needs_background": "light"
     },
     "output_type": "display_data"
    }
   ],
   "source": [
    "# summarize history for accuracy\n",
    "plt.title('model accuracy')\n",
    "plt.ylabel('accuracy')\n",
    "plt.xlabel('epoch')\n",
    "plt.legend(['train', 'test'], loc='upper left')\n",
    "\n",
    "plt.plot(history.history['accuracy'])\n",
    "plt.plot(history.history['val_accuracy'])\n",
    "plt.show()\n",
    "\n",
    "# summarize history for loss\n",
    "\n",
    "\n",
    "plt.title('model loss')\n",
    "plt.ylabel('loss')\n",
    "plt.xlabel('epoch')\n",
    "plt.legend(['train', 'test'], loc='upper left')\n",
    "\n",
    "plt.plot(history.history['loss'])\n",
    "plt.plot(history.history['val_loss'])\n",
    "plt.show()"
   ]
  },
  {
   "cell_type": "markdown",
   "metadata": {},
   "source": [
    "# Evaluate the trained model"
   ]
  },
  {
   "cell_type": "code",
   "execution_count": 30,
   "metadata": {},
   "outputs": [
    {
     "name": "stdout",
     "output_type": "stream",
     "text": [
      "Test loss: 0.5780344605445862\n",
      "Test accuracy: 0.8622999787330627\n"
     ]
    }
   ],
   "source": [
    "loss, accuracy = model.evaluate(x_test, y_test, verbose=0)\n",
    "print(\"Test loss:\", loss)\n",
    "print(\"Test accuracy:\", accuracy)"
   ]
  },
  {
   "cell_type": "markdown",
   "metadata": {},
   "source": [
    "# REDO: Add dropout layers "
   ]
  },
  {
   "cell_type": "code",
   "execution_count": 32,
   "metadata": {},
   "outputs": [
    {
     "name": "stdout",
     "output_type": "stream",
     "text": [
      "Model: \"sequential_1\"\n",
      "_________________________________________________________________\n",
      "Layer (type)                 Output Shape              Param #   \n",
      "=================================================================\n",
      "conv2d_2 (Conv2D)            (None, 26, 26, 32)        320       \n",
      "_________________________________________________________________\n",
      "conv2d_3 (Conv2D)            (None, 24, 24, 64)        18496     \n",
      "_________________________________________________________________\n",
      "max_pooling2d_1 (MaxPooling2 (None, 12, 12, 64)        0         \n",
      "_________________________________________________________________\n",
      "dropout (Dropout)            (None, 12, 12, 64)        0         \n",
      "_________________________________________________________________\n",
      "flatten_1 (Flatten)          (None, 9216)              0         \n",
      "_________________________________________________________________\n",
      "dense_2 (Dense)              (None, 128)               1179776   \n",
      "_________________________________________________________________\n",
      "dropout_1 (Dropout)          (None, 128)               0         \n",
      "_________________________________________________________________\n",
      "dense_3 (Dense)              (None, 10)                1290      \n",
      "=================================================================\n",
      "Total params: 1,199,882\n",
      "Trainable params: 1,199,882\n",
      "Non-trainable params: 0\n",
      "_________________________________________________________________\n",
      "Epoch 1/6\n",
      "375/375 [==============================] - 45s 119ms/step - loss: 2.2962 - accuracy: 0.1248 - val_loss: 2.2630 - val_accuracy: 0.3177\n",
      "Epoch 2/6\n",
      "375/375 [==============================] - 46s 123ms/step - loss: 2.2589 - accuracy: 0.2131 - val_loss: 2.2178 - val_accuracy: 0.4903\n",
      "Epoch 3/6\n",
      "375/375 [==============================] - 48s 129ms/step - loss: 2.2172 - accuracy: 0.3092 - val_loss: 2.1619 - val_accuracy: 0.6061\n",
      "Epoch 4/6\n",
      "375/375 [==============================] - 49s 130ms/step - loss: 2.1634 - accuracy: 0.3949 - val_loss: 2.0883 - val_accuracy: 0.6499\n",
      "Epoch 5/6\n",
      "375/375 [==============================] - 50s 134ms/step - loss: 2.0916 - accuracy: 0.4591 - val_loss: 1.9915 - val_accuracy: 0.6828\n",
      "Epoch 6/6\n",
      "375/375 [==============================] - 48s 128ms/step - loss: 2.0002 - accuracy: 0.5136 - val_loss: 1.8671 - val_accuracy: 0.7087\n"
     ]
    }
   ],
   "source": [
    "model2 = keras.Sequential(\n",
    "    [\n",
    "        keras.Input(shape=input_shape),\n",
    "        layers.Conv2D(32, kernel_size=(3, 3), activation=\"relu\"), # 32 filters\n",
    "        layers.Conv2D(64, kernel_size=(3, 3), activation=\"relu\"), # 64 filters\n",
    "        layers.MaxPooling2D(pool_size=(2, 2)),\n",
    "        layers.Dropout(rate=0.25),\n",
    "        layers.Flatten(),\n",
    "        layers.Dense(128, activation=\"relu\"),\n",
    "        layers.Dropout(rate=0.5),\n",
    "        layers.Dense(10, activation=\"softmax\"),\n",
    "    ]\n",
    ")\n",
    "\n",
    "model2.summary()\n",
    "\n",
    "\n",
    "\n",
    "batch_size = 128\n",
    "epochs = 6\n",
    "\n",
    "model2.compile(loss='categorical_crossentropy',\n",
    "              optimizer=keras.optimizers.Adadelta(), \n",
    "              metrics='accuracy')\n",
    "\n",
    "history2 = model2.fit(x_train, y_train, batch_size=batch_size, epochs=epochs, validation_split=0.2)\n"
   ]
  },
  {
   "cell_type": "code",
   "execution_count": 33,
   "metadata": {},
   "outputs": [
    {
     "data": {
      "image/png": "[encoded data removed]",
      "text/plain": [
       "<Figure size 432x288 with 1 Axes>"
      ]
     },
     "metadata": {
      "needs_background": "light"
     },
     "output_type": "display_data"
    },
    {
     "data": {
      "image/png": "[encoded data removed]",
      "text/plain": [
       "<Figure size 432x288 with 1 Axes>"
      ]
     },
     "metadata": {
      "needs_background": "light"
     },
     "output_type": "display_data"
    }
   ],
   "source": [
    "# summarize history for accuracy\n",
    "plt.title('model accuracy')\n",
    "plt.ylabel('accuracy')\n",
    "plt.xlabel('epoch')\n",
    "plt.legend(['train', 'test'], loc='upper left')\n",
    "\n",
    "plt.plot(history2.history['accuracy'])\n",
    "plt.plot(history2.history['val_accuracy'])\n",
    "plt.show()\n",
    "\n",
    "# summarize history for loss\n",
    "\n",
    "\n",
    "plt.title('model loss')\n",
    "plt.ylabel('loss')\n",
    "plt.xlabel('epoch')\n",
    "plt.legend(['train', 'test'], loc='upper left')\n",
    "\n",
    "plt.plot(history2.history['loss'])\n",
    "plt.plot(history2.history['val_loss'])\n",
    "plt.show()"
   ]
  },
  {
   "cell_type": "markdown",
   "metadata": {},
   "source": [
    "# Evaluate the two trained model"
   ]
  },
  {
   "cell_type": "code",
   "execution_count": 34,
   "metadata": {},
   "outputs": [
    {
     "name": "stdout",
     "output_type": "stream",
     "text": [
      "Model 1\n",
      "Test loss: 0.5780344605445862\n",
      "Test accuracy: 0.8622999787330627\n",
      "\n",
      "Model 2\n",
      "Test loss: 1.8672006130218506\n",
      "Test accuracy: 0.7081999778747559\n"
     ]
    }
   ],
   "source": [
    "loss, accuracy = model.evaluate(x_test, y_test, verbose=0)\n",
    "print(\"Model 1\")\n",
    "print(\"Test loss:\", loss)\n",
    "print(\"Test accuracy:\", accuracy)\n",
    "print(\"\")\n",
    "\n",
    "loss2, accuracy2 = model2.evaluate(x_test, y_test, verbose=0)\n",
    "print(\"Model 2\")\n",
    "print(\"Test loss:\", loss2)\n",
    "print(\"Test accuracy:\", accuracy2)"
   ]
  },
  {
   "cell_type": "code",
   "execution_count": null,
   "metadata": {},
   "outputs": [],
   "source": []
  }
 ],
 "metadata": {
  "kernelspec": {
   "display_name": "Python 3",
   "language": "python",
   "name": "python3"
  },
  "language_info": {
   "codemirror_mode": {
    "name": "ipython",
    "version": 3
   },
   "file_extension": ".py",
   "mimetype": "text/x-python",
   "name": "python",
   "nbconvert_exporter": "python",
   "pygments_lexer": "ipython3",
   "version": "3.7.6"
  }
 },
 "nbformat": 4,
 "nbformat_minor": 4
}
