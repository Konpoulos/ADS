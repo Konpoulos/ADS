{
 "cells": [
  {
   "cell_type": "markdown",
   "metadata": {},
   "source": [
    "## Exercise one: Identifying handwritten numbers"
   ]
  },
  {
   "cell_type": "code",
   "execution_count": 1,
   "metadata": {},
   "outputs": [],
   "source": [
    "import numpy as np\n",
    "from tensorflow import keras\n",
    "from tensorflow.keras import layers\n",
    "import matplotlib.pyplot as plt "
   ]
  },
  {
   "cell_type": "markdown",
   "metadata": {},
   "source": [
    "## Prepare data"
   ]
  },
  {
   "cell_type": "code",
   "execution_count": 2,
   "metadata": {},
   "outputs": [],
   "source": [
    "# the data, split between train and test sets\n",
    "(x_train, y_train), (x_test, y_test) = keras.datasets.mnist.load_data()"
   ]
  },
  {
   "cell_type": "code",
   "execution_count": 3,
   "metadata": {},
   "outputs": [
    {
     "name": "stdout",
     "output_type": "stream",
     "text": [
      "(60000, 28, 28)\n"
     ]
    }
   ],
   "source": [
    "#To see the shape of the variables\n",
    "print(x_train.shape)"
   ]
  },
  {
   "cell_type": "code",
   "execution_count": 4,
   "metadata": {},
   "outputs": [
    {
     "name": "stdout",
     "output_type": "stream",
     "text": [
      "x_train shape: (60000, 784)\n",
      "x_test shape: (10000, 784)\n"
     ]
    }
   ],
   "source": [
    "# Model / data parameters\n",
    "num_classes = 10\n",
    "input_shape = (784,)\n",
    "\n",
    "# flatten the data from 28*28 to 1*784\n",
    "x_train = x_train.reshape((60000,784))\n",
    "x_test = x_test.reshape((10000,784))\n",
    "\n",
    "print(\"x_train shape:\", x_train.shape)\n",
    "print(\"x_test shape:\", x_test.shape)\n",
    "\n",
    "# Scale images to the [0, 1] range\n",
    "x_train = x_train.astype(\"float32\") / 255 \n",
    "x_test = x_test.astype(\"float32\") / 255 \n"
   ]
  },
  {
   "cell_type": "code",
   "execution_count": 5,
   "metadata": {},
   "outputs": [
    {
     "name": "stdout",
     "output_type": "stream",
     "text": [
      "y_train shape: (60000, 10)\n",
      "y_test shape: (10000, 10)\n"
     ]
    }
   ],
   "source": [
    "# convert class vectors to binary class matrices\n",
    "y_train = keras.utils.to_categorical(y_train, num_classes)\n",
    "y_test = keras.utils.to_categorical(y_test, num_classes)\n",
    "\n",
    "print(\"y_train shape:\", y_train.shape)\n",
    "print(\"y_test shape:\", y_test.shape)\n"
   ]
  },
  {
   "cell_type": "markdown",
   "metadata": {},
   "source": [
    "## Build the model"
   ]
  },
  {
   "cell_type": "code",
   "execution_count": 6,
   "metadata": {},
   "outputs": [
    {
     "name": "stdout",
     "output_type": "stream",
     "text": [
      "Model: \"sequential\"\n",
      "_________________________________________________________________\n",
      "Layer (type)                 Output Shape              Param #   \n",
      "=================================================================\n",
      "dense (Dense)                (None, 256)               200960    \n",
      "_________________________________________________________________\n",
      "dense_1 (Dense)              (None, 10)                2570      \n",
      "=================================================================\n",
      "Total params: 203,530\n",
      "Trainable params: 203,530\n",
      "Non-trainable params: 0\n",
      "_________________________________________________________________\n"
     ]
    }
   ],
   "source": [
    "model = keras.Sequential()\n",
    "model.add(keras.layers.Dense(256, input_shape=(784,)))\n",
    "model.add(keras.layers.Dense(10, activation='softmax'))\n",
    "\n",
    "model.summary()"
   ]
  },
  {
   "cell_type": "code",
   "execution_count": 11,
   "metadata": {},
   "outputs": [],
   "source": [
    "import tensorflow"
   ]
  },
  {
   "cell_type": "code",
   "execution_count": 14,
   "metadata": {},
   "outputs": [
    {
     "data": {
      "text/plain": [
       "'2.0.0'"
      ]
     },
     "execution_count": 14,
     "metadata": {},
     "output_type": "execute_result"
    }
   ],
   "source": [
    "tensorflow.__version__"
   ]
  },
  {
   "cell_type": "markdown",
   "metadata": {},
   "source": [
    "## Train the model"
   ]
  },
  {
   "cell_type": "code",
   "execution_count": 15,
   "metadata": {},
   "outputs": [
    {
     "name": "stdout",
     "output_type": "stream",
     "text": [
      "Train on 48000 samples, validate on 12000 samples\n",
      "Epoch 1/12\n",
      "48000/48000 [==============================] - 2s 47us/sample - loss: 0.4029 - accuracy: 0.8852 - val_loss: 0.3027 - val_accuracy: 0.9178\n",
      "Epoch 2/12\n",
      "48000/48000 [==============================] - 2s 33us/sample - loss: 0.3082 - accuracy: 0.9133 - val_loss: 0.2887 - val_accuracy: 0.9181\n",
      "Epoch 3/12\n",
      "48000/48000 [==============================] - 2s 33us/sample - loss: 0.2941 - accuracy: 0.9171 - val_loss: 0.2844 - val_accuracy: 0.9236\n",
      "Epoch 4/12\n",
      "48000/48000 [==============================] - 1s 27us/sample - loss: 0.2873 - accuracy: 0.9208 - val_loss: 0.2867 - val_accuracy: 0.9208\n",
      "Epoch 5/12\n",
      "48000/48000 [==============================] - 1s 27us/sample - loss: 0.2807 - accuracy: 0.9210 - val_loss: 0.2984 - val_accuracy: 0.9158\n",
      "Epoch 6/12\n",
      "48000/48000 [==============================] - 1s 28us/sample - loss: 0.2779 - accuracy: 0.9221 - val_loss: 0.2884 - val_accuracy: 0.9218\n",
      "Epoch 7/12\n",
      "48000/48000 [==============================] - 2s 34us/sample - loss: 0.2735 - accuracy: 0.9234 - val_loss: 0.2781 - val_accuracy: 0.9237\n",
      "Epoch 8/12\n",
      "48000/48000 [==============================] - 2s 34us/sample - loss: 0.2722 - accuracy: 0.9245 - val_loss: 0.2775 - val_accuracy: 0.9263\n",
      "Epoch 9/12\n",
      "48000/48000 [==============================] - 2s 31us/sample - loss: 0.2686 - accuracy: 0.9253 - val_loss: 0.2816 - val_accuracy: 0.9225\n",
      "Epoch 10/12\n",
      "48000/48000 [==============================] - 1s 31us/sample - loss: 0.2670 - accuracy: 0.9245 - val_loss: 0.2743 - val_accuracy: 0.9244\n",
      "Epoch 11/12\n",
      "48000/48000 [==============================] - 2s 36us/sample - loss: 0.2653 - accuracy: 0.9266 - val_loss: 0.2882 - val_accuracy: 0.9204\n",
      "Epoch 12/12\n",
      "48000/48000 [==============================] - 2s 33us/sample - loss: 0.2641 - accuracy: 0.9265 - val_loss: 0.3061 - val_accuracy: 0.9135\n"
     ]
    }
   ],
   "source": [
    "batch_size=128\n",
    "epochs=12\n",
    "\n",
    "model.compile(loss='categorical_crossentropy', \n",
    "              optimizer=keras.optimizers.RMSprop(), metrics=['accuracy'])\n",
    "\n",
    "history = model.fit(x_train, y_train, \n",
    "                    batch_size=batch_size,\n",
    "                    epochs=epochs, \n",
    "                    verbose=1, \n",
    "                    validation_split=0.2)\n"
   ]
  },
  {
   "cell_type": "markdown",
   "metadata": {},
   "source": [
    "## Plot"
   ]
  },
  {
   "cell_type": "code",
   "execution_count": 16,
   "metadata": {},
   "outputs": [
    {
     "name": "stdout",
     "output_type": "stream",
     "text": [
      "dict_keys(['loss', 'accuracy', 'val_loss', 'val_accuracy'])\n"
     ]
    }
   ],
   "source": [
    "# list all data in history\n",
    "print(history.history.keys())"
   ]
  },
  {
   "cell_type": "code",
   "execution_count": 17,
   "metadata": {},
   "outputs": [
    {
     "data": {
      "image/png": "[encoded data removed]",
      "text/plain": [
       "<Figure size 432x288 with 1 Axes>"
      ]
     },
     "metadata": {
      "needs_background": "light"
     },
     "output_type": "display_data"
    },
    {
     "data": {
      "image/png": "[encoded data removed]",
      "text/plain": [
       "<Figure size 432x288 with 1 Axes>"
      ]
     },
     "metadata": {
      "needs_background": "light"
     },
     "output_type": "display_data"
    }
   ],
   "source": [
    "# summarize history for accuracy\n",
    "plt.title('model accuracy')\n",
    "plt.ylabel('accuracy')\n",
    "plt.xlabel('epoch')\n",
    "plt.legend(['train', 'test'], loc='upper left')\n",
    "\n",
    "plt.plot(history.history['accuracy'])\n",
    "plt.plot(history.history['val_accuracy'])\n",
    "plt.show()\n",
    "\n",
    "# summarize history for loss\n",
    "\n",
    "\n",
    "plt.title('model loss')\n",
    "plt.ylabel('loss')\n",
    "plt.xlabel('epoch')\n",
    "plt.legend(['train', 'test'], loc='upper left')\n",
    "\n",
    "plt.plot(history.history['loss'])\n",
    "plt.plot(history.history['val_loss'])\n",
    "plt.show()"
   ]
  },
  {
   "cell_type": "markdown",
   "metadata": {},
   "source": [
    "## Evaluate the trained model"
   ]
  },
  {
   "cell_type": "code",
   "execution_count": 18,
   "metadata": {},
   "outputs": [
    {
     "name": "stdout",
     "output_type": "stream",
     "text": [
      "Test loss: 0.3212557218849659\n",
      "Test accuracy: 0.9097\n"
     ]
    }
   ],
   "source": [
    "loss, accuracy = model.evaluate(x_test, y_test, verbose=0)\n",
    "print(\"Test loss:\", loss)\n",
    "print(\"Test accuracy:\", accuracy)"
   ]
  },
  {
   "cell_type": "markdown",
   "metadata": {},
   "source": [
    "## Changing model parameters: Add rectified activation function"
   ]
  },
  {
   "cell_type": "code",
   "execution_count": 19,
   "metadata": {},
   "outputs": [
    {
     "name": "stdout",
     "output_type": "stream",
     "text": [
      "Model: \"sequential_1\"\n",
      "_________________________________________________________________\n",
      "Layer (type)                 Output Shape              Param #   \n",
      "=================================================================\n",
      "dense_2 (Dense)              (None, 256)               200960    \n",
      "_________________________________________________________________\n",
      "dense_3 (Dense)              (None, 10)                2570      \n",
      "=================================================================\n",
      "Total params: 203,530\n",
      "Trainable params: 203,530\n",
      "Non-trainable params: 0\n",
      "_________________________________________________________________\n"
     ]
    }
   ],
   "source": [
    "# add rectified activation in the first hidden layer\n",
    "model2 = keras.Sequential()\n",
    "model2.add(keras.layers.Dense(256, input_shape=(784,), activation = 'relu'))\n",
    "model2.add(keras.layers.Dense(10, activation='softmax'))\n",
    "\n",
    "model2.summary()"
   ]
  },
  {
   "cell_type": "code",
   "execution_count": 20,
   "metadata": {},
   "outputs": [
    {
     "name": "stdout",
     "output_type": "stream",
     "text": [
      "Train on 48000 samples, validate on 12000 samples\n",
      "Epoch 1/12\n",
      "48000/48000 [==============================] - 2s 37us/sample - loss: 0.3155 - accuracy: 0.9114 - val_loss: 0.1770 - val_accuracy: 0.9498\n",
      "Epoch 2/12\n",
      "48000/48000 [==============================] - 1s 26us/sample - loss: 0.1432 - accuracy: 0.9579 - val_loss: 0.1294 - val_accuracy: 0.9625\n",
      "Epoch 3/12\n",
      "48000/48000 [==============================] - 1s 27us/sample - loss: 0.0990 - accuracy: 0.9709 - val_loss: 0.1043 - val_accuracy: 0.9691\n",
      "Epoch 4/12\n",
      "48000/48000 [==============================] - 1s 27us/sample - loss: 0.0746 - accuracy: 0.9781 - val_loss: 0.0950 - val_accuracy: 0.9708\n",
      "Epoch 5/12\n",
      "48000/48000 [==============================] - 1s 30us/sample - loss: 0.0580 - accuracy: 0.9830 - val_loss: 0.0906 - val_accuracy: 0.9743\n",
      "Epoch 6/12\n",
      "48000/48000 [==============================] - 1s 28us/sample - loss: 0.0459 - accuracy: 0.9864 - val_loss: 0.0900 - val_accuracy: 0.9752\n",
      "Epoch 7/12\n",
      "48000/48000 [==============================] - 1s 27us/sample - loss: 0.0374 - accuracy: 0.9894 - val_loss: 0.0937 - val_accuracy: 0.9743\n",
      "Epoch 8/12\n",
      "48000/48000 [==============================] - 1s 27us/sample - loss: 0.0309 - accuracy: 0.9910 - val_loss: 0.0833 - val_accuracy: 0.9759\n",
      "Epoch 9/12\n",
      "48000/48000 [==============================] - 1s 26us/sample - loss: 0.0248 - accuracy: 0.9931 - val_loss: 0.0850 - val_accuracy: 0.9774\n",
      "Epoch 10/12\n",
      "48000/48000 [==============================] - 2s 33us/sample - loss: 0.0199 - accuracy: 0.9943 - val_loss: 0.0875 - val_accuracy: 0.9770\n",
      "Epoch 11/12\n",
      "48000/48000 [==============================] - 1s 30us/sample - loss: 0.0158 - accuracy: 0.9956 - val_loss: 0.0845 - val_accuracy: 0.9781\n",
      "Epoch 12/12\n",
      "48000/48000 [==============================] - 1s 27us/sample - loss: 0.0131 - accuracy: 0.9967 - val_loss: 0.0898 - val_accuracy: 0.9780\n"
     ]
    }
   ],
   "source": [
    "batch_size=128\n",
    "epochs=12\n",
    "\n",
    "model.compile(loss='categorical_crossentropy', \n",
    "              optimizer=keras.optimizers.RMSprop(), metrics=['accuracy'])\n",
    "\n",
    "history = model.fit(x_train, y_train, \n",
    "                    batch_size=batch_size,\n",
    "                    epochs=epochs, \n",
    "                    verbose=1, \n",
    "                    validation_split=0.2)\n"
   ]
  },
  {
   "cell_type": "code",
   "execution_count": 21,
   "metadata": {},
   "outputs": [
    {
     "data": {
      "image/png": "[encoded data removed]",
      "text/plain": [
       "<Figure size 432x288 with 1 Axes>"
      ]
     },
     "metadata": {
      "needs_background": "light"
     },
     "output_type": "display_data"
    },
    {
     "data": {
      "image/png": "[encoded data removed]",
      "text/plain": [
       "<Figure size 432x288 with 1 Axes>"
      ]
     },
     "metadata": {
      "needs_background": "light"
     },
     "output_type": "display_data"
    }
   ],
   "source": [
    "# summarize history for accuracy\n",
    "plt.title('model accuracy')\n",
    "plt.ylabel('accuracy')\n",
    "plt.xlabel('epoch')\n",
    "plt.legend(['train', 'test'], loc='upper left')\n",
    "\n",
    "plt.plot(history.history['accuracy'])\n",
    "plt.plot(history.history['val_accuracy'])\n",
    "plt.show()\n",
    "\n",
    "# summarize history for loss\n",
    "\n",
    "\n",
    "plt.title('model loss')\n",
    "plt.ylabel('loss')\n",
    "plt.xlabel('epoch')\n",
    "plt.legend(['train', 'test'], loc='upper left')\n",
    "\n",
    "plt.plot(history.history['loss'])\n",
    "plt.plot(history.history['val_loss'])\n",
    "plt.show()"
   ]
  },
  {
   "cell_type": "code",
   "execution_count": 37,
   "metadata": {},
   "outputs": [
    {
     "name": "stdout",
     "output_type": "stream",
     "text": [
      "[0.06878998063788168, 0.981]\n"
     ]
    },
    {
     "ename": "NameError",
     "evalue": "name 'model2' is not defined",
     "output_type": "error",
     "traceback": [
      "\u001b[1;31m---------------------------------------------------------------------------\u001b[0m",
      "\u001b[1;31mNameError\u001b[0m                                 Traceback (most recent call last)",
      "\u001b[1;32m<ipython-input-37-3eaaa2fa74e7>\u001b[0m in \u001b[0;36m<module>\u001b[1;34m\u001b[0m\n\u001b[0;32m      1\u001b[0m \u001b[0mprint\u001b[0m\u001b[1;33m(\u001b[0m\u001b[0mmodel\u001b[0m\u001b[1;33m.\u001b[0m\u001b[0mevaluate\u001b[0m\u001b[1;33m(\u001b[0m\u001b[0mx\u001b[0m\u001b[1;33m=\u001b[0m\u001b[0mx_test\u001b[0m\u001b[1;33m,\u001b[0m\u001b[0my\u001b[0m\u001b[1;33m=\u001b[0m\u001b[0my_test\u001b[0m\u001b[1;33m,\u001b[0m\u001b[0mverbose\u001b[0m \u001b[1;33m=\u001b[0m \u001b[1;36m0\u001b[0m\u001b[1;33m)\u001b[0m\u001b[1;33m)\u001b[0m\u001b[1;33m\u001b[0m\u001b[1;33m\u001b[0m\u001b[0m\n\u001b[1;32m----> 2\u001b[1;33m \u001b[0mprint\u001b[0m\u001b[1;33m(\u001b[0m\u001b[0mmodel2\u001b[0m\u001b[1;33m.\u001b[0m\u001b[0mevaluate\u001b[0m\u001b[1;33m(\u001b[0m\u001b[0mx\u001b[0m\u001b[1;33m=\u001b[0m\u001b[0mx_test\u001b[0m\u001b[1;33m,\u001b[0m\u001b[0my\u001b[0m\u001b[1;33m=\u001b[0m\u001b[0my_test\u001b[0m\u001b[1;33m)\u001b[0m\u001b[1;33m)\u001b[0m\u001b[1;33m\u001b[0m\u001b[1;33m\u001b[0m\u001b[0m\n\u001b[0m\u001b[0;32m      3\u001b[0m \u001b[1;33m\u001b[0m\u001b[0m\n",
      "\u001b[1;31mNameError\u001b[0m: name 'model2' is not defined"
     ]
    }
   ],
   "source": [
    "print(model.evaluate(x=x_test,y=y_test,verbose = 0))\n",
    "print(model2.evaluate(x=x_test,y=y_test))\n",
    "\n"
   ]
  },
  {
   "cell_type": "code",
   "execution_count": null,
   "metadata": {},
   "outputs": [],
   "source": []
  },
  {
   "cell_type": "code",
   "execution_count": 33,
   "metadata": {},
   "outputs": [
    {
     "name": "stdout",
     "output_type": "stream",
     "text": [
      "0 [7]\n",
      "1 [2]\n",
      "2 [1]\n",
      "3 [0]\n",
      "4 [4]\n",
      "5 [1]\n",
      "6 [4]\n",
      "7 [9]\n",
      "8 [5]\n",
      "9 [9]\n"
     ]
    }
   ],
   "source": [
    "for i in range(10):\n",
    "    x = x_test[i].reshape(1,784)\n",
    "    y = np.argmax(model.predict(x),axis =-1)\n",
    "    print(i,y)"
   ]
  },
  {
   "cell_type": "code",
   "execution_count": 32,
   "metadata": {},
   "outputs": [
    {
     "data": {
      "text/plain": [
       "(784,)"
      ]
     },
     "execution_count": 32,
     "metadata": {},
     "output_type": "execute_result"
    }
   ],
   "source": [
    "x_test[0].shape"
   ]
  },
  {
   "cell_type": "code",
   "execution_count": null,
   "metadata": {},
   "outputs": [],
   "source": []
  }
 ],
 "metadata": {
  "kernelspec": {
   "display_name": "Python 3",
   "language": "python",
   "name": "python3"
  },
  "language_info": {
   "codemirror_mode": {
    "name": "ipython",
    "version": 3
   },
   "file_extension": ".py",
   "mimetype": "text/x-python",
   "name": "python",
   "nbconvert_exporter": "python",
   "pygments_lexer": "ipython3",
   "version": "3.7.6"
  }
 },
 "nbformat": 4,
 "nbformat_minor": 4
}
