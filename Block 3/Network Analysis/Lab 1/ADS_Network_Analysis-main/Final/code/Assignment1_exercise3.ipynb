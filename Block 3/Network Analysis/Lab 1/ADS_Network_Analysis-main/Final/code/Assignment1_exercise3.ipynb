{
 "cells": [
  {
   "cell_type": "markdown",
   "metadata": {},
   "source": [
    "<h1 align = 'center'> Network Analysis </h1>\n",
    "<h2 align = 'center'> Group Assignment </h2>\n",
    "\n",
    "<h2 align = 'center'> Low-level functions </h2>\n",
    "\n",
    "<h4 align = 'center' > @ChenYu Wang - c.wang4@students.uu.nl, 6774326 </h4>\n",
    "<h4 align = 'center' > @Lena Walcher - l.t.walcher@students.uu.nl, 2818833</h4>\n",
    "<h4 align = 'center' > @Ioannis Konstantakopoulos - i.konstantakopoulos@students.uu.nl, 0960047</h4>\n",
    "<h4 align = 'center' > @Hans Franke - h.a.franke@students.uu.nl, 6987680</h4>"
   ]
  },
  {
   "cell_type": "code",
   "execution_count": 1,
   "metadata": {},
   "outputs": [],
   "source": [
    "import numpy as np\n",
    "from tensorflow import keras\n",
    "from tensorflow.keras import layers\n",
    "import matplotlib.pyplot as plt \n",
    "from functools import reduce\n",
    "%matplotlib inline"
   ]
  },
  {
   "cell_type": "markdown",
   "metadata": {},
   "source": [
    "### Question 20:\n",
    "Write a simple function that achieves the convolution operation efficiently for twodimensional and three-dimensional inputs. This should allow you to input a set of convolutional filters (‘kernels’ in Keras’s terminology) and an input layer (or image) as inputs. The input layer should have a third dimension, representing a stack of feature maps, and each filter should have a third dimension of corresponding size. The function should output a number of two-dimensional feature maps corresponding to the number of input filters, though these can be stacked into a third dimensional like the input layer. After agreeing on a common function with your group members, show this to your teacher."
   ]
  },
  {
   "cell_type": "code",
   "execution_count": 13,
   "metadata": {},
   "outputs": [],
   "source": [
    "class Conv2D:\n",
    "    '''A Convolution layer using nxn filters.\n",
    "    \n",
    "    A simple function that achieves the convolution operation efficiently for two-dimensional inputs and three-dimensional inputs. \n",
    "    a set of convolutional filters (‘kernels’ in Keras’s terminology)\n",
    "    an input layer (or image) as inputs. \n",
    "\n",
    "    The input layer should have a third dimension or two dimension, \n",
    "    representing a stack of feature maps, and each filter should have a third dimension of corresponding size. \n",
    "\n",
    "    The function should output a number of two-dimensional feature maps corresponding to the number of input filters, \n",
    "    though these can be stacked into a third dimensional like the input layer. \n",
    "            \n",
    "    TODO: 3d\n",
    "    TODO: padding\n",
    "    '''\n",
    "\n",
    "    def __init__(self, num_filters, kernal_size):\n",
    "        '''\n",
    "            filters is a 3 dimensions array (num_filters, 3, 3)\n",
    "        '''\n",
    "        self.num_filters = num_filters\n",
    "        self.kernal_size = kernal_size\n",
    "        \n",
    "        self.filters = np.random.randn(num_filters, kernal_size, kernal_size)\n",
    "    \n",
    "    def iterate_regions(self, image):\n",
    "        '''Generates image regions    \n",
    "        ''' \n",
    "        h, w = image.shape\n",
    "\n",
    "        for i in range(h - 2):\n",
    "            for j in range(w - 2):\n",
    "                im_region = image[i:(i + self.kernal_size), j:(j + self.kernal_size)]\n",
    "                yield im_region, i, j\n",
    "\n",
    "    def sub_forward(self, inputs):\n",
    "        '''Return a 3 dimensions array\n",
    "            \n",
    "        ::inputs: 28x28\n",
    "        ::outputs: 26x26x8\n",
    "        '''\n",
    "        # (28, 28)\n",
    "        h, w = inputs.shape\n",
    "\n",
    "        # for now, padding = 0 and stride = 1 \n",
    "        outputs = np.zeros((h - self.kernal_size + 1, w - self.kernal_size + 1, self.num_filters))\n",
    "    \n",
    "        for im_region, i, j in self.iterate_regions(inputs):\n",
    "            outputs[i, j] = np.sum(im_region * self.filters, axis=(1, 2))\n",
    "        return outputs  \n",
    "    \n",
    "    \n",
    "    def forward(self, inputs):\n",
    "        # (3,3)\n",
    "        if len(inputs.shape) == 2:\n",
    "            return self.sub_forward(inputs)\n",
    "        \n",
    "        # (3,3,2)\n",
    "        elif len(inputs.shape) == 3:\n",
    "            # (2,3,3)\n",
    "            permuted = np.transpose(inputs, (2, 0, 1))\n",
    "            # c = channel size \n",
    "            c, h, w = permuted.shape\n",
    "            \n",
    "            container = np.zeros((h - self.kernal_size + 1, w - self.kernal_size + 1, self.num_filters))\n",
    "\n",
    "            for i in range(c):\n",
    "                outputs = self.sub_forward(permuted[i])\n",
    "                container += outputs\n",
    "            return container     \n",
    "        else:\n",
    "            raise AttributeError"
   ]
  },
  {
   "cell_type": "markdown",
   "metadata": {},
   "source": [
    "### Question 21:\n",
    "Write a simple function that achieves rectified linear (relu) activation over a whole feature map, with a threshold at zero. After agreeing on a common function with your group members, show this to your teacher\n",
    "\n",
    "Answer 21:"
   ]
  },
  {
   "cell_type": "code",
   "execution_count": 3,
   "metadata": {},
   "outputs": [],
   "source": [
    "class Activation:\n",
    "    '''Activation function Implement\n",
    "    '''\n",
    "    def __init__(self):\n",
    "        pass\n",
    "\n",
    "    def relu(self, in_features):\n",
    "        '''A simple function that achieves rectified linear (relu) activation over a whole feature map, with a threshold at zero. \n",
    "\n",
    "        in_features can be numpy array, scalar, vector, or matrix\n",
    "        '''\n",
    "        return np.maximum(0, in_features)\n",
    "\n",
    "    def sigmoid(self, in_features):\n",
    "        '''Apply sigmoid activation function\n",
    "        \n",
    "        in_features can be numpy array, scalar, vector, or matrix\n",
    "        '''\n",
    "        return 1/(1+np.exp(-in_features))\n",
    "    \n",
    "    def leakyRelu(self, in_features, alpha=0.1):\n",
    "        '''Apply leakyRelu activation function\n",
    "        \n",
    "        in_features can be numpy array, scalar, vector, or matrix\n",
    "        '''\n",
    "        return np.where(in_features > 0, in_features, in_features * alpha)      \n",
    "    \n",
    "    def softmax(self, in_features):\n",
    "        '''A function that converts the activation of a 1-dimensional matrix (such as the output of a fully-connected layer) \n",
    "        into a set of probabilities that each matrix element is the most likely classification. \n",
    "\n",
    "        This should include the algorithmic expression of a softmax (normalised exponential) function.\n",
    "        \n",
    "        in_features can be numpy array, scalar, vector, or matrix\n",
    "        '''\n",
    "        expo = np.exp(in_features)\n",
    "        expo_sum = np.sum(expo)\n",
    "        return expo/expo_sum\n"
   ]
  },
  {
   "cell_type": "markdown",
   "metadata": {},
   "source": [
    "### Question 22:\n",
    "Write a simple function that achieves max pooling. This should allow you to specify the spatial extent of the pooling, with the size of the output feature map changing accordingly. After agreeing on a common function with your group members, show this to your teacher.\n",
    "\n",
    "Answer 22:"
   ]
  },
  {
   "cell_type": "code",
   "execution_count": 4,
   "metadata": {},
   "outputs": [],
   "source": [
    "class MaxPooling:\n",
    "    '''Specify the spatial extent of the pooling, with the size of the output feature map changing accordingly\n",
    "    '''\n",
    "    def __init__(self, pool=2, stride=2):\n",
    "        self.pool = pool \n",
    "        self.stride = stride \n",
    "\n",
    "    def iterate_regions(self, image):\n",
    "        '''Generates non-overlapping kxk image regions to pool over\n",
    "        '''\n",
    "        h, w, c = image.shape\n",
    "        \n",
    "        # floor() the value\n",
    "        new_h = int(np.floor(h/self.pool))\n",
    "        new_w = int(np.floor(w/self.pool))\n",
    "                \n",
    "        for i in range(new_h):\n",
    "            for j in range(new_w):\n",
    "                im_region = image[(i * self.pool):(i * self.pool + self.stride), (j * self.pool):(j * self.pool + self.stride)]\n",
    "                yield im_region, i, j\n",
    "\n",
    "    def forward(self, inputs):\n",
    "        '''Apply a forward for the maxpooling layer\n",
    "        \n",
    "        ::output is a 3d numpy array with dimensions (floor(h/2), floor(w/2), num_filters).\n",
    "        ::input is a 3d numpy array with dimensions (h, w, num_filters)\n",
    "        '''\n",
    "        h, w, num_filters = inputs.shape\n",
    "        \n",
    "        # floor() the value\n",
    "        new_h = int(np.floor(h/self.pool))\n",
    "        new_w = int(np.floor(w/self.pool))\n",
    "        \n",
    "        output = np.zeros((new_h, new_w, num_filters))\n",
    "\n",
    "        for im_region, i, j in self.iterate_regions(inputs):\n",
    "            output[i, j] = np.amax(im_region, axis=(0, 1))\n",
    "\n",
    "        return output"
   ]
  },
  {
   "cell_type": "markdown",
   "metadata": {},
   "source": [
    "### Question 23:\n",
    "Write a simple function that achieves normalisation within each feature map,\n",
    "modifying the feature map so that its mean value is zero and its standard deviation is one. After agreeing on a common function with your group members, show this to your teacher.\n",
    "\n",
    "Answer 23:"
   ]
  },
  {
   "cell_type": "code",
   "execution_count": 5,
   "metadata": {},
   "outputs": [],
   "source": [
    "class Normalization():\n",
    "    '''Normalization Implement\n",
    "    \n",
    "    TODO: for all filter or overall?\n",
    "    '''\n",
    "    def __init__(slef):\n",
    "        self.epsilon = np.finfo(float).eps\n",
    "        # self.epsilon=1e-10\n",
    "        \n",
    "    \n",
    "    def zeromean(self,in_features):\n",
    "        '''Normalisation within each feature map, modifying the feature map \n",
    "        so that its mean value is zero and its standard deviation is one.\n",
    "        '''\n",
    "\n",
    "        return (in_features - np.mean(in_features, axis=0))/ ( np.std(in_features, axis=0)+ self.epsilon )\n",
    "    \n",
    "    def minmax(self,in_features):\n",
    "        '''min-max normalization\n",
    "        '''\n",
    "        return (in_features - np.amin(in_features, axis=0)) / (np.amax(in_features, axis=0)-np.amin(in_features, axis=0) + self.epsilon)\n",
    "    \n",
    "    def loge(self,in_features):\n",
    "        '''log transform normalization\n",
    "        \n",
    "        note: np.log is ln, whereas np.log10 is standard base 10 log.\n",
    "        '''\n",
    "        return np.log(in_features)/np.log(np.amax(in_features, axis=0))\n",
    "    \n",
    "    def log10(self,in_features):\n",
    "        '''log transform normalization\n",
    "        \n",
    "        note: np.log is ln, whereas np.log10 is standard base 10 log.\n",
    "        '''\n",
    "        return np.log10(in_features)/np.log10(np.amax(in_features, axis=0))"
   ]
  },
  {
   "cell_type": "markdown",
   "metadata": {},
   "source": [
    "### Question 24: \n",
    "Write a function that produces a fully-connected layer. This should allow you to specify the number of output nodes, and link each of these to every node a stack of feature maps. The stack of feature maps will typically be flattened into a 1- dimensional matrix first. After agreeing on a common function with your group members, show this to your teacher. \n",
    "\n",
    "Answer 24:\n"
   ]
  },
  {
   "cell_type": "code",
   "execution_count": 6,
   "metadata": {},
   "outputs": [],
   "source": [
    "class FC:\n",
    "    '''fully-connected layer\n",
    "    specify the number of output nodes, and link each of these to every node a stack of feature maps. \n",
    "    the stack of feature maps will typically be flattened into a 1-dimensional matrix first. \n",
    "    '''\n",
    "    def __init__(self, in_dim, out_dim):\n",
    "        '''Divide by in_dim to reduce the variance of our initial values\n",
    "        \n",
    "        in_dim = Inputs Numbers of Neuron\n",
    "        out_dim = Outputs Numbers of Neuron\n",
    "        '''\n",
    "        \n",
    "        self.weights = np.random.randn(in_dim, out_dim) / in_dim\n",
    "        self.biases = np.zeros(out_dim)\n",
    "\n",
    "    def forward(self, inputs):\n",
    "        '''Returns a 1d numpy array\n",
    "        '''\n",
    "        inputs = inputs.flatten()\n",
    "\n",
    "        in_dim, out_dim = self.weights.shape\n",
    "\n",
    "        \n",
    "        outputs = np.dot(inputs, self.weights) + self.biases\n",
    "\n",
    "        return outputs\n",
    "    \n",
    "class clac:\n",
    "    '''write some utility funtion \n",
    "    '''\n",
    "    def count_dimension(inputs):\n",
    "        '''count dimention\n",
    "        '''\n",
    "        return reduce(lambda x,y:x*y,inputs.shape)\n",
    "        "
   ]
  },
  {
   "cell_type": "markdown",
   "metadata": {},
   "source": [
    "### Question 25:\n",
    "Write a function that converts the activation of a 1-dimensional matrix (such as the output of a fully-connected layer) into a set of probabilities that each matrix element is the most likely classification. This should include the algorithmic expression of a softmax (normalised exponential) function. After agreeing on a common function with your group members, show this to your teacher.\n",
    "\n",
    "Answer 25:"
   ]
  },
  {
   "cell_type": "code",
   "execution_count": 7,
   "metadata": {},
   "outputs": [],
   "source": [
    "\n",
    "class Softmax:\n",
    "    '''A standard fully-connected layer with softmax activation.\n",
    "    \n",
    "    Refer https://deepai.org/machine-learning-glossary-and-terms/softmax-layer\n",
    "    '''\n",
    "\n",
    "    def __init__(self, in_dim, out_dim):\n",
    "        '''Divide by in_dim to reduce the variance of our initial values\n",
    "        \n",
    "        in_dim = Inputs Numbers of Neuron\n",
    "        out_dim = Outputs Numbers of Neuron\n",
    "        '''\n",
    "\n",
    "        self.weights = np.random.randn(in_dim, out_dim) / in_dim\n",
    "        self.biases = np.zeros(out_dim)\n",
    "\n",
    "    def forward(self, inputs):\n",
    "        '''\n",
    "        Performs a forward pass of the softmax layer using the given input.\n",
    "        Returns a 1d numpy array containing the respective probability values.\n",
    "        - input can be any array with any dimensions.\n",
    "        '''\n",
    "        inputs = inputs.flatten()\n",
    "\n",
    "        in_dim, out_dim = self.weights.shape\n",
    "\n",
    "        feature = np.dot(inputs, self.weights) + self.biases\n",
    "\n",
    "        # softmax function\n",
    "        expo = np.exp(feature)\n",
    "        expo_sum = np.sum(expo, axis=0)\n",
    "        out = expo / expo_sum\n",
    "        \n",
    "        return out\n"
   ]
  },
  {
   "cell_type": "markdown",
   "metadata": {},
   "source": [
    "# How we test our data"
   ]
  },
  {
   "cell_type": "markdown",
   "metadata": {},
   "source": [
    "# Import Test data (Using keras data set cifar10)"
   ]
  },
  {
   "cell_type": "code",
   "execution_count": 14,
   "metadata": {},
   "outputs": [
    {
     "name": "stdout",
     "output_type": "stream",
     "text": [
      "x train shape (50000, 32, 32, 3)\n",
      "x test shape (10000, 32, 32, 3)\n",
      "y train shape: (50000, 10)\n",
      "y test shape: (10000, 10)\n"
     ]
    }
   ],
   "source": [
    "(x_train, y_train), (x_test, y_test) = keras.datasets.cifar10.load_data()\n",
    "\n",
    "# Scale images to the [0, 1] range\n",
    "x_train = x_train.astype(\"float32\") / 255  # (50000, 32, 32, 3)\n",
    "x_test = x_test.astype(\"float32\") / 255 # (10000, 32, 32, 3)\n",
    "\n",
    "# Need an extra dimension for colour channels\n",
    "print(\"x train shape\", x_train.shape)\n",
    "print(\"x test shape\", x_test.shape)\n",
    "\n",
    "# convert class vectors to binary class matrices\n",
    "num_classes = 10\n",
    "y_train = keras.utils.to_categorical(y_train, num_classes) # (50000, 10)\n",
    "y_test = keras.utils.to_categorical(y_test, num_classes) # (10000, 10)\n",
    "\n",
    "print(\"y train shape:\", y_train.shape)\n",
    "print(\"y test shape:\", y_test.shape)"
   ]
  },
  {
   "cell_type": "markdown",
   "metadata": {},
   "source": [
    "## Check test image size"
   ]
  },
  {
   "cell_type": "code",
   "execution_count": 15,
   "metadata": {},
   "outputs": [
    {
     "name": "stdout",
     "output_type": "stream",
     "text": [
      "(32, 32, 3)\n"
     ]
    }
   ],
   "source": [
    "image = x_train[0]\n",
    "print(image.shape)"
   ]
  },
  {
   "cell_type": "markdown",
   "metadata": {},
   "source": [
    "## Check Conv"
   ]
  },
  {
   "cell_type": "code",
   "execution_count": 16,
   "metadata": {},
   "outputs": [
    {
     "name": "stdout",
     "output_type": "stream",
     "text": [
      "(30, 30, 8)\n"
     ]
    }
   ],
   "source": [
    "conv = Conv2D(num_filters=8, kernal_size=3)\n",
    "output = conv.forward(image)\n",
    "print(output.shape)"
   ]
  },
  {
   "cell_type": "markdown",
   "metadata": {},
   "source": [
    "## Check MaxPooling\n"
   ]
  },
  {
   "cell_type": "code",
   "execution_count": 17,
   "metadata": {},
   "outputs": [
    {
     "name": "stdout",
     "output_type": "stream",
     "text": [
      "(15, 15, 8)\n"
     ]
    }
   ],
   "source": [
    "maxpool = MaxPooling()\n",
    "output = maxpool.forward(output)\n",
    "print(output.shape)"
   ]
  },
  {
   "cell_type": "markdown",
   "metadata": {},
   "source": [
    "## Check Second times Conv"
   ]
  },
  {
   "cell_type": "code",
   "execution_count": 18,
   "metadata": {},
   "outputs": [
    {
     "name": "stdout",
     "output_type": "stream",
     "text": [
      "(13, 13, 32)\n"
     ]
    }
   ],
   "source": [
    "conv = Conv2D(num_filters=32, kernal_size=3)\n",
    "output = conv.forward(output)\n",
    "print(output.shape)"
   ]
  },
  {
   "cell_type": "markdown",
   "metadata": {},
   "source": [
    "## Check Second times MaxPooling"
   ]
  },
  {
   "cell_type": "code",
   "execution_count": 20,
   "metadata": {},
   "outputs": [
    {
     "name": "stdout",
     "output_type": "stream",
     "text": [
      "(3, 3, 32)\n"
     ]
    }
   ],
   "source": [
    "maxpool = MaxPooling()\n",
    "output = maxpool.forward(output)\n",
    "print(output.shape)"
   ]
  },
  {
   "cell_type": "markdown",
   "metadata": {},
   "source": [
    "## Check FC"
   ]
  },
  {
   "cell_type": "code",
   "execution_count": 21,
   "metadata": {},
   "outputs": [
    {
     "name": "stdout",
     "output_type": "stream",
     "text": [
      "(10,)\n"
     ]
    }
   ],
   "source": [
    "# fully connected layer\n",
    "output = FC(in_dim=clac.count_dimension(output), out_dim=10).forward(output)\n",
    "print(output.shape)"
   ]
  },
  {
   "cell_type": "markdown",
   "metadata": {},
   "source": [
    "## Check SoftMax"
   ]
  },
  {
   "cell_type": "code",
   "execution_count": 22,
   "metadata": {},
   "outputs": [
    {
     "name": "stdout",
     "output_type": "stream",
     "text": [
      "(10,)\n"
     ]
    }
   ],
   "source": [
    "output = Softmax(in_dim=clac.count_dimension(output), out_dim=10).forward(output)\n",
    "print(output.shape)"
   ]
  },
  {
   "cell_type": "code",
   "execution_count": 23,
   "metadata": {},
   "outputs": [
    {
     "data": {
      "text/plain": [
       "array([0.11051459, 0.16899876, 0.16868256, 0.07906689, 0.09108246,\n",
       "       0.08080629, 0.07839164, 0.07365072, 0.07613694, 0.07266915])"
      ]
     },
     "execution_count": 23,
     "metadata": {},
     "output_type": "execute_result"
    }
   ],
   "source": [
    "output"
   ]
  },
  {
   "cell_type": "code",
   "execution_count": 24,
   "metadata": {},
   "outputs": [
    {
     "data": {
      "text/plain": [
       "0.9999999999999999"
      ]
     },
     "execution_count": 24,
     "metadata": {},
     "output_type": "execute_result"
    }
   ],
   "source": [
    "sum(output)"
   ]
  },
  {
   "cell_type": "markdown",
   "metadata": {},
   "source": [
    "# BONUS QUESTION "
   ]
  },
  {
   "cell_type": "markdown",
   "metadata": {},
   "source": [
    "## Question 26\n",
    "\n",
    "Write a function to achieve backpropagation of error to affect the convolutional filter (kernel) structure used in Question 20. Modify your function from Question 20 so you can input the convolutional filters, allowing you to modify these filters using backpropagation (outside the convolution function). Initialise the network with random weights in the filters. After agreeing on common functions for convolution with your group members, show your teacher how you changed this from the answer given in Question 20. Show your teacher your code for backpropagation (Question 26, 5 points)"
   ]
  },
  {
   "cell_type": "code",
   "execution_count": 28,
   "metadata": {},
   "outputs": [],
   "source": [
    "class FC:\n",
    "    '''fully-connected layer\n",
    "    specify the number of output nodes, and link each of these to every node a stack of feature maps. \n",
    "    the stack of feature maps will typically be flattened into a 1-dimensional matrix first. \n",
    "    '''\n",
    "    def __init__(self):\n",
    "        '''Divide by in_dim to reduce the variance of our initial values\n",
    "        \n",
    "        in_dim = Inputs Numbers of Neuron\n",
    "        out_dim = Outputs Numbers of Neuron\n",
    "        '''\n",
    "        self.weights = np.zeros(0)\n",
    "        self.biases = np.zeros(0)\n",
    "\n",
    "\n",
    "    def forward(self, inputs, out_dim):\n",
    "        '''Returns a 1d numpy array\n",
    "        '''\n",
    "        if not self.weights.any():\n",
    "            in_dim = reduce(lambda x,y:x*y,inputs.shape)\n",
    "            self.weights = np.random.randn(in_dim, out_dim) / in_dim\n",
    "            self.biases = np.zeros(out_dim)\n",
    "        \n",
    "        inputs = inputs.flatten()\n",
    "\n",
    "        in_dim, out_dim = self.weights.shape\n",
    "\n",
    "        \n",
    "        outputs = np.dot(inputs, self.weights) + self.biases\n",
    "\n",
    "        return outputs\n",
    "    \n",
    "    def backforward(self, out, learning_rate=0.1):\n",
    "        matrix = np.dot(self.weights, out)\n",
    "        self.weights = -learning_rate * matrix\n",
    "        return self.weights\n",
    "\n",
    "\n",
    "class Softmax:\n",
    "    '''A standard fully-connected layer with softmax activation.\n",
    "    \n",
    "    Refer https://deepai.org/machine-learning-glossary-and-terms/softmax-layer\n",
    "    '''\n",
    "\n",
    "    def __init__(self):\n",
    "        '''Divide by in_dim to reduce the variance of our initial values\n",
    "        \n",
    "        in_dim = Inputs Numbers of Neuron\n",
    "        out_dim = Outputs Numbers of Neuron\n",
    "        '''\n",
    "        self.weights = np.zeros(0)\n",
    "        self.biases = np.zeros(0)\n",
    "\n",
    "\n",
    "    def forward(self, inputs, out_dim):\n",
    "        '''\n",
    "        Performs a forward pass of the softmax layer using the given input.\n",
    "        Returns a 1d numpy array containing the respective probability values.\n",
    "        - input can be any array with any dimensions.\n",
    "        '''\n",
    "        if not self.weights.any():\n",
    "            in_dim = reduce(lambda x,y:x*y,inputs.shape)\n",
    "            self.weights = np.random.randn(in_dim, out_dim) / in_dim\n",
    "            self.biases = np.zeros(out_dim)\n",
    "            \n",
    "        self.last_input_shape = inputs.shape\n",
    "        \n",
    "        inputs = inputs.flatten()\n",
    "        self.last_input = inputs\n",
    "\n",
    "        in_dim, out_dim = self.weights.shape\n",
    "\n",
    "        \n",
    "        feature = np.dot(inputs, self.weights) + self.biases\n",
    "        self.last_feature = feature\n",
    "\n",
    "        # softmax function\n",
    "        expo = np.exp(feature)\n",
    "        expo_sum = np.sum(expo, axis=0)\n",
    "        out = expo / expo_sum\n",
    "        \n",
    "        return out\n",
    "    \n",
    "    def backforward_tmp(self, out, learning_rate=0.1):\n",
    "        self.weights = -learning_rate *(self.weights*out)\n",
    "        return self.weights\n",
    "    \n",
    "    def backforward(self, L_out, learning_rate):\n",
    "\n",
    "        for i, gradient in enumerate(L_out):\n",
    "            if gradient == 0:\n",
    "                continue\n",
    "\n",
    "            # e totals\n",
    "            exp = np.exp(self.last_feature)\n",
    "\n",
    "            # Sum of all e totals\n",
    "            sum_exp = np.sum(exp)\n",
    "\n",
    "\n",
    "            # Gradients of totals against weights/biases/input\n",
    "            z_b = 1\n",
    "            z_w = self.last_input\n",
    "            \n",
    "            \n",
    "            # Gradients of out[i] against totals, set the i!=k value for all and update i==k\n",
    "            # if i!=k\n",
    "            out_z = -exp[i] * exp / (sum_exp * sum_exp)\n",
    "            # if i==k\n",
    "            out_z[i] = exp[i] * (sum_exp - exp[i]) / (sum_exp * sum_exp)\n",
    "            # 2-dimention, 1000*10\n",
    "            z_inputs = self.weights\n",
    "\n",
    "            # Gradients of loss against totals\n",
    "            # (10,)\n",
    "            L_z = gradient * out_z\n",
    "\n",
    "            # Gradients for weights, biases and input\n",
    "            L_b = L_z * z_b\n",
    "            # 1000*1 x 1*10 => 1000*10\n",
    "            L_w = np.dot(z_w[np.newaxis].T, L_z[np.newaxis] )\n",
    "            # 1000*10 x 10*1 => 1000*1\n",
    "            L_inputs = np.dot(z_inputs, L_z)\n",
    "\n",
    "            # Update weights / biases\n",
    "            self.weights = self.weights - learning_rate * L_w\n",
    "            self.biases = self.biases - learning_rate * L_b\n",
    "            # 1000 -> (h,w,c) = (13,13,8)\n",
    "            out = L_inputs.reshape(self.last_input_shape)\n",
    "            \n",
    "            # print(self.biases)\n",
    "            # print(self.weights)\n",
    "            return out"
   ]
  },
  {
   "cell_type": "code",
   "execution_count": 30,
   "metadata": {},
   "outputs": [
    {
     "name": "stdout",
     "output_type": "stream",
     "text": [
      "(step 100): avg loss 0.0110 | avg accuracy: 15.00%\n",
      "(step 200): avg loss 0.0264 | avg accuracy: 6.00%\n",
      "(step 300): avg loss 0.0245 | avg accuracy: 13.00%\n",
      "(step 400): avg loss 0.0157 | avg accuracy: 9.00%\n",
      "(step 500): avg loss 0.0262 | avg accuracy: 10.00%\n",
      "(step 600): avg loss 0.0203 | avg accuracy: 12.00%\n",
      "(step 700): avg loss 0.0295 | avg accuracy: 9.00%\n",
      "(step 800): avg loss 0.0310 | avg accuracy: 6.00%\n",
      "(step 900): avg loss 0.0264 | avg accuracy: 17.00%\n",
      "(step 1000): avg loss 0.0167 | avg accuracy: 9.00%\n",
      "(step 1100): avg loss 0.0278 | avg accuracy: 10.00%\n",
      "(step 1200): avg loss 0.0165 | avg accuracy: 16.00%\n",
      "(step 1300): avg loss 0.0143 | avg accuracy: 11.00%\n",
      "(step 1400): avg loss 0.0066 | avg accuracy: 14.00%\n",
      "(step 1500): avg loss 0.0248 | avg accuracy: 9.00%\n",
      "(step 1600): avg loss 0.0294 | avg accuracy: 13.00%\n",
      "(step 1700): avg loss 0.0249 | avg accuracy: 10.00%\n",
      "(step 1800): avg loss 0.0303 | avg accuracy: 9.00%\n",
      "(step 1900): avg loss 0.0068 | avg accuracy: 10.00%\n",
      "(step 2000): avg loss 0.0272 | avg accuracy: 18.00%\n"
     ]
    }
   ],
   "source": [
    "\n",
    "conv = Conv2D(num_filters=32, kernal_size=3)\n",
    "maxpooling = MaxPooling(pool=2, stride=2)\n",
    "fc = FC()\n",
    "softmax = Softmax()\n",
    "\n",
    "def model(x,y):\n",
    "    '''\n",
    "    x: 3d array\n",
    "    y: 1d array\n",
    "    '''\n",
    "    output = conv.forward(x)\n",
    "    output = maxpooling.forward(output)\n",
    "    output = fc.forward(output, out_dim = 10)\n",
    "    output = softmax.forward(output, out_dim=10)\n",
    "    \n",
    "    # Calculate cross-entropy loss and accuracy. np.log() is the natural log.\n",
    "    # cross_entropy = -ground_truth*ln(predict_outputs)\n",
    "    real_y = np.argmax(y)\n",
    "    pred_y = np.argmax(output)\n",
    "    loss = -np.log(output[real_y])\n",
    "    acc = 1 if pred_y == real_y else 0\n",
    "\n",
    "    return output, loss, acc\n",
    "    \n",
    "def backforward(x,y):\n",
    "    learning_rate = 1\n",
    "    output, loss, acc = model(x,y)\n",
    "    \n",
    "    gradient = np.zeros(10)\n",
    "    real_y = np.argmax(y)\n",
    "    gradient[real_y] = -1 / output[real_y]\n",
    "\n",
    "    # Calculate gradient\n",
    "    gradient = softmax.backforward(gradient, learning_rate=learning_rate)\n",
    "    #gradient = softmax.backforward(out=loss,learning_rate=learning_rate)\n",
    "    #gradient = fc.backforward(out=gradient,learning_rate=learning_rate)\n",
    "    #gradient = maxpooling.backward(out=gradient)\n",
    "    \n",
    "    return output, loss, acc\n",
    "    \n",
    "\n",
    "def fit(x_train,y_train):\n",
    "    total_loss = 0\n",
    "    num_correct = 0\n",
    "    \n",
    "    for i, (x, y) in enumerate(zip(x_train,y_train)):\n",
    "        \n",
    "        # Do a forward pass.\n",
    "        # out, loss, acc = model(x, y)\n",
    "        output, loss, acc = backforward(x, y)\n",
    "        total_loss += loss\n",
    "        num_correct += acc\n",
    "\n",
    "        # Print stats every 100 steps.\n",
    "        if i % 100 == 99:\n",
    "            print( '(step {}): avg loss {:.4f} | avg accuracy: {:.2%}'.format(i + 1, loss/100, num_correct/100))\n",
    "            total_loss = 0\n",
    "            num_correct = 0\n",
    "            \n",
    "        # stop in here\n",
    "        if i == 2000:\n",
    "            break\n",
    "        \n",
    "fit(x_train,y_train)"
   ]
  },
  {
   "cell_type": "code",
   "execution_count": null,
   "metadata": {},
   "outputs": [],
   "source": []
  },
  {
   "cell_type": "markdown",
   "metadata": {},
   "source": [
    "## Question 27\n",
    "Write a piece of code that uses all of these functions (from Questions 22-28) together to make a convolutional neural network with two convolutional layers, a fully connected layer, and an output layer (pooling is optional, but thresholding and normalisation are required). This should give the accuracy of the labels as an output. Show the resulting code to your teacher. (Question 27, 5 points)"
   ]
  },
  {
   "cell_type": "code",
   "execution_count": 34,
   "metadata": {},
   "outputs": [
    {
     "name": "stdout",
     "output_type": "stream",
     "text": [
      "(step 100): avg loss 0.0110 | avg accuracy: 15.00%\n",
      "(step 200): avg loss 0.0263 | avg accuracy: 6.00%\n",
      "(step 300): avg loss 0.0248 | avg accuracy: 13.00%\n",
      "(step 400): avg loss 0.0152 | avg accuracy: 9.00%\n",
      "(step 500): avg loss 0.0261 | avg accuracy: 10.00%\n",
      "(step 600): avg loss 0.0206 | avg accuracy: 12.00%\n",
      "(step 700): avg loss 0.0297 | avg accuracy: 9.00%\n",
      "(step 800): avg loss 0.0316 | avg accuracy: 6.00%\n",
      "(step 900): avg loss 0.0269 | avg accuracy: 18.00%\n",
      "(step 1000): avg loss 0.0162 | avg accuracy: 8.00%\n",
      "(step 1100): avg loss 0.0284 | avg accuracy: 11.00%\n",
      "(step 1200): avg loss 0.0172 | avg accuracy: 16.00%\n",
      "(step 1300): avg loss 0.0132 | avg accuracy: 12.00%\n",
      "(step 1400): avg loss 0.0057 | avg accuracy: 16.00%\n",
      "(step 1500): avg loss 0.0256 | avg accuracy: 8.00%\n",
      "(step 1600): avg loss 0.0293 | avg accuracy: 15.00%\n",
      "(step 1700): avg loss 0.0222 | avg accuracy: 9.00%\n",
      "(step 1800): avg loss 0.0306 | avg accuracy: 9.00%\n",
      "(step 1900): avg loss 0.0071 | avg accuracy: 12.00%\n",
      "(step 2000): avg loss 0.0250 | avg accuracy: 17.00%\n"
     ]
    }
   ],
   "source": [
    "\n",
    "conv1 = Conv2D(num_filters=32, kernal_size=3)\n",
    "conv2 = Conv2D(num_filters=32, kernal_size=3)\n",
    "maxpooling = MaxPooling(pool=2, stride=2)\n",
    "fc1 = FC()\n",
    "softmax = Softmax()\n",
    "\n",
    "def model(x,y):\n",
    "    '''\n",
    "    x: 3d array\n",
    "    y: 1d array\n",
    "    '''\n",
    "    output = conv1.forward(x)\n",
    "    output = maxpooling.forward(output)\n",
    "    output = fc.forward(output, out_dim = 10)\n",
    "    output = softmax.forward(output, out_dim=10)\n",
    "    \n",
    "    # Calculate cross-entropy loss and accuracy. np.log() is the natural log.\n",
    "    # cross_entropy = -ground_truth*ln(predict_outputs)\n",
    "    real_y = np.argmax(y)\n",
    "    pred_y = np.argmax(output)\n",
    "    loss = -np.log(output[real_y])\n",
    "    acc = 1 if pred_y == real_y else 0\n",
    "\n",
    "    return output, loss, acc\n",
    "    \n",
    "def backforward(x,y):\n",
    "    learning_rate = 1\n",
    "    output, loss, acc = model(x,y)\n",
    "    \n",
    "    gradient = np.zeros(10)\n",
    "    real_y = np.argmax(y)\n",
    "    gradient[real_y] = -1 / output[real_y]\n",
    "\n",
    "    # Calculate gradient\n",
    "    gradient = softmax.backforward(gradient, learning_rate=learning_rate)\n",
    "    #gradient = softmax.backforward(out=loss,learning_rate=learning_rate)\n",
    "    #gradient = fc.backforward(out=gradient,learning_rate=learning_rate)\n",
    "    #gradient = maxpooling.backward(out=gradient)\n",
    "    \n",
    "    return output, loss, acc\n",
    "    \n",
    "\n",
    "def fit(x_train,y_train):\n",
    "    total_loss = 0\n",
    "    num_correct = 0\n",
    "    \n",
    "    total_loss_array = [] \n",
    "    num_correct_array = []\n",
    "    \n",
    "    for i, (x, y) in enumerate(zip(x_train,y_train)):\n",
    "        \n",
    "        # Do a forward pass.\n",
    "        # out, loss, acc = model(x, y)\n",
    "        output, loss, acc = backforward(x, y)\n",
    "        total_loss += loss\n",
    "        num_correct += acc\n",
    "        \n",
    "       \n",
    "\n",
    "        # Print stats every 100 steps.\n",
    "        if i % 100 == 99:\n",
    "            print( '(step {}): avg loss {:.4f} | avg accuracy: {:.2%}'.format(i + 1, loss/100, num_correct/100))\n",
    "            \n",
    "            total_loss_array.append(loss/100)\n",
    "            num_correct_array.append(num_correct/100)\n",
    "            \n",
    "            total_loss = 0\n",
    "            num_correct = 0\n",
    "            \n",
    "             \n",
    "        # stop in here\n",
    "        if i == 2000:\n",
    "            break\n",
    "           \n",
    "    \n",
    "    return {\n",
    "        \"accuracy\":num_correct_array,\n",
    "        \"loss\":total_loss_array,\n",
    "    } \n",
    "        \n",
    "history = fit(x_train,y_train)"
   ]
  },
  {
   "cell_type": "markdown",
   "metadata": {},
   "source": [
    "## Question 28\n",
    "\n",
    "Use the resulting function to learn to classify the mnist data set, as you did in question 10. Plot the progression of the classification accuracy over 100 cycles. Show the resulting plots to your teacher. (Question 28, 5 points)."
   ]
  },
  {
   "cell_type": "code",
   "execution_count": 35,
   "metadata": {},
   "outputs": [
    {
     "data": {
      "text/plain": [
       "<matplotlib.legend.Legend at 0x13f9b9310>"
      ]
     },
     "execution_count": 35,
     "metadata": {},
     "output_type": "execute_result"
    },
    {
     "data": {
      "image/png": "[encoded data removed]",
      "text/plain": [
       "<Figure size 1008x504 with 2 Axes>"
      ]
     },
     "metadata": {
      "needs_background": "light"
     },
     "output_type": "display_data"
    }
   ],
   "source": [
    "# Plot the progression of the classification accuracy over 100 cycles.\n",
    "\n",
    "fig, ax = plt.subplots(1,2,figsize=(14,7))\n",
    "\n",
    "# summarize for accuracy\n",
    "ax[0].plot(history.get('accuracy'),label='train')\n",
    "# ax[0].plot(history.history['val_accuracy'],label ='test')\n",
    "\n",
    "ax[0].set_title('Accuracy',fontsize=18)\n",
    "ax[0].set_ylabel('accuracy')\n",
    "ax[0].set_xlabel('epoch')\n",
    "ax[0].legend(loc='upper left')\n",
    "\n",
    "# # summarize for loss \n",
    "ax[1].plot(history.get('loss'), label='train')\n",
    "# ax[1].plot(history.history['val_loss'], label ='test')\n",
    "\n",
    "ax[1].set_title('Loss',fontsize=18)\n",
    "ax[1].set_ylabel('loss')\n",
    "ax[1].set_xlabel('epoch')\n",
    "ax[1].legend(loc='upper left')"
   ]
  },
  {
   "cell_type": "code",
   "execution_count": null,
   "metadata": {},
   "outputs": [],
   "source": []
  }
 ],
 "metadata": {
  "kernelspec": {
   "display_name": "Python 3",
   "language": "python",
   "name": "python3"
  },
  "language_info": {
   "codemirror_mode": {
    "name": "ipython",
    "version": 3
   },
   "file_extension": ".py",
   "mimetype": "text/x-python",
   "name": "python",
   "nbconvert_exporter": "python",
   "pygments_lexer": "ipython3",
   "version": "3.8.3"
  }
 },
 "nbformat": 4,
 "nbformat_minor": 5
}
